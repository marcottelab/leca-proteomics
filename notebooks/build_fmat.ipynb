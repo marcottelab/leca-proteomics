{
 "cells": [
  {
   "cell_type": "code",
   "execution_count": 1,
   "id": "57f422ea-bef8-4ab0-a93b-cbb7dc7d8c10",
   "metadata": {},
   "outputs": [],
   "source": [
    "from functools import reduce\n",
    "import pickle\n",
    "import pandas as pd\n",
    "import os\n",
    "import re\n",
    "import time"
   ]
  },
  {
   "cell_type": "code",
   "execution_count": 2,
   "id": "c0641411-86b9-4992-9a23-a21cf456b664",
   "metadata": {},
   "outputs": [],
   "source": [
    "def make_fset(x):\n",
    "    x1 = x.split(' ')[0]\n",
    "    x2 = x.split(' ')[1]\n",
    "    fset = frozenset({x1,x2})\n",
    "    return(fset)"
   ]
  },
  {
   "cell_type": "code",
   "execution_count": 3,
   "id": "432ae537-46cd-4242-aad0-0976f7f615fa",
   "metadata": {},
   "outputs": [],
   "source": [
    "def read_files(data_dir, pickle_files=False):  \n",
    "    fmat_list = []\n",
    "    t0 = time.time()\n",
    "    if pickle_files:\n",
    "        flist = [f for f in os.listdir(data_dir) if re.match('.*.pkl', f)]\n",
    "        for f in flist:\n",
    "            print(f'Reading {f} ...')\n",
    "            with open(data_dir+f, 'rb') as handle:\n",
    "                df = pickle.load(handle)\n",
    "            df['frozen_pair'] = [make_fset(i) for i in df['ID']]\n",
    "            df.drop(['ID'], axis=1, inplace=True)\n",
    "            fmat_list.append(df)\n",
    "    else:\n",
    "        flist = [f for f in os.listdir(data_dir)]\n",
    "        print(f'Reading {f} ...')\n",
    "        for f in flist:\n",
    "            df = pd.read_csv(data_dir+f)\n",
    "            df['frozen_pair'] = [make_fset(i) for i in df['ID']]\n",
    "            df.drop(['ID'], axis=1, inplace=True)\n",
    "            fmat_list.append(df)\n",
    "    print(f'Total time to read in & format all files: {time.time() - t0} seconds')\n",
    "    return(fmat_list)"
   ]
  },
  {
   "cell_type": "code",
   "execution_count": 4,
   "id": "0d837cb7-ad5b-4027-95f0-66d83d450254",
   "metadata": {},
   "outputs": [],
   "source": [
    "def get_left_join_idx(data_dir, pickle_files, left_file):\n",
    "    if pickle_files:\n",
    "        flist = [f for f in os.listdir(data_dir) if re.match('.*.pkl', f)]\n",
    "        left_index = flist.index(left_file)\n",
    "        return(left_index)\n",
    "    else:\n",
    "        flist = [f for f in os.listdir(data_dir)]\n",
    "        left_index = flist.index(left_file)\n",
    "        return(left_index)"
   ]
  },
  {
   "cell_type": "code",
   "execution_count": 5,
   "id": "e8a6c7c1-a90b-4eac-864f-535afa81b32a",
   "metadata": {},
   "outputs": [],
   "source": [
    "def build_fmat(fmat_list, join_type='outer', left_index=None):\n",
    "    print('Merging features matrices ...')\n",
    "    t0 = time.time()\n",
    "    if join_type == 'outer':\n",
    "        fmat = reduce(lambda x, y: pd.merge(x, y, on='frozen_pair', how='outer'), fmat_list)\n",
    "        fmat.fillna(0, inplace=True)\n",
    "    elif join_type == 'left':\n",
    "        fmat = fmat_list[left_index]\n",
    "        fmat_list.pop(left_index)\n",
    "        for df in fmat_list:\n",
    "            fmat = fmat.merge(df, how=join_type, on=['frozen_pair'])\n",
    "            fmat.fillna(0, inplace=True)\n",
    "        fmat.drop(['frozen_pair'], axis=1, inplace=True)\n",
    "    else:\n",
    "        print(\"Invalid join type specified; only 'outer' and 'left' accepted.\")\n",
    "    print(f'Total time to merge feature matrices: {time.time() - t0} seconds')\n",
    "    return(fmat)"
   ]
  },
  {
   "cell_type": "code",
   "execution_count": 6,
   "id": "dd984b65-3acc-4c78-a507-19fb759cd07b",
   "metadata": {},
   "outputs": [],
   "source": [
    "def write_fmat(fmat, outfile_name):\n",
    "    print(f\"Writing full results to {outfile_name} & {outfile_name+'.pkl'} ... \")\n",
    "    t0 = time.time()\n",
    "    fmat.to_pickle(outfile_name+'.pkl')\n",
    "    fmat.to_csv(outfile_name, index=False)\n",
    "    print(f'Total time to write out final merged feature matrix: {time.time() - t0} seconds')"
   ]
  },
  {
   "cell_type": "code",
   "execution_count": 7,
   "id": "7d207d60-ea31-4c5e-a8d8-cb6cc6e197ff",
   "metadata": {},
   "outputs": [],
   "source": [
    "data_dir = '../ppi_ml/data/features/'\n",
    "left_file = 'featmat_allexps_p3c2.pkl'\n",
    "outfile = data_dir+'featmat_final'"
   ]
  },
  {
   "cell_type": "code",
   "execution_count": 8,
   "id": "d03e9369-50c1-411a-ac16-46c3969a80f4",
   "metadata": {},
   "outputs": [
    {
     "name": "stdout",
     "output_type": "stream",
     "text": [
      "Reading featmat_plants.pkl ...\n"
     ]
    },
    {
     "ename": "KeyboardInterrupt",
     "evalue": "",
     "output_type": "error",
     "traceback": [
      "\u001b[0;31m---------------------------------------------------------------------------\u001b[0m",
      "\u001b[0;31mKeyboardInterrupt\u001b[0m                         Traceback (most recent call last)",
      "Cell \u001b[0;32mIn [8], line 1\u001b[0m\n\u001b[0;32m----> 1\u001b[0m fmat_list \u001b[38;5;241m=\u001b[39m \u001b[43mread_files\u001b[49m\u001b[43m(\u001b[49m\u001b[43mdata_dir\u001b[49m\u001b[43m,\u001b[49m\u001b[43m \u001b[49m\u001b[43mpickle_files\u001b[49m\u001b[38;5;241;43m=\u001b[39;49m\u001b[38;5;28;43;01mTrue\u001b[39;49;00m\u001b[43m)\u001b[49m\n\u001b[1;32m      2\u001b[0m left_idx \u001b[38;5;241m=\u001b[39m get_left_join_idx(data_dir, pickle_files\u001b[38;5;241m=\u001b[39m\u001b[38;5;28;01mTrue\u001b[39;00m, left_file\u001b[38;5;241m=\u001b[39mleft_file)\n",
      "Cell \u001b[0;32mIn [3], line 10\u001b[0m, in \u001b[0;36mread_files\u001b[0;34m(data_dir, pickle_files)\u001b[0m\n\u001b[1;32m      8\u001b[0m \u001b[38;5;28;01mwith\u001b[39;00m \u001b[38;5;28mopen\u001b[39m(data_dir\u001b[38;5;241m+\u001b[39mf, \u001b[38;5;124m'\u001b[39m\u001b[38;5;124mrb\u001b[39m\u001b[38;5;124m'\u001b[39m) \u001b[38;5;28;01mas\u001b[39;00m handle:\n\u001b[1;32m      9\u001b[0m     df \u001b[38;5;241m=\u001b[39m pickle\u001b[38;5;241m.\u001b[39mload(handle)\n\u001b[0;32m---> 10\u001b[0m df[\u001b[38;5;124m'\u001b[39m\u001b[38;5;124mfrozen_pair\u001b[39m\u001b[38;5;124m'\u001b[39m] \u001b[38;5;241m=\u001b[39m [make_fset(i) \u001b[38;5;28;01mfor\u001b[39;00m i \u001b[38;5;129;01min\u001b[39;00m df[\u001b[38;5;124m'\u001b[39m\u001b[38;5;124mID\u001b[39m\u001b[38;5;124m'\u001b[39m]]\n\u001b[1;32m     11\u001b[0m df\u001b[38;5;241m.\u001b[39mdrop([\u001b[38;5;124m'\u001b[39m\u001b[38;5;124mID\u001b[39m\u001b[38;5;124m'\u001b[39m], axis\u001b[38;5;241m=\u001b[39m\u001b[38;5;241m1\u001b[39m, inplace\u001b[38;5;241m=\u001b[39m\u001b[38;5;28;01mTrue\u001b[39;00m)\n\u001b[1;32m     12\u001b[0m fmat_list\u001b[38;5;241m.\u001b[39mappend(df)\n",
      "Cell \u001b[0;32mIn [3], line 10\u001b[0m, in \u001b[0;36m<listcomp>\u001b[0;34m(.0)\u001b[0m\n\u001b[1;32m      8\u001b[0m \u001b[38;5;28;01mwith\u001b[39;00m \u001b[38;5;28mopen\u001b[39m(data_dir\u001b[38;5;241m+\u001b[39mf, \u001b[38;5;124m'\u001b[39m\u001b[38;5;124mrb\u001b[39m\u001b[38;5;124m'\u001b[39m) \u001b[38;5;28;01mas\u001b[39;00m handle:\n\u001b[1;32m      9\u001b[0m     df \u001b[38;5;241m=\u001b[39m pickle\u001b[38;5;241m.\u001b[39mload(handle)\n\u001b[0;32m---> 10\u001b[0m df[\u001b[38;5;124m'\u001b[39m\u001b[38;5;124mfrozen_pair\u001b[39m\u001b[38;5;124m'\u001b[39m] \u001b[38;5;241m=\u001b[39m [\u001b[43mmake_fset\u001b[49m\u001b[43m(\u001b[49m\u001b[43mi\u001b[49m\u001b[43m)\u001b[49m \u001b[38;5;28;01mfor\u001b[39;00m i \u001b[38;5;129;01min\u001b[39;00m df[\u001b[38;5;124m'\u001b[39m\u001b[38;5;124mID\u001b[39m\u001b[38;5;124m'\u001b[39m]]\n\u001b[1;32m     11\u001b[0m df\u001b[38;5;241m.\u001b[39mdrop([\u001b[38;5;124m'\u001b[39m\u001b[38;5;124mID\u001b[39m\u001b[38;5;124m'\u001b[39m], axis\u001b[38;5;241m=\u001b[39m\u001b[38;5;241m1\u001b[39m, inplace\u001b[38;5;241m=\u001b[39m\u001b[38;5;28;01mTrue\u001b[39;00m)\n\u001b[1;32m     12\u001b[0m fmat_list\u001b[38;5;241m.\u001b[39mappend(df)\n",
      "Cell \u001b[0;32mIn [2], line 4\u001b[0m, in \u001b[0;36mmake_fset\u001b[0;34m(x)\u001b[0m\n\u001b[1;32m      2\u001b[0m x1 \u001b[38;5;241m=\u001b[39m x\u001b[38;5;241m.\u001b[39msplit(\u001b[38;5;124m'\u001b[39m\u001b[38;5;124m \u001b[39m\u001b[38;5;124m'\u001b[39m)[\u001b[38;5;241m0\u001b[39m]\n\u001b[1;32m      3\u001b[0m x2 \u001b[38;5;241m=\u001b[39m x\u001b[38;5;241m.\u001b[39msplit(\u001b[38;5;124m'\u001b[39m\u001b[38;5;124m \u001b[39m\u001b[38;5;124m'\u001b[39m)[\u001b[38;5;241m1\u001b[39m]\n\u001b[0;32m----> 4\u001b[0m fset \u001b[38;5;241m=\u001b[39m \u001b[38;5;28;43mfrozenset\u001b[39;49m\u001b[43m(\u001b[49m\u001b[43m{\u001b[49m\u001b[43mx1\u001b[49m\u001b[43m,\u001b[49m\u001b[43mx2\u001b[49m\u001b[43m}\u001b[49m\u001b[43m)\u001b[49m\n\u001b[1;32m      5\u001b[0m \u001b[38;5;28;01mreturn\u001b[39;00m(fset)\n",
      "\u001b[0;31mKeyboardInterrupt\u001b[0m: "
     ]
    }
   ],
   "source": [
    "fmat_list = read_files(data_dir, pickle_files=True)\n",
    "left_idx = get_left_join_idx(data_dir, pickle_files=True, left_file=left_file)"
   ]
  },
  {
   "cell_type": "code",
   "execution_count": null,
   "id": "a1f8ecc6-82bd-489f-9641-a0623d783c95",
   "metadata": {},
   "outputs": [],
   "source": [
    "test_df = build_fmat(fmat_list)"
   ]
  },
  {
   "cell_type": "code",
   "execution_count": null,
   "id": "c679e449-2081-4597-8cf3-6cb62ab29c09",
   "metadata": {},
   "outputs": [],
   "source": [
    "fmat_list[10]"
   ]
  },
  {
   "cell_type": "code",
   "execution_count": null,
   "id": "8ae47aa4-426d-46be-8b14-88e37f1f8005",
   "metadata": {},
   "outputs": [],
   "source": []
  },
  {
   "cell_type": "markdown",
   "id": "d9dc3c8f-d843-4d6c-adc0-943bd8aa749e",
   "metadata": {},
   "source": [
    "## Development code below here"
   ]
  },
  {
   "cell_type": "code",
   "execution_count": null,
   "id": "a16a71f6-cd46-4a8d-889f-6bba5cc010ff",
   "metadata": {},
   "outputs": [],
   "source": [
    "flist = sorted(fmat_files, reverse=True)"
   ]
  },
  {
   "cell_type": "code",
   "execution_count": null,
   "id": "869a3e5c-b8a8-4b43-8315-5b959034b39c",
   "metadata": {},
   "outputs": [],
   "source": [
    "t0 = time.time()\n",
    "fmat_list = []\n",
    "for f in flist:\n",
    "    print(f'Reading {f} ...')\n",
    "    with open(data_dir+f, 'rb') as handle:\n",
    "        df = pickle.load(handle)\n",
    "        df['frozen_pair'] = [make_fset(i) for i in df['ID']]\n",
    "        df.drop(['ID'], axis=1, inplace=True)\n",
    "        fmat_list.append(df)\n",
    "print(f'Total time to read in & format all files: {time.time() - t0} seconds')"
   ]
  },
  {
   "cell_type": "code",
   "execution_count": null,
   "id": "0efbdfa2-f863-4301-8f8a-594464f4fff5",
   "metadata": {},
   "outputs": [],
   "source": [
    "t0 = time.time()\n",
    "with open(data_dir+lmat_file, 'rb') as handle:\n",
    "    lmat = pickle.load(handle)\n",
    "    lmat['frozen_pair'] = [make_fset(i) for i in lmat['ID']]\n",
    "    for df in fmat_list:\n",
    "        lmat = lmat.merge(df, how='left', on=['frozen_pair'])\n",
    "        lmat.fillna(0, inplace=True)\n",
    "lmat.drop(['frozen_pair'], axis=1, inplace=True)\n",
    "print(f'Total time to merge featmats: {time.time() - t0} seconds')"
   ]
  },
  {
   "cell_type": "code",
   "execution_count": null,
   "id": "9db839c3-9e19-4ae3-b666-9abe58ae7b46",
   "metadata": {
    "tags": []
   },
   "outputs": [],
   "source": [
    "lmat.to_pickle(outfile+'.pkl')\n",
    "lmat.to_csv(outfile, index=False)"
   ]
  }
 ],
 "metadata": {
  "kernelspec": {
   "display_name": "Python 3 (ipykernel)",
   "language": "python",
   "name": "python3"
  },
  "language_info": {
   "codemirror_mode": {
    "name": "ipython",
    "version": 3
   },
   "file_extension": ".py",
   "mimetype": "text/x-python",
   "name": "python",
   "nbconvert_exporter": "python",
   "pygments_lexer": "ipython3",
   "version": "3.10.6"
  }
 },
 "nbformat": 4,
 "nbformat_minor": 5
}
