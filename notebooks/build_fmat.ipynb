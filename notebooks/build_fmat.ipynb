{
 "cells": [
  {
   "cell_type": "code",
   "execution_count": 20,
   "id": "57f422ea-bef8-4ab0-a93b-cbb7dc7d8c10",
   "metadata": {},
   "outputs": [],
   "source": [
    "from functools import reduce\n",
    "import pickle\n",
    "import pandas as pd\n",
    "import os\n",
    "import re\n",
    "import time"
   ]
  },
  {
   "cell_type": "code",
   "execution_count": 21,
   "id": "c0641411-86b9-4992-9a23-a21cf456b664",
   "metadata": {},
   "outputs": [],
   "source": [
    "def make_fset(x):\n",
    "    x1 = x.split(' ')[0]\n",
    "    x2 = x.split(' ')[1]\n",
    "    fset = frozenset({x1,x2})\n",
    "    return(fset)"
   ]
  },
  {
   "cell_type": "code",
   "execution_count": 27,
   "id": "d03e9369-50c1-411a-ac16-46c3969a80f4",
   "metadata": {},
   "outputs": [],
   "source": [
    "data_dir = '../ppi_ml/data/featmats/'\n",
    "lmat_file = 'featmat_allexps_p3c2.pkl'\n",
    "fmat_files = [f for f in os.listdir(data_dir) if re.match('.*.pkl', f) and f != lmat_file]\n",
    "outfile = data_dir+'featmat_final'"
   ]
  },
  {
   "cell_type": "code",
   "execution_count": 31,
   "id": "a16a71f6-cd46-4a8d-889f-6bba5cc010ff",
   "metadata": {},
   "outputs": [],
   "source": [
    "flist = sorted(fmat_files, reverse=True)"
   ]
  },
  {
   "cell_type": "code",
   "execution_count": 36,
   "id": "869a3e5c-b8a8-4b43-8315-5b959034b39c",
   "metadata": {},
   "outputs": [
    {
     "name": "stdout",
     "output_type": "stream",
     "text": [
      "Reading featmat_tsar.pkl ...\n",
      "Reading featmat_plants.pkl ...\n",
      "Reading featmat_humap.pkl ...\n",
      "Reading featmat_excavate.pkl ...\n",
      "Reading featmat_animals.pkl ...\n",
      "Reading featmat_allconcat.pkl ...\n",
      "Reading featmap_tsar_norm.pkl ...\n",
      "Reading featmap_plants_norm.pkl ...\n",
      "Reading featmap_excavate_norm.pkl ...\n",
      "Reading featmap_animals_norm.pkl ...\n",
      "Reading featmap_allconcat_norm.pkl ...\n",
      "Total time to read in & format all files: 400.05625915527344 seconds\n"
     ]
    }
   ],
   "source": [
    "t0 = time.time()\n",
    "fmat_list = []\n",
    "for f in flist:\n",
    "    print(f'Reading {f} ...')\n",
    "    with open(data_dir+f, 'rb') as handle:\n",
    "        df = pickle.load(handle)\n",
    "        df['frozen_pair'] = [make_fset(i) for i in df['ID']]\n",
    "        df.drop(['ID'], axis=1, inplace=True)\n",
    "        fmat_list.append(df)\n",
    "print(f'Total time to read in & format all files: {time.time() - t0} seconds')"
   ]
  },
  {
   "cell_type": "code",
   "execution_count": 37,
   "id": "0efbdfa2-f863-4301-8f8a-594464f4fff5",
   "metadata": {},
   "outputs": [
    {
     "name": "stdout",
     "output_type": "stream",
     "text": [
      "Total time to merge featmats: 1993.4076941013336 seconds\n"
     ]
    }
   ],
   "source": [
    "t0 = time.time()\n",
    "with open(data_dir+lmat_file, 'rb') as handle:\n",
    "    lmat = pickle.load(handle)\n",
    "    lmat['frozen_pair'] = [make_fset(i) for i in lmat['ID']]\n",
    "    for df in fmat_list:\n",
    "        lmat = lmat.merge(df, how='left', on=['frozen_pair'])\n",
    "        lmat.fillna(0, inplace=True)\n",
    "lmat.drop(['frozen_pair'], axis=1, inplace=True)\n",
    "print(f'Total time to merge featmats: {time.time() - t0} seconds')"
   ]
  },
  {
   "cell_type": "code",
   "execution_count": 39,
   "id": "9db839c3-9e19-4ae3-b666-9abe58ae7b46",
   "metadata": {
    "tags": []
   },
   "outputs": [],
   "source": [
    "lmat.to_pickle(outfile+'.pkl')\n",
    "lmat.to_csv(outfile, index=False)"
   ]
  }
 ],
 "metadata": {
  "kernelspec": {
   "display_name": "Python 3 (ipykernel)",
   "language": "python",
   "name": "python3"
  },
  "language_info": {
   "codemirror_mode": {
    "name": "ipython",
    "version": 3
   },
   "file_extension": ".py",
   "mimetype": "text/x-python",
   "name": "python",
   "nbconvert_exporter": "python",
   "pygments_lexer": "ipython3",
   "version": "3.10.6"
  }
 },
 "nbformat": 4,
 "nbformat_minor": 5
}
