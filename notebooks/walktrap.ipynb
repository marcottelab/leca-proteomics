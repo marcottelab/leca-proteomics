{
 "cells": [
  {
   "cell_type": "code",
   "execution_count": 13,
   "id": "dd1d9f47-f1d4-4efe-a2fe-6dec6626b37f",
   "metadata": {},
   "outputs": [],
   "source": [
    "import pandas as pd\n",
    "import igraph as ig\n",
    "import math\n",
    "import random\n",
    "import numpy as np"
   ]
  },
  {
   "cell_type": "code",
   "execution_count": 7,
   "id": "975f1210-5815-45db-8781-b3dac61c272c",
   "metadata": {},
   "outputs": [],
   "source": [
    "score_file = '../ppi_ml/results/ppi_predict/20_feats/scored_interactions_fdr10_ExtraTreesClassifier.csv'\n",
    "annotations = '../ppi_ml/annotations/leca_eunog_annots_complete.030721.csv'\n",
    "outdir = '../ppi_ml/results/test_new_walktrap/'\n",
    "seed = 13\n",
    "steps = 5"
   ]
  },
  {
   "cell_type": "code",
   "execution_count": 3,
   "id": "fdc9d82e-4f6c-4d4d-a22f-265273f8286c",
   "metadata": {},
   "outputs": [],
   "source": [
    "def make_graph(score_file):\n",
    "    # read in data\n",
    "    scores = pd.read_csv(score_file)\n",
    "    # format graph dataframe\n",
    "    gdf = pd.DataFrame()\n",
    "    gdf[['ID1','ID2']] = scores['ID'].str.split(' ', expand=True)\n",
    "    gdf['weight'] = scores['ppi_score']\n",
    "    graph = ig.Graph.TupleList(gdf.itertuples(index=False), directed=False, weights=True)\n",
    "    return(graph)\n",
    "\n",
    "def walktrap(graph, n_steps=4, n_clusters=None):\n",
    "    # run walktrap & get clusters\n",
    "    clusters = graph.community_walktrap(weights='weight', steps=n_steps).as_clustering(n_clusters)\n",
    "    # write clusters & IDs to dict\n",
    "    clst_dict = dict()\n",
    "    for cluster, id_list in enumerate(clusters):\n",
    "        clst_dict.update({cluster: id_list})\n",
    "    # get node ids & number of complexes\n",
    "    nodes = graph.get_vertex_dataframe()\n",
    "    n_cmplx = len(clusters)\n",
    "    # format & return data frame\n",
    "    clst_df = (pd.DataFrame.from_dict(clst_dict, orient='index').T\n",
    "           .melt(var_name='id', value_name='value')\n",
    "           .dropna(subset=['value'])\n",
    "           .astype(int)\n",
    "           .rename(columns={'id':f'cut_{n_cmplx}', 'value':'ID'}))\n",
    "    clst_df['ID'].replace(nodes['name'], inplace=True)\n",
    "    out_df = clst_df[['ID', f'cut_{n_cmplx}']].reset_index(drop=True)\n",
    "    return(out_df)"
   ]
  },
  {
   "cell_type": "code",
   "execution_count": 4,
   "id": "c46dfaa6-2276-443a-9c24-88521ae31eda",
   "metadata": {},
   "outputs": [],
   "source": [
    "# set seed if specified\n",
    "random.seed(seed)\n",
    "\n",
    "# format data into igraph object\n",
    "ppi_graph = make_graph(score_file)\n",
    "total_prots = ppi_graph.vcount()\n",
    "\n",
    "# get dendrogram w/ optimal number of clusters\n",
    "df_opt = walktrap(ppi_graph)\n",
    "n_opt = len(df_opt.iloc[:,1].drop_duplicates())\n",
    "\n",
    "# get range of cuts \n",
    "cuts = np.linspace(n_opt, total_prots, 8, endpoint=False)\n",
    "cuts = np.floor(intervals)\n",
    "cuts = np.delete(intervals, 0)\n",
    "\n",
    "df_list = []\n",
    "for i in cuts:\n",
    "    clst = walktrap(ppi_graph, n_steps=steps, n_clusters=int(i))\n",
    "    df_list.append(clst)\n",
    "    \n",
    "# merge all cuts\n",
    "for df in df_list:\n",
    "    df_opt = df_opt.merge(df, how='left', on='ID')\n",
    "\n",
    "# sort clusters\n",
    "sort_cols = df_opt.columns.values[1:].tolist()\n",
    "df_out = df_opt.sort_values(sort_cols)\n",
    "\n",
    "# join annotations if specified\n",
    "annot_df = pd.read_csv(annotations)\n",
    "df_out = df_out.merge(annot_df, how='left', on=['ID'])\n",
    "\n",
    "# write results\n",
    "df_out.to_csv(outdir+f'walktrap_test_{steps}steps_even-cuts.csv', index=False)"
   ]
  },
  {
   "cell_type": "code",
   "execution_count": 27,
   "id": "c2d001cb-a2ef-4b1b-85c0-3853153e37ab",
   "metadata": {},
   "outputs": [
    {
     "name": "stdout",
     "output_type": "stream",
     "text": [
      "581.0\n",
      "969.0\n",
      "1356.0\n",
      "1744.0\n",
      "2132.0\n",
      "2519.0\n",
      "2907.0\n"
     ]
    }
   ],
   "source": [
    "total_prots = ppi_graph.vcount()\n",
    "intervals = np.linspace(n_opt, total_prots, 8, endpoint=False)\n",
    "intervals = np.floor(intervals)\n",
    "intervals = np.delete(intervals, 0)\n",
    "for i in intervals:\n",
    "    print(i)"
   ]
  },
  {
   "cell_type": "markdown",
   "id": "5da59c29-b510-41d8-8913-26b0a4c154ba",
   "metadata": {},
   "source": [
    "#### accessing graph attributes"
   ]
  },
  {
   "cell_type": "code",
   "execution_count": 5,
   "id": "e0e10de8-6c53-4df3-9b1e-991ecf9d2374",
   "metadata": {},
   "outputs": [],
   "source": [
    "# nodes = g.get_vertex_dataframe()\n",
    "# edges = g.get_edge_dataframe()\n",
    "# edges['source'].replace(nodes['name'], inplace=True)\n",
    "# edges['target'].replace(nodes['name'], inplace=True)\n",
    "# edges"
   ]
  },
  {
   "cell_type": "markdown",
   "id": "f8a94440-3ca4-4ba9-aea8-fd26cf895a6a",
   "metadata": {},
   "source": [
    "#### TODO: edge betweenness"
   ]
  },
  {
   "cell_type": "code",
   "execution_count": 6,
   "id": "e2c0d723-371d-4edb-ac72-ee11be6d5495",
   "metadata": {
    "tags": []
   },
   "outputs": [],
   "source": [
    "# # calculate dendrogram\n",
    "# dendrogram = g.community_edge_betweenness()\n",
    "# # convert it into a flat clustering\n",
    "# clusters = dendrogram.as_clustering()\n",
    "# # get the membership vector\n",
    "# membership = clusters.membership\n",
    "# # write results\n",
    "# import csv\n",
    "# writer = csv.writer(open(outdir+'ebc_test.csv', 'wb'))\n",
    "# for name, membership in zip(g.vs[\"name\"], membership):\n",
    "#     writer.writerow([name, membership])"
   ]
  }
 ],
 "metadata": {
  "kernelspec": {
   "display_name": "Python 3 (ipykernel)",
   "language": "python",
   "name": "python3"
  },
  "language_info": {
   "codemirror_mode": {
    "name": "ipython",
    "version": 3
   },
   "file_extension": ".py",
   "mimetype": "text/x-python",
   "name": "python",
   "nbconvert_exporter": "python",
   "pygments_lexer": "ipython3",
   "version": "3.10.6"
  }
 },
 "nbformat": 4,
 "nbformat_minor": 5
}
