{
 "cells": [
  {
   "cell_type": "code",
   "execution_count": 1,
   "id": "898f5a45-de60-48b1-b5c7-14f6e9131ba5",
   "metadata": {},
   "outputs": [],
   "source": [
    "import argparse\n",
    "import pickle\n",
    "import numpy as np\n",
    "import datetime as dt\n",
    "import pandas as pd\n",
    "from sklearn.model_selection import GroupShuffleSplit\n",
    "from sklearn.model_selection import GroupKFold\n",
    "from sklearn.model_selection import StratifiedGroupKFold\n",
    "from sklearn.ensemble import ExtraTreesClassifier\n",
    "from sklearn.metrics import PrecisionRecallDisplay\n",
    "from sklearn.metrics import average_precision_score"
   ]
  },
  {
   "cell_type": "code",
   "execution_count": 2,
   "id": "9adea98d-9569-4d8b-bbf9-adeb40dceab4",
   "metadata": {},
   "outputs": [],
   "source": [
    "fmat_file = '../ppi_ml/data/featmats/featmat_labeled_traintest.pkl'\n",
    "featsel_file = '../ppi_ml/results/feature_selection/featsel_xtrees_allres.csv'\n",
    "num_splits = 5\n",
    "n_feats2sel = 100"
   ]
  },
  {
   "cell_type": "code",
   "execution_count": 3,
   "id": "3ac50de0-8153-431e-8ee0-8b9141f8428b",
   "metadata": {},
   "outputs": [],
   "source": [
    "def fmt_data(fmat, select_feats, subset, label_cols, data_cols, keep_groups=True):\n",
    "    \n",
    "    # get desired subset\n",
    "    fmat_fmt = fmat[fmat['label'].isin(subset)]\n",
    "    fmat.sort_values('label', inplace=True, ascending=False)\n",
    "    fmat.reset_index(inplace=True, drop=True)\n",
    "    \n",
    "    # format data for sklearn input\n",
    "    X = fmat_fmt[data_cols].to_numpy()\n",
    "    y = fmat_fmt[label_cols[1]].to_numpy()\n",
    "    ids = fmat_fmt[label_cols[0]]\n",
    "    \n",
    "    if keep_groups:\n",
    "        groups = fmat_fmt[label_cols[2]].to_numpy()\n",
    "        fmat.sort_values(label_cols[2], inplace=True, ascending=True)\n",
    "        fmat.reset_index(inplace=True, drop=True)\n",
    "        return(X, y, ids, groups)\n",
    "    else:\n",
    "        return(X, y, ids)"
   ]
  },
  {
   "cell_type": "code",
   "execution_count": 4,
   "id": "6463b210-7f2f-4f79-b5d7-c931a6a810e6",
   "metadata": {},
   "outputs": [],
   "source": [
    "def get_scores(model, array, labels, ids):\n",
    "    \n",
    "    # predict probability scores\n",
    "    scores = model.predict_proba(array)\n",
    "    probabilities = np.split(scores, 2, axis=1)\n",
    "    neg_prob = probabilities[0]\n",
    "    pos_prob = probabilities[1]\n",
    "    ap = average_precision_score(y_test, pos_prob)\n",
    "    \n",
    "    # format into df\n",
    "    df = pd.DataFrame()\n",
    "    df['ID'] = ids\n",
    "    df['label'] = labels\n",
    "    df['ppi_score'] = pos_prob\n",
    "    df['avg_precision'] = ap\n",
    "    df.sort_values('ppi_score', inplace=True, ascending=False)\n",
    "    df.reset_index(inplace=True, drop=True)\n",
    "    \n",
    "    return(df)"
   ]
  },
  {
   "cell_type": "code",
   "execution_count": 5,
   "id": "44899dca-7733-44e9-b673-704c1a914a75",
   "metadata": {},
   "outputs": [],
   "source": [
    "def calc_pr(df):\n",
    "\n",
    "    tp_count = 0\n",
    "    fp_count = 0\n",
    "    p_list = []\n",
    "    r_list = []\n",
    "    f_list = []\n",
    "    all_pos = len(df[df['label'] == 1])\n",
    "\n",
    "    for i in range(len(df)):\n",
    "\n",
    "        if df['label'][i] == 1:\n",
    "            tp_count += 1\n",
    "        else:\n",
    "            fp_count += 1\n",
    "\n",
    "        tps = tp_count\n",
    "        fps = fp_count\n",
    "        fns = all_pos - tps\n",
    "\n",
    "        precision = tps/(tps+fps)\n",
    "        recall = tps/(tps+fns)\n",
    "        fdr = 1 - precision\n",
    "\n",
    "        p_list.append(float(precision))\n",
    "        r_list.append(float(recall))\n",
    "        f_list.append(float(fdr))\n",
    "\n",
    "    df['precision'] = p_list\n",
    "    df['recall'] = r_list\n",
    "    df['fdr'] = f_list\n",
    "    \n",
    "    return(df)"
   ]
  },
  {
   "cell_type": "code",
   "execution_count": 6,
   "id": "f17f25db-57d3-4968-90f4-36d22e9acb2e",
   "metadata": {},
   "outputs": [
    {
     "name": "stdout",
     "output_type": "stream",
     "text": [
      "Reading in data ...\n",
      "# feats selected: 100\n"
     ]
    }
   ],
   "source": [
    "print(f'Reading in data ...')\n",
    "with open(fmat_file, 'rb') as handle:\n",
    "    fmat = pickle.load(handle)\n",
    "fsel = pd.read_csv(featsel_file)\n",
    "select_feats = fsel['feature'].head(n_feats2sel).tolist()\n",
    "print(f'# feats selected: {len(select_feats)}')"
   ]
  },
  {
   "cell_type": "code",
   "execution_count": 7,
   "id": "0a4e6b09-0c95-402f-99e6-4d48c0551d8c",
   "metadata": {},
   "outputs": [],
   "source": [
    "label_cols = ['ID', 'label', 'super_group']\n",
    "data_cols = [c for c in fmat.columns.values.tolist() if c not in label_cols and c in select_feats]"
   ]
  },
  {
   "cell_type": "markdown",
   "id": "6d72dca9-1e77-41b8-863f-1f374e933e98",
   "metadata": {},
   "source": [
    "# Run CV"
   ]
  },
  {
   "cell_type": "code",
   "execution_count": 8,
   "id": "7aca9d00-fa82-4414-a232-fbe862eb61cb",
   "metadata": {},
   "outputs": [],
   "source": [
    "gs = GroupKFold(n_splits=num_splits)\n",
    "clf = ExtraTreesClassifier(bootstrap=True, criterion=\"gini\", \n",
    "                           max_features=0.7, min_samples_leaf=3, \n",
    "                           min_samples_split=14, n_estimators=100,\n",
    "                           n_jobs=8, random_state=13)\n",
    "X, y, ids, groups = fmt_data(fmat, select_feats, [1,-1], label_cols, data_cols, keep_groups=True)"
   ]
  },
  {
   "cell_type": "code",
   "execution_count": 9,
   "id": "b3b7e45b-0924-4c1a-96b3-c8bcbb45af7e",
   "metadata": {},
   "outputs": [
    {
     "name": "stdout",
     "output_type": "stream",
     "text": [
      "Running CV for split #1...\n",
      "\tTrain: index=[    0     2     4 ... 25230 25232 25235], group=[511  31  47 ...  16  10  33]\n",
      "\tTest:  index=[    1     3     5 ... 25238 25239 25240], group=[1 1 1 ... 1 1 1]\n",
      "\ty--> # train PPIs = 10335\n",
      "\t--> # test PPIs = 14906\n",
      "Running CV for split #2...\n",
      "\tTrain: index=[    0     1     2 ... 25238 25239 25240], group=[511   1  31 ...   1   1   1]\n",
      "\tTest:  index=[   10    27    48 ... 25211 25221 25230], group=[130  16  16 ...  16 130  16]\n",
      "\ty--> # train PPIs = 22657\n",
      "\t--> # test PPIs = 2584\n",
      "Running CV for split #3...\n",
      "\tTrain: index=[    1     2     3 ... 25238 25239 25240], group=[ 1 31  1 ...  1  1  1]\n",
      "\tTest:  index=[    0    29    36 ... 25217 25218 25232], group=[511 793  25 ...  13  25  10]\n",
      "\ty--> # train PPIs = 22657\n",
      "\t--> # test PPIs = 2584\n",
      "Running CV for split #4...\n",
      "\tTrain: index=[    0     1     2 ... 25238 25239 25240], group=[511   1  31 ...   1   1   1]\n",
      "\tTest:  index=[    4    22    38 ... 25186 25214 25235], group=[  47 1205   47 ...   47   47   33]\n",
      "\ty--> # train PPIs = 22657\n",
      "\t--> # test PPIs = 2584\n",
      "Running CV for split #5...\n",
      "\tTrain: index=[    0     1     3 ... 25238 25239 25240], group=[511   1   1 ...   1   1   1]\n",
      "\tTest:  index=[    2     6     8 ... 25227 25228 25229], group=[31 17 17 ... 50 17 56]\n",
      "\ty--> # train PPIs = 22658\n",
      "\t--> # test PPIs = 2583\n"
     ]
    }
   ],
   "source": [
    "res_lst = []\n",
    "for i, (train_idx, test_idx) in enumerate(gs.split(X, y, groups)):\n",
    "\n",
    "        X_train = X[train_idx]\n",
    "        y_train = y[train_idx]\n",
    "        X_test = X[test_idx]\n",
    "        y_test = y[test_idx]\n",
    "\n",
    "        print(f'Running CV for split #{i+1}...')\n",
    "        print(f\"\\tTrain: index={train_idx}, group={groups[train_idx]}\")\n",
    "        print(f\"\\tTest:  index={test_idx}, group={groups[test_idx]}\")\n",
    "        print(f\"\\ty--> # train PPIs = {len(X[train_idx])}\")\n",
    "        print(f\"\\t--> # test PPIs = {len(X[test_idx])}\")\n",
    "        \n",
    "        clf.fit(X_train, y_train)\n",
    "        test_ids = ids[test_idx]\n",
    "        test_scores = get_scores(clf, X_test, y_test, test_ids)\n",
    "        pr_data = calc_pr(test_scores)\n",
    "        \n",
    "        pr_data['fold'] = int(i+1)\n",
    "        res_lst.append(pr_data)"
   ]
  },
  {
   "cell_type": "code",
   "execution_count": 10,
   "id": "162feee0-24af-4d54-9da0-f11999c96985",
   "metadata": {},
   "outputs": [
    {
     "data": {
      "text/html": [
       "<div>\n",
       "<style scoped>\n",
       "    .dataframe tbody tr th:only-of-type {\n",
       "        vertical-align: middle;\n",
       "    }\n",
       "\n",
       "    .dataframe tbody tr th {\n",
       "        vertical-align: top;\n",
       "    }\n",
       "\n",
       "    .dataframe thead th {\n",
       "        text-align: right;\n",
       "    }\n",
       "</style>\n",
       "<table border=\"1\" class=\"dataframe\">\n",
       "  <thead>\n",
       "    <tr style=\"text-align: right;\">\n",
       "      <th></th>\n",
       "      <th>ID</th>\n",
       "      <th>label</th>\n",
       "      <th>ppi_score</th>\n",
       "      <th>avg_precision</th>\n",
       "      <th>precision</th>\n",
       "      <th>recall</th>\n",
       "      <th>fdr</th>\n",
       "      <th>fold</th>\n",
       "    </tr>\n",
       "  </thead>\n",
       "  <tbody>\n",
       "    <tr>\n",
       "      <th>0</th>\n",
       "      <td>KOG1942 KOG2680</td>\n",
       "      <td>1</td>\n",
       "      <td>1.000000</td>\n",
       "      <td>0.722319</td>\n",
       "      <td>1.000000</td>\n",
       "      <td>0.000262</td>\n",
       "      <td>0.000000</td>\n",
       "      <td>1</td>\n",
       "    </tr>\n",
       "    <tr>\n",
       "      <th>1</th>\n",
       "      <td>KOG4098 KOG3501</td>\n",
       "      <td>1</td>\n",
       "      <td>0.999375</td>\n",
       "      <td>0.722319</td>\n",
       "      <td>1.000000</td>\n",
       "      <td>0.000524</td>\n",
       "      <td>0.000000</td>\n",
       "      <td>1</td>\n",
       "    </tr>\n",
       "    <tr>\n",
       "      <th>2</th>\n",
       "      <td>KOG0289 KOG0050</td>\n",
       "      <td>1</td>\n",
       "      <td>0.999231</td>\n",
       "      <td>0.722319</td>\n",
       "      <td>1.000000</td>\n",
       "      <td>0.000786</td>\n",
       "      <td>0.000000</td>\n",
       "      <td>1</td>\n",
       "    </tr>\n",
       "    <tr>\n",
       "      <th>3</th>\n",
       "      <td>KOG0964 KOG0018</td>\n",
       "      <td>1</td>\n",
       "      <td>0.999167</td>\n",
       "      <td>0.722319</td>\n",
       "      <td>1.000000</td>\n",
       "      <td>0.001048</td>\n",
       "      <td>0.000000</td>\n",
       "      <td>1</td>\n",
       "    </tr>\n",
       "    <tr>\n",
       "      <th>4</th>\n",
       "      <td>KOG1106 KOG4071</td>\n",
       "      <td>1</td>\n",
       "      <td>0.997952</td>\n",
       "      <td>0.722319</td>\n",
       "      <td>1.000000</td>\n",
       "      <td>0.001311</td>\n",
       "      <td>0.000000</td>\n",
       "      <td>1</td>\n",
       "    </tr>\n",
       "    <tr>\n",
       "      <th>...</th>\n",
       "      <td>...</td>\n",
       "      <td>...</td>\n",
       "      <td>...</td>\n",
       "      <td>...</td>\n",
       "      <td>...</td>\n",
       "      <td>...</td>\n",
       "      <td>...</td>\n",
       "      <td>...</td>\n",
       "    </tr>\n",
       "    <tr>\n",
       "      <th>2578</th>\n",
       "      <td>KOG0869 KOG0812</td>\n",
       "      <td>-1</td>\n",
       "      <td>0.004272</td>\n",
       "      <td>0.882475</td>\n",
       "      <td>0.259015</td>\n",
       "      <td>1.000000</td>\n",
       "      <td>0.740985</td>\n",
       "      <td>5</td>\n",
       "    </tr>\n",
       "    <tr>\n",
       "      <th>2579</th>\n",
       "      <td>KOG0663 KOG3316</td>\n",
       "      <td>-1</td>\n",
       "      <td>0.003485</td>\n",
       "      <td>0.882475</td>\n",
       "      <td>0.258915</td>\n",
       "      <td>1.000000</td>\n",
       "      <td>0.741085</td>\n",
       "      <td>5</td>\n",
       "    </tr>\n",
       "    <tr>\n",
       "      <th>2580</th>\n",
       "      <td>KOG1963 ENOG502QS4E</td>\n",
       "      <td>-1</td>\n",
       "      <td>0.003333</td>\n",
       "      <td>0.882475</td>\n",
       "      <td>0.258814</td>\n",
       "      <td>1.000000</td>\n",
       "      <td>0.741186</td>\n",
       "      <td>5</td>\n",
       "    </tr>\n",
       "    <tr>\n",
       "      <th>2581</th>\n",
       "      <td>KOG1112 ENOG502QQ4W</td>\n",
       "      <td>-1</td>\n",
       "      <td>0.001484</td>\n",
       "      <td>0.882475</td>\n",
       "      <td>0.258714</td>\n",
       "      <td>1.000000</td>\n",
       "      <td>0.741286</td>\n",
       "      <td>5</td>\n",
       "    </tr>\n",
       "    <tr>\n",
       "      <th>2582</th>\n",
       "      <td>KOG1938 KOG4066</td>\n",
       "      <td>-1</td>\n",
       "      <td>0.000526</td>\n",
       "      <td>0.882475</td>\n",
       "      <td>0.258614</td>\n",
       "      <td>1.000000</td>\n",
       "      <td>0.741386</td>\n",
       "      <td>5</td>\n",
       "    </tr>\n",
       "  </tbody>\n",
       "</table>\n",
       "<p>25241 rows × 8 columns</p>\n",
       "</div>"
      ],
      "text/plain": [
       "                       ID  label  ppi_score  avg_precision  precision  \\\n",
       "0         KOG1942 KOG2680      1   1.000000       0.722319   1.000000   \n",
       "1         KOG4098 KOG3501      1   0.999375       0.722319   1.000000   \n",
       "2         KOG0289 KOG0050      1   0.999231       0.722319   1.000000   \n",
       "3         KOG0964 KOG0018      1   0.999167       0.722319   1.000000   \n",
       "4         KOG1106 KOG4071      1   0.997952       0.722319   1.000000   \n",
       "...                   ...    ...        ...            ...        ...   \n",
       "2578      KOG0869 KOG0812     -1   0.004272       0.882475   0.259015   \n",
       "2579      KOG0663 KOG3316     -1   0.003485       0.882475   0.258915   \n",
       "2580  KOG1963 ENOG502QS4E     -1   0.003333       0.882475   0.258814   \n",
       "2581  KOG1112 ENOG502QQ4W     -1   0.001484       0.882475   0.258714   \n",
       "2582      KOG1938 KOG4066     -1   0.000526       0.882475   0.258614   \n",
       "\n",
       "        recall       fdr  fold  \n",
       "0     0.000262  0.000000     1  \n",
       "1     0.000524  0.000000     1  \n",
       "2     0.000786  0.000000     1  \n",
       "3     0.001048  0.000000     1  \n",
       "4     0.001311  0.000000     1  \n",
       "...        ...       ...   ...  \n",
       "2578  1.000000  0.740985     5  \n",
       "2579  1.000000  0.741085     5  \n",
       "2580  1.000000  0.741186     5  \n",
       "2581  1.000000  0.741286     5  \n",
       "2582  1.000000  0.741386     5  \n",
       "\n",
       "[25241 rows x 8 columns]"
      ]
     },
     "execution_count": 10,
     "metadata": {},
     "output_type": "execute_result"
    }
   ],
   "source": [
    "all_res = pd.concat(res_lst)\n",
    "all_res"
   ]
  },
  {
   "cell_type": "code",
   "execution_count": 25,
   "id": "f00f9a64-296a-4c8b-9d85-0ef8174dffa9",
   "metadata": {},
   "outputs": [],
   "source": [
    "all_res.to_csv('../ppi_ml/results/ml_eval/groupkfoldcv_k-5_s-13.csv')"
   ]
  },
  {
   "cell_type": "markdown",
   "id": "cc1d6d1a-0441-4a22-bc12-ff4ae17c6921",
   "metadata": {},
   "source": [
    "# Plot CV"
   ]
  },
  {
   "cell_type": "markdown",
   "id": "5c6fce54-c309-4447-a569-d988ebb34150",
   "metadata": {},
   "source": [
    "ugggghhhh this is so dumb. as always I'm just going to write out results to plot in R w/ ggplot."
   ]
  },
  {
   "cell_type": "code",
   "execution_count": 11,
   "id": "bdf4e358-fea9-4716-9fd8-90b621981775",
   "metadata": {},
   "outputs": [],
   "source": [
    "# from matplotlib.patches import Patch\n",
    "# import matplotlib.pyplot as plt\n",
    "# import seaborn as sns"
   ]
  },
  {
   "cell_type": "code",
   "execution_count": 12,
   "id": "afd3a6bf-6401-4a73-976d-f23b028432de",
   "metadata": {},
   "outputs": [],
   "source": [
    "# # colors\n",
    "# cmap_data = plt.cm.Paired\n",
    "# cmap_cv = plt.cm.coolwarm"
   ]
  },
  {
   "cell_type": "code",
   "execution_count": 13,
   "id": "ae69124d-f213-45e3-a44f-e4719c09c482",
   "metadata": {},
   "outputs": [
    {
     "data": {
      "image/png": "[encoded data removed]",
      "text/html": [
       "<div style=\"vertical-align: middle;\"><strong>Paired</strong> </div><div class=\"cmap\"><img alt=\"Paired colormap\" title=\"Paired\" style=\"border: 1px solid #555;\" src=\"data:image/png;base64,iVBORw0KGgoAAAANSUhEUgAAAgAAAABACAYAAABsv8+/AAAAFXRFWHRUaXRsZQBQYWlyZWQgY29sb3JtYXDkshWaAAAAG3RFWHREZXNjcmlwdGlvbgBQYWlyZWQgY29sb3JtYXCtJQ1+AAAAMHRFWHRBdXRob3IATWF0cGxvdGxpYiB2My42LjIsIGh0dHBzOi8vbWF0cGxvdGxpYi5vcmdxzlVfAAAAMnRFWHRTb2Z0d2FyZQBNYXRwbG90bGliIHYzLjYuMiwgaHR0cHM6Ly9tYXRwbG90bGliLm9yZ19oyngAAAGQSURBVHic7daxLYVhGIbh3xnDGkbRWUBlAB1RKuRE9CKhUJoAUUgkEo0FNGbQsMJX+fLnvq4JnubNe+/cvX/9LitxfP8xe8Kwy8PP2ROGnD7dzJ4w7PXnaPaEId8nZ7MnDNu93Z89YdjmcTt7wpC3vXXc/rIsy/X5y+wJQ66eV/OmloeDi9kThm1mDwAA/p8AAIAgAQAAQQIAAIIEAAAECQAACBIAABAkAAAgSAAAQJAAAIAgAQAAQQIAAIIEAAAECQAACBIAABAkAAAgSAAAQJAAAIAgAQAAQQIAAIIEAAAECQAACBIAABAkAAAgSAAAQJAAAIAgAQAAQQIAAIIEAAAECQAACBIAABAkAAAgSAAAQJAAAIAgAQAAQQIAAIIEAAAECQAACBIAABAkAAAgSAAAQJAAAIAgAQAAQQIAAIIEAAAECQAACBIAABAkAAAgSAAAQJAAAIAgAQAAQQIAAIIEAAAECQAACBIAABAkAAAgSAAAQJAAAIAgAQAAQQIAAIIEAAAECQAACBIAABD0B4ccF7Gd6zM6AAAAAElFTkSuQmCC\"></div><div style=\"vertical-align: middle; max-width: 514px; display: flex; justify-content: space-between;\"><div style=\"float: left;\"><div title=\"#a6cee3ff\" style=\"display: inline-block; width: 1em; height: 1em; margin: 0; vertical-align: middle; border: 1px solid #555; background-color: #a6cee3ff;\"></div> under</div><div style=\"margin: 0 auto; display: inline-block;\">bad <div title=\"#00000000\" style=\"display: inline-block; width: 1em; height: 1em; margin: 0; vertical-align: middle; border: 1px solid #555; background-color: #00000000;\"></div></div><div style=\"float: right;\">over <div title=\"#b15928ff\" style=\"display: inline-block; width: 1em; height: 1em; margin: 0; vertical-align: middle; border: 1px solid #555; background-color: #b15928ff;\"></div></div>"
      ],
      "text/plain": [
       "<matplotlib.colors.ListedColormap at 0x7f27d9971c90>"
      ]
     },
     "execution_count": 13,
     "metadata": {},
     "output_type": "execute_result"
    }
   ],
   "source": [
    "# cmap_data"
   ]
  },
  {
   "cell_type": "code",
   "execution_count": 19,
   "id": "28337ad5-5061-428d-ad39-0cbdf6e53110",
   "metadata": {
    "tags": []
   },
   "outputs": [
    {
     "data": {
      "text/plain": [
       "['KFold-1 (AP=0.72)',\n",
       " 'KFold-2 (AP=0.86)',\n",
       " 'KFold-3 (AP=0.92)',\n",
       " 'KFold-4 (AP=0.82)',\n",
       " 'KFold-5 (AP=0.88)']"
      ]
     },
     "execution_count": 19,
     "metadata": {},
     "output_type": "execute_result"
    }
   ],
   "source": [
    "# # turn to string\n",
    "# all_res['fold'] = all_res.fold.astype(str)\n",
    "\n",
    "# labels = []\n",
    "# avg_pre = all_res[['fold','avg_precision']].drop_duplicates()\n",
    "# avg_pre.reset_index(inplace=True, drop=True)\n",
    "\n",
    "# for i in range(len(avg_pre)):\n",
    "#     fold = avg_pre['fold'][i]\n",
    "#     ap = avg_pre['avg_precision'][i]\n",
    "#     l = f'KFold-{fold} (AP={round(ap, 2)})'\n",
    "#     labels.append(l)\n",
    "\n",
    "# labels"
   ]
  },
  {
   "cell_type": "code",
   "execution_count": 23,
   "id": "b22a2c7c-601d-488b-b3f9-0a298c2d3fbb",
   "metadata": {},
   "outputs": [
    {
     "data": {
      "image/png": "[encoded data removed]",
      "text/plain": [
       "<Figure size 640x480 with 1 Axes>"
      ]
     },
     "metadata": {},
     "output_type": "display_data"
    }
   ],
   "source": [
    "# # plot w/ custom palette, legend:\n",
    "# p = sns.lineplot(x='recall', \n",
    "#              y='precision',\n",
    "#              hue='fold', \n",
    "#              palette=[\"#4DBBD5\", \"#E64B35\", \"#00A087\", \"#3C5488\", \"#F39B7F\"],\n",
    "#              data=all_res,\n",
    "#              legend=False)\n",
    "# plt.legend(labels=labels, loc='lower left', title=None)\n",
    "# plt.show(p)"
   ]
  }
 ],
 "metadata": {
  "kernelspec": {
   "display_name": "Python 3 (ipykernel)",
   "language": "python",
   "name": "python3"
  },
  "language_info": {
   "codemirror_mode": {
    "name": "ipython",
    "version": 3
   },
   "file_extension": ".py",
   "mimetype": "text/x-python",
   "name": "python",
   "nbconvert_exporter": "python",
   "pygments_lexer": "ipython3",
   "version": "3.10.6"
  }
 },
 "nbformat": 4,
 "nbformat_minor": 5
}
