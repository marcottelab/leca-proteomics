{
 "cells": [
  {
   "cell_type": "code",
   "execution_count": 1,
   "id": "80ea4d50-c9f8-42ab-8a76-26a7bec29ed1",
   "metadata": {},
   "outputs": [],
   "source": [
    "import os\n",
    "import re\n",
    "import pandas as pd\n",
    "from tqdm import tqdm"
   ]
  },
  {
   "cell_type": "code",
   "execution_count": 2,
   "id": "34c23c57-0a82-4c14-a2b7-20dfd89527c8",
   "metadata": {},
   "outputs": [],
   "source": [
    "pep_dir = '../ppi_ml/data/cfms/pep_assign_totals'\n",
    "pep_files = [os.path.join(pep_dir, f) for f in os.listdir(pep_dir) if re.match('.*pep_assign_totals.csv$', f)]"
   ]
  },
  {
   "cell_type": "code",
   "execution_count": 3,
   "id": "e93d1720-b7b7-4635-9f54-dfb06ee3655e",
   "metadata": {},
   "outputs": [
    {
     "name": "stderr",
     "output_type": "stream",
     "text": [
      "100%|██████████████████████████████████████████████████████████████████████████████████████████| 31/31 [01:07<00:00,  2.16s/it]\n"
     ]
    }
   ],
   "source": [
    "master_set = set()\n",
    "master_count = 0\n",
    "for i in tqdm(pep_files):\n",
    "    df = pd.read_csv(i)\n",
    "    prots = set(df.iloc[:, 1].to_list())\n",
    "    master_set.update(prots)\n",
    "    counts = sum(df.iloc[:, -1].to_list())\n",
    "    master_count += counts"
   ]
  },
  {
   "cell_type": "code",
   "execution_count": 5,
   "id": "96722ad1-83a6-40ac-a2b0-1f2bbba38f49",
   "metadata": {
    "tags": []
   },
   "outputs": [
    {
     "name": "stdout",
     "output_type": "stream",
     "text": [
      "total # of unique IDs: 259732\n",
      "total # of peptides assigned: 379758411\n"
     ]
    }
   ],
   "source": [
    "print(f'total # of unique IDs: {len(master_set)}')\n",
    "print(f'total # of peptides assigned: {master_count}')"
   ]
  }
 ],
 "metadata": {
  "kernelspec": {
   "display_name": "Python 3 (ipykernel)",
   "language": "python",
   "name": "python3"
  },
  "language_info": {
   "codemirror_mode": {
    "name": "ipython",
    "version": 3
   },
   "file_extension": ".py",
   "mimetype": "text/x-python",
   "name": "python",
   "nbconvert_exporter": "python",
   "pygments_lexer": "ipython3",
   "version": "3.10.6"
  }
 },
 "nbformat": 4,
 "nbformat_minor": 5
}
