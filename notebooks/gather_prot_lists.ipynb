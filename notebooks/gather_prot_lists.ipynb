{
 "cells": [
  {
   "cell_type": "code",
   "execution_count": 1,
   "id": "e83a5894-49d4-4966-b9d5-a348a9f3115a",
   "metadata": {},
   "outputs": [],
   "source": [
    "import pandas as pd\n",
    "import re\n",
    "import os\n",
    "from functools import reduce\n",
    "import numpy as np"
   ]
  },
  {
   "cell_type": "code",
   "execution_count": 2,
   "id": "c5b80887-4109-4080-aa42-db2e79be5856",
   "metadata": {},
   "outputs": [],
   "source": [
    "data_dir = '../ppi_ml/data/cfms/msblender/leca_level/arath/wwc_1/output/'\n",
    "pep_files = [f for f in os.listdir(data_dir) if re.match('.*prot_list$', f)]"
   ]
  },
  {
   "cell_type": "code",
   "execution_count": 3,
   "id": "ff64edc7-0255-4d17-8453-d2048168364a",
   "metadata": {},
   "outputs": [],
   "source": [
    "def fmt_data(file):\n",
    "    # read in .prot_count file\n",
    "    print(f'Processing {file} ...')\n",
    "    df = pd.read_csv(file, sep='\\t', header=None)\n",
    "\n",
    "    # extract & format peptides \n",
    "    pep_list = []\n",
    "    for i in df.iloc[:, 0]:\n",
    "        pep = str.split(i, '.')[-1]\n",
    "        pep_list.append(pep)\n",
    "\n",
    "    # extract & format protein IDs\n",
    "    id_list = []\n",
    "    for i in df.iloc[:, 1]:\n",
    "        ids = str.split(i, '(')[0]\n",
    "        id_list.append(ids)\n",
    "        \n",
    "    # make new df\n",
    "    df_fmt = pd.DataFrame()\n",
    "    df_fmt['peptide'] = pep_list\n",
    "    df_fmt['protein'] = id_list\n",
    "    \n",
    "    return(df_fmt)\n",
    "\n",
    "def unique_peps(df):\n",
    "    \n",
    "    # get protein IDs with unique peptides\n",
    "    df['num_matches'] = df['protein'].apply(lambda x: len(str.split(x, ',')))\n",
    "    df = df[df['num_matches'] == 1]\n",
    "    df_uniq = df.drop(['num_matches'], axis=1)\n",
    "    \n",
    "    return(df_uniq)\n",
    "\n",
    "def count_peps(df, frac):\n",
    "    # get peptide counts\n",
    "    counts = df.groupby(['peptide']).size().sort_values(ascending=False)\n",
    "    count_dict = dict()\n",
    "    for i in counts.items():\n",
    "        pep = i[0]\n",
    "        count = i[1]\n",
    "        count_dict[pep] = count\n",
    "        \n",
    "    # join count info back onto df\n",
    "    count_col = 'frac_count'+str(frac)\n",
    "    df[count_col] = [count_dict[i] for i in df['peptide']]\n",
    "    df_counts = df.drop_duplicates()\n",
    "    \n",
    "    return(df_counts)"
   ]
  },
  {
   "cell_type": "code",
   "execution_count": 4,
   "id": "22661989-2c1c-430d-b53c-555c161558f9",
   "metadata": {
    "tags": []
   },
   "outputs": [],
   "source": [
    "def process_fracs(data_dir, file_list):\n",
    "    \n",
    "    df_list = []\n",
    "    frac_count = 0\n",
    "    for f in file_list:\n",
    "        frac_count += 1\n",
    "        df_fmt = fmt_data(data_dir+f)\n",
    "        df_uniq = unique_peps(df_fmt)\n",
    "        df_counts = count_peps(df_uniq, frac_count)\n",
    "        df_list.append(df_counts)\n",
    "\n",
    "    if len(df_list) > 1:\n",
    "        df_joined = reduce(lambda x, y: pd.merge(x, y, on=['peptide', 'protein'], how='outer'), df_list)\n",
    "        df_joined.fillna(0, inplace=True)\n",
    "    else:\n",
    "        df_joined = df_list[0]\n",
    "\n",
    "    count_cols = []\n",
    "    for c in df_joined.columns:\n",
    "        if df_joined[c].dtype == float:\n",
    "            df_joined[c] = df_joined[c].astype(int)\n",
    "            count_cols.append(c)\n",
    "\n",
    "    tcol = 'total_counts'\n",
    "    df_joined[tcol] = df_joined[count_cols].sum(axis=1)\n",
    "    \n",
    "    return(df_joined)"
   ]
  },
  {
   "cell_type": "code",
   "execution_count": 5,
   "id": "33cf772a-8509-45ec-9aa6-fb8d7f453a94",
   "metadata": {},
   "outputs": [],
   "source": [
    "def clean_peps(df):\n",
    "    # get experiment-wide unique peptide assignments\n",
    "    counts = df.groupby(['peptide']).size().sort_values(ascending=False)\n",
    "    bad_peps = []\n",
    "    for p in counts.items():\n",
    "        if p[1] > 1:\n",
    "            bad_peps.append(p[0])\n",
    "    df_out = df[df['peptide'].apply(lambda x: x not in bad_peps)]\n",
    "    \n",
    "    # check for errors\n",
    "    bad_pep_sum = 0\n",
    "    for c in counts.items():\n",
    "        if c[1] > 1:\n",
    "            bad_pep_sum += c[1]\n",
    "\n",
    "    actual_sum = len(df_joined) - len(df_out)\n",
    "\n",
    "    if actual_sum != bad_pep_sum:\n",
    "        print(\"Something went wrong ...\")\n",
    "    \n",
    "def write_result(df, outfile):\n",
    "    df_write = df[['peptide', 'protein', 'total_counts']]\n",
    "    df_write.to_csv(outfile, index=False)"
   ]
  },
  {
   "cell_type": "code",
   "execution_count": null,
   "id": "6186da00-0883-4d68-b668-768c9d5a6dac",
   "metadata": {},
   "outputs": [],
   "source": [
    "# get experiment-wide unique peptide assignments\n",
    "bad_peps = []\n",
    "for p in counts.items():\n",
    "    if p[1] > 1:\n",
    "        bad_peps.append(p[0])"
   ]
  },
  {
   "cell_type": "code",
   "execution_count": null,
   "id": "eb64f458-55f8-4b3e-82a9-9d019e08ab40",
   "metadata": {},
   "outputs": [],
   "source": [
    "len(bad_peps)"
   ]
  },
  {
   "cell_type": "code",
   "execution_count": null,
   "id": "dd93140a-40e8-477e-9bc4-cdede89885be",
   "metadata": {},
   "outputs": [],
   "source": [
    "df_out = df_joined[df_joined['peptide'].apply(lambda x: x not in bad_peps)]"
   ]
  },
  {
   "cell_type": "code",
   "execution_count": null,
   "id": "9f0b631b-1bca-48de-9db7-338d037d337c",
   "metadata": {},
   "outputs": [],
   "source": [
    "df_write = df_out[['peptide', 'protein', 'total_counts']]"
   ]
  },
  {
   "cell_type": "markdown",
   "id": "175af202-a007-4319-a050-1e961f275ee8",
   "metadata": {},
   "source": [
    "I put the above code into an argparse script (`get_pep_assignments.py`); then ran the code below on the results to get aggregate totals for each species/experiment."
   ]
  },
  {
   "cell_type": "code",
   "execution_count": 7,
   "id": "ed1da1cd-7c36-4dab-a2e4-a9ed0dece790",
   "metadata": {},
   "outputs": [],
   "source": [
    "import pandas as pd\n",
    "import re\n",
    "import os\n",
    "from functools import reduce\n",
    "import numpy as np"
   ]
  },
  {
   "cell_type": "code",
   "execution_count": 8,
   "id": "ebffcce1-d096-4b48-a438-01a91ee1b73a",
   "metadata": {},
   "outputs": [],
   "source": [
    "fs = '../ppi_ml/data/meta/euk_codes_ordered.txt'\n",
    "species = [line.strip() for line in open(fs, 'r')]\n",
    "data_dir = '../ppi_ml/data/cfms/pep_assign_ogs/'\n",
    "outdir = '../ppi_ml/data/cfms/pep_assign_totals/'"
   ]
  },
  {
   "cell_type": "code",
   "execution_count": 9,
   "id": "ed160d8a-510d-414d-9af7-52f1df9f8a7c",
   "metadata": {},
   "outputs": [
    {
     "data": {
      "text/plain": [
       "['brart',\n",
       " 'caeel',\n",
       " 'dicdi',\n",
       " 'drome',\n",
       " 'human',\n",
       " 'mouse',\n",
       " 'nemve',\n",
       " 'pig',\n",
       " 'strpu',\n",
       " 'xenla',\n",
       " 'yeast',\n",
       " 'euggr',\n",
       " 'tryb2',\n",
       " 'phatc',\n",
       " 'plaba',\n",
       " 'plaf7',\n",
       " 'plakh',\n",
       " 'tetts',\n",
       " 'arath',\n",
       " 'braol',\n",
       " 'cansa',\n",
       " 'cerri',\n",
       " 'cheqi',\n",
       " 'chlre',\n",
       " 'cocnu',\n",
       " 'maize',\n",
       " 'orysj',\n",
       " 'selml',\n",
       " 'sollc',\n",
       " 'soybn',\n",
       " 'wheat']"
      ]
     },
     "execution_count": 9,
     "metadata": {},
     "output_type": "execute_result"
    }
   ],
   "source": [
    "species"
   ]
  },
  {
   "cell_type": "code",
   "execution_count": 12,
   "id": "a5829212-05c8-4663-bcb5-892806959bb4",
   "metadata": {
    "collapsed": true,
    "jupyter": {
     "outputs_hidden": true
    },
    "tags": []
   },
   "outputs": [
    {
     "name": "stdout",
     "output_type": "stream",
     "text": [
      "brart: 0 non-unique peps across experiments; these will be removed.\n",
      "caeel: 5533 non-unique peps across experiments; these will be removed.\n"
     ]
    },
    {
     "name": "stderr",
     "output_type": "stream",
     "text": [
      "/tmp/ipykernel_1318452/4092350069.py:33: SettingWithCopyWarning: \n",
      "A value is trying to be set on a copy of a slice from a DataFrame.\n",
      "Try using .loc[row_indexer,col_indexer] = value instead\n",
      "\n",
      "See the caveats in the documentation: https://pandas.pydata.org/pandas-docs/stable/user_guide/indexing.html#returning-a-view-versus-a-copy\n",
      "  df_out[tcol] = df_out[count_cols].sum(axis=1).astype(int)\n"
     ]
    },
    {
     "name": "stdout",
     "output_type": "stream",
     "text": [
      "dicdi: 922 non-unique peps across experiments; these will be removed.\n"
     ]
    },
    {
     "name": "stderr",
     "output_type": "stream",
     "text": [
      "/tmp/ipykernel_1318452/4092350069.py:33: SettingWithCopyWarning: \n",
      "A value is trying to be set on a copy of a slice from a DataFrame.\n",
      "Try using .loc[row_indexer,col_indexer] = value instead\n",
      "\n",
      "See the caveats in the documentation: https://pandas.pydata.org/pandas-docs/stable/user_guide/indexing.html#returning-a-view-versus-a-copy\n",
      "  df_out[tcol] = df_out[count_cols].sum(axis=1).astype(int)\n"
     ]
    },
    {
     "name": "stdout",
     "output_type": "stream",
     "text": [
      "drome: 1417 non-unique peps across experiments; these will be removed.\n"
     ]
    },
    {
     "name": "stderr",
     "output_type": "stream",
     "text": [
      "/tmp/ipykernel_1318452/4092350069.py:33: SettingWithCopyWarning: \n",
      "A value is trying to be set on a copy of a slice from a DataFrame.\n",
      "Try using .loc[row_indexer,col_indexer] = value instead\n",
      "\n",
      "See the caveats in the documentation: https://pandas.pydata.org/pandas-docs/stable/user_guide/indexing.html#returning-a-view-versus-a-copy\n",
      "  df_out[tcol] = df_out[count_cols].sum(axis=1).astype(int)\n"
     ]
    },
    {
     "name": "stdout",
     "output_type": "stream",
     "text": [
      "human: 9298 non-unique peps across experiments; these will be removed.\n"
     ]
    },
    {
     "name": "stderr",
     "output_type": "stream",
     "text": [
      "/tmp/ipykernel_1318452/4092350069.py:33: SettingWithCopyWarning: \n",
      "A value is trying to be set on a copy of a slice from a DataFrame.\n",
      "Try using .loc[row_indexer,col_indexer] = value instead\n",
      "\n",
      "See the caveats in the documentation: https://pandas.pydata.org/pandas-docs/stable/user_guide/indexing.html#returning-a-view-versus-a-copy\n",
      "  df_out[tcol] = df_out[count_cols].sum(axis=1).astype(int)\n"
     ]
    },
    {
     "name": "stdout",
     "output_type": "stream",
     "text": [
      "mouse: 1225 non-unique peps across experiments; these will be removed.\n"
     ]
    },
    {
     "name": "stderr",
     "output_type": "stream",
     "text": [
      "/tmp/ipykernel_1318452/4092350069.py:33: SettingWithCopyWarning: \n",
      "A value is trying to be set on a copy of a slice from a DataFrame.\n",
      "Try using .loc[row_indexer,col_indexer] = value instead\n",
      "\n",
      "See the caveats in the documentation: https://pandas.pydata.org/pandas-docs/stable/user_guide/indexing.html#returning-a-view-versus-a-copy\n",
      "  df_out[tcol] = df_out[count_cols].sum(axis=1).astype(int)\n"
     ]
    },
    {
     "name": "stdout",
     "output_type": "stream",
     "text": [
      "nemve: 2458 non-unique peps across experiments; these will be removed.\n"
     ]
    },
    {
     "name": "stderr",
     "output_type": "stream",
     "text": [
      "/tmp/ipykernel_1318452/4092350069.py:33: SettingWithCopyWarning: \n",
      "A value is trying to be set on a copy of a slice from a DataFrame.\n",
      "Try using .loc[row_indexer,col_indexer] = value instead\n",
      "\n",
      "See the caveats in the documentation: https://pandas.pydata.org/pandas-docs/stable/user_guide/indexing.html#returning-a-view-versus-a-copy\n",
      "  df_out[tcol] = df_out[count_cols].sum(axis=1).astype(int)\n"
     ]
    },
    {
     "name": "stdout",
     "output_type": "stream",
     "text": [
      "pig: 0 non-unique peps across experiments; these will be removed.\n",
      "strpu: 3591 non-unique peps across experiments; these will be removed.\n"
     ]
    },
    {
     "name": "stderr",
     "output_type": "stream",
     "text": [
      "/tmp/ipykernel_1318452/4092350069.py:33: SettingWithCopyWarning: \n",
      "A value is trying to be set on a copy of a slice from a DataFrame.\n",
      "Try using .loc[row_indexer,col_indexer] = value instead\n",
      "\n",
      "See the caveats in the documentation: https://pandas.pydata.org/pandas-docs/stable/user_guide/indexing.html#returning-a-view-versus-a-copy\n",
      "  df_out[tcol] = df_out[count_cols].sum(axis=1).astype(int)\n"
     ]
    },
    {
     "name": "stdout",
     "output_type": "stream",
     "text": [
      "xenla: 3740 non-unique peps across experiments; these will be removed.\n"
     ]
    },
    {
     "name": "stderr",
     "output_type": "stream",
     "text": [
      "/tmp/ipykernel_1318452/4092350069.py:33: SettingWithCopyWarning: \n",
      "A value is trying to be set on a copy of a slice from a DataFrame.\n",
      "Try using .loc[row_indexer,col_indexer] = value instead\n",
      "\n",
      "See the caveats in the documentation: https://pandas.pydata.org/pandas-docs/stable/user_guide/indexing.html#returning-a-view-versus-a-copy\n",
      "  df_out[tcol] = df_out[count_cols].sum(axis=1).astype(int)\n"
     ]
    },
    {
     "name": "stdout",
     "output_type": "stream",
     "text": [
      "yeast: 0 non-unique peps across experiments; these will be removed.\n",
      "euggr: 0 non-unique peps across experiments; these will be removed.\n",
      "tryb2: 1591 non-unique peps across experiments; these will be removed.\n"
     ]
    },
    {
     "name": "stderr",
     "output_type": "stream",
     "text": [
      "/tmp/ipykernel_1318452/4092350069.py:33: SettingWithCopyWarning: \n",
      "A value is trying to be set on a copy of a slice from a DataFrame.\n",
      "Try using .loc[row_indexer,col_indexer] = value instead\n",
      "\n",
      "See the caveats in the documentation: https://pandas.pydata.org/pandas-docs/stable/user_guide/indexing.html#returning-a-view-versus-a-copy\n",
      "  df_out[tcol] = df_out[count_cols].sum(axis=1).astype(int)\n"
     ]
    },
    {
     "name": "stdout",
     "output_type": "stream",
     "text": [
      "phatc: 797 non-unique peps across experiments; these will be removed.\n"
     ]
    },
    {
     "name": "stderr",
     "output_type": "stream",
     "text": [
      "/tmp/ipykernel_1318452/4092350069.py:33: SettingWithCopyWarning: \n",
      "A value is trying to be set on a copy of a slice from a DataFrame.\n",
      "Try using .loc[row_indexer,col_indexer] = value instead\n",
      "\n",
      "See the caveats in the documentation: https://pandas.pydata.org/pandas-docs/stable/user_guide/indexing.html#returning-a-view-versus-a-copy\n",
      "  df_out[tcol] = df_out[count_cols].sum(axis=1).astype(int)\n"
     ]
    },
    {
     "name": "stdout",
     "output_type": "stream",
     "text": [
      "plaba: 1177 non-unique peps across experiments; these will be removed.\n"
     ]
    },
    {
     "name": "stderr",
     "output_type": "stream",
     "text": [
      "/tmp/ipykernel_1318452/4092350069.py:33: SettingWithCopyWarning: \n",
      "A value is trying to be set on a copy of a slice from a DataFrame.\n",
      "Try using .loc[row_indexer,col_indexer] = value instead\n",
      "\n",
      "See the caveats in the documentation: https://pandas.pydata.org/pandas-docs/stable/user_guide/indexing.html#returning-a-view-versus-a-copy\n",
      "  df_out[tcol] = df_out[count_cols].sum(axis=1).astype(int)\n"
     ]
    },
    {
     "name": "stdout",
     "output_type": "stream",
     "text": [
      "plaf7: 6119 non-unique peps across experiments; these will be removed.\n"
     ]
    },
    {
     "name": "stderr",
     "output_type": "stream",
     "text": [
      "/tmp/ipykernel_1318452/4092350069.py:33: SettingWithCopyWarning: \n",
      "A value is trying to be set on a copy of a slice from a DataFrame.\n",
      "Try using .loc[row_indexer,col_indexer] = value instead\n",
      "\n",
      "See the caveats in the documentation: https://pandas.pydata.org/pandas-docs/stable/user_guide/indexing.html#returning-a-view-versus-a-copy\n",
      "  df_out[tcol] = df_out[count_cols].sum(axis=1).astype(int)\n"
     ]
    },
    {
     "name": "stdout",
     "output_type": "stream",
     "text": [
      "plakh: 2745 non-unique peps across experiments; these will be removed.\n"
     ]
    },
    {
     "name": "stderr",
     "output_type": "stream",
     "text": [
      "/tmp/ipykernel_1318452/4092350069.py:33: SettingWithCopyWarning: \n",
      "A value is trying to be set on a copy of a slice from a DataFrame.\n",
      "Try using .loc[row_indexer,col_indexer] = value instead\n",
      "\n",
      "See the caveats in the documentation: https://pandas.pydata.org/pandas-docs/stable/user_guide/indexing.html#returning-a-view-versus-a-copy\n",
      "  df_out[tcol] = df_out[count_cols].sum(axis=1).astype(int)\n"
     ]
    },
    {
     "name": "stdout",
     "output_type": "stream",
     "text": [
      "tetts: 4980 non-unique peps across experiments; these will be removed.\n"
     ]
    },
    {
     "name": "stderr",
     "output_type": "stream",
     "text": [
      "/tmp/ipykernel_1318452/4092350069.py:33: SettingWithCopyWarning: \n",
      "A value is trying to be set on a copy of a slice from a DataFrame.\n",
      "Try using .loc[row_indexer,col_indexer] = value instead\n",
      "\n",
      "See the caveats in the documentation: https://pandas.pydata.org/pandas-docs/stable/user_guide/indexing.html#returning-a-view-versus-a-copy\n",
      "  df_out[tcol] = df_out[count_cols].sum(axis=1).astype(int)\n"
     ]
    },
    {
     "name": "stdout",
     "output_type": "stream",
     "text": [
      "arath: 4484 non-unique peps across experiments; these will be removed.\n"
     ]
    },
    {
     "name": "stderr",
     "output_type": "stream",
     "text": [
      "/tmp/ipykernel_1318452/4092350069.py:33: SettingWithCopyWarning: \n",
      "A value is trying to be set on a copy of a slice from a DataFrame.\n",
      "Try using .loc[row_indexer,col_indexer] = value instead\n",
      "\n",
      "See the caveats in the documentation: https://pandas.pydata.org/pandas-docs/stable/user_guide/indexing.html#returning-a-view-versus-a-copy\n",
      "  df_out[tcol] = df_out[count_cols].sum(axis=1).astype(int)\n"
     ]
    },
    {
     "name": "stdout",
     "output_type": "stream",
     "text": [
      "braol: 2666 non-unique peps across experiments; these will be removed.\n"
     ]
    },
    {
     "name": "stderr",
     "output_type": "stream",
     "text": [
      "/tmp/ipykernel_1318452/4092350069.py:33: SettingWithCopyWarning: \n",
      "A value is trying to be set on a copy of a slice from a DataFrame.\n",
      "Try using .loc[row_indexer,col_indexer] = value instead\n",
      "\n",
      "See the caveats in the documentation: https://pandas.pydata.org/pandas-docs/stable/user_guide/indexing.html#returning-a-view-versus-a-copy\n",
      "  df_out[tcol] = df_out[count_cols].sum(axis=1).astype(int)\n"
     ]
    },
    {
     "name": "stdout",
     "output_type": "stream",
     "text": [
      "cansa: 0 non-unique peps across experiments; these will be removed.\n",
      "cerri: 15772 non-unique peps across experiments; these will be removed.\n"
     ]
    },
    {
     "name": "stderr",
     "output_type": "stream",
     "text": [
      "/tmp/ipykernel_1318452/4092350069.py:33: SettingWithCopyWarning: \n",
      "A value is trying to be set on a copy of a slice from a DataFrame.\n",
      "Try using .loc[row_indexer,col_indexer] = value instead\n",
      "\n",
      "See the caveats in the documentation: https://pandas.pydata.org/pandas-docs/stable/user_guide/indexing.html#returning-a-view-versus-a-copy\n",
      "  df_out[tcol] = df_out[count_cols].sum(axis=1).astype(int)\n"
     ]
    },
    {
     "name": "stdout",
     "output_type": "stream",
     "text": [
      "cheqi: 0 non-unique peps across experiments; these will be removed.\n",
      "chlre: 2920 non-unique peps across experiments; these will be removed.\n"
     ]
    },
    {
     "name": "stderr",
     "output_type": "stream",
     "text": [
      "/tmp/ipykernel_1318452/4092350069.py:33: SettingWithCopyWarning: \n",
      "A value is trying to be set on a copy of a slice from a DataFrame.\n",
      "Try using .loc[row_indexer,col_indexer] = value instead\n",
      "\n",
      "See the caveats in the documentation: https://pandas.pydata.org/pandas-docs/stable/user_guide/indexing.html#returning-a-view-versus-a-copy\n",
      "  df_out[tcol] = df_out[count_cols].sum(axis=1).astype(int)\n"
     ]
    },
    {
     "name": "stdout",
     "output_type": "stream",
     "text": [
      "cocnu: 0 non-unique peps across experiments; these will be removed.\n",
      "maize: 0 non-unique peps across experiments; these will be removed.\n",
      "orysj: 1024 non-unique peps across experiments; these will be removed.\n"
     ]
    },
    {
     "name": "stderr",
     "output_type": "stream",
     "text": [
      "/tmp/ipykernel_1318452/4092350069.py:33: SettingWithCopyWarning: \n",
      "A value is trying to be set on a copy of a slice from a DataFrame.\n",
      "Try using .loc[row_indexer,col_indexer] = value instead\n",
      "\n",
      "See the caveats in the documentation: https://pandas.pydata.org/pandas-docs/stable/user_guide/indexing.html#returning-a-view-versus-a-copy\n",
      "  df_out[tcol] = df_out[count_cols].sum(axis=1).astype(int)\n"
     ]
    },
    {
     "name": "stdout",
     "output_type": "stream",
     "text": [
      "selml: 817 non-unique peps across experiments; these will be removed.\n"
     ]
    },
    {
     "name": "stderr",
     "output_type": "stream",
     "text": [
      "/tmp/ipykernel_1318452/4092350069.py:33: SettingWithCopyWarning: \n",
      "A value is trying to be set on a copy of a slice from a DataFrame.\n",
      "Try using .loc[row_indexer,col_indexer] = value instead\n",
      "\n",
      "See the caveats in the documentation: https://pandas.pydata.org/pandas-docs/stable/user_guide/indexing.html#returning-a-view-versus-a-copy\n",
      "  df_out[tcol] = df_out[count_cols].sum(axis=1).astype(int)\n"
     ]
    },
    {
     "name": "stdout",
     "output_type": "stream",
     "text": [
      "sollc: 0 non-unique peps across experiments; these will be removed.\n",
      "soybn: 1568 non-unique peps across experiments; these will be removed.\n"
     ]
    },
    {
     "name": "stderr",
     "output_type": "stream",
     "text": [
      "/tmp/ipykernel_1318452/4092350069.py:33: SettingWithCopyWarning: \n",
      "A value is trying to be set on a copy of a slice from a DataFrame.\n",
      "Try using .loc[row_indexer,col_indexer] = value instead\n",
      "\n",
      "See the caveats in the documentation: https://pandas.pydata.org/pandas-docs/stable/user_guide/indexing.html#returning-a-view-versus-a-copy\n",
      "  df_out[tcol] = df_out[count_cols].sum(axis=1).astype(int)\n"
     ]
    },
    {
     "name": "stdout",
     "output_type": "stream",
     "text": [
      "wheat: 1068 non-unique peps across experiments; these will be removed.\n"
     ]
    },
    {
     "name": "stderr",
     "output_type": "stream",
     "text": [
      "/tmp/ipykernel_1318452/4092350069.py:33: SettingWithCopyWarning: \n",
      "A value is trying to be set on a copy of a slice from a DataFrame.\n",
      "Try using .loc[row_indexer,col_indexer] = value instead\n",
      "\n",
      "See the caveats in the documentation: https://pandas.pydata.org/pandas-docs/stable/user_guide/indexing.html#returning-a-view-versus-a-copy\n",
      "  df_out[tcol] = df_out[count_cols].sum(axis=1).astype(int)\n"
     ]
    }
   ],
   "source": [
    "fix_list = []\n",
    "for s in species:\n",
    "    pep_assign_files = [f for f in os.listdir(data_dir) if re.match(s, f)]\n",
    "    df_list = []\n",
    "    for f in pep_assign_files:\n",
    "        df = pd.read_csv(data_dir+f, sep=',')\n",
    "        ncol = f.replace('.pep_assign', '')\n",
    "        df.columns.values[2] = ncol+'_counts'\n",
    "        df_list.append(df)\n",
    "    \n",
    "    if len(df_list) > 1:\n",
    "        final_df = reduce(lambda x, y: pd.merge(x, y, on=['peptide', 'protein'], how='outer'), df_list)\n",
    "        final_df.fillna(0, inplace=True)\n",
    "    else:\n",
    "        final_df = df\n",
    "        fix_list.append(s)\n",
    "    \n",
    "    count_cols = []\n",
    "    for c in final_df.columns:\n",
    "        if final_df[c].dtype.kind in 'iufc':\n",
    "            final_df[c] = final_df[c].astype(int)\n",
    "            count_cols.append(c)\n",
    "    \n",
    "    counts = final_df.groupby(['peptide']).size().sort_values(ascending=False)\n",
    "    bad_peps = []\n",
    "    for p in counts.items():\n",
    "        if p[1] > 1:\n",
    "            bad_peps.append(p[0])\n",
    "    print(f'{s}: {len(bad_peps)} non-unique peps across experiments; these will be removed.')\n",
    "    df_out = final_df[final_df['peptide'].apply(lambda x: x not in bad_peps)]\n",
    "    \n",
    "    tcol = s+'_total'\n",
    "    df_out[tcol] = df_out[count_cols].sum(axis=1).astype(int)\n",
    "    \n",
    "    # if len(count_cols) > 1:\n",
    "    #     df_out[tcol] = df_out[count_cols].sum(axis=1).astype(int)\n",
    "    # else:\n",
    "    #     df_out[tcol] = df[count_cols[0]]\n",
    "    \n",
    "    outfile = outdir+s+'_pep_assign_totals.csv'\n",
    "    df_out.to_csv(outfile, index=False)"
   ]
  },
  {
   "cell_type": "code",
   "execution_count": 13,
   "id": "6bd202c9-30e4-47b4-a34a-17a2571c2b1d",
   "metadata": {},
   "outputs": [
    {
     "data": {
      "text/plain": [
       "['brart', 'pig', 'yeast', 'euggr', 'cansa', 'cheqi', 'cocnu', 'maize', 'sollc']"
      ]
     },
     "execution_count": 13,
     "metadata": {},
     "output_type": "execute_result"
    }
   ],
   "source": [
    "fix_list"
   ]
  }
 ],
 "metadata": {
  "kernelspec": {
   "display_name": "Python 3 (ipykernel)",
   "language": "python",
   "name": "python3"
  },
  "language_info": {
   "codemirror_mode": {
    "name": "ipython",
    "version": 3
   },
   "file_extension": ".py",
   "mimetype": "text/x-python",
   "name": "python",
   "nbconvert_exporter": "python",
   "pygments_lexer": "ipython3",
   "version": "3.10.6"
  }
 },
 "nbformat": 4,
 "nbformat_minor": 5
}
