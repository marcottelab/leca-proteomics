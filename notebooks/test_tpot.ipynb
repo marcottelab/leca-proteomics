{
 "cells": [
  {
   "cell_type": "code",
   "execution_count": 1,
   "id": "65e00d94-b5a5-4121-b4ec-f8511434a481",
   "metadata": {},
   "outputs": [],
   "source": [
    "from tpot import TPOTClassifier\n",
    "import numpy as np\n",
    "from sklearn.model_selection import GroupShuffleSplit"
   ]
  },
  {
   "cell_type": "code",
   "execution_count": null,
   "id": "a1ace847-5ede-4621-83f4-f82ba929941a",
   "metadata": {},
   "outputs": [],
   "source": [
    "fmat_file = '../ppi_ml/data/featmats/featmat_final_labeled.pkl'"
   ]
  },
  {
   "cell_type": "code",
   "execution_count": null,
   "id": "f4aaa3fe-7662-439d-829e-95ad73a01fde",
   "metadata": {},
   "outputs": [],
   "source": [
    "pipeline_optimizer = TPOTClassifier()"
   ]
  },
  {
   "cell_type": "code",
   "execution_count": null,
   "id": "8df5b284-6219-4c4b-83fc-e3064021beee",
   "metadata": {},
   "outputs": [],
   "source": [
    "pipeline_optimizer = TPOTClassifier(generations=5, population_size=20, cv=5,\n",
    "                                    random_state=42, verbosity=2)"
   ]
  },
  {
   "cell_type": "markdown",
   "id": "76b6453b-fe65-4494-9072-16584053af81",
   "metadata": {},
   "source": [
    "`X_train` = array of training data, `y_train` = labels, `group` = protein cmplx group"
   ]
  },
  {
   "cell_type": "code",
   "execution_count": null,
   "id": "3f50505b-eeca-41b2-a474-c28bf140c0aa",
   "metadata": {},
   "outputs": [],
   "source": [
    "gss = GroupShuffleSplit(n_splits=2, train_size=.7, random_state=13)\n",
    "gss.get_n_splits()"
   ]
  },
  {
   "cell_type": "code",
   "execution_count": null,
   "id": "baf431d5-f9a5-4695-b801-9c7a65083c50",
   "metadata": {},
   "outputs": [],
   "source": [
    "for i, (train_index, test_index) in enumerate(gss.split(X, y, groups)):\n",
    "    print(f\"Fold {i}:\")\n",
    "    print(f\"  Train: index={train_index}, group={groups[train_index]}\")\n",
    "    print(f\"  Test:  index={test_index}, group={groups[test_index]}\")"
   ]
  },
  {
   "cell_type": "code",
   "execution_count": null,
   "id": "e8526586-e1d1-450d-8cac-278a8c1357a8",
   "metadata": {},
   "outputs": [],
   "source": [
    "pipeline_optimizer.fit(X_train, y_train)"
   ]
  }
 ],
 "metadata": {
  "kernelspec": {
   "display_name": "Python 3 (ipykernel)",
   "language": "python",
   "name": "python3"
  },
  "language_info": {
   "codemirror_mode": {
    "name": "ipython",
    "version": 3
   },
   "file_extension": ".py",
   "mimetype": "text/x-python",
   "name": "python",
   "nbconvert_exporter": "python",
   "pygments_lexer": "ipython3",
   "version": "3.10.6"
  }
 },
 "nbformat": 4,
 "nbformat_minor": 5
}
