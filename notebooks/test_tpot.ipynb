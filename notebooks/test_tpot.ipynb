{
 "cells": [
  {
   "cell_type": "code",
   "execution_count": 2,
   "id": "65e00d94-b5a5-4121-b4ec-f8511434a481",
   "metadata": {},
   "outputs": [],
   "source": [
    "import pickle\n",
    "import numpy as np\n",
    "import datetime as dt\n",
    "import pandas as pd\n",
    "from tpot import TPOTClassifier\n",
    "from sklearn.ensemble import ExtraTreesClassifier\n",
    "from sklearn.model_selection import GroupShuffleSplit\n",
    "from sklearn.model_selection import GroupKFold"
   ]
  },
  {
   "cell_type": "markdown",
   "id": "76b6453b-fe65-4494-9072-16584053af81",
   "metadata": {},
   "source": [
    "`X_train` = array of training data, `y_train` = labels, `group` = protein cmplx group"
   ]
  },
  {
   "cell_type": "code",
   "execution_count": 3,
   "id": "9199835b-394b-4abf-b8d2-36d44f01cb72",
   "metadata": {},
   "outputs": [
    {
     "data": {
      "text/plain": [
       "'../ppi_ml/tpot/tpot_pipeline_2023-03-08'"
      ]
     },
     "execution_count": 3,
     "metadata": {},
     "output_type": "execute_result"
    }
   ],
   "source": [
    "tpot_dir = '../ppi_ml/tpot/'\n",
    "timestamp = dt.datetime.now().strftime('%Y-%m-%d')\n",
    "outfile = tpot_dir+'tpot_pipeline_'+timestamp\n",
    "outfile"
   ]
  },
  {
   "cell_type": "code",
   "execution_count": 4,
   "id": "28bbdbf5-93e3-41a1-8ddb-c0f1dc53a3bd",
   "metadata": {},
   "outputs": [],
   "source": [
    "fmatfile = '../ppi_ml/data/featmats/featmat_labeled_traintest.pkl'\n",
    "with open(fmatfile, 'rb') as handle:\n",
    "    fmat = pickle.load(handle)"
   ]
  },
  {
   "cell_type": "code",
   "execution_count": 5,
   "id": "9e1bc642-5901-4c91-b450-a942910d92c3",
   "metadata": {},
   "outputs": [],
   "source": [
    "label_cols = ['ID', 'label', 'super_group']\n",
    "data_cols = [c for c in fmat.columns.values.tolist() if c not in label_cols]"
   ]
  },
  {
   "cell_type": "code",
   "execution_count": 6,
   "id": "ae6aaacd-f060-4624-90fe-894300821bbe",
   "metadata": {},
   "outputs": [
    {
     "data": {
      "text/plain": [
       "0        ENOG502QR6E ENOG502QPKB\n",
       "1            KOG0217 ENOG502QPKB\n",
       "2            ENOG502QPKB KOG0263\n",
       "3            KOG2440 ENOG502QPKB\n",
       "4            KOG3005 ENOG502QPKB\n",
       "                  ...           \n",
       "26511            KOG1894 KOG1597\n",
       "26512            KOG1894 KOG1969\n",
       "26513            KOG1894 KOG2691\n",
       "26514            KOG1894 KOG3400\n",
       "26515            KOG1894 KOG3342\n",
       "Name: ID, Length: 26516, dtype: object"
      ]
     },
     "execution_count": 6,
     "metadata": {},
     "output_type": "execute_result"
    }
   ],
   "source": [
    "fmat[label_cols[0]]"
   ]
  },
  {
   "cell_type": "code",
   "execution_count": 7,
   "id": "c2a4ce48-de11-4db6-a716-c6b3decf9c6d",
   "metadata": {},
   "outputs": [],
   "source": [
    "X = fmat[data_cols].to_numpy()\n",
    "y = fmat[label_cols[1]].to_numpy()\n",
    "groups = fmat[label_cols[2]].to_numpy()"
   ]
  },
  {
   "cell_type": "code",
   "execution_count": 8,
   "id": "22c10935-e0e0-40b6-b400-48dc213c4b71",
   "metadata": {},
   "outputs": [
    {
     "name": "stdout",
     "output_type": "stream",
     "text": [
      "Fold 0:\n",
      "\tTrain: index=[    1     2     3 ... 26513 26514 26515], group=[  1   1  47 ...   1   1 494]\n",
      "\tTest:  index=[    0     6     8 ... 26498 26500 26502], group=[ 511   17   56 ... 1132    7   56]\n",
      "\t # train PPIs = 19176\n",
      "\t # test PPIs = 7340\n",
      "Fold 1:\n",
      "\tTrain: index=[    0     1     2 ... 26513 26514 26515], group=[511   1   1 ...   1   1 494]\n",
      "\tTest:  index=[    3     6     8 ... 26506 26509 26510], group=[47 17 56 ... 63 10 55]\n",
      "\t # train PPIs = 18011\n",
      "\t # test PPIs = 8505\n",
      "Fold 2:\n",
      "\tTrain: index=[    1     2     4 ... 26513 26514 26515], group=[  1   1   1 ...   1   1 494]\n",
      "\tTest:  index=[    0     3     8 ... 26506 26509 26510], group=[511  47  56 ...  63  10  55]\n",
      "\t # train PPIs = 18649\n",
      "\t # test PPIs = 7867\n"
     ]
    }
   ],
   "source": [
    "gss = GroupShuffleSplit(n_splits=3, train_size=0.7, random_state=13)\n",
    "gss.get_n_splits()\n",
    "for i, (test_index, train_index) in enumerate(gss.split(X, y, groups)):\n",
    "    print(f\"Fold {i}:\")\n",
    "    print(f\"\\tTrain: index={train_index}, group={groups[train_index]}\")\n",
    "    print(f\"\\tTest:  index={test_index}, group={groups[test_index]}\")\n",
    "    print(f\"\\t # train PPIs = {len(X[train_index])}\")\n",
    "    print(f\"\\t # test PPIs = {len(X[test_index])}\")"
   ]
  },
  {
   "cell_type": "code",
   "execution_count": 9,
   "id": "58135a72-4481-4544-a8a3-70f22446a32f",
   "metadata": {},
   "outputs": [
    {
     "data": {
      "text/plain": [
       "<generator object BaseShuffleSplit.split at 0x7f05d8132a40>"
      ]
     },
     "execution_count": 9,
     "metadata": {},
     "output_type": "execute_result"
    }
   ],
   "source": [
    "idx = gss.split(X, y, groups)\n",
    "idx"
   ]
  },
  {
   "cell_type": "code",
   "execution_count": 10,
   "id": "733e1bcd-c429-4ab1-92b1-630450d1e04f",
   "metadata": {},
   "outputs": [
    {
     "name": "stdout",
     "output_type": "stream",
     "text": [
      "# train PPIs = 18649\n",
      " --> +/- label balance: {-1: 14065, 1: 4584}\n",
      "# test PPIs = 7867\n",
      " --> +/- label balance: {-1: 5822, 1: 2045}\n"
     ]
    }
   ],
   "source": [
    "for test_idx, train_idx in gss.split(X, y, groups):\n",
    "    X_train = X[train_idx]\n",
    "    y_train = y[train_idx]\n",
    "    X_test = X[test_idx]\n",
    "    y_test = y[test_idx]\n",
    "\n",
    "# check split & label balance\n",
    "label, counts = np.unique(y_train, return_counts=True)\n",
    "label_counts_train = dict(zip(label, counts))\n",
    "label, counts = np.unique(y_test, return_counts=True)\n",
    "label_counts_test = dict(zip(label, counts))\n",
    "print(f'# train PPIs = {len(X_train)}')\n",
    "print(f' --> +/- label balance: {label_counts_train}')\n",
    "print(f'# test PPIs = {len(X_test)}')\n",
    "print(f' --> +/- label balance: {label_counts_test}')"
   ]
  },
  {
   "cell_type": "markdown",
   "id": "88aea8e1-6d40-4c11-b372-abe3035ac554",
   "metadata": {
    "tags": []
   },
   "source": [
    "# Running TPOT"
   ]
  },
  {
   "cell_type": "code",
   "execution_count": 11,
   "id": "f4aaa3fe-7662-439d-829e-95ad73a01fde",
   "metadata": {
    "tags": []
   },
   "outputs": [],
   "source": [
    "pipeline_opt = TPOTClassifier()\n",
    "pipeline_opt = TPOTClassifier(generations=1, population_size=1, cv=5,\n",
    "                                    random_state=13, verbosity=2)"
   ]
  },
  {
   "cell_type": "code",
   "execution_count": 12,
   "id": "21da119d-6a84-4dcb-b023-b7a02a712de0",
   "metadata": {},
   "outputs": [
    {
     "data": {
      "application/vnd.jupyter.widget-view+json": {
       "model_id": "",
       "version_major": 2,
       "version_minor": 0
      },
      "text/plain": [
       "Optimization Progress:   0%|          | 0/2 [00:00<?, ?pipeline/s]"
      ]
     },
     "metadata": {},
     "output_type": "display_data"
    },
    {
     "name": "stdout",
     "output_type": "stream",
     "text": [
      "\n",
      "Generation 1 - Current best internal CV score: 0.876670455534011\n",
      "\n",
      "Best pipeline: ExtraTreesClassifier(input_matrix, bootstrap=True, criterion=gini, max_features=0.35000000000000003, min_samples_leaf=3, min_samples_split=14, n_estimators=100)\n",
      "0.8929706368374222\n"
     ]
    },
    {
     "name": "stderr",
     "output_type": "stream",
     "text": [
      "/stor/home/rmcox/miniconda3/envs/dev/lib/python3.10/site-packages/sklearn/metrics/_scorer.py:794: FutureWarning: sklearn.metrics.SCORERS is deprecated and will be removed in v1.3. Please use sklearn.metrics.get_scorer_names to get a list of available scorers and sklearn.metrics.get_metric to get scorer.\n",
      "  warnings.warn(\n"
     ]
    }
   ],
   "source": [
    "pipeline_opt.fit(X_train, y_train) \n",
    "print(pipeline_opt.score(X_test, y_test))"
   ]
  },
  {
   "cell_type": "code",
   "execution_count": 31,
   "id": "0de4ff9e-951a-4ae6-b935-3c16ea0d913f",
   "metadata": {},
   "outputs": [],
   "source": [
    "import pickle\n",
    "clf = pipeline_opt.fitted_pipeline_\n",
    "with open('/stor/work/Marcotte/project/rmcox/leca/ppi_ml/results/tpot/tpot_model_test.pkl', 'wb') as f:\n",
    "    pickle.dump(clf,f)"
   ]
  },
  {
   "cell_type": "code",
   "execution_count": 12,
   "id": "969255df-7f09-4dec-9e7e-233a4b819eb9",
   "metadata": {
    "collapsed": true,
    "jupyter": {
     "outputs_hidden": true,
     "source_hidden": true
    },
    "tags": []
   },
   "outputs": [
    {
     "data": {
      "application/vnd.jupyter.widget-view+json": {
       "model_id": "d36f12bb80114f66b5498b268caf66a4",
       "version_major": 2,
       "version_minor": 0
      },
      "text/plain": [
       "Optimization Progress:   0%|          | 0/220 [00:00<?, ?pipeline/s]"
      ]
     },
     "metadata": {},
     "output_type": "display_data"
    },
    {
     "name": "stdout",
     "output_type": "stream",
     "text": [
      "\n",
      "\n",
      "TPOT closed during evaluation in one generation.\n",
      "WARNING: TPOT may not provide a good pipeline if TPOT is stopped/interrupted in a early generation.\n",
      "\n",
      "\n",
      "TPOT closed prematurely. Will use the current best pipeline.\n",
      "\n",
      "Best pipeline: ExtraTreesClassifier(input_matrix, bootstrap=True, criterion=gini, max_features=0.35000000000000003, min_samples_leaf=3, min_samples_split=14, n_estimators=100)\n"
     ]
    },
    {
     "ename": "NameError",
     "evalue": "name 'X_test' is not defined",
     "output_type": "error",
     "traceback": [
      "\u001b[0;31m---------------------------------------------------------------------------\u001b[0m",
      "\u001b[0;31mNameError\u001b[0m                                 Traceback (most recent call last)",
      "Cell \u001b[0;32mIn [12], line 2\u001b[0m\n\u001b[1;32m      1\u001b[0m pipeline_opt\u001b[38;5;241m.\u001b[39mfit(X_train, y_train)\n\u001b[0;32m----> 2\u001b[0m \u001b[38;5;28mprint\u001b[39m(pipeline_opt\u001b[38;5;241m.\u001b[39mscore(\u001b[43mX_test\u001b[49m, y_test))\n\u001b[1;32m      3\u001b[0m pipeline_opt\u001b[38;5;241m.\u001b[39mexport(outfile)\n",
      "\u001b[0;31mNameError\u001b[0m: name 'X_test' is not defined"
     ]
    }
   ],
   "source": [
    "pipeline_opt.fit(X_train, y_train)\n",
    "print(pipeline_opt.score(X_test, y_test))\n",
    "pipeline_opt.export(outfile)"
   ]
  },
  {
   "cell_type": "markdown",
   "id": "de1fe122-21b8-455e-aceb-50bb5b1ecac4",
   "metadata": {},
   "source": [
    "# Running optimized model"
   ]
  },
  {
   "cell_type": "code",
   "execution_count": 78,
   "id": "55a6d0a9-b056-4b67-99d2-9e558d44b404",
   "metadata": {},
   "outputs": [],
   "source": [
    "# clf = ExtraTreesClassifier(bootstrap=True, \n",
    "#                            criterion=\"gini\", \n",
    "#                            max_features=0.7,\n",
    "#                            min_samples_leaf=3, \n",
    "#                            min_samples_split=14, \n",
    "#                            n_estimators=100,\n",
    "#                            n_jobs=8,\n",
    "#                            random_state=13)"
   ]
  },
  {
   "cell_type": "code",
   "execution_count": 33,
   "id": "9354f0eb-f112-4e64-be30-f18d714a787d",
   "metadata": {},
   "outputs": [],
   "source": [
    "with open('/stor/work/Marcotte/project/rmcox/leca/ppi_ml/results/tpot/tpot_model_test.pkl', 'rb') as f:\n",
    "    clf = pickle.load(f)"
   ]
  },
  {
   "cell_type": "code",
   "execution_count": 34,
   "id": "2acda1e4-a3c4-4dcc-80da-5e7d6990eedd",
   "metadata": {
    "tags": []
   },
   "outputs": [
    {
     "data": {
      "text/plain": [
       "array([-1, -1, -1, ..., -1, -1, -1])"
      ]
     },
     "execution_count": 34,
     "metadata": {},
     "output_type": "execute_result"
    }
   ],
   "source": [
    "clf.fit(X_train, y_train)\n",
    "clf.predict(X_test)"
   ]
  },
  {
   "cell_type": "code",
   "execution_count": 35,
   "id": "72364a59-640f-427e-b890-3ae09d533fa4",
   "metadata": {},
   "outputs": [
    {
     "data": {
      "text/plain": [
       "<sklearn.metrics._plot.precision_recall_curve.PrecisionRecallDisplay at 0x7f05c1b32440>"
      ]
     },
     "execution_count": 35,
     "metadata": {},
     "output_type": "execute_result"
    },
    {
     "data": {
      "image/png": "[encoded data removed]",
      "text/plain": [
       "<Figure size 640x480 with 1 Axes>"
      ]
     },
     "metadata": {},
     "output_type": "display_data"
    }
   ],
   "source": [
    "from sklearn.metrics import PrecisionRecallDisplay\n",
    "PrecisionRecallDisplay.from_estimator(clf, X_test, y_test)"
   ]
  },
  {
   "cell_type": "code",
   "execution_count": 83,
   "id": "c1e5c5e2-bac7-421d-b96f-3a99421546c9",
   "metadata": {
    "collapsed": true,
    "jupyter": {
     "outputs_hidden": true
    },
    "tags": []
   },
   "outputs": [
    {
     "data": {
      "text/plain": [
       "array([[0.77590254, 0.22409746],\n",
       "       [0.9514414 , 0.0485586 ],\n",
       "       [0.97514164, 0.02485836],\n",
       "       ...,\n",
       "       [0.39176456, 0.60823544],\n",
       "       [0.78733025, 0.21266975],\n",
       "       [0.89556254, 0.10443746]])"
      ]
     },
     "execution_count": 83,
     "metadata": {},
     "output_type": "execute_result"
    }
   ],
   "source": [
    "y_score = clf.predict_proba(X_test)\n",
    "y_score"
   ]
  },
  {
   "cell_type": "code",
   "execution_count": 84,
   "id": "10b57b71-16f1-42e2-8a4d-5f9316d555ec",
   "metadata": {
    "tags": []
   },
   "outputs": [],
   "source": [
    "prob = np.split(y_score, 2, axis=1)"
   ]
  },
  {
   "cell_type": "code",
   "execution_count": 85,
   "id": "8c10975a-9b00-4be1-840a-5a2d57b6828a",
   "metadata": {
    "tags": []
   },
   "outputs": [],
   "source": [
    "neg_prob = prob[0]\n",
    "pos_prob = prob[1]"
   ]
  },
  {
   "cell_type": "code",
   "execution_count": 89,
   "id": "802f7974-7c1a-407f-b972-5831989fd078",
   "metadata": {
    "collapsed": true,
    "jupyter": {
     "outputs_hidden": true
    },
    "tags": []
   },
   "outputs": [
    {
     "data": {
      "text/plain": [
       "0        ENOG502QR6E ENOG502QPKB\n",
       "2            KOG0803 ENOG502QPKB\n",
       "4            KOG2937 ENOG502QPKB\n",
       "10           ENOG502QPKK KOG1255\n",
       "18           ENOG502QPKK KOG2054\n",
       "                  ...           \n",
       "25221        ENOG502QVHA KOG3432\n",
       "25227            KOG0588 KOG1804\n",
       "25229            KOG3593 KOG1746\n",
       "25230        KOG0729 ENOG502QTQ3\n",
       "25232        ENOG502QR7Y KOG0791\n",
       "Name: ID, Length: 7477, dtype: object"
      ]
     },
     "execution_count": 89,
     "metadata": {},
     "output_type": "execute_result"
    }
   ],
   "source": [
    "ids = fmat[label_cols[0]][test_index]\n",
    "ids"
   ]
  },
  {
   "cell_type": "code",
   "execution_count": 90,
   "id": "e7696c5c-7759-4690-9817-90fedba4a9c0",
   "metadata": {
    "tags": []
   },
   "outputs": [],
   "source": [
    "df = pd.DataFrame()\n",
    "df['ID'] = ids\n",
    "df['label'] = y_test\n",
    "df['ppi_score'] = pos_prob\n",
    "df.sort_values('ppi_score', inplace=True, ascending=False)\n",
    "df.reset_index(inplace=True, drop=True)"
   ]
  },
  {
   "cell_type": "code",
   "execution_count": 95,
   "id": "1a531306-8ce7-4232-8c32-46a881d24e46",
   "metadata": {
    "collapsed": true,
    "jupyter": {
     "outputs_hidden": true
    },
    "tags": []
   },
   "outputs": [
    {
     "name": "stdout",
     "output_type": "stream",
     "text": [
      "Computing precision/recall ...\n"
     ]
    }
   ],
   "source": [
    "print(f\"Computing precision/recall ...\")\n",
    "tp_count = 0\n",
    "fp_count = 0\n",
    "p_list = []\n",
    "r_list = []\n",
    "f_list = []\n",
    "all_pos = len(df[df['label'] == 1])\n",
    "\n",
    "for i in range(len(df)):\n",
    "\n",
    "    if df['label'][i] == 1:\n",
    "        tp_count += 1\n",
    "    else:\n",
    "        fp_count += 1\n",
    "\n",
    "    tps = tp_count\n",
    "    fps = fp_count\n",
    "    fns = all_pos - tps\n",
    "\n",
    "    precision = tps/(tps+fps)\n",
    "    recall = tps/(tps+fns)\n",
    "    fdr = 1 - precision\n",
    "\n",
    "    p_list.append(float(precision))\n",
    "    r_list.append(float(recall))\n",
    "    f_list.append(float(fdr))"
   ]
  },
  {
   "cell_type": "code",
   "execution_count": 99,
   "id": "7bccfb23-c576-4818-867b-ac5894d7eb18",
   "metadata": {
    "collapsed": true,
    "jupyter": {
     "outputs_hidden": true
    },
    "tags": []
   },
   "outputs": [
    {
     "data": {
      "text/html": [
       "<div>\n",
       "<style scoped>\n",
       "    .dataframe tbody tr th:only-of-type {\n",
       "        vertical-align: middle;\n",
       "    }\n",
       "\n",
       "    .dataframe tbody tr th {\n",
       "        vertical-align: top;\n",
       "    }\n",
       "\n",
       "    .dataframe thead th {\n",
       "        text-align: right;\n",
       "    }\n",
       "</style>\n",
       "<table border=\"1\" class=\"dataframe\">\n",
       "  <thead>\n",
       "    <tr style=\"text-align: right;\">\n",
       "      <th></th>\n",
       "      <th>ID</th>\n",
       "      <th>label</th>\n",
       "      <th>ppi_score</th>\n",
       "      <th>precision</th>\n",
       "      <th>recall</th>\n",
       "      <th>fdr</th>\n",
       "    </tr>\n",
       "  </thead>\n",
       "  <tbody>\n",
       "    <tr>\n",
       "      <th>0</th>\n",
       "      <td>KOG3409 KOG1068</td>\n",
       "      <td>1</td>\n",
       "      <td>0.996235</td>\n",
       "      <td>1.000000</td>\n",
       "      <td>0.000489</td>\n",
       "      <td>0.000000</td>\n",
       "    </tr>\n",
       "    <tr>\n",
       "      <th>1</th>\n",
       "      <td>KOG3250 KOG2582</td>\n",
       "      <td>1</td>\n",
       "      <td>0.995565</td>\n",
       "      <td>1.000000</td>\n",
       "      <td>0.000978</td>\n",
       "      <td>0.000000</td>\n",
       "    </tr>\n",
       "    <tr>\n",
       "      <th>2</th>\n",
       "      <td>KOG2206 KOG1612</td>\n",
       "      <td>1</td>\n",
       "      <td>0.994682</td>\n",
       "      <td>1.000000</td>\n",
       "      <td>0.001467</td>\n",
       "      <td>0.000000</td>\n",
       "    </tr>\n",
       "    <tr>\n",
       "      <th>3</th>\n",
       "      <td>KOG1068 KOG1004</td>\n",
       "      <td>1</td>\n",
       "      <td>0.993239</td>\n",
       "      <td>1.000000</td>\n",
       "      <td>0.001956</td>\n",
       "      <td>0.000000</td>\n",
       "    </tr>\n",
       "    <tr>\n",
       "      <th>4</th>\n",
       "      <td>KOG3409 KOG3013</td>\n",
       "      <td>1</td>\n",
       "      <td>0.993235</td>\n",
       "      <td>1.000000</td>\n",
       "      <td>0.002445</td>\n",
       "      <td>0.000000</td>\n",
       "    </tr>\n",
       "    <tr>\n",
       "      <th>...</th>\n",
       "      <td>...</td>\n",
       "      <td>...</td>\n",
       "      <td>...</td>\n",
       "      <td>...</td>\n",
       "      <td>...</td>\n",
       "      <td>...</td>\n",
       "    </tr>\n",
       "    <tr>\n",
       "      <th>7472</th>\n",
       "      <td>KOG4664 KOG2396</td>\n",
       "      <td>-1</td>\n",
       "      <td>0.000000</td>\n",
       "      <td>0.273652</td>\n",
       "      <td>1.000000</td>\n",
       "      <td>0.726348</td>\n",
       "    </tr>\n",
       "    <tr>\n",
       "      <th>7473</th>\n",
       "      <td>KOG4832 KOG3289</td>\n",
       "      <td>-1</td>\n",
       "      <td>0.000000</td>\n",
       "      <td>0.273615</td>\n",
       "      <td>1.000000</td>\n",
       "      <td>0.726385</td>\n",
       "    </tr>\n",
       "    <tr>\n",
       "      <th>7474</th>\n",
       "      <td>KOG0428 KOG0478</td>\n",
       "      <td>-1</td>\n",
       "      <td>0.000000</td>\n",
       "      <td>0.273579</td>\n",
       "      <td>1.000000</td>\n",
       "      <td>0.726421</td>\n",
       "    </tr>\n",
       "    <tr>\n",
       "      <th>7475</th>\n",
       "      <td>KOG0934 KOG2736</td>\n",
       "      <td>-1</td>\n",
       "      <td>0.000000</td>\n",
       "      <td>0.273542</td>\n",
       "      <td>1.000000</td>\n",
       "      <td>0.726458</td>\n",
       "    </tr>\n",
       "    <tr>\n",
       "      <th>7476</th>\n",
       "      <td>ENOG502QPWU KOG2040</td>\n",
       "      <td>-1</td>\n",
       "      <td>0.000000</td>\n",
       "      <td>0.273505</td>\n",
       "      <td>1.000000</td>\n",
       "      <td>0.726495</td>\n",
       "    </tr>\n",
       "  </tbody>\n",
       "</table>\n",
       "<p>7477 rows × 6 columns</p>\n",
       "</div>"
      ],
      "text/plain": [
       "                       ID  label  ppi_score  precision    recall       fdr\n",
       "0         KOG3409 KOG1068      1   0.996235   1.000000  0.000489  0.000000\n",
       "1         KOG3250 KOG2582      1   0.995565   1.000000  0.000978  0.000000\n",
       "2         KOG2206 KOG1612      1   0.994682   1.000000  0.001467  0.000000\n",
       "3         KOG1068 KOG1004      1   0.993239   1.000000  0.001956  0.000000\n",
       "4         KOG3409 KOG3013      1   0.993235   1.000000  0.002445  0.000000\n",
       "...                   ...    ...        ...        ...       ...       ...\n",
       "7472      KOG4664 KOG2396     -1   0.000000   0.273652  1.000000  0.726348\n",
       "7473      KOG4832 KOG3289     -1   0.000000   0.273615  1.000000  0.726385\n",
       "7474      KOG0428 KOG0478     -1   0.000000   0.273579  1.000000  0.726421\n",
       "7475      KOG0934 KOG2736     -1   0.000000   0.273542  1.000000  0.726458\n",
       "7476  ENOG502QPWU KOG2040     -1   0.000000   0.273505  1.000000  0.726495\n",
       "\n",
       "[7477 rows x 6 columns]"
      ]
     },
     "execution_count": 99,
     "metadata": {},
     "output_type": "execute_result"
    }
   ],
   "source": [
    "df['precision'] = p_list\n",
    "df['recall'] = r_list\n",
    "df['fdr'] = f_list\n",
    "df"
   ]
  },
  {
   "cell_type": "code",
   "execution_count": 112,
   "id": "4a10c207-cbda-45f8-9285-7783e7fc0eb4",
   "metadata": {},
   "outputs": [],
   "source": [
    "thres_df = df[df['fdr'] <= 0.15]\n",
    "cutoff = min(thres_df['ppi_score'])"
   ]
  },
  {
   "cell_type": "code",
   "execution_count": 101,
   "id": "a500352e-e039-4504-9510-89ce0d9454df",
   "metadata": {},
   "outputs": [
    {
     "data": {
      "text/plain": [
       "<AxesSubplot: xlabel='recall', ylabel='precision'>"
      ]
     },
     "execution_count": 101,
     "metadata": {},
     "output_type": "execute_result"
    },
    {
     "data": {
      "image/png": "[encoded data removed]",
      "text/plain": [
       "<Figure size 640x480 with 1 Axes>"
      ]
     },
     "metadata": {},
     "output_type": "display_data"
    }
   ],
   "source": [
    "import seaborn as sns\n",
    "sns.lineplot(data=df, x=\"recall\", y=\"precision\")"
   ]
  },
  {
   "cell_type": "code",
   "execution_count": 104,
   "id": "a51ca35a-b036-4b3d-9a1a-2ff28ca2f541",
   "metadata": {},
   "outputs": [],
   "source": [
    "full_fmatfile = '../ppi_ml/data/featmats/featmat_labeled.pkl'\n",
    "with open(full_fmatfile, 'rb') as handle:\n",
    "    full_fmat = pickle.load(handle)"
   ]
  },
  {
   "cell_type": "code",
   "execution_count": 106,
   "id": "dbb21bb1-6ef1-4e81-b765-5e3bee8d9983",
   "metadata": {},
   "outputs": [],
   "source": [
    "fmat_pred = full_fmat[full_fmat['label'] == 0]"
   ]
  },
  {
   "cell_type": "code",
   "execution_count": 122,
   "id": "b4d7646d-8e5e-43be-8405-3b2f9fdb3b72",
   "metadata": {},
   "outputs": [
    {
     "data": {
      "text/plain": [
       "0          ENOG502QPIC ENOG502QR7H\n",
       "1              KOG0253 ENOG502QPIC\n",
       "2              KOG0734 ENOG502QPIC\n",
       "3              ENOG502QPIC KOG0739\n",
       "4              KOG0935 ENOG502QPIC\n",
       "                    ...           \n",
       "4491713        ENOG502RYI9 KOG3271\n",
       "4491714        ENOG502RYI9 KOG3274\n",
       "4491715        ENOG502RYI9 KOG3394\n",
       "4491716        ENOG502RYI9 KOG3855\n",
       "4491717            KOG3873 KOG4679\n",
       "Name: ID, Length: 4466477, dtype: object"
      ]
     },
     "execution_count": 122,
     "metadata": {},
     "output_type": "execute_result"
    }
   ],
   "source": [
    "ids_pred = fmat_pred[label_cols[0]]\n",
    "ids_pred"
   ]
  },
  {
   "cell_type": "code",
   "execution_count": 108,
   "id": "5b2ec46e-d54f-487a-a190-dccd54507b29",
   "metadata": {},
   "outputs": [],
   "source": [
    "X_pred = fmat_pred[data_cols].to_numpy()"
   ]
  },
  {
   "cell_type": "code",
   "execution_count": 109,
   "id": "9c3d3e39-a98c-4775-9925-a48d8276d0bf",
   "metadata": {},
   "outputs": [],
   "source": [
    "y_score_pred = clf.predict_proba(X_pred)"
   ]
  },
  {
   "cell_type": "code",
   "execution_count": 116,
   "id": "f9a9e83a-6de5-4e20-9ae8-444c76a7dff8",
   "metadata": {},
   "outputs": [
    {
     "data": {
      "text/plain": [
       "array([[0.01082579],\n",
       "       [0.01477855],\n",
       "       [0.06182741],\n",
       "       ...,\n",
       "       [0.1068567 ],\n",
       "       [0.11705963],\n",
       "       [0.09565432]])"
      ]
     },
     "execution_count": 116,
     "metadata": {},
     "output_type": "execute_result"
    }
   ],
   "source": [
    "prob_pred = np.split(y_score_pred, 2, axis=1)\n",
    "prob_pos_pred = prob_pred[1]\n",
    "prob_pos_pred"
   ]
  },
  {
   "cell_type": "code",
   "execution_count": 123,
   "id": "3fa431f2-dce2-4abf-9946-4bce23021b8d",
   "metadata": {},
   "outputs": [
    {
     "data": {
      "text/html": [
       "<div>\n",
       "<style scoped>\n",
       "    .dataframe tbody tr th:only-of-type {\n",
       "        vertical-align: middle;\n",
       "    }\n",
       "\n",
       "    .dataframe tbody tr th {\n",
       "        vertical-align: top;\n",
       "    }\n",
       "\n",
       "    .dataframe thead th {\n",
       "        text-align: right;\n",
       "    }\n",
       "</style>\n",
       "<table border=\"1\" class=\"dataframe\">\n",
       "  <thead>\n",
       "    <tr style=\"text-align: right;\">\n",
       "      <th></th>\n",
       "      <th>ID</th>\n",
       "      <th>ppi_score</th>\n",
       "    </tr>\n",
       "  </thead>\n",
       "  <tbody>\n",
       "    <tr>\n",
       "      <th>0</th>\n",
       "      <td>ENOG502QPIC ENOG502QR7H</td>\n",
       "      <td>0.010826</td>\n",
       "    </tr>\n",
       "    <tr>\n",
       "      <th>1</th>\n",
       "      <td>KOG0253 ENOG502QPIC</td>\n",
       "      <td>0.014779</td>\n",
       "    </tr>\n",
       "    <tr>\n",
       "      <th>2</th>\n",
       "      <td>KOG0734 ENOG502QPIC</td>\n",
       "      <td>0.061827</td>\n",
       "    </tr>\n",
       "    <tr>\n",
       "      <th>3</th>\n",
       "      <td>ENOG502QPIC KOG0739</td>\n",
       "      <td>0.028038</td>\n",
       "    </tr>\n",
       "    <tr>\n",
       "      <th>4</th>\n",
       "      <td>KOG0935 ENOG502QPIC</td>\n",
       "      <td>0.017406</td>\n",
       "    </tr>\n",
       "    <tr>\n",
       "      <th>...</th>\n",
       "      <td>...</td>\n",
       "      <td>...</td>\n",
       "    </tr>\n",
       "    <tr>\n",
       "      <th>4491713</th>\n",
       "      <td>ENOG502RYI9 KOG3271</td>\n",
       "      <td>0.067741</td>\n",
       "    </tr>\n",
       "    <tr>\n",
       "      <th>4491714</th>\n",
       "      <td>ENOG502RYI9 KOG3274</td>\n",
       "      <td>0.109429</td>\n",
       "    </tr>\n",
       "    <tr>\n",
       "      <th>4491715</th>\n",
       "      <td>ENOG502RYI9 KOG3394</td>\n",
       "      <td>0.106857</td>\n",
       "    </tr>\n",
       "    <tr>\n",
       "      <th>4491716</th>\n",
       "      <td>ENOG502RYI9 KOG3855</td>\n",
       "      <td>0.117060</td>\n",
       "    </tr>\n",
       "    <tr>\n",
       "      <th>4491717</th>\n",
       "      <td>KOG3873 KOG4679</td>\n",
       "      <td>0.095654</td>\n",
       "    </tr>\n",
       "  </tbody>\n",
       "</table>\n",
       "<p>4466477 rows × 2 columns</p>\n",
       "</div>"
      ],
      "text/plain": [
       "                              ID  ppi_score\n",
       "0        ENOG502QPIC ENOG502QR7H   0.010826\n",
       "1            KOG0253 ENOG502QPIC   0.014779\n",
       "2            KOG0734 ENOG502QPIC   0.061827\n",
       "3            ENOG502QPIC KOG0739   0.028038\n",
       "4            KOG0935 ENOG502QPIC   0.017406\n",
       "...                          ...        ...\n",
       "4491713      ENOG502RYI9 KOG3271   0.067741\n",
       "4491714      ENOG502RYI9 KOG3274   0.109429\n",
       "4491715      ENOG502RYI9 KOG3394   0.106857\n",
       "4491716      ENOG502RYI9 KOG3855   0.117060\n",
       "4491717          KOG3873 KOG4679   0.095654\n",
       "\n",
       "[4466477 rows x 2 columns]"
      ]
     },
     "execution_count": 123,
     "metadata": {},
     "output_type": "execute_result"
    }
   ],
   "source": [
    "df_pred = pd.DataFrame()\n",
    "df_pred['ID'] = ids_pred\n",
    "df_pred['ppi_score'] = prob_pos_pred\n",
    "df_pred"
   ]
  },
  {
   "cell_type": "code",
   "execution_count": 126,
   "id": "2bcfa760-029d-45c6-909d-ccfae8c073b5",
   "metadata": {},
   "outputs": [],
   "source": [
    "res = df_pred[df_pred['ppi_score'] >= cutoff]"
   ]
  },
  {
   "cell_type": "code",
   "execution_count": 128,
   "id": "b814f740-995f-4458-b194-6fb3aa3a9d9e",
   "metadata": {},
   "outputs": [],
   "source": [
    "final_ids = res['ID'].str.split(' ', expand=True)"
   ]
  },
  {
   "cell_type": "code",
   "execution_count": 130,
   "id": "c9c8decc-464f-46b6-8ae4-9427f10f3dee",
   "metadata": {},
   "outputs": [
    {
     "data": {
      "text/plain": [
       "3555"
      ]
     },
     "execution_count": 130,
     "metadata": {},
     "output_type": "execute_result"
    }
   ],
   "source": [
    "len(np.unique(final_ids[[0, 1]].values))"
   ]
  },
  {
   "cell_type": "markdown",
   "id": "79b99c23-1330-4efe-b0d1-7ac7914415a7",
   "metadata": {},
   "source": [
    "# Testing exported pipeline integration"
   ]
  },
  {
   "cell_type": "code",
   "execution_count": 149,
   "id": "1422c015-7944-430c-9ffb-6abc48788faa",
   "metadata": {},
   "outputs": [],
   "source": [
    "import numpy as np\n",
    "import pandas as pd\n",
    "from sklearn.ensemble import ExtraTreesClassifier\n",
    "from sklearn.model_selection import train_test_split\n",
    "from sklearn.pipeline import make_pipeline\n",
    "from sklearn.preprocessing import MaxAbsScaler\n",
    "from tpot.export_utils import set_param_recursive\n",
    "\n",
    "# NOTE: Make sure that the outcome column is labeled 'target' in the data file\n",
    "#tpot_data = pd.read_csv('PATH/TO/DATA/FILE', sep='COLUMN_SEPARATOR', dtype=np.float64)\n",
    "#features = tpot_data.drop('target', axis=1)\n",
    "#training_features, testing_features, training_target, testing_target = \\\n",
    "#            train_test_split(features, tpot_data['target'], random_state=13)\n",
    "\n",
    "# Average CV score on the training set was: 0.9280164335087641\n",
    "exported_pipeline = make_pipeline(\n",
    "    MaxAbsScaler(),\n",
    "    ExtraTreesClassifier(bootstrap=False, criterion=\"gini\", max_features=1.0, min_samples_leaf=5, min_samples_split=14, n_estimators=100)\n",
    ")"
   ]
  },
  {
   "cell_type": "code",
   "execution_count": 150,
   "id": "4c870631-6cdd-479c-a85c-87f75ca59646",
   "metadata": {},
   "outputs": [
    {
     "data": {
      "text/html": [
       "<style>#sk-container-id-6 {color: black;background-color: white;}#sk-container-id-6 pre{padding: 0;}#sk-container-id-6 div.sk-toggleable {background-color: white;}#sk-container-id-6 label.sk-toggleable__label {cursor: pointer;display: block;width: 100%;margin-bottom: 0;padding: 0.3em;box-sizing: border-box;text-align: center;}#sk-container-id-6 label.sk-toggleable__label-arrow:before {content: \"▸\";float: left;margin-right: 0.25em;color: #696969;}#sk-container-id-6 label.sk-toggleable__label-arrow:hover:before {color: black;}#sk-container-id-6 div.sk-estimator:hover label.sk-toggleable__label-arrow:before {color: black;}#sk-container-id-6 div.sk-toggleable__content {max-height: 0;max-width: 0;overflow: hidden;text-align: left;background-color: #f0f8ff;}#sk-container-id-6 div.sk-toggleable__content pre {margin: 0.2em;color: black;border-radius: 0.25em;background-color: #f0f8ff;}#sk-container-id-6 input.sk-toggleable__control:checked~div.sk-toggleable__content {max-height: 200px;max-width: 100%;overflow: auto;}#sk-container-id-6 input.sk-toggleable__control:checked~label.sk-toggleable__label-arrow:before {content: \"▾\";}#sk-container-id-6 div.sk-estimator input.sk-toggleable__control:checked~label.sk-toggleable__label {background-color: #d4ebff;}#sk-container-id-6 div.sk-label input.sk-toggleable__control:checked~label.sk-toggleable__label {background-color: #d4ebff;}#sk-container-id-6 input.sk-hidden--visually {border: 0;clip: rect(1px 1px 1px 1px);clip: rect(1px, 1px, 1px, 1px);height: 1px;margin: -1px;overflow: hidden;padding: 0;position: absolute;width: 1px;}#sk-container-id-6 div.sk-estimator {font-family: monospace;background-color: #f0f8ff;border: 1px dotted black;border-radius: 0.25em;box-sizing: border-box;margin-bottom: 0.5em;}#sk-container-id-6 div.sk-estimator:hover {background-color: #d4ebff;}#sk-container-id-6 div.sk-parallel-item::after {content: \"\";width: 100%;border-bottom: 1px solid gray;flex-grow: 1;}#sk-container-id-6 div.sk-label:hover label.sk-toggleable__label {background-color: #d4ebff;}#sk-container-id-6 div.sk-serial::before {content: \"\";position: absolute;border-left: 1px solid gray;box-sizing: border-box;top: 0;bottom: 0;left: 50%;z-index: 0;}#sk-container-id-6 div.sk-serial {display: flex;flex-direction: column;align-items: center;background-color: white;padding-right: 0.2em;padding-left: 0.2em;position: relative;}#sk-container-id-6 div.sk-item {position: relative;z-index: 1;}#sk-container-id-6 div.sk-parallel {display: flex;align-items: stretch;justify-content: center;background-color: white;position: relative;}#sk-container-id-6 div.sk-item::before, #sk-container-id-6 div.sk-parallel-item::before {content: \"\";position: absolute;border-left: 1px solid gray;box-sizing: border-box;top: 0;bottom: 0;left: 50%;z-index: -1;}#sk-container-id-6 div.sk-parallel-item {display: flex;flex-direction: column;z-index: 1;position: relative;background-color: white;}#sk-container-id-6 div.sk-parallel-item:first-child::after {align-self: flex-end;width: 50%;}#sk-container-id-6 div.sk-parallel-item:last-child::after {align-self: flex-start;width: 50%;}#sk-container-id-6 div.sk-parallel-item:only-child::after {width: 0;}#sk-container-id-6 div.sk-dashed-wrapped {border: 1px dashed gray;margin: 0 0.4em 0.5em 0.4em;box-sizing: border-box;padding-bottom: 0.4em;background-color: white;}#sk-container-id-6 div.sk-label label {font-family: monospace;font-weight: bold;display: inline-block;line-height: 1.2em;}#sk-container-id-6 div.sk-label-container {text-align: center;}#sk-container-id-6 div.sk-container {/* jupyter's `normalize.less` sets `[hidden] { display: none; }` but bootstrap.min.css set `[hidden] { display: none !important; }` so we also need the `!important` here to be able to override the default hidden behavior on the sphinx rendered scikit-learn.org. See: https://github.com/scikit-learn/scikit-learn/issues/21755 */display: inline-block !important;position: relative;}#sk-container-id-6 div.sk-text-repr-fallback {display: none;}</style><div id=\"sk-container-id-6\" class=\"sk-top-container\"><div class=\"sk-text-repr-fallback\"><pre>Pipeline(steps=[(&#x27;maxabsscaler&#x27;, MaxAbsScaler()),\n",
       "                (&#x27;extratreesclassifier&#x27;,\n",
       "                 ExtraTreesClassifier(max_features=1.0, min_samples_leaf=5,\n",
       "                                      min_samples_split=14))])</pre><b>In a Jupyter environment, please rerun this cell to show the HTML representation or trust the notebook. <br />On GitHub, the HTML representation is unable to render, please try loading this page with nbviewer.org.</b></div><div class=\"sk-container\" hidden><div class=\"sk-item sk-dashed-wrapped\"><div class=\"sk-label-container\"><div class=\"sk-label sk-toggleable\"><input class=\"sk-toggleable__control sk-hidden--visually\" id=\"sk-estimator-id-8\" type=\"checkbox\" ><label for=\"sk-estimator-id-8\" class=\"sk-toggleable__label sk-toggleable__label-arrow\">Pipeline</label><div class=\"sk-toggleable__content\"><pre>Pipeline(steps=[(&#x27;maxabsscaler&#x27;, MaxAbsScaler()),\n",
       "                (&#x27;extratreesclassifier&#x27;,\n",
       "                 ExtraTreesClassifier(max_features=1.0, min_samples_leaf=5,\n",
       "                                      min_samples_split=14))])</pre></div></div></div><div class=\"sk-serial\"><div class=\"sk-item\"><div class=\"sk-estimator sk-toggleable\"><input class=\"sk-toggleable__control sk-hidden--visually\" id=\"sk-estimator-id-9\" type=\"checkbox\" ><label for=\"sk-estimator-id-9\" class=\"sk-toggleable__label sk-toggleable__label-arrow\">MaxAbsScaler</label><div class=\"sk-toggleable__content\"><pre>MaxAbsScaler()</pre></div></div></div><div class=\"sk-item\"><div class=\"sk-estimator sk-toggleable\"><input class=\"sk-toggleable__control sk-hidden--visually\" id=\"sk-estimator-id-10\" type=\"checkbox\" ><label for=\"sk-estimator-id-10\" class=\"sk-toggleable__label sk-toggleable__label-arrow\">ExtraTreesClassifier</label><div class=\"sk-toggleable__content\"><pre>ExtraTreesClassifier(max_features=1.0, min_samples_leaf=5, min_samples_split=14)</pre></div></div></div></div></div></div></div>"
      ],
      "text/plain": [
       "Pipeline(steps=[('maxabsscaler', MaxAbsScaler()),\n",
       "                ('extratreesclassifier',\n",
       "                 ExtraTreesClassifier(max_features=1.0, min_samples_leaf=5,\n",
       "                                      min_samples_split=14))])"
      ]
     },
     "execution_count": 150,
     "metadata": {},
     "output_type": "execute_result"
    }
   ],
   "source": [
    "exported_pipeline.fit(X_train, y_train)"
   ]
  },
  {
   "cell_type": "code",
   "execution_count": 151,
   "id": "26cbe4b9-100e-416d-9ee4-f5aea3ab34b7",
   "metadata": {
    "tags": []
   },
   "outputs": [
    {
     "data": {
      "text/plain": [
       "array([-1, -1, -1, ..., -1, -1, -1])"
      ]
     },
     "execution_count": 151,
     "metadata": {},
     "output_type": "execute_result"
    }
   ],
   "source": [
    "exported_pipeline.predict(X_test)"
   ]
  },
  {
   "cell_type": "code",
   "execution_count": 152,
   "id": "19ba8ca6-b25b-4261-90f5-1b758d743374",
   "metadata": {},
   "outputs": [
    {
     "data": {
      "text/plain": [
       "<sklearn.metrics._plot.precision_recall_curve.PrecisionRecallDisplay at 0x7f47ccdf8190>"
      ]
     },
     "execution_count": 152,
     "metadata": {},
     "output_type": "execute_result"
    },
    {
     "data": {
      "image/png": "[encoded data removed]",
      "text/plain": [
       "<Figure size 640x480 with 1 Axes>"
      ]
     },
     "metadata": {},
     "output_type": "display_data"
    }
   ],
   "source": [
    "from sklearn.metrics import PrecisionRecallDisplay\n",
    "PrecisionRecallDisplay.from_estimator(exported_pipeline, X_test, y_test)"
   ]
  }
 ],
 "metadata": {
  "kernelspec": {
   "display_name": "Python 3 (ipykernel)",
   "language": "python",
   "name": "python3"
  },
  "language_info": {
   "codemirror_mode": {
    "name": "ipython",
    "version": 3
   },
   "file_extension": ".py",
   "mimetype": "text/x-python",
   "name": "python",
   "nbconvert_exporter": "python",
   "pygments_lexer": "ipython3",
   "version": "3.10.6"
  }
 },
 "nbformat": 4,
 "nbformat_minor": 5
}
