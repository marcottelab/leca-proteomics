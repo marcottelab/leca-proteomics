{
 "cells": [
  {
   "cell_type": "code",
   "execution_count": 13,
   "id": "65e00d94-b5a5-4121-b4ec-f8511434a481",
   "metadata": {},
   "outputs": [],
   "source": [
    "import pickle\n",
    "import numpy as np\n",
    "import datetime as dt\n",
    "from tpot import TPOTClassifier\n",
    "from sklearn.model_selection import GroupShuffleSplit\n",
    "from sklearn.model_selection import GroupKFold"
   ]
  },
  {
   "cell_type": "markdown",
   "id": "76b6453b-fe65-4494-9072-16584053af81",
   "metadata": {},
   "source": [
    "`X_train` = array of training data, `y_train` = labels, `group` = protein cmplx group"
   ]
  },
  {
   "cell_type": "code",
   "execution_count": 14,
   "id": "9199835b-394b-4abf-b8d2-36d44f01cb72",
   "metadata": {},
   "outputs": [
    {
     "data": {
      "text/plain": [
       "'../ppi_ml/tpot/tpot_pipeline_2023-02-15'"
      ]
     },
     "execution_count": 14,
     "metadata": {},
     "output_type": "execute_result"
    }
   ],
   "source": [
    "tpot_dir = '../ppi_ml/tpot/'\n",
    "timestamp = dt.datetime.now().strftime('%Y-%m-%d')\n",
    "outfile = tpot_dir+'tpot_pipeline_'+timestamp\n",
    "outfile"
   ]
  },
  {
   "cell_type": "code",
   "execution_count": 15,
   "id": "28bbdbf5-93e3-41a1-8ddb-c0f1dc53a3bd",
   "metadata": {},
   "outputs": [],
   "source": [
    "fmatfile = '../ppi_ml/data/featmats/featmat_labeled_traintest.pkl'\n",
    "with open(fmatfile, 'rb') as handle:\n",
    "    fmat = pickle.load(handle)"
   ]
  },
  {
   "cell_type": "code",
   "execution_count": 16,
   "id": "9e1bc642-5901-4c91-b450-a942910d92c3",
   "metadata": {},
   "outputs": [],
   "source": [
    "label_cols = ['ID', 'label', 'super_group']\n",
    "data_cols = [c for c in fmat.columns.values.tolist() if c not in label_cols]"
   ]
  },
  {
   "cell_type": "code",
   "execution_count": 17,
   "id": "ae6aaacd-f060-4624-90fe-894300821bbe",
   "metadata": {},
   "outputs": [
    {
     "data": {
      "text/plain": [
       "0        ENOG502QR6E ENOG502QPKB\n",
       "1            KOG0308 ENOG502QPKB\n",
       "2            KOG0384 ENOG502QPKB\n",
       "3            KOG0631 ENOG502QPKB\n",
       "4            KOG0948 ENOG502QPKB\n",
       "                  ...           \n",
       "25236            KOG1894 KOG1597\n",
       "25237            KOG1894 KOG1898\n",
       "25238            KOG1894 KOG2691\n",
       "25239            KOG1894 KOG2732\n",
       "25240            KOG1894 KOG3400\n",
       "Name: ID, Length: 25241, dtype: object"
      ]
     },
     "execution_count": 17,
     "metadata": {},
     "output_type": "execute_result"
    }
   ],
   "source": [
    "fmat[label_cols[0]]"
   ]
  },
  {
   "cell_type": "code",
   "execution_count": 18,
   "id": "c2a4ce48-de11-4db6-a716-c6b3decf9c6d",
   "metadata": {},
   "outputs": [],
   "source": [
    "X = fmat[data_cols].to_numpy()\n",
    "y = fmat[label_cols[1]].to_numpy()\n",
    "groups = fmat[label_cols[2]].to_numpy()"
   ]
  },
  {
   "cell_type": "code",
   "execution_count": 33,
   "id": "22c10935-e0e0-40b6-b400-48dc213c4b71",
   "metadata": {},
   "outputs": [
    {
     "name": "stdout",
     "output_type": "stream",
     "text": [
      "Fold 0:\n",
      "\tTrain: index=[    2     6     7 ... 25238 25239 25240], group=[14  1 79 ...  1 47  1]\n",
      "\tTest:  index=[    0     1     3 ... 25223 25231 25237], group=[511 151  17 ...  23 339 962]\n",
      "\t # train PPIs = 18339\n",
      "\t # test PPIs = 6902\n",
      "Fold 1:\n",
      "\tTrain: index=[    0     4     6 ... 25236 25238 25240], group=[511  18   1 ...   1   1   1]\n",
      "\tTest:  index=[    1     2     3 ... 25235 25237 25239], group=[151  14  17 ...  74 962  47]\n",
      "\t # train PPIs = 17148\n",
      "\t # test PPIs = 8093\n",
      "Fold 2:\n",
      "\tTrain: index=[    2     3     6 ... 25236 25238 25240], group=[14 17  1 ...  1  1  1]\n",
      "\tTest:  index=[    0     1     4 ... 25235 25237 25239], group=[511 151  18 ...  74 962  47]\n",
      "\t # train PPIs = 17764\n",
      "\t # test PPIs = 7477\n"
     ]
    }
   ],
   "source": [
    "gss = GroupShuffleSplit(n_splits=3, train_size=0.7, random_state=13)\n",
    "gss.get_n_splits()\n",
    "for i, (test_index, train_index) in enumerate(gss.split(X, y, groups)):\n",
    "    print(f\"Fold {i}:\")\n",
    "    print(f\"\\tTrain: index={train_index}, group={groups[train_index]}\")\n",
    "    print(f\"\\tTest:  index={test_index}, group={groups[test_index]}\")\n",
    "    print(f\"\\t # train PPIs = {len(X[train_index])}\")\n",
    "    print(f\"\\t # test PPIs = {len(X[test_index])}\")"
   ]
  },
  {
   "cell_type": "code",
   "execution_count": 8,
   "id": "58135a72-4481-4544-a8a3-70f22446a32f",
   "metadata": {},
   "outputs": [
    {
     "data": {
      "text/plain": [
       "<generator object BaseShuffleSplit.split at 0x7fc761731070>"
      ]
     },
     "execution_count": 8,
     "metadata": {},
     "output_type": "execute_result"
    }
   ],
   "source": [
    "idx = gss.split(X, y, groups)\n",
    "idx"
   ]
  },
  {
   "cell_type": "code",
   "execution_count": 10,
   "id": "733e1bcd-c429-4ab1-92b1-630450d1e04f",
   "metadata": {},
   "outputs": [],
   "source": [
    "for train_idx, test_idx in gss.split(X, y, groups):\n",
    "    X_train = X[train_idx]\n",
    "    y_train = y[train_idx]\n",
    "    X_test = X[test_idx]\n",
    "    y_test = y[test_idx]"
   ]
  },
  {
   "cell_type": "code",
   "execution_count": 11,
   "id": "f4aaa3fe-7662-439d-829e-95ad73a01fde",
   "metadata": {},
   "outputs": [],
   "source": [
    "pipeline_opt = TPOTClassifier()\n",
    "pipeline_opt = TPOTClassifier(generations=10, population_size=20, cv=5,\n",
    "                                    random_state=13, verbosity=2)"
   ]
  },
  {
   "cell_type": "code",
   "execution_count": 12,
   "id": "969255df-7f09-4dec-9e7e-233a4b819eb9",
   "metadata": {},
   "outputs": [
    {
     "data": {
      "application/vnd.jupyter.widget-view+json": {
       "model_id": "d36f12bb80114f66b5498b268caf66a4",
       "version_major": 2,
       "version_minor": 0
      },
      "text/plain": [
       "Optimization Progress:   0%|          | 0/220 [00:00<?, ?pipeline/s]"
      ]
     },
     "metadata": {},
     "output_type": "display_data"
    },
    {
     "name": "stdout",
     "output_type": "stream",
     "text": [
      "\n",
      "\n",
      "TPOT closed during evaluation in one generation.\n",
      "WARNING: TPOT may not provide a good pipeline if TPOT is stopped/interrupted in a early generation.\n",
      "\n",
      "\n",
      "TPOT closed prematurely. Will use the current best pipeline.\n",
      "\n",
      "Best pipeline: ExtraTreesClassifier(input_matrix, bootstrap=True, criterion=gini, max_features=0.35000000000000003, min_samples_leaf=3, min_samples_split=14, n_estimators=100)\n"
     ]
    },
    {
     "ename": "NameError",
     "evalue": "name 'X_test' is not defined",
     "output_type": "error",
     "traceback": [
      "\u001b[0;31m---------------------------------------------------------------------------\u001b[0m",
      "\u001b[0;31mNameError\u001b[0m                                 Traceback (most recent call last)",
      "Cell \u001b[0;32mIn [12], line 2\u001b[0m\n\u001b[1;32m      1\u001b[0m pipeline_opt\u001b[38;5;241m.\u001b[39mfit(X_train, y_train)\n\u001b[0;32m----> 2\u001b[0m \u001b[38;5;28mprint\u001b[39m(pipeline_opt\u001b[38;5;241m.\u001b[39mscore(\u001b[43mX_test\u001b[49m, y_test))\n\u001b[1;32m      3\u001b[0m pipeline_opt\u001b[38;5;241m.\u001b[39mexport(outfile)\n",
      "\u001b[0;31mNameError\u001b[0m: name 'X_test' is not defined"
     ]
    }
   ],
   "source": [
    "pipeline_opt.fit(X_train, y_train)\n",
    "print(pipeline_opt.score(X_test, y_test))\n",
    "pipeline_opt.export(outfile)"
   ]
  }
 ],
 "metadata": {
  "kernelspec": {
   "display_name": "Python 3 (ipykernel)",
   "language": "python",
   "name": "python3"
  },
  "language_info": {
   "codemirror_mode": {
    "name": "ipython",
    "version": 3
   },
   "file_extension": ".py",
   "mimetype": "text/x-python",
   "name": "python",
   "nbconvert_exporter": "python",
   "pygments_lexer": "ipython3",
   "version": "3.10.6"
  }
 },
 "nbformat": 4,
 "nbformat_minor": 5
}
