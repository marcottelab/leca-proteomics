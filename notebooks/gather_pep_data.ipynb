{
 "cells": [
  {
   "cell_type": "code",
   "execution_count": 18,
   "id": "e17e43cf-003f-4ec0-92d7-a568ce87bb71",
   "metadata": {},
   "outputs": [],
   "source": [
    "import pandas as pd\n",
    "from functools import reduce\n",
    "import os\n",
    "import numpy as np\n",
    "import re"
   ]
  },
  {
   "cell_type": "code",
   "execution_count": 27,
   "id": "010a38f2-efbd-4ca8-a18f-3591acb83779",
   "metadata": {},
   "outputs": [],
   "source": [
    "fs = '../ppi_ml/data/meta/euk_codes_ordered.txt'\n",
    "species = [line.strip() for line in open(fs, 'r')]"
   ]
  },
  {
   "cell_type": "code",
   "execution_count": 28,
   "id": "3f16be8b-c741-44fd-bb8b-487e8baba8dd",
   "metadata": {},
   "outputs": [],
   "source": [
    "data_dir = '../ppi_ml/data/cfms/pepcounts/'\n",
    "pep_files = [f for f in os.listdir(data_dir)]"
   ]
  },
  {
   "cell_type": "code",
   "execution_count": 30,
   "id": "b5bb06f8-d80c-4c33-a321-1955282d69c9",
   "metadata": {
    "tags": []
   },
   "outputs": [
    {
     "name": "stderr",
     "output_type": "stream",
     "text": [
      "/tmp/ipykernel_19879/3520849750.py:19: DeprecationWarning: `np.float` is a deprecated alias for the builtin `float`. To silence this warning, use `float` by itself. Doing this will not modify any behavior and is safe. If you specifically wanted the numpy scalar type, use `np.float64` here.\n",
      "Deprecated in NumPy 1.20; for more details and guidance: https://numpy.org/devdocs/release/1.20.0-notes.html#deprecations\n",
      "  if final_df[c].dtype == np.float:\n",
      "/tmp/ipykernel_19879/3520849750.py:23: FutureWarning: Dropping of nuisance columns in DataFrame reductions (with 'numeric_only=None') is deprecated; in a future version this will raise TypeError.  Select only valid columns before calling the reduction.\n",
      "  final_df[tcol] = final_df.sum(axis=1)\n"
     ]
    },
    {
     "name": "stdout",
     "output_type": "stream",
     "text": [
      "                                peptide  brart_sec_1  brart_total\n",
      "0                   AAAAAAASSSTGIELNCPR            1            1\n",
      "1                          AAAAWALGQIGR           12           12\n",
      "2                      AAAHYDHIFDQNLSAK            3            3\n",
      "3                      AAALEKDSKDLSLQIK            1            1\n",
      "4  AAALSGKENHQSEDSDNEELEEFEHLLEAEKDGSIK            1            1\n"
     ]
    },
    {
     "name": "stderr",
     "output_type": "stream",
     "text": [
      "/tmp/ipykernel_19879/3520849750.py:19: DeprecationWarning: `np.float` is a deprecated alias for the builtin `float`. To silence this warning, use `float` by itself. Doing this will not modify any behavior and is safe. If you specifically wanted the numpy scalar type, use `np.float64` here.\n",
      "Deprecated in NumPy 1.20; for more details and guidance: https://numpy.org/devdocs/release/1.20.0-notes.html#deprecations\n",
      "  if final_df[c].dtype == np.float:\n",
      "/tmp/ipykernel_19879/3520849750.py:23: FutureWarning: Dropping of nuisance columns in DataFrame reductions (with 'numeric_only=None') is deprecated; in a future version this will raise TypeError.  Select only valid columns before calling the reduction.\n",
      "  final_df[tcol] = final_df.sum(axis=1)\n"
     ]
    },
    {
     "name": "stdout",
     "output_type": "stream",
     "text": [
      "                             peptide  caeel_iex_1  caeel_beads_iex_7  \\\n",
      "0  AAAAAAAAAAAAAADPVAGDHENIVSDSTQASR            4                  0   \n",
      "1                       AAAAAAAEKVEK            7                  0   \n",
      "2                AAAAASGASNTDSSATKPK           56                 21   \n",
      "3              AAAALDKLPYHTLACQELGLR            2                  0   \n",
      "4                         AAAANLNYIR           20                  0   \n",
      "\n",
      "   caeel_beads_iex_8  caeel_beads_iex_9  caeel_beads_iex_6  caeel_beads_iex_1  \\\n",
      "0                  0                  1                  1                  1   \n",
      "1                  5                  0                  0                  0   \n",
      "2                  0                 17                 14                 11   \n",
      "3                  0                  0                  0                  0   \n",
      "4                  0                  0                  0                  7   \n",
      "\n",
      "   caeel_beads_iex_2  caeel_iex_4  caeel_beads_iex_5  caeel_iex_3  \\\n",
      "0                  0            0                  2            2   \n",
      "1                  0            0                  0            0   \n",
      "2                  4           49                 18           68   \n",
      "3                  0            0                  0            1   \n",
      "4                  0           20                  1           15   \n",
      "\n",
      "   caeel_beads_iex_3  caeel_iex_2  caeel_beads_iex_4  caeel_total  \n",
      "0                  2            0                  0           13  \n",
      "1                  0            0                  0           12  \n",
      "2                 16            0                 50          324  \n",
      "3                  0            0                  0            3  \n",
      "4                  2            0                 21           86  \n"
     ]
    },
    {
     "name": "stderr",
     "output_type": "stream",
     "text": [
      "/tmp/ipykernel_19879/3520849750.py:19: DeprecationWarning: `np.float` is a deprecated alias for the builtin `float`. To silence this warning, use `float` by itself. Doing this will not modify any behavior and is safe. If you specifically wanted the numpy scalar type, use `np.float64` here.\n",
      "Deprecated in NumPy 1.20; for more details and guidance: https://numpy.org/devdocs/release/1.20.0-notes.html#deprecations\n",
      "  if final_df[c].dtype == np.float:\n",
      "/tmp/ipykernel_19879/3520849750.py:23: FutureWarning: Dropping of nuisance columns in DataFrame reductions (with 'numeric_only=None') is deprecated; in a future version this will raise TypeError.  Select only valid columns before calling the reduction.\n",
      "  final_df[tcol] = final_df.sum(axis=1)\n"
     ]
    },
    {
     "name": "stdout",
     "output_type": "stream",
     "text": [
      "                      peptide  dicdi_iex_2  dicdi_iex_3  dicdi_iex_1  \\\n",
      "0     AAAAAAAAALIPTTDPTTTFADK            7            3            0   \n",
      "1           AAAAIIEEATAALLNAK          130          103          120   \n",
      "2          AAAAIIEEATAALLNAKK            4           10            1   \n",
      "3                  AAADEEEAKK            1            1            1   \n",
      "4  AAAEQAAKPVEPAVVQQQQPQQTKPK            4            0            6   \n",
      "\n",
      "   dicdi_total  \n",
      "0           10  \n",
      "1          353  \n",
      "2           15  \n",
      "3            3  \n",
      "4           10  \n"
     ]
    },
    {
     "name": "stderr",
     "output_type": "stream",
     "text": [
      "/tmp/ipykernel_19879/3520849750.py:19: DeprecationWarning: `np.float` is a deprecated alias for the builtin `float`. To silence this warning, use `float` by itself. Doing this will not modify any behavior and is safe. If you specifically wanted the numpy scalar type, use `np.float64` here.\n",
      "Deprecated in NumPy 1.20; for more details and guidance: https://numpy.org/devdocs/release/1.20.0-notes.html#deprecations\n",
      "  if final_df[c].dtype == np.float:\n",
      "/tmp/ipykernel_19879/3520849750.py:23: FutureWarning: Dropping of nuisance columns in DataFrame reductions (with 'numeric_only=None') is deprecated; in a future version this will raise TypeError.  Select only valid columns before calling the reduction.\n",
      "  final_df[tcol] = final_df.sum(axis=1)\n"
     ]
    },
    {
     "name": "stdout",
     "output_type": "stream",
     "text": [
      "                     peptide  drome_iex_4  drome_iex_3  drome_iex_2  \\\n",
      "0           AAAAAAAAAAAAAAQR            2            0            0   \n",
      "1  AAAAAAKKTDDPQPDDDLGAEEEEK            1            0            0   \n",
      "2               AAAAAAKPAAAK           42            1           12   \n",
      "3          AAAAAAKPAAAKPAAAK           54            0            9   \n",
      "4    AAAAAAKPAAAKPAAAKPAAASK          136           32           36   \n",
      "\n",
      "   drome_iex_1  drome_total  \n",
      "0            0            2  \n",
      "1            0            1  \n",
      "2            2           57  \n",
      "3            4           67  \n",
      "4           76          280  \n"
     ]
    },
    {
     "name": "stderr",
     "output_type": "stream",
     "text": [
      "/tmp/ipykernel_19879/3520849750.py:19: DeprecationWarning: `np.float` is a deprecated alias for the builtin `float`. To silence this warning, use `float` by itself. Doing this will not modify any behavior and is safe. If you specifically wanted the numpy scalar type, use `np.float64` here.\n",
      "Deprecated in NumPy 1.20; for more details and guidance: https://numpy.org/devdocs/release/1.20.0-notes.html#deprecations\n",
      "  if final_df[c].dtype == np.float:\n",
      "/tmp/ipykernel_19879/3520849750.py:23: FutureWarning: Dropping of nuisance columns in DataFrame reductions (with 'numeric_only=None') is deprecated; in a future version this will raise TypeError.  Select only valid columns before calling the reduction.\n",
      "  final_df[tcol] = final_df.sum(axis=1)\n"
     ]
    },
    {
     "name": "stdout",
     "output_type": "stream",
     "text": [
      "                         peptide  human_iex_2  human_iex_10  human_iex_20  \\\n",
      "0  AAAAAAAAAPAAAATAPTTAATTAATAAQ           14             6             1   \n",
      "1      AAAAAAAAVPSAGPAGPAPTSAAGR            1             0             1   \n",
      "2                    AAAAAAALQAK            2             1             0   \n",
      "3          AAAAAAEAGDIPIYICHQEPR            1             1             0   \n",
      "4           AAAAAAGAGNRAAVAVAVAR            2             2             0   \n",
      "\n",
      "   human_iex_18  human_iex_5  human_iex_21  human_sucrose_2  human_iex_3  \\\n",
      "0             0            0             0                2            0   \n",
      "1             1            0             0                0            1   \n",
      "2             0           15             0                0           42   \n",
      "3             0            0             1                0            0   \n",
      "4             0            0             0                0            0   \n",
      "\n",
      "   human_iex_11  ...  human_iex_24  human_ief_3  human_iex_14  human_iex_9  \\\n",
      "0            24  ...             0            4             0            2   \n",
      "1             1  ...             0            0             0            0   \n",
      "2             4  ...             0            0             0            1   \n",
      "3             1  ...             0            0             0            0   \n",
      "4             0  ...             0            0             0            0   \n",
      "\n",
      "   human_iex_6  human_iex_23  human_iex_1  human_iex_13  human_ief_4  \\\n",
      "0            0             0            0             1            8   \n",
      "1            0             0            0             0            0   \n",
      "2            0             0            0             0            0   \n",
      "3            0             0            0             0            0   \n",
      "4            0             0            1             0            0   \n",
      "\n",
      "   human_total  \n",
      "0           81  \n",
      "1            8  \n",
      "2           84  \n",
      "3            6  \n",
      "4           11  \n",
      "\n",
      "[5 rows x 33 columns]\n"
     ]
    },
    {
     "name": "stderr",
     "output_type": "stream",
     "text": [
      "/tmp/ipykernel_19879/3520849750.py:19: DeprecationWarning: `np.float` is a deprecated alias for the builtin `float`. To silence this warning, use `float` by itself. Doing this will not modify any behavior and is safe. If you specifically wanted the numpy scalar type, use `np.float64` here.\n",
      "Deprecated in NumPy 1.20; for more details and guidance: https://numpy.org/devdocs/release/1.20.0-notes.html#deprecations\n",
      "  if final_df[c].dtype == np.float:\n",
      "/tmp/ipykernel_19879/3520849750.py:23: FutureWarning: Dropping of nuisance columns in DataFrame reductions (with 'numeric_only=None') is deprecated; in a future version this will raise TypeError.  Select only valid columns before calling the reduction.\n",
      "  final_df[tcol] = final_df.sum(axis=1)\n"
     ]
    },
    {
     "name": "stdout",
     "output_type": "stream",
     "text": [
      "                                 peptide  mouse_iex_2  mouse_iex_3  \\\n",
      "0  AAAAAAAAAAAAASVGGTIPGPGPGGGQSPREGGERK            1            1   \n",
      "1                     AAAAGALAPGPLPDLAAR            3           32   \n",
      "2        AAAANLCPGDVILAIDGFGTESMTHADAQDR            1            0   \n",
      "3                          AAAARGGPGAAPR            1            0   \n",
      "4                       AAADDGEEPKSEPETK            1            0   \n",
      "\n",
      "   mouse_sec_1  mouse_iex_1  mouse_total  \n",
      "0            0            0            2  \n",
      "1            4            0           39  \n",
      "2            0            0            1  \n",
      "3            1            0            2  \n",
      "4            6            0            7  \n"
     ]
    },
    {
     "name": "stderr",
     "output_type": "stream",
     "text": [
      "/tmp/ipykernel_19879/3520849750.py:19: DeprecationWarning: `np.float` is a deprecated alias for the builtin `float`. To silence this warning, use `float` by itself. Doing this will not modify any behavior and is safe. If you specifically wanted the numpy scalar type, use `np.float64` here.\n",
      "Deprecated in NumPy 1.20; for more details and guidance: https://numpy.org/devdocs/release/1.20.0-notes.html#deprecations\n",
      "  if final_df[c].dtype == np.float:\n",
      "/tmp/ipykernel_19879/3520849750.py:23: FutureWarning: Dropping of nuisance columns in DataFrame reductions (with 'numeric_only=None') is deprecated; in a future version this will raise TypeError.  Select only valid columns before calling the reduction.\n",
      "  final_df[tcol] = final_df.sum(axis=1)\n"
     ]
    },
    {
     "name": "stdout",
     "output_type": "stream",
     "text": [
      "                peptide  nemve_iex_5  nemve_iex_2  nemve_iex_4  nemve_iex_3  \\\n",
      "0              AAAECFAR           24           13           25           10   \n",
      "1               AAAEVNK            3            0            0            0   \n",
      "2              AAAFVHGK            8            7            2            4   \n",
      "3  AAAHHMVRFMTAGMALITCR            1            1            1            0   \n",
      "4              AAAIEALR            1            2            0            0   \n",
      "\n",
      "   nemve_iex_1  nemve_iex_6  nemve_total  \n",
      "0            1           46          119  \n",
      "1            0            0            3  \n",
      "2            1           13           35  \n",
      "3            0            0            3  \n",
      "4            2            2            7  \n"
     ]
    },
    {
     "name": "stderr",
     "output_type": "stream",
     "text": [
      "/tmp/ipykernel_19879/3520849750.py:19: DeprecationWarning: `np.float` is a deprecated alias for the builtin `float`. To silence this warning, use `float` by itself. Doing this will not modify any behavior and is safe. If you specifically wanted the numpy scalar type, use `np.float64` here.\n",
      "Deprecated in NumPy 1.20; for more details and guidance: https://numpy.org/devdocs/release/1.20.0-notes.html#deprecations\n",
      "  if final_df[c].dtype == np.float:\n",
      "/tmp/ipykernel_19879/3520849750.py:23: FutureWarning: Dropping of nuisance columns in DataFrame reductions (with 'numeric_only=None') is deprecated; in a future version this will raise TypeError.  Select only valid columns before calling the reduction.\n",
      "  final_df[tcol] = final_df.sum(axis=1)\n"
     ]
    },
    {
     "name": "stdout",
     "output_type": "stream",
     "text": [
      "                                           peptide  pig_iex_1  pig_total\n",
      "0                               AAAAAAAAAAMATPPPGR          2          2\n",
      "1                   AAAAAAAAAAMATPPPGRAGGPATPLSPTR          1          1\n",
      "2                                       AAAAAAAKNK          2          2\n",
      "3                            AAAAAAFEIDPRSGLISTSGR          1          1\n",
      "4  AAAAAAGGGYSAMPAPMSVYSHPAHAEQYPGGMARAYGPYTPQPQPK          2          2\n"
     ]
    },
    {
     "name": "stderr",
     "output_type": "stream",
     "text": [
      "/tmp/ipykernel_19879/3520849750.py:19: DeprecationWarning: `np.float` is a deprecated alias for the builtin `float`. To silence this warning, use `float` by itself. Doing this will not modify any behavior and is safe. If you specifically wanted the numpy scalar type, use `np.float64` here.\n",
      "Deprecated in NumPy 1.20; for more details and guidance: https://numpy.org/devdocs/release/1.20.0-notes.html#deprecations\n",
      "  if final_df[c].dtype == np.float:\n",
      "/tmp/ipykernel_19879/3520849750.py:23: FutureWarning: Dropping of nuisance columns in DataFrame reductions (with 'numeric_only=None') is deprecated; in a future version this will raise TypeError.  Select only valid columns before calling the reduction.\n",
      "  final_df[tcol] = final_df.sum(axis=1)\n"
     ]
    },
    {
     "name": "stdout",
     "output_type": "stream",
     "text": [
      "            peptide  strpu_iex_6  strpu_iex_9  strpu_iex_1  strpu_iex_8  \\\n",
      "0     AAAALAVNTSAAR           40           16          234           12   \n",
      "1   AAAASPAVPGSVLDK            1            4            2            0   \n",
      "2  AAAASPAVPGSVLDKK           11            2            7            0   \n",
      "3      AAACAAVNNHVK           11           12           35           15   \n",
      "4  AAACAAVNNHVKDHCR           17            0           29            1   \n",
      "\n",
      "   strpu_iex_7  strpu_iex_10  strpu_iex_3  strpu_iex_4  strpu_wwc_1  \\\n",
      "0           76            28           21           38            0   \n",
      "1            2             0            1            6            0   \n",
      "2            6             0            8            9            0   \n",
      "3           51            11           11            4           16   \n",
      "4           15             6            3            4            0   \n",
      "\n",
      "   strpu_iex_2  strpu_iex_5  strpu_total  \n",
      "0           34          105          604  \n",
      "1            4            2           22  \n",
      "2           10            2           55  \n",
      "3           21           58          245  \n",
      "4            4           17           96  \n"
     ]
    },
    {
     "name": "stderr",
     "output_type": "stream",
     "text": [
      "/tmp/ipykernel_19879/3520849750.py:19: DeprecationWarning: `np.float` is a deprecated alias for the builtin `float`. To silence this warning, use `float` by itself. Doing this will not modify any behavior and is safe. If you specifically wanted the numpy scalar type, use `np.float64` here.\n",
      "Deprecated in NumPy 1.20; for more details and guidance: https://numpy.org/devdocs/release/1.20.0-notes.html#deprecations\n",
      "  if final_df[c].dtype == np.float:\n",
      "/tmp/ipykernel_19879/3520849750.py:23: FutureWarning: Dropping of nuisance columns in DataFrame reductions (with 'numeric_only=None') is deprecated; in a future version this will raise TypeError.  Select only valid columns before calling the reduction.\n",
      "  final_df[tcol] = final_df.sum(axis=1)\n"
     ]
    },
    {
     "name": "stdout",
     "output_type": "stream",
     "text": [
      "                  peptide  xenla_sucrose_3  xenla_sec_3  xenla_sucrose_4  \\\n",
      "0  AAAADGMEQMEMDESRGGIGLR                1            0                0   \n",
      "1                AAAEGPMK               25            0                0   \n",
      "2             AAAEHHQLMYR                1            0                0   \n",
      "3           AAAEIGISASHVK               12            3               52   \n",
      "4   AAAHHLGSQCDKPNKEFMLCR                3           95               19   \n",
      "\n",
      "   xenla_sec_2  xenla_sucrose_2  xenla_sucrose_1  xenla_sec_1  xenla_iex_1  \\\n",
      "0            0                5                0            0            0   \n",
      "1            0               14               38           17            0   \n",
      "2            0                0                0            0            0   \n",
      "3            0                0                0          155            5   \n",
      "4           61                0                0            0            0   \n",
      "\n",
      "   xenla_total  \n",
      "0            6  \n",
      "1           94  \n",
      "2            1  \n",
      "3          227  \n",
      "4          178  \n",
      "                 peptide  yeast_iex_1  yeast_total\n",
      "0    AAAAEKNVPLYKHLADLSK           18           18\n",
      "1    AAAAEKNVPLYQHLADLSK            9            9\n",
      "2         AAAANSGRKQVSMK            8            8\n",
      "3  AAAAQKGITLYKYIAELADAR            1            1\n",
      "4           AAADALSDLEIK            7            7\n"
     ]
    },
    {
     "name": "stderr",
     "output_type": "stream",
     "text": [
      "/tmp/ipykernel_19879/3520849750.py:19: DeprecationWarning: `np.float` is a deprecated alias for the builtin `float`. To silence this warning, use `float` by itself. Doing this will not modify any behavior and is safe. If you specifically wanted the numpy scalar type, use `np.float64` here.\n",
      "Deprecated in NumPy 1.20; for more details and guidance: https://numpy.org/devdocs/release/1.20.0-notes.html#deprecations\n",
      "  if final_df[c].dtype == np.float:\n",
      "/tmp/ipykernel_19879/3520849750.py:23: FutureWarning: Dropping of nuisance columns in DataFrame reductions (with 'numeric_only=None') is deprecated; in a future version this will raise TypeError.  Select only valid columns before calling the reduction.\n",
      "  final_df[tcol] = final_df.sum(axis=1)\n",
      "/tmp/ipykernel_19879/3520849750.py:19: DeprecationWarning: `np.float` is a deprecated alias for the builtin `float`. To silence this warning, use `float` by itself. Doing this will not modify any behavior and is safe. If you specifically wanted the numpy scalar type, use `np.float64` here.\n",
      "Deprecated in NumPy 1.20; for more details and guidance: https://numpy.org/devdocs/release/1.20.0-notes.html#deprecations\n",
      "  if final_df[c].dtype == np.float:\n",
      "/tmp/ipykernel_19879/3520849750.py:23: FutureWarning: Dropping of nuisance columns in DataFrame reductions (with 'numeric_only=None') is deprecated; in a future version this will raise TypeError.  Select only valid columns before calling the reduction.\n",
      "  final_df[tcol] = final_df.sum(axis=1)\n"
     ]
    },
    {
     "name": "stdout",
     "output_type": "stream",
     "text": [
      "                        peptide  euggr_sec_1  euggr_total\n",
      "0            AAAAAAAAAAPSAEEPPK            1            1\n",
      "1         AAAAAAATGGVAAPAPAVADR           14           14\n",
      "2              AAAAAADPSLALGHSK            6            6\n",
      "3  AAAAAATPAPAPAEAAAAVAMASATGSK            9            9\n",
      "4                    AAAAAAVAER            2            2\n"
     ]
    },
    {
     "name": "stderr",
     "output_type": "stream",
     "text": [
      "/tmp/ipykernel_19879/3520849750.py:19: DeprecationWarning: `np.float` is a deprecated alias for the builtin `float`. To silence this warning, use `float` by itself. Doing this will not modify any behavior and is safe. If you specifically wanted the numpy scalar type, use `np.float64` here.\n",
      "Deprecated in NumPy 1.20; for more details and guidance: https://numpy.org/devdocs/release/1.20.0-notes.html#deprecations\n",
      "  if final_df[c].dtype == np.float:\n",
      "/tmp/ipykernel_19879/3520849750.py:23: FutureWarning: Dropping of nuisance columns in DataFrame reductions (with 'numeric_only=None') is deprecated; in a future version this will raise TypeError.  Select only valid columns before calling the reduction.\n",
      "  final_df[tcol] = final_df.sum(axis=1)\n"
     ]
    },
    {
     "name": "stdout",
     "output_type": "stream",
     "text": [
      "                   peptide  tryb2_sec_1  tryb2_sec_2  tryb2_sax_1  tryb2_total\n",
      "0   AAAAAAAAEVESGIAGVEETLR            1           33            0           34\n",
      "1  AAAAAAAAEVESGIAGVEETLRR           28           31            0           59\n",
      "2         AAAAAARRMESSGIIK            3           21            1           25\n",
      "3                AAAAAASAR            1            0            0            1\n",
      "4              AAAAAASARMK            4            0            0            4\n"
     ]
    },
    {
     "name": "stderr",
     "output_type": "stream",
     "text": [
      "/tmp/ipykernel_19879/3520849750.py:19: DeprecationWarning: `np.float` is a deprecated alias for the builtin `float`. To silence this warning, use `float` by itself. Doing this will not modify any behavior and is safe. If you specifically wanted the numpy scalar type, use `np.float64` here.\n",
      "Deprecated in NumPy 1.20; for more details and guidance: https://numpy.org/devdocs/release/1.20.0-notes.html#deprecations\n",
      "  if final_df[c].dtype == np.float:\n",
      "/tmp/ipykernel_19879/3520849750.py:23: FutureWarning: Dropping of nuisance columns in DataFrame reductions (with 'numeric_only=None') is deprecated; in a future version this will raise TypeError.  Select only valid columns before calling the reduction.\n",
      "  final_df[tcol] = final_df.sum(axis=1)\n"
     ]
    },
    {
     "name": "stdout",
     "output_type": "stream",
     "text": [
      "                            peptide  phatc_sec_1  phatc_iex_1  phatc_total\n",
      "0          AAAAAAAAVETAPADTSSFRPAVK            8           23           31\n",
      "1                     AAAAAAHHHGNKK            1            0            1\n",
      "2         AAAAAASMVPFHCVICFEEFTSTDR            1            0            1\n",
      "3  AAAAAVEAAAVDVDVTAAANAAALAVHEAADR           21           44           65\n",
      "4                   AAAAHAISTLLTEHK            2            0            2\n"
     ]
    },
    {
     "name": "stderr",
     "output_type": "stream",
     "text": [
      "/tmp/ipykernel_19879/3520849750.py:19: DeprecationWarning: `np.float` is a deprecated alias for the builtin `float`. To silence this warning, use `float` by itself. Doing this will not modify any behavior and is safe. If you specifically wanted the numpy scalar type, use `np.float64` here.\n",
      "Deprecated in NumPy 1.20; for more details and guidance: https://numpy.org/devdocs/release/1.20.0-notes.html#deprecations\n",
      "  if final_df[c].dtype == np.float:\n",
      "/tmp/ipykernel_19879/3520849750.py:23: FutureWarning: Dropping of nuisance columns in DataFrame reductions (with 'numeric_only=None') is deprecated; in a future version this will raise TypeError.  Select only valid columns before calling the reduction.\n",
      "  final_df[tcol] = final_df.sum(axis=1)\n"
     ]
    },
    {
     "name": "stdout",
     "output_type": "stream",
     "text": [
      "                                           peptide  plaba_bng_1  plaba_bng_2  \\\n",
      "0                              AAAPCVLFFDELDSIGTQR          101          106   \n",
      "1  AAAPCVLFFDELDSIGTQRGSSLGDGSGAGDRVMNQLLTEIDGVGPK            2            0   \n",
      "2                                      AACFDPVEPDK            1            0   \n",
      "3                                   AADIGADLVGKIEK            2            1   \n",
      "4                                   AADIMTEALDFAQK            4            3   \n",
      "\n",
      "   plaba_bng_3  plaba_total  \n",
      "0           36          243  \n",
      "1            3            5  \n",
      "2            2            3  \n",
      "3            3            6  \n",
      "4            0            7  \n"
     ]
    },
    {
     "name": "stderr",
     "output_type": "stream",
     "text": [
      "/tmp/ipykernel_19879/3520849750.py:19: DeprecationWarning: `np.float` is a deprecated alias for the builtin `float`. To silence this warning, use `float` by itself. Doing this will not modify any behavior and is safe. If you specifically wanted the numpy scalar type, use `np.float64` here.\n",
      "Deprecated in NumPy 1.20; for more details and guidance: https://numpy.org/devdocs/release/1.20.0-notes.html#deprecations\n",
      "  if final_df[c].dtype == np.float:\n",
      "/tmp/ipykernel_19879/3520849750.py:23: FutureWarning: Dropping of nuisance columns in DataFrame reductions (with 'numeric_only=None') is deprecated; in a future version this will raise TypeError.  Select only valid columns before calling the reduction.\n",
      "  final_df[tcol] = final_df.sum(axis=1)\n"
     ]
    },
    {
     "name": "stdout",
     "output_type": "stream",
     "text": [
      "                              peptide  plaf7_bng_4  plaf7_iex_2  plaf7_bng_5  \\\n",
      "0                AAAAEISASANAAGAAEIMK            1            0            0   \n",
      "1                 AAAPCVLFFDELDSIGTQR          254           22          266   \n",
      "2                             AACLLPK            2            0            0   \n",
      "3  AADIEQQAVFAVFDENKSWYIEDNIYKFCENPEK            1            0            0   \n",
      "4                      AADIGADLVGKVEK            1            0            0   \n",
      "\n",
      "   plaf7_wwc_1  plaf7_bng_6  plaf7_bng_9  plaf7_iex_1  plaf7_bng_8  \\\n",
      "0            0            1           11            0           10   \n",
      "1           85          294          211            0          231   \n",
      "2            0            0            0            0            0   \n",
      "3            0            0            0            0            0   \n",
      "4            0            0            0            0            0   \n",
      "\n",
      "   plaf7_bng_7  plaf7_total  \n",
      "0            4           27  \n",
      "1          170         1533  \n",
      "2            0            2  \n",
      "3            0            1  \n",
      "4            0            1  \n"
     ]
    },
    {
     "name": "stderr",
     "output_type": "stream",
     "text": [
      "/tmp/ipykernel_19879/3520849750.py:19: DeprecationWarning: `np.float` is a deprecated alias for the builtin `float`. To silence this warning, use `float` by itself. Doing this will not modify any behavior and is safe. If you specifically wanted the numpy scalar type, use `np.float64` here.\n",
      "Deprecated in NumPy 1.20; for more details and guidance: https://numpy.org/devdocs/release/1.20.0-notes.html#deprecations\n",
      "  if final_df[c].dtype == np.float:\n",
      "/tmp/ipykernel_19879/3520849750.py:23: FutureWarning: Dropping of nuisance columns in DataFrame reductions (with 'numeric_only=None') is deprecated; in a future version this will raise TypeError.  Select only valid columns before calling the reduction.\n",
      "  final_df[tcol] = final_df.sum(axis=1)\n"
     ]
    },
    {
     "name": "stdout",
     "output_type": "stream",
     "text": [
      "                               peptide  plakh_bng_14  plakh_bng_13  \\\n",
      "0                  AAAINDTKNACLKYIDYLK             1             0   \n",
      "1                  AAAPCVLFFDELDSIGTQR           219            29   \n",
      "2                    AAAQEVQTKWKLNEEVK             1             0   \n",
      "3  AAARAAATATATATATATAAAQGVDGQITENSSMK             1             2   \n",
      "4       AACEHMAKLLNHMYQNANSGTNKYSDQIIK             1             0   \n",
      "\n",
      "   plakh_bng_15  plakh_bng_12  plakh_bng_11  plakh_bng_10  plakh_total  \n",
      "0             0             0             0             0            1  \n",
      "1           301           259           281           385         1474  \n",
      "2             0             0             0             0            1  \n",
      "3             0             0             0             0            3  \n",
      "4             0             0             0             0            1  \n"
     ]
    },
    {
     "name": "stderr",
     "output_type": "stream",
     "text": [
      "/tmp/ipykernel_19879/3520849750.py:19: DeprecationWarning: `np.float` is a deprecated alias for the builtin `float`. To silence this warning, use `float` by itself. Doing this will not modify any behavior and is safe. If you specifically wanted the numpy scalar type, use `np.float64` here.\n",
      "Deprecated in NumPy 1.20; for more details and guidance: https://numpy.org/devdocs/release/1.20.0-notes.html#deprecations\n",
      "  if final_df[c].dtype == np.float:\n",
      "/tmp/ipykernel_19879/3520849750.py:23: FutureWarning: Dropping of nuisance columns in DataFrame reductions (with 'numeric_only=None') is deprecated; in a future version this will raise TypeError.  Select only valid columns before calling the reduction.\n",
      "  final_df[tcol] = final_df.sum(axis=1)\n"
     ]
    },
    {
     "name": "stdout",
     "output_type": "stream",
     "text": [
      "                      peptide  tetts_sec_1  tetts_iex_1  tetts_iex_xlink_1  \\\n",
      "0            AAAAAAAAAVVQEENK            7            0                  0   \n",
      "1          AAAAAAAAAVVQEENKEK           24           62                  0   \n",
      "2                  AAAALNEALK           34           32                  0   \n",
      "3  AAACVAQQLENLIIQIVLATVNMGMR            1            0                  0   \n",
      "4                   AAAGNLSAK            2            1                  0   \n",
      "\n",
      "   tetts_iex_2  tetts_sec_3  tetts_sec_2  tetts_total  \n",
      "0            0           19            0           26  \n",
      "1           16           33            1          136  \n",
      "2            8            9            5           88  \n",
      "3            0            0            0            1  \n",
      "4            2            3            0            8  \n"
     ]
    },
    {
     "name": "stderr",
     "output_type": "stream",
     "text": [
      "/tmp/ipykernel_19879/3520849750.py:19: DeprecationWarning: `np.float` is a deprecated alias for the builtin `float`. To silence this warning, use `float` by itself. Doing this will not modify any behavior and is safe. If you specifically wanted the numpy scalar type, use `np.float64` here.\n",
      "Deprecated in NumPy 1.20; for more details and guidance: https://numpy.org/devdocs/release/1.20.0-notes.html#deprecations\n",
      "  if final_df[c].dtype == np.float:\n",
      "/tmp/ipykernel_19879/3520849750.py:23: FutureWarning: Dropping of nuisance columns in DataFrame reductions (with 'numeric_only=None') is deprecated; in a future version this will raise TypeError.  Select only valid columns before calling the reduction.\n",
      "  final_df[tcol] = final_df.sum(axis=1)\n"
     ]
    },
    {
     "name": "stdout",
     "output_type": "stream",
     "text": [
      "                               peptide  arath_iex_1  arath_sec_1  arath_iex_4  \\\n",
      "0  AAAAAANVAANAALQAKLMAEEASLPNASDQGLPK            1            0            0   \n",
      "1                         AAAAAERMWSTR            1            0            0   \n",
      "2                      AAAAAKTSEADPDQR            1            0            0   \n",
      "3                          AAAAASGGDGK            1            0            0   \n",
      "4             AAAACVINEESRRPGMEEIVSILK            1            0            0   \n",
      "\n",
      "   arath_wwc_1  arath_iex_3  arath_iex_5  arath_iex_2  arath_total  \n",
      "0            0            0            0            0            1  \n",
      "1            0            0            0            0            1  \n",
      "2            0            0            0            0            1  \n",
      "3            0            0            0            0            1  \n",
      "4            0            1            0            0            2  \n"
     ]
    },
    {
     "name": "stderr",
     "output_type": "stream",
     "text": [
      "/tmp/ipykernel_19879/3520849750.py:19: DeprecationWarning: `np.float` is a deprecated alias for the builtin `float`. To silence this warning, use `float` by itself. Doing this will not modify any behavior and is safe. If you specifically wanted the numpy scalar type, use `np.float64` here.\n",
      "Deprecated in NumPy 1.20; for more details and guidance: https://numpy.org/devdocs/release/1.20.0-notes.html#deprecations\n",
      "  if final_df[c].dtype == np.float:\n",
      "/tmp/ipykernel_19879/3520849750.py:23: FutureWarning: Dropping of nuisance columns in DataFrame reductions (with 'numeric_only=None') is deprecated; in a future version this will raise TypeError.  Select only valid columns before calling the reduction.\n",
      "  final_df[tcol] = final_df.sum(axis=1)\n"
     ]
    },
    {
     "name": "stdout",
     "output_type": "stream",
     "text": [
      "                  peptide  braol_ief_1  braol_wwc_1  braol_sec_1  braol_iex_1  \\\n",
      "0       AAAAAANVAANAAFQAK            5            1            0            0   \n",
      "1   AAAAAESSDSGSELVEPESSK            1            0            7            1   \n",
      "2  AAAAAESSDSGSELVEPESSKK            1            0            0            0   \n",
      "3        AAAAGDQVSQMLELGR            1            0            0            0   \n",
      "4          AAAALMFADGSMGR           11            0            0            0   \n",
      "\n",
      "   braol_total  \n",
      "0            6  \n",
      "1            9  \n",
      "2            1  \n",
      "3            1  \n",
      "4           11  \n"
     ]
    },
    {
     "name": "stderr",
     "output_type": "stream",
     "text": [
      "/tmp/ipykernel_19879/3520849750.py:19: DeprecationWarning: `np.float` is a deprecated alias for the builtin `float`. To silence this warning, use `float` by itself. Doing this will not modify any behavior and is safe. If you specifically wanted the numpy scalar type, use `np.float64` here.\n",
      "Deprecated in NumPy 1.20; for more details and guidance: https://numpy.org/devdocs/release/1.20.0-notes.html#deprecations\n",
      "  if final_df[c].dtype == np.float:\n",
      "/tmp/ipykernel_19879/3520849750.py:23: FutureWarning: Dropping of nuisance columns in DataFrame reductions (with 'numeric_only=None') is deprecated; in a future version this will raise TypeError.  Select only valid columns before calling the reduction.\n",
      "  final_df[tcol] = final_df.sum(axis=1)\n"
     ]
    },
    {
     "name": "stdout",
     "output_type": "stream",
     "text": [
      "                    peptide  cansa_iex_1  cansa_total\n",
      "0          AAAAAAALMMGEDFYK            1            1\n",
      "1           AAAAANPSPSFPSLK           11           11\n",
      "2          AAAADDSKFFCNLLGR            1            1\n",
      "3  AAAAEAPSAINHITSFSPPPPSTK            5            5\n",
      "4            AAAAELLYTLQPDK            3            3\n"
     ]
    },
    {
     "name": "stderr",
     "output_type": "stream",
     "text": [
      "/tmp/ipykernel_19879/3520849750.py:19: DeprecationWarning: `np.float` is a deprecated alias for the builtin `float`. To silence this warning, use `float` by itself. Doing this will not modify any behavior and is safe. If you specifically wanted the numpy scalar type, use `np.float64` here.\n",
      "Deprecated in NumPy 1.20; for more details and guidance: https://numpy.org/devdocs/release/1.20.0-notes.html#deprecations\n",
      "  if final_df[c].dtype == np.float:\n",
      "/tmp/ipykernel_19879/3520849750.py:23: FutureWarning: Dropping of nuisance columns in DataFrame reductions (with 'numeric_only=None') is deprecated; in a future version this will raise TypeError.  Select only valid columns before calling the reduction.\n",
      "  final_df[tcol] = final_df.sum(axis=1)\n"
     ]
    },
    {
     "name": "stdout",
     "output_type": "stream",
     "text": [
      "                    peptide  cerri_wwc_1  cerri_sec_1  cerri_total\n",
      "0               AAAAAAEDVTK            1            1            2\n",
      "1           AAAAAAIDFGEASSK            1            0            1\n",
      "2            AAAAAAPHSALPTR            2            1            3\n",
      "3       AAAAAGGDGDAEEEDEEKK            1            0            1\n",
      "4  AAAAAVQMGNDNGYNVRMDAHYAT            1            0            1\n"
     ]
    },
    {
     "name": "stderr",
     "output_type": "stream",
     "text": [
      "/tmp/ipykernel_19879/3520849750.py:19: DeprecationWarning: `np.float` is a deprecated alias for the builtin `float`. To silence this warning, use `float` by itself. Doing this will not modify any behavior and is safe. If you specifically wanted the numpy scalar type, use `np.float64` here.\n",
      "Deprecated in NumPy 1.20; for more details and guidance: https://numpy.org/devdocs/release/1.20.0-notes.html#deprecations\n",
      "  if final_df[c].dtype == np.float:\n",
      "/tmp/ipykernel_19879/3520849750.py:23: FutureWarning: Dropping of nuisance columns in DataFrame reductions (with 'numeric_only=None') is deprecated; in a future version this will raise TypeError.  Select only valid columns before calling the reduction.\n",
      "  final_df[tcol] = final_df.sum(axis=1)\n"
     ]
    },
    {
     "name": "stdout",
     "output_type": "stream",
     "text": [
      "          peptide  cheqi_iex_1  cheqi_total\n",
      "0   AAAAAAAQPGMTI           55           55\n",
      "1   AAAAAAAQSGMTI           64           64\n",
      "2    AAAAAAFANNMK            1            1\n",
      "3  AAAAAATVPDTNEK            9            9\n",
      "4    AAAAAFQENVGR            4            4\n"
     ]
    },
    {
     "name": "stderr",
     "output_type": "stream",
     "text": [
      "/tmp/ipykernel_19879/3520849750.py:19: DeprecationWarning: `np.float` is a deprecated alias for the builtin `float`. To silence this warning, use `float` by itself. Doing this will not modify any behavior and is safe. If you specifically wanted the numpy scalar type, use `np.float64` here.\n",
      "Deprecated in NumPy 1.20; for more details and guidance: https://numpy.org/devdocs/release/1.20.0-notes.html#deprecations\n",
      "  if final_df[c].dtype == np.float:\n",
      "/tmp/ipykernel_19879/3520849750.py:23: FutureWarning: Dropping of nuisance columns in DataFrame reductions (with 'numeric_only=None') is deprecated; in a future version this will raise TypeError.  Select only valid columns before calling the reduction.\n",
      "  final_df[tcol] = final_df.sum(axis=1)\n"
     ]
    },
    {
     "name": "stdout",
     "output_type": "stream",
     "text": [
      "                                             peptide  chlre_sec_xlink_1  \\\n",
      "0                     AAAAAAAAAAAAAAATAPTTAAAAAAPSPR                  1   \n",
      "1                AAAAAAAAAAAAAGPAAAKPGAHHMANGGSAAAGK                  1   \n",
      "2  AAAAAAAAAAAAGGGAMGNAGSAAATGAGASGGAGGAAGGQLEVGG...                  1   \n",
      "3                AAAAAAAAAAAAPAPSLPSFSGLSTAHFGRGASSR                  1   \n",
      "4                 AAAAAAAAAAAEDSDSEAGSEAAAALPPADRSVR                  1   \n",
      "\n",
      "   chlre_sec_2  chlre_wwc_1  chlre_sec_1  chlre_sec_xlink_2  chlre_total  \n",
      "0            0            0            0                  2            3  \n",
      "1            0            0            1                 11           13  \n",
      "2            0            0            0                  0            1  \n",
      "3            0            0            0                  0            1  \n",
      "4            0            0            0                  0            1  \n"
     ]
    },
    {
     "name": "stderr",
     "output_type": "stream",
     "text": [
      "/tmp/ipykernel_19879/3520849750.py:19: DeprecationWarning: `np.float` is a deprecated alias for the builtin `float`. To silence this warning, use `float` by itself. Doing this will not modify any behavior and is safe. If you specifically wanted the numpy scalar type, use `np.float64` here.\n",
      "Deprecated in NumPy 1.20; for more details and guidance: https://numpy.org/devdocs/release/1.20.0-notes.html#deprecations\n",
      "  if final_df[c].dtype == np.float:\n",
      "/tmp/ipykernel_19879/3520849750.py:23: FutureWarning: Dropping of nuisance columns in DataFrame reductions (with 'numeric_only=None') is deprecated; in a future version this will raise TypeError.  Select only valid columns before calling the reduction.\n",
      "  final_df[tcol] = final_df.sum(axis=1)\n"
     ]
    },
    {
     "name": "stdout",
     "output_type": "stream",
     "text": [
      "                      peptide  cocnu_sec_1  cocnu_total\n",
      "0            AAAAAAAAAAAQQQWK            3            3\n",
      "1  AAAAAAAAAAAQQQWKVGDLVLAKMK            1            1\n",
      "2    AAAAAAAASAEDDDEEEDSGSSAR            1            1\n",
      "3        AAAAAALMLGGDESHKFIGR            2            2\n",
      "4                  AAAAAANGMK            1            1\n"
     ]
    },
    {
     "name": "stderr",
     "output_type": "stream",
     "text": [
      "/tmp/ipykernel_19879/3520849750.py:19: DeprecationWarning: `np.float` is a deprecated alias for the builtin `float`. To silence this warning, use `float` by itself. Doing this will not modify any behavior and is safe. If you specifically wanted the numpy scalar type, use `np.float64` here.\n",
      "Deprecated in NumPy 1.20; for more details and guidance: https://numpy.org/devdocs/release/1.20.0-notes.html#deprecations\n",
      "  if final_df[c].dtype == np.float:\n",
      "/tmp/ipykernel_19879/3520849750.py:23: FutureWarning: Dropping of nuisance columns in DataFrame reductions (with 'numeric_only=None') is deprecated; in a future version this will raise TypeError.  Select only valid columns before calling the reduction.\n",
      "  final_df[tcol] = final_df.sum(axis=1)\n"
     ]
    },
    {
     "name": "stdout",
     "output_type": "stream",
     "text": [
      "                 peptide  maize_sec_1  maize_total\n",
      "0     AAAAAAAAEAEEEAASAK           10           10\n",
      "1   AAAAAAAAEAEEEAASAKKK            1            1\n",
      "2  AAAAAAAAEEDHGGGGGYDGK            2            2\n",
      "3       AAAAAAAAEGPGDAKR            1            1\n",
      "4         AAAAAAAAVAEDKR            4            4\n"
     ]
    },
    {
     "name": "stderr",
     "output_type": "stream",
     "text": [
      "/tmp/ipykernel_19879/3520849750.py:19: DeprecationWarning: `np.float` is a deprecated alias for the builtin `float`. To silence this warning, use `float` by itself. Doing this will not modify any behavior and is safe. If you specifically wanted the numpy scalar type, use `np.float64` here.\n",
      "Deprecated in NumPy 1.20; for more details and guidance: https://numpy.org/devdocs/release/1.20.0-notes.html#deprecations\n",
      "  if final_df[c].dtype == np.float:\n",
      "/tmp/ipykernel_19879/3520849750.py:23: FutureWarning: Dropping of nuisance columns in DataFrame reductions (with 'numeric_only=None') is deprecated; in a future version this will raise TypeError.  Select only valid columns before calling the reduction.\n",
      "  final_df[tcol] = final_df.sum(axis=1)\n"
     ]
    },
    {
     "name": "stdout",
     "output_type": "stream",
     "text": [
      "                                         peptide  orysj_iex_2  orysj_iex_1  \\\n",
      "0                   AAAAAAAAAAAAAGGSGGEAAVAALEPK            2            0   \n",
      "1  AAAAAAAAAAAAAVAEPSSQPEALAEDPAPSSQPLGLSSEGAGER            2            0   \n",
      "2                             AAAAAAAAAAAPPPVVMR            1            0   \n",
      "3                         AAAAAAAAAAAPPPVVMREMPR            1            0   \n",
      "4                                     AAAAAAAAAK            2            2   \n",
      "\n",
      "   orysj_sec_1  orysj_total  \n",
      "0            2            4  \n",
      "1           32           34  \n",
      "2            0            1  \n",
      "3            0            1  \n",
      "4            0            4  \n"
     ]
    },
    {
     "name": "stderr",
     "output_type": "stream",
     "text": [
      "/tmp/ipykernel_19879/3520849750.py:19: DeprecationWarning: `np.float` is a deprecated alias for the builtin `float`. To silence this warning, use `float` by itself. Doing this will not modify any behavior and is safe. If you specifically wanted the numpy scalar type, use `np.float64` here.\n",
      "Deprecated in NumPy 1.20; for more details and guidance: https://numpy.org/devdocs/release/1.20.0-notes.html#deprecations\n",
      "  if final_df[c].dtype == np.float:\n",
      "/tmp/ipykernel_19879/3520849750.py:23: FutureWarning: Dropping of nuisance columns in DataFrame reductions (with 'numeric_only=None') is deprecated; in a future version this will raise TypeError.  Select only valid columns before calling the reduction.\n",
      "  final_df[tcol] = final_df.sum(axis=1)\n"
     ]
    },
    {
     "name": "stdout",
     "output_type": "stream",
     "text": [
      "                   peptide  selml_sec_1  selml_wwc_1  selml_total\n",
      "0            AAAAAAAAAEKPR            1            0            1\n",
      "1  AAAAAAAVTTTTTTEHDDFFALK            1            0            1\n",
      "2        AAAAAANVAYAAALQAR           14            0           14\n",
      "3   AAAAAATGDSNAAFPATATFVK            1            0            1\n",
      "4  AAAAADKDGSGGGGGGVAAAAMK            1            2            3\n",
      "                            peptide  sollc_iex_1  sollc_total\n",
      "0                    AAAANNDNDKKMQK            4            4\n",
      "1                 AAAATQFGSGWAWLAYK           15           15\n",
      "2                        AAAATVLASK            1            1\n",
      "3                          AAACKPHR            1            1\n",
      "4  AAADTLSALALNSSNLVAGGATSTLTVLEASR            1            1\n"
     ]
    },
    {
     "name": "stderr",
     "output_type": "stream",
     "text": [
      "/tmp/ipykernel_19879/3520849750.py:19: DeprecationWarning: `np.float` is a deprecated alias for the builtin `float`. To silence this warning, use `float` by itself. Doing this will not modify any behavior and is safe. If you specifically wanted the numpy scalar type, use `np.float64` here.\n",
      "Deprecated in NumPy 1.20; for more details and guidance: https://numpy.org/devdocs/release/1.20.0-notes.html#deprecations\n",
      "  if final_df[c].dtype == np.float:\n",
      "/tmp/ipykernel_19879/3520849750.py:23: FutureWarning: Dropping of nuisance columns in DataFrame reductions (with 'numeric_only=None') is deprecated; in a future version this will raise TypeError.  Select only valid columns before calling the reduction.\n",
      "  final_df[tcol] = final_df.sum(axis=1)\n",
      "/tmp/ipykernel_19879/3520849750.py:19: DeprecationWarning: `np.float` is a deprecated alias for the builtin `float`. To silence this warning, use `float` by itself. Doing this will not modify any behavior and is safe. If you specifically wanted the numpy scalar type, use `np.float64` here.\n",
      "Deprecated in NumPy 1.20; for more details and guidance: https://numpy.org/devdocs/release/1.20.0-notes.html#deprecations\n",
      "  if final_df[c].dtype == np.float:\n",
      "/tmp/ipykernel_19879/3520849750.py:23: FutureWarning: Dropping of nuisance columns in DataFrame reductions (with 'numeric_only=None') is deprecated; in a future version this will raise TypeError.  Select only valid columns before calling the reduction.\n",
      "  final_df[tcol] = final_df.sum(axis=1)\n"
     ]
    },
    {
     "name": "stdout",
     "output_type": "stream",
     "text": [
      "                            peptide  soybn_sec_2  soybn_sec_xlink_1  \\\n",
      "0  AAAAAAAAAAAVAGTVPENETAEDKAEVIEPK           10                  1   \n",
      "1                     AAAAAAAATAAPK           23                  0   \n",
      "2           AAAAAAEISNGKVDDSNADKSEK            1                  0   \n",
      "3                 AAAAAANVASNAALHAK            2                  0   \n",
      "4                 AAAAAANVASNAALQAK           16                  0   \n",
      "\n",
      "   soybn_sec_1  soybn_total  \n",
      "0           12           23  \n",
      "1           11           34  \n",
      "2            0            1  \n",
      "3            0            2  \n",
      "4           16           32  \n"
     ]
    },
    {
     "name": "stderr",
     "output_type": "stream",
     "text": [
      "/tmp/ipykernel_19879/3520849750.py:19: DeprecationWarning: `np.float` is a deprecated alias for the builtin `float`. To silence this warning, use `float` by itself. Doing this will not modify any behavior and is safe. If you specifically wanted the numpy scalar type, use `np.float64` here.\n",
      "Deprecated in NumPy 1.20; for more details and guidance: https://numpy.org/devdocs/release/1.20.0-notes.html#deprecations\n",
      "  if final_df[c].dtype == np.float:\n",
      "/tmp/ipykernel_19879/3520849750.py:23: FutureWarning: Dropping of nuisance columns in DataFrame reductions (with 'numeric_only=None') is deprecated; in a future version this will raise TypeError.  Select only valid columns before calling the reduction.\n",
      "  final_df[tcol] = final_df.sum(axis=1)\n"
     ]
    },
    {
     "name": "stdout",
     "output_type": "stream",
     "text": [
      "                           peptide  wheat_sec_3  wheat_sec_2  wheat_ief_1  \\\n",
      "0                   AAAAAAAAAAEKGK            1            0            0   \n",
      "1             AAAAAAAAASASGGGGGGDR            1            0            0   \n",
      "2      AAAAAAAAMVVDAGGSSGSCGAGEQGR            1            0            0   \n",
      "3                 AAAAAAAASSSSASSR            1            0            0   \n",
      "4  AAAAAAAAVATAAEAATPPTPSGSGSPEGGK            1            0            0   \n",
      "\n",
      "   wheat_iex_1  wheat_total  \n",
      "0            0            1  \n",
      "1            0            1  \n",
      "2            0            1  \n",
      "3            0            1  \n",
      "4            0            1  \n"
     ]
    }
   ],
   "source": [
    "for s in species:\n",
    "    pep_files = [f for f in os.listdir(data_dir) if re.match(s, f)]\n",
    "    df_list = []\n",
    "    for f in pep_files:\n",
    "        df = pd.read_csv(data_dir+f, sep='\\t')\n",
    "        ncol = f.replace('.pepcount', '')\n",
    "        df.columns.values[0] = \"peptide\"\n",
    "        df.columns.values[1] = ncol\n",
    "        df_out = df.iloc[:, 0:2]\n",
    "        df_list.append(df_out)\n",
    "    \n",
    "    if len(df_list) > 1:\n",
    "        final_df = reduce(lambda x, y: pd.merge(x, y, on='peptide', how='outer'), df_list)\n",
    "        final_df.fillna(0, inplace=True)\n",
    "    else:\n",
    "        final_df = df_out\n",
    "\n",
    "    for c in final_df.columns:\n",
    "        if final_df[c].dtype == np.float:\n",
    "            final_df[c] = final_df[c].astype(int)\n",
    "    \n",
    "    tcol = s+'_total'\n",
    "    final_df[tcol] = final_df.sum(axis=1)\n",
    "    \n",
    "    outfile = data_dir+s+'_peptotals.csv'\n",
    "    final_df.to_csv(outfile, index=False)\n",
    "    print(final_df.head())"
   ]
  }
 ],
 "metadata": {
  "kernelspec": {
   "display_name": "Python 3 (ipykernel)",
   "language": "python",
   "name": "python3"
  },
  "language_info": {
   "codemirror_mode": {
    "name": "ipython",
    "version": 3
   },
   "file_extension": ".py",
   "mimetype": "text/x-python",
   "name": "python",
   "nbconvert_exporter": "python",
   "pygments_lexer": "ipython3",
   "version": "3.10.6"
  }
 },
 "nbformat": 4,
 "nbformat_minor": 5
}
