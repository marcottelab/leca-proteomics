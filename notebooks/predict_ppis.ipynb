{
 "cells": [
  {
   "cell_type": "code",
   "execution_count": 1,
   "id": "3a231f57-f655-4c5b-a6ff-c77909d54afa",
   "metadata": {},
   "outputs": [],
   "source": [
    "import pickle\n",
    "import numpy as np\n",
    "import datetime as dt\n",
    "import pandas as pd\n",
    "from tpot import TPOTClassifier\n",
    "from sklearn.ensemble import ExtraTreesClassifier\n",
    "from sklearn.model_selection import GroupShuffleSplit\n",
    "from sklearn.model_selection import GroupKFold\n",
    "from sklearn.metrics import PrecisionRecallDisplay\n",
    "import seaborn as sns"
   ]
  },
  {
   "cell_type": "code",
   "execution_count": 2,
   "id": "1550ce60-0962-4797-aa0c-2f8535a40c5a",
   "metadata": {},
   "outputs": [],
   "source": [
    "fmat_file = '../ppi_ml/data/featmats/featmat_labeled.pkl'\n",
    "featsel_file = '../ppi_ml/results/feature_selection/featsel_xtrees_allres.csv'\n",
    "n_feats2sel = 10\n",
    "fdr_cutoff = 0.1\n",
    "outdir = '../ppi_ml/results/ppi_predict/10_feats/'"
   ]
  },
  {
   "cell_type": "code",
   "execution_count": 3,
   "id": "af2db1a3-b5d0-4b67-beb0-8d8d52fb596c",
   "metadata": {},
   "outputs": [
    {
     "name": "stdout",
     "output_type": "stream",
     "text": [
      "Reading in data ...\n",
      "# feats selected: 10\n"
     ]
    }
   ],
   "source": [
    "print(f'Reading in data ...')\n",
    "with open(fmat_file, 'rb') as handle:\n",
    "    fmat = pickle.load(handle)\n",
    "\n",
    "fsel = pd.read_csv(featsel_file)\n",
    "select_feats = fsel['feature'].head(n_feats2sel).tolist()\n",
    "print(f'# feats selected: {len(select_feats)}')\n",
    "\n",
    "label_cols = ['ID', 'label', 'super_group']\n",
    "data_cols = [c for c in fmat.columns.values.tolist() if c not in label_cols and c in select_feats]\n",
    "#data_cols = [c for c in fmat.columns.values.tolist() if c not in label_cols]"
   ]
  },
  {
   "cell_type": "code",
   "execution_count": 4,
   "id": "668bda89-5d9f-43c8-b45e-e6d7b2595f40",
   "metadata": {},
   "outputs": [
    {
     "data": {
      "text/plain": [
       "10"
      ]
     },
     "execution_count": 4,
     "metadata": {},
     "output_type": "execute_result"
    }
   ],
   "source": [
    "len(data_cols)"
   ]
  },
  {
   "cell_type": "code",
   "execution_count": 5,
   "id": "0d485a02-5cec-4c40-bbc1-2bb91a3a35c9",
   "metadata": {},
   "outputs": [
    {
     "data": {
      "text/plain": [
       "['entropy_bioplex2',\n",
       " 'valid.values',\n",
       " 'plate_zscore_bioplex2',\n",
       " 'plants_concat.raw.150p.pearsonR.feat',\n",
       " 'plants_concat.raw.150p.braycurtis.feat']"
      ]
     },
     "execution_count": 5,
     "metadata": {},
     "output_type": "execute_result"
    }
   ],
   "source": [
    "data_cols[0:5]"
   ]
  },
  {
   "cell_type": "code",
   "execution_count": 6,
   "id": "da8ca0ae-05a3-485f-a9a0-5269d38a2305",
   "metadata": {},
   "outputs": [],
   "source": [
    "def write_feature_subset(fmat, select_feats, label_cols, data_cols, n_feats2sel):\n",
    "    fmat_subset = fmat[label_cols + data_cols]\n",
    "    fmat_subset.to_pickle(f'../ppi_ml/data/featmats/featmat_labeled_top{n_feats2sel}feats.pkl')\n",
    "    fmat_subset.to_csv(f'../ppi_ml/data/featmats/featmat_labeled_top{n_feats2sel}feats')"
   ]
  },
  {
   "cell_type": "code",
   "execution_count": 7,
   "id": "548b688b-b2d9-4b13-bc1f-fcfdcd1116e5",
   "metadata": {
    "tags": []
   },
   "outputs": [],
   "source": [
    "write_feature_subset(fmat, select_feats, label_cols, data_cols, n_feats2sel)"
   ]
  },
  {
   "cell_type": "code",
   "execution_count": 8,
   "id": "933a31c4-ceef-462e-ae54-1a13aaeb9c35",
   "metadata": {
    "tags": []
   },
   "outputs": [],
   "source": [
    "def fmt_data(fmat, subset, label_cols, data_cols, keep_groups=True):\n",
    "    \n",
    "    # get desired subset\n",
    "    fmat_fmt = fmat[fmat['label'].isin(subset)]\n",
    "    fmat_fmt.reset_index(inplace=True, drop=True)\n",
    "    \n",
    "    # format data for sklearn input\n",
    "    X = fmat_fmt[data_cols].to_numpy()\n",
    "    y = fmat_fmt[label_cols[1]].to_numpy()\n",
    "    ids = fmat_fmt[label_cols[0]]\n",
    "    \n",
    "    if keep_groups:\n",
    "        groups = fmat_fmt[label_cols[2]].to_numpy()\n",
    "        return(X, y, ids, groups)\n",
    "    else:\n",
    "        return(X, y, ids)"
   ]
  },
  {
   "cell_type": "code",
   "execution_count": 9,
   "id": "8fe457c7-a0d7-4692-8fad-fbbd1c717c3d",
   "metadata": {},
   "outputs": [],
   "source": [
    "X, y, ids, groups = fmt_data(fmat, [1,-1], label_cols, data_cols, keep_groups=True)\n",
    "X_pred, y_pred, ids_pred = fmt_data(fmat, [0], label_cols, data_cols, keep_groups=False)"
   ]
  },
  {
   "cell_type": "code",
   "execution_count": 10,
   "id": "21da1f6b-4514-4869-9787-93d6698da7e4",
   "metadata": {},
   "outputs": [
    {
     "name": "stdout",
     "output_type": "stream",
     "text": [
      "Fold 0:\n",
      "\tTrain: index=[    1     2     3 ... 26513 26514 26515], group=[  1   1  47 ...   1   1 494]\n",
      "\tTest:  index=[    0     6     8 ... 26498 26500 26502], group=[ 511   17   56 ... 1132    7   56]\n",
      "\t # train PPIs = 19176\n",
      "\t # test PPIs = 7340\n",
      "Fold 1:\n",
      "\tTrain: index=[    0     1     2 ... 26513 26514 26515], group=[511   1   1 ...   1   1 494]\n",
      "\tTest:  index=[    3     6     8 ... 26506 26509 26510], group=[47 17 56 ... 63 10 55]\n",
      "\t # train PPIs = 18011\n",
      "\t # test PPIs = 8505\n",
      "Fold 2:\n",
      "\tTrain: index=[    1     2     4 ... 26513 26514 26515], group=[  1   1   1 ...   1   1 494]\n",
      "\tTest:  index=[    0     3     8 ... 26506 26509 26510], group=[511  47  56 ...  63  10  55]\n",
      "\t # train PPIs = 18649\n",
      "\t # test PPIs = 7867\n"
     ]
    }
   ],
   "source": [
    "gss = GroupShuffleSplit(n_splits=3, train_size=0.7, random_state=13)\n",
    "gss.get_n_splits()\n",
    "for i, (test_idx, train_idx) in enumerate(gss.split(X, y, groups)):\n",
    "    print(f\"Fold {i}:\")\n",
    "    print(f\"\\tTrain: index={train_idx}, group={groups[train_idx]}\")\n",
    "    print(f\"\\tTest:  index={test_idx}, group={groups[test_idx]}\")\n",
    "    print(f\"\\t # train PPIs = {len(X[train_idx])}\")\n",
    "    print(f\"\\t # test PPIs = {len(X[test_idx])}\")"
   ]
  },
  {
   "cell_type": "code",
   "execution_count": 11,
   "id": "36d0b91a-7ac7-4d49-b17e-5a91ae2a815d",
   "metadata": {},
   "outputs": [
    {
     "name": "stdout",
     "output_type": "stream",
     "text": [
      "# train PPIs = 18649\n",
      " --> +/- label balance: {-1: 14065, 1: 4584}\n",
      "# test PPIs = 7867\n",
      " --> +/- label balance: {-1: 5822, 1: 2045}\n"
     ]
    }
   ],
   "source": [
    "for test_idx, train_idx in gss.split(X, y, groups):\n",
    "    X_train = X[train_idx]\n",
    "    y_train = y[train_idx]\n",
    "    X_test = X[test_idx]\n",
    "    y_test = y[test_idx]\n",
    "\n",
    "# check split & label balance\n",
    "label, counts = np.unique(y_train, return_counts=True)\n",
    "label_counts_train = dict(zip(label, counts))\n",
    "label, counts = np.unique(y_test, return_counts=True)\n",
    "label_counts_test = dict(zip(label, counts))\n",
    "print(f'# train PPIs = {len(X_train)}')\n",
    "print(f' --> +/- label balance: {label_counts_train}')\n",
    "print(f'# test PPIs = {len(X_test)}')\n",
    "print(f' --> +/- label balance: {label_counts_test}')"
   ]
  },
  {
   "cell_type": "markdown",
   "id": "e99c3c4e-e95b-41b5-bed6-c6dcd4a080f6",
   "metadata": {},
   "source": [
    "### Below is the optimized model as output by TPOT ... how to automate this step & make it generalizable to the command line?"
   ]
  },
  {
   "cell_type": "code",
   "execution_count": 12,
   "id": "2fa71471-a490-4333-85b1-5aff20e93a33",
   "metadata": {},
   "outputs": [],
   "source": [
    "clf = ExtraTreesClassifier(bootstrap=True, \n",
    "                           criterion=\"gini\", \n",
    "                           max_features=0.7,\n",
    "                           min_samples_leaf=3, \n",
    "                           min_samples_split=14, \n",
    "                           n_estimators=100,\n",
    "                           n_jobs=8,\n",
    "                           random_state=13)"
   ]
  },
  {
   "cell_type": "code",
   "execution_count": 13,
   "id": "6d0506ce-fac2-451d-921a-7b89ae538e8d",
   "metadata": {},
   "outputs": [
    {
     "data": {
      "text/html": [
       "<style>#sk-container-id-1 {color: black;background-color: white;}#sk-container-id-1 pre{padding: 0;}#sk-container-id-1 div.sk-toggleable {background-color: white;}#sk-container-id-1 label.sk-toggleable__label {cursor: pointer;display: block;width: 100%;margin-bottom: 0;padding: 0.3em;box-sizing: border-box;text-align: center;}#sk-container-id-1 label.sk-toggleable__label-arrow:before {content: \"▸\";float: left;margin-right: 0.25em;color: #696969;}#sk-container-id-1 label.sk-toggleable__label-arrow:hover:before {color: black;}#sk-container-id-1 div.sk-estimator:hover label.sk-toggleable__label-arrow:before {color: black;}#sk-container-id-1 div.sk-toggleable__content {max-height: 0;max-width: 0;overflow: hidden;text-align: left;background-color: #f0f8ff;}#sk-container-id-1 div.sk-toggleable__content pre {margin: 0.2em;color: black;border-radius: 0.25em;background-color: #f0f8ff;}#sk-container-id-1 input.sk-toggleable__control:checked~div.sk-toggleable__content {max-height: 200px;max-width: 100%;overflow: auto;}#sk-container-id-1 input.sk-toggleable__control:checked~label.sk-toggleable__label-arrow:before {content: \"▾\";}#sk-container-id-1 div.sk-estimator input.sk-toggleable__control:checked~label.sk-toggleable__label {background-color: #d4ebff;}#sk-container-id-1 div.sk-label input.sk-toggleable__control:checked~label.sk-toggleable__label {background-color: #d4ebff;}#sk-container-id-1 input.sk-hidden--visually {border: 0;clip: rect(1px 1px 1px 1px);clip: rect(1px, 1px, 1px, 1px);height: 1px;margin: -1px;overflow: hidden;padding: 0;position: absolute;width: 1px;}#sk-container-id-1 div.sk-estimator {font-family: monospace;background-color: #f0f8ff;border: 1px dotted black;border-radius: 0.25em;box-sizing: border-box;margin-bottom: 0.5em;}#sk-container-id-1 div.sk-estimator:hover {background-color: #d4ebff;}#sk-container-id-1 div.sk-parallel-item::after {content: \"\";width: 100%;border-bottom: 1px solid gray;flex-grow: 1;}#sk-container-id-1 div.sk-label:hover label.sk-toggleable__label {background-color: #d4ebff;}#sk-container-id-1 div.sk-serial::before {content: \"\";position: absolute;border-left: 1px solid gray;box-sizing: border-box;top: 0;bottom: 0;left: 50%;z-index: 0;}#sk-container-id-1 div.sk-serial {display: flex;flex-direction: column;align-items: center;background-color: white;padding-right: 0.2em;padding-left: 0.2em;position: relative;}#sk-container-id-1 div.sk-item {position: relative;z-index: 1;}#sk-container-id-1 div.sk-parallel {display: flex;align-items: stretch;justify-content: center;background-color: white;position: relative;}#sk-container-id-1 div.sk-item::before, #sk-container-id-1 div.sk-parallel-item::before {content: \"\";position: absolute;border-left: 1px solid gray;box-sizing: border-box;top: 0;bottom: 0;left: 50%;z-index: -1;}#sk-container-id-1 div.sk-parallel-item {display: flex;flex-direction: column;z-index: 1;position: relative;background-color: white;}#sk-container-id-1 div.sk-parallel-item:first-child::after {align-self: flex-end;width: 50%;}#sk-container-id-1 div.sk-parallel-item:last-child::after {align-self: flex-start;width: 50%;}#sk-container-id-1 div.sk-parallel-item:only-child::after {width: 0;}#sk-container-id-1 div.sk-dashed-wrapped {border: 1px dashed gray;margin: 0 0.4em 0.5em 0.4em;box-sizing: border-box;padding-bottom: 0.4em;background-color: white;}#sk-container-id-1 div.sk-label label {font-family: monospace;font-weight: bold;display: inline-block;line-height: 1.2em;}#sk-container-id-1 div.sk-label-container {text-align: center;}#sk-container-id-1 div.sk-container {/* jupyter's `normalize.less` sets `[hidden] { display: none; }` but bootstrap.min.css set `[hidden] { display: none !important; }` so we also need the `!important` here to be able to override the default hidden behavior on the sphinx rendered scikit-learn.org. See: https://github.com/scikit-learn/scikit-learn/issues/21755 */display: inline-block !important;position: relative;}#sk-container-id-1 div.sk-text-repr-fallback {display: none;}</style><div id=\"sk-container-id-1\" class=\"sk-top-container\"><div class=\"sk-text-repr-fallback\"><pre>ExtraTreesClassifier(bootstrap=True, max_features=0.7, min_samples_leaf=3,\n",
       "                     min_samples_split=14, n_jobs=8, random_state=13)</pre><b>In a Jupyter environment, please rerun this cell to show the HTML representation or trust the notebook. <br />On GitHub, the HTML representation is unable to render, please try loading this page with nbviewer.org.</b></div><div class=\"sk-container\" hidden><div class=\"sk-item\"><div class=\"sk-estimator sk-toggleable\"><input class=\"sk-toggleable__control sk-hidden--visually\" id=\"sk-estimator-id-1\" type=\"checkbox\" checked><label for=\"sk-estimator-id-1\" class=\"sk-toggleable__label sk-toggleable__label-arrow\">ExtraTreesClassifier</label><div class=\"sk-toggleable__content\"><pre>ExtraTreesClassifier(bootstrap=True, max_features=0.7, min_samples_leaf=3,\n",
       "                     min_samples_split=14, n_jobs=8, random_state=13)</pre></div></div></div></div></div>"
      ],
      "text/plain": [
       "ExtraTreesClassifier(bootstrap=True, max_features=0.7, min_samples_leaf=3,\n",
       "                     min_samples_split=14, n_jobs=8, random_state=13)"
      ]
     },
     "execution_count": 13,
     "metadata": {},
     "output_type": "execute_result"
    }
   ],
   "source": [
    "clf.fit(X_train, y_train)"
   ]
  },
  {
   "cell_type": "code",
   "execution_count": 14,
   "id": "86314982-d50f-403b-81a8-8171abb0d2a6",
   "metadata": {},
   "outputs": [
    {
     "data": {
      "text/plain": [
       "<sklearn.metrics._plot.precision_recall_curve.PrecisionRecallDisplay at 0x7ff7440853f0>"
      ]
     },
     "execution_count": 14,
     "metadata": {},
     "output_type": "execute_result"
    },
    {
     "data": {
      "image/png": "[encoded data removed]",
      "text/plain": [
       "<Figure size 640x480 with 1 Axes>"
      ]
     },
     "metadata": {},
     "output_type": "display_data"
    }
   ],
   "source": [
    "PrecisionRecallDisplay.from_estimator(clf, X_test, y_test)"
   ]
  },
  {
   "cell_type": "code",
   "execution_count": 15,
   "id": "6c291e41-8136-4f60-bce1-c698a922a5af",
   "metadata": {},
   "outputs": [],
   "source": [
    "def calc_pr(df):\n",
    "    \n",
    "    print(f\"Computing precision/recall ...\")\n",
    "    tp_count = 0\n",
    "    fp_count = 0\n",
    "    p_list = []\n",
    "    r_list = []\n",
    "    f_list = []\n",
    "    all_pos = len(df[df['label'] == 1])\n",
    "\n",
    "    for i in range(len(df)):\n",
    "\n",
    "        if df['label'][i] == 1:\n",
    "            tp_count += 1\n",
    "        else:\n",
    "            fp_count += 1\n",
    "\n",
    "        tps = tp_count\n",
    "        fps = fp_count\n",
    "        fns = all_pos - tps\n",
    "\n",
    "        precision = tps/(tps+fps)\n",
    "        recall = tps/(tps+fns)\n",
    "        fdr = 1 - precision\n",
    "\n",
    "        p_list.append(float(precision))\n",
    "        r_list.append(float(recall))\n",
    "        f_list.append(float(fdr))\n",
    "\n",
    "    df['precision'] = p_list\n",
    "    df['recall'] = r_list\n",
    "    df['fdr'] = f_list\n",
    "    \n",
    "    return(df)"
   ]
  },
  {
   "cell_type": "code",
   "execution_count": 16,
   "id": "b242c5c2-ab9f-4da2-a95f-15b33ae03ba6",
   "metadata": {},
   "outputs": [],
   "source": [
    "def get_scores(model, array, labels, ids):\n",
    "    \n",
    "    # predict probability scores\n",
    "    scores = model.predict_proba(array)\n",
    "    probabilities = np.split(scores, 2, axis=1)\n",
    "    neg_prob = probabilities[0]\n",
    "    pos_prob = probabilities[1]\n",
    "    \n",
    "    # format into df\n",
    "    df = pd.DataFrame()\n",
    "    df['ID'] = ids\n",
    "    df['label'] = labels\n",
    "    df['ppi_score'] = pos_prob\n",
    "    df.sort_values('ppi_score', inplace=True, ascending=False)\n",
    "    df.reset_index(inplace=True, drop=True)\n",
    "    \n",
    "    return(df)"
   ]
  },
  {
   "cell_type": "code",
   "execution_count": 17,
   "id": "ac8dbd8d-8b99-47a9-b6d5-53ee1f8b01d2",
   "metadata": {},
   "outputs": [],
   "source": [
    "def threshold_ppis(test_scores, all_res, outdir, fdr_cutoff):\n",
    "    \n",
    "    print(f'FDR cutoff: {int(fdr_cutoff*100)}%')\n",
    "    test_scores_pr = calc_pr(test_scores)\n",
    "    pr_outfile = outdir+'testset_precision_recall.csv'\n",
    "    print(f'Writing precision-recall results to {pr_outfile} ...')\n",
    "    test_scores_pr.to_csv(pr_outfile)\n",
    "    \n",
    "    thres_df = test_scores_pr[test_scores_pr['fdr'] <= fdr_cutoff]\n",
    "    prob_cutoff = min(thres_df['ppi_score'])\n",
    "    print(f'PPI score cutoff for {int(fdr_cutoff*100)}% FDR: {prob_cutoff}')\n",
    "    \n",
    "    thres_df = all_res[all_res['ppi_score'] >= prob_cutoff]\n",
    "    ids = thres_df['ID'].str.split(' ', expand=True)\n",
    "    uniq_prots = np.unique(ids[[0, 1]].values)\n",
    "    df_out = thres_df[['ID','ppi_score']]\n",
    "    \n",
    "    print(f'# total PPIs evaluated: {len(all_res)}')\n",
    "    print(f'# PPIs above threshold: {len(thres_df)}')\n",
    "    print(f'# unique proteins above threshold: {len(uniq_prots)}')\n",
    "    \n",
    "    return(df_out)"
   ]
  },
  {
   "cell_type": "code",
   "execution_count": 18,
   "id": "2211433a-dca2-4552-873a-060bf252cb4e",
   "metadata": {},
   "outputs": [],
   "source": [
    "test_ids = ids[test_idx]\n",
    "train_ids = ids[train_idx]\n",
    "pred_ids = ids_pred"
   ]
  },
  {
   "cell_type": "code",
   "execution_count": 19,
   "id": "2f7c05d8-9f9a-400c-9549-7bbcae38cc8b",
   "metadata": {
    "tags": []
   },
   "outputs": [
    {
     "name": "stdout",
     "output_type": "stream",
     "text": [
      "Getting probability scores ...\n",
      "Writing all results to ../ppi_ml/results/ppi_predict/10_feats/ppi_scores_all.csv ...\n"
     ]
    }
   ],
   "source": [
    "print(f\"Getting probability scores ...\")\n",
    "test_scores = get_scores(clf, X_test, y_test, test_ids)\n",
    "train_scores = get_scores(clf, X_train, y_train, train_ids)\n",
    "pred_scores = get_scores(clf, X_pred, y_pred, pred_ids)\n",
    "\n",
    "test_scores['set'] = 'test'\n",
    "train_scores['set'] = 'train'\n",
    "pred_scores['set'] = 'predict'\n",
    "\n",
    "all_res = pd.concat([test_scores, train_scores, pred_scores])\n",
    "all_res.sort_values('ppi_score', inplace=True, ascending=False)\n",
    "all_res.reset_index(inplace=True, drop=True)\n",
    "all_outfile = outdir+f'ppi_scores_all.csv'\n",
    "print(f'Writing all results to {all_outfile} ...')\n",
    "all_res.to_csv(all_outfile, index=False)"
   ]
  },
  {
   "cell_type": "code",
   "execution_count": 20,
   "id": "3f227206-43a7-422c-a7cc-0cf9e28dfae1",
   "metadata": {},
   "outputs": [
    {
     "data": {
      "text/html": [
       "<div>\n",
       "<style scoped>\n",
       "    .dataframe tbody tr th:only-of-type {\n",
       "        vertical-align: middle;\n",
       "    }\n",
       "\n",
       "    .dataframe tbody tr th {\n",
       "        vertical-align: top;\n",
       "    }\n",
       "\n",
       "    .dataframe thead th {\n",
       "        text-align: right;\n",
       "    }\n",
       "</style>\n",
       "<table border=\"1\" class=\"dataframe\">\n",
       "  <thead>\n",
       "    <tr style=\"text-align: right;\">\n",
       "      <th></th>\n",
       "      <th>ID</th>\n",
       "      <th>label</th>\n",
       "      <th>ppi_score</th>\n",
       "      <th>set</th>\n",
       "    </tr>\n",
       "  </thead>\n",
       "  <tbody>\n",
       "    <tr>\n",
       "      <th>0</th>\n",
       "      <td>KOG1078 KOG0292</td>\n",
       "      <td>1</td>\n",
       "      <td>1.000000</td>\n",
       "      <td>test</td>\n",
       "    </tr>\n",
       "    <tr>\n",
       "      <th>1</th>\n",
       "      <td>KOG0175 KOG0180</td>\n",
       "      <td>1</td>\n",
       "      <td>1.000000</td>\n",
       "      <td>test</td>\n",
       "    </tr>\n",
       "    <tr>\n",
       "      <th>2</th>\n",
       "      <td>KOG2314 KOG1560</td>\n",
       "      <td>1</td>\n",
       "      <td>1.000000</td>\n",
       "      <td>train</td>\n",
       "    </tr>\n",
       "    <tr>\n",
       "      <th>3</th>\n",
       "      <td>KOG3252 KOG2758</td>\n",
       "      <td>1</td>\n",
       "      <td>1.000000</td>\n",
       "      <td>train</td>\n",
       "    </tr>\n",
       "    <tr>\n",
       "      <th>4</th>\n",
       "      <td>KOG2570 KOG0386</td>\n",
       "      <td>1</td>\n",
       "      <td>1.000000</td>\n",
       "      <td>train</td>\n",
       "    </tr>\n",
       "    <tr>\n",
       "      <th>...</th>\n",
       "      <td>...</td>\n",
       "      <td>...</td>\n",
       "      <td>...</td>\n",
       "      <td>...</td>\n",
       "    </tr>\n",
       "    <tr>\n",
       "      <th>4491713</th>\n",
       "      <td>KOG3327 KOG0898</td>\n",
       "      <td>0</td>\n",
       "      <td>0.001371</td>\n",
       "      <td>predict</td>\n",
       "    </tr>\n",
       "    <tr>\n",
       "      <th>4491714</th>\n",
       "      <td>KOG1577 KOG1490</td>\n",
       "      <td>0</td>\n",
       "      <td>0.001371</td>\n",
       "      <td>predict</td>\n",
       "    </tr>\n",
       "    <tr>\n",
       "      <th>4491715</th>\n",
       "      <td>KOG0910 KOG2874</td>\n",
       "      <td>0</td>\n",
       "      <td>0.001371</td>\n",
       "      <td>predict</td>\n",
       "    </tr>\n",
       "    <tr>\n",
       "      <th>4491716</th>\n",
       "      <td>KOG3424 KOG2841</td>\n",
       "      <td>0</td>\n",
       "      <td>0.001245</td>\n",
       "      <td>predict</td>\n",
       "    </tr>\n",
       "    <tr>\n",
       "      <th>4491717</th>\n",
       "      <td>KOG2555 KOG4160</td>\n",
       "      <td>0</td>\n",
       "      <td>0.001086</td>\n",
       "      <td>predict</td>\n",
       "    </tr>\n",
       "  </tbody>\n",
       "</table>\n",
       "<p>4491718 rows × 4 columns</p>\n",
       "</div>"
      ],
      "text/plain": [
       "                      ID  label  ppi_score      set\n",
       "0        KOG1078 KOG0292      1   1.000000     test\n",
       "1        KOG0175 KOG0180      1   1.000000     test\n",
       "2        KOG2314 KOG1560      1   1.000000    train\n",
       "3        KOG3252 KOG2758      1   1.000000    train\n",
       "4        KOG2570 KOG0386      1   1.000000    train\n",
       "...                  ...    ...        ...      ...\n",
       "4491713  KOG3327 KOG0898      0   0.001371  predict\n",
       "4491714  KOG1577 KOG1490      0   0.001371  predict\n",
       "4491715  KOG0910 KOG2874      0   0.001371  predict\n",
       "4491716  KOG3424 KOG2841      0   0.001245  predict\n",
       "4491717  KOG2555 KOG4160      0   0.001086  predict\n",
       "\n",
       "[4491718 rows x 4 columns]"
      ]
     },
     "execution_count": 20,
     "metadata": {},
     "output_type": "execute_result"
    }
   ],
   "source": [
    "all_res"
   ]
  },
  {
   "cell_type": "code",
   "execution_count": 21,
   "id": "7b4dab25-3334-4e01-b205-01cee657d935",
   "metadata": {},
   "outputs": [
    {
     "name": "stdout",
     "output_type": "stream",
     "text": [
      "FDR cutoff: 10%\n",
      "Computing precision/recall ...\n",
      "Writing precision-recall results to ../ppi_ml/results/ppi_predict/10_feats/testset_precision_recall.csv ...\n",
      "PPI score cutoff for 10% FDR: 0.5042365365623199\n",
      "# total PPIs evaluated: 4491718\n",
      "# PPIs above threshold: 101623\n",
      "# unique proteins above threshold: 3603\n",
      "Writing thresholded results to ../ppi_ml/results/ppi_predict/10_feats/ppi_scores_fdr10.csv ...\n"
     ]
    }
   ],
   "source": [
    "fdr_cutoff = 0.10\n",
    "high_conf_ppis = threshold_ppis(test_scores, all_res, outdir, fdr_cutoff)\n",
    "thres_outfile = outdir+f'ppi_scores_fdr{int(fdr_cutoff*100)}.csv'\n",
    "print(f'Writing thresholded results to {thres_outfile} ...')\n",
    "high_conf_ppis.to_csv(thres_outfile, index=False)"
   ]
  }
 ],
 "metadata": {
  "kernelspec": {
   "display_name": "Python 3 (ipykernel)",
   "language": "python",
   "name": "python3"
  },
  "language_info": {
   "codemirror_mode": {
    "name": "ipython",
    "version": 3
   },
   "file_extension": ".py",
   "mimetype": "text/x-python",
   "name": "python",
   "nbconvert_exporter": "python",
   "pygments_lexer": "ipython3",
   "version": "3.10.6"
  }
 },
 "nbformat": 4,
 "nbformat_minor": 5
}
