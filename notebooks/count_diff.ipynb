{
 "cells": [
  {
   "cell_type": "code",
   "execution_count": 1,
   "id": "10b3faf6-8515-4df9-aaba-d5dcb2fcae7e",
   "metadata": {},
   "outputs": [],
   "source": [
    "import pandas as pd\n",
    "import pickle"
   ]
  },
  {
   "cell_type": "code",
   "execution_count": 2,
   "id": "48ac0da5-3c2a-44cb-915c-c83cc0ccbe6f",
   "metadata": {},
   "outputs": [],
   "source": [
    "old_fmat = '../ppi_ml/data/apms/old_fmat_files/featmap_humap_euNOGs.pkl'\n",
    "new_fmat = '../ppi_ml/data/apms/featmat_humap.pkl'\n",
    "final_fmat = '../ppi_ml/data/featmats/featmat_final.pkl'"
   ]
  },
  {
   "cell_type": "code",
   "execution_count": 3,
   "id": "2796da1d-4e3e-4fc7-9946-8f6b7d6ca900",
   "metadata": {},
   "outputs": [],
   "source": [
    "def read_pkl(file):\n",
    "    with open(file, 'rb') as handle:\n",
    "        df = pickle.load(handle)\n",
    "    return(df)"
   ]
  },
  {
   "cell_type": "code",
   "execution_count": 4,
   "id": "cd7c1c21-d062-4962-bb19-7e79d6361162",
   "metadata": {},
   "outputs": [],
   "source": [
    "def make_fset(x):\n",
    "    x1 = x.split(' ')[0]\n",
    "    x2 = x.split(' ')[1]\n",
    "    fset = frozenset({x1,x2})\n",
    "    return(fset)"
   ]
  },
  {
   "cell_type": "code",
   "execution_count": 5,
   "id": "bc290212-900c-430b-9087-782eddbb1df0",
   "metadata": {},
   "outputs": [],
   "source": [
    "old_df = read_pkl(old_fmat)\n",
    "new_df = read_pkl(new_fmat)"
   ]
  },
  {
   "cell_type": "code",
   "execution_count": 6,
   "id": "90634f32-8706-4940-ab14-731385c36e65",
   "metadata": {},
   "outputs": [],
   "source": [
    "old_pairs = [frozenset({i, j}) for i, j in zip(old_df['ID1'], old_df['ID2']) if len(frozenset({i, j})) > 1]\n",
    "new_pairs = [make_fset(i) for i in new_df['ID'] if len(make_fset(i)) > 1]"
   ]
  },
  {
   "cell_type": "code",
   "execution_count": 8,
   "id": "8fd08f10-76e7-4da7-a40b-708fcbe6c2f8",
   "metadata": {
    "tags": []
   },
   "outputs": [
    {
     "name": "stdout",
     "output_type": "stream",
     "text": [
      "# of pairs in old fmat = 7433945\n",
      "# of pairs in new fmat = 9617027\n"
     ]
    }
   ],
   "source": [
    "print(\"# of pairs in old fmat =\", len(old_pairs))\n",
    "print(\"# of pairs in new fmat =\", len(new_pairs))"
   ]
  },
  {
   "cell_type": "markdown",
   "id": "8be17e7e-fe40-4fab-b14c-aeb22f8780f7",
   "metadata": {},
   "source": [
    "How many pairs were added to the new/reworked APMS feature matrix?"
   ]
  },
  {
   "cell_type": "code",
   "execution_count": null,
   "id": "1b878621-8b32-431c-9e36-c377edf44e1a",
   "metadata": {
    "tags": []
   },
   "outputs": [],
   "source": [
    "diff_count = 0\n",
    "added_pairs = []\n",
    "for fset in new_pairs:\n",
    "    if fset not in old_pairs:\n",
    "        diff_count += 1\n",
    "        added_pairs.append(fset)\n",
    "diff_count"
   ]
  },
  {
   "cell_type": "markdown",
   "id": "294c95d9-1167-4245-a237-1a69108d30c9",
   "metadata": {},
   "source": [
    "How many of those pairs end up in the final feature matrix?"
   ]
  },
  {
   "cell_type": "code",
   "execution_count": null,
   "id": "5855489d-aa1f-4c41-b753-c21b09eb44a8",
   "metadata": {},
   "outputs": [],
   "source": [
    "final = read_pkl(final_fmt)\n",
    "final_pairs = [make_fset(i) for i in final['ID'] if len(make_fset(i)) > 1]"
   ]
  },
  {
   "cell_type": "code",
   "execution_count": null,
   "id": "fb730a1c-e996-45b2-9eba-4a19c807b700",
   "metadata": {},
   "outputs": [],
   "source": [
    "final_diff_count = 0\n",
    "final_added_pairs = []\n",
    "for fset in added_pairs:\n",
    "    if fset in final_pairs:\n",
    "        final_diff_count += 1\n",
    "        final_added_pairs.append(fset)"
   ]
  },
  {
   "cell_type": "code",
   "execution_count": null,
   "id": "2082c2e2-caf9-4a7d-a53d-c97a68cc2e4b",
   "metadata": {},
   "outputs": [],
   "source": [
    "final_diff_count"
   ]
  }
 ],
 "metadata": {
  "kernelspec": {
   "display_name": "Python 3 (ipykernel)",
   "language": "python",
   "name": "python3"
  },
  "language_info": {
   "codemirror_mode": {
    "name": "ipython",
    "version": 3
   },
   "file_extension": ".py",
   "mimetype": "text/x-python",
   "name": "python",
   "nbconvert_exporter": "python",
   "pygments_lexer": "ipython3",
   "version": "3.10.6"
  }
 },
 "nbformat": 4,
 "nbformat_minor": 5
}
