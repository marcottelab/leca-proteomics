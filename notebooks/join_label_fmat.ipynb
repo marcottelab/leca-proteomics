{
 "cells": [
  {
   "cell_type": "code",
   "execution_count": 19,
   "id": "54d52ddb-8fd7-4d86-893d-c67b042775a3",
   "metadata": {},
   "outputs": [],
   "source": [
    "import pandas as pd\n",
    "import pickle\n",
    "import numpy as np\n",
    "import os\n",
    "import re\n",
    "import random\n",
    "import time\n",
    "from functools import reduce\n",
    "from itertools import combinations\n",
    "from itertools import accumulate\n",
    "from collections import defaultdict"
   ]
  },
  {
   "cell_type": "code",
   "execution_count": 2,
   "id": "5fb498c6-5d79-4f74-9e97-16106449960e",
   "metadata": {},
   "outputs": [
    {
     "name": "stdout",
     "output_type": "stream",
     "text": [
      "featmat_allconcat\t  featmat_animals.pkl\tfeatmat_plants\n",
      "featmat_allconcat.pkl\t  featmat_excavate\tfeatmat_plants.pkl\n",
      "featmat_allexps_p3c2\t  featmat_excavate.pkl\tfeatmat_tsar\n",
      "featmat_allexps_p3c2.pkl  featmat_humap\t\tfeatmat_tsar.pkl\n",
      "featmat_animals\t\t  featmat_humap.pkl\n"
     ]
    }
   ],
   "source": [
    "!ls ../ppi_ml/data/feat_files/"
   ]
  },
  {
   "cell_type": "code",
   "execution_count": 3,
   "id": "d0460d55-f7bd-4453-a61c-e8d6a3cd8e53",
   "metadata": {},
   "outputs": [
    {
     "name": "stdout",
     "output_type": "stream",
     "text": [
      "KOG3599 KOG4203\n",
      "KOG0730 KOG0101 KOG0676 KOG0985\n",
      "KOG0374 ENOG502R17J\n",
      "KOG1737 KOG0439\n",
      "KOG4593 KOG3285\n",
      "KOG1724 KOG3701 KOG2166\n",
      "KOG4031 KOG4728\n",
      "KOG0266 KOG1273\n",
      "ENOG502QV4A KOG0904\n",
      "KOG0660 KOG0941\n"
     ]
    }
   ],
   "source": [
    "!head ../ppi_ml/data/gold_stds/all.gold.cmplx.noRibos.merged.txt"
   ]
  },
  {
   "cell_type": "code",
   "execution_count": null,
   "id": "f8708584-f8f2-41eb-af97-1c8fe63fca54",
   "metadata": {},
   "outputs": [],
   "source": [
    "def match_label(x, pos_ppi_dict, neg_ppi_dict):\n",
    "    group_list = []\n",
    "    for k, v in pos_ppi_dict.items():\n",
    "        if x in v:\n",
    "            group_list.append(k)\n",
    "    if len(group_list) > 1:\n",
    "        return(1, group_list)\n",
    "    elif len(group_list) == 1:\n",
    "        return(1, group_list[0])\n",
    "    elif x in neg_ppi_dict.keys():\n",
    "        return(-1, neg_ppi_dict.get(x))\n",
    "    else:\n",
    "        return(pd.nan, pd.nan)"
   ]
  },
  {
   "cell_type": "code",
   "execution_count": 5,
   "id": "b81c7119-de35-48d2-9731-effd90e7bb76",
   "metadata": {},
   "outputs": [],
   "source": [
    "data_dir = '../ppi_ml/data/feat_files/'\n",
    "lmat_file = 'featmat_allexps_p3c2.pkl'\n",
    "fmat_files = [f for f in os.listdir(data_dir) if re.match('.*.pkl', f) and f != lmat_file]\n",
    "gold_std_file = '../ppi_ml/data/gold_stds/all.gold.cmplx.noRibos.merged.txt'\n",
    "random.seed(13)"
   ]
  },
  {
   "cell_type": "code",
   "execution_count": 6,
   "id": "12b7af5c-eb70-4e17-a490-7a240f7a9b6c",
   "metadata": {},
   "outputs": [
    {
     "name": "stdout",
     "output_type": "stream",
     "text": [
      "Generating grouped positive PPI labels from gold standard complexes ...\n"
     ]
    }
   ],
   "source": [
    "print('Generating grouped positive PPI labels from gold standard complexes ...')\n",
    "pos_ppi_dict = dict()\n",
    "group_no = 0\n",
    "dupes = []\n",
    "with open(gold_std_file, 'r') as f:\n",
    "    ppis = f.read().splitlines() \n",
    "    for p in ppis:\n",
    "        ogs = p.split(' ')\n",
    "        fsets = [frozenset({i, j}) for i,j in list(combinations(ogs, 2))]\n",
    "        pos_ppi_dict.update({group_no: fsets})\n",
    "        group_no += 1"
   ]
  },
  {
   "cell_type": "code",
   "execution_count": 7,
   "id": "245d4df8-5614-4d84-a921-8a0dd800555b",
   "metadata": {},
   "outputs": [
    {
     "data": {
      "text/plain": [
       "0"
      ]
     },
     "execution_count": 7,
     "metadata": {},
     "output_type": "execute_result"
    }
   ],
   "source": [
    "len(set(dupes))"
   ]
  },
  {
   "cell_type": "code",
   "execution_count": 9,
   "id": "2450b2fe-cc04-4a0e-94b7-0f46ad72fd97",
   "metadata": {},
   "outputs": [
    {
     "name": "stdout",
     "output_type": "stream",
     "text": [
      "Getting random proteins from positive PPIs to generate negative PPIs ...\n"
     ]
    }
   ],
   "source": [
    "print('Getting random proteins from positive PPIs to generate negative PPIs ...')\n",
    "random_prots = []\n",
    "for group_no, fsets in pos_ppi_dict.items():\n",
    "    prot_list = []\n",
    "    for pair in fsets:\n",
    "        prot_list.append(list(pair)[0])\n",
    "        prot_list.append(list(pair)[1])\n",
    "    prot_list = list(set(prot_list))\n",
    "    neg_prot = random.sample(prot_list, n=2)\n",
    "    random_prots.append(neg_prot)"
   ]
  },
  {
   "cell_type": "code",
   "execution_count": 11,
   "id": "0de6ebf5-3459-470d-bb04-e545812d0352",
   "metadata": {
    "tags": []
   },
   "outputs": [],
   "source": [
    "neg_ppis = [frozenset({i, j}) for i,j in list(combinations(random_prots, 2))]"
   ]
  },
  {
   "cell_type": "code",
   "execution_count": 62,
   "id": "fb636fbc-4f5a-453b-b412-e5a5cdb49185",
   "metadata": {},
   "outputs": [
    {
     "name": "stdout",
     "output_type": "stream",
     "text": [
      "Removing overlap between random negative PPIs & positive PPIs ...\n"
     ]
    },
    {
     "ename": "KeyboardInterrupt",
     "evalue": "",
     "output_type": "error",
     "traceback": [
      "\u001b[0;31m---------------------------------------------------------------------------\u001b[0m",
      "\u001b[0;31mKeyboardInterrupt\u001b[0m                         Traceback (most recent call last)",
      "Cell \u001b[0;32mIn [62], line 4\u001b[0m\n\u001b[1;32m      2\u001b[0m overlap_count \u001b[38;5;241m=\u001b[39m \u001b[38;5;241m0\u001b[39m\n\u001b[1;32m      3\u001b[0m \u001b[38;5;28;01mfor\u001b[39;00m fset \u001b[38;5;129;01min\u001b[39;00m neg_ppis:\n\u001b[0;32m----> 4\u001b[0m     \u001b[38;5;28;01mif\u001b[39;00m \u001b[38;5;28;43many\u001b[39;49m\u001b[43m(\u001b[49m\u001b[43mfset\u001b[49m\u001b[43m \u001b[49m\u001b[38;5;129;43;01min\u001b[39;49;00m\u001b[43m \u001b[49m\u001b[43mvals\u001b[49m\u001b[43m \u001b[49m\u001b[38;5;28;43;01mfor\u001b[39;49;00m\u001b[43m \u001b[49m\u001b[43mvals\u001b[49m\u001b[43m \u001b[49m\u001b[38;5;129;43;01min\u001b[39;49;00m\u001b[43m \u001b[49m\u001b[43mpos_ppi_dict\u001b[49m\u001b[38;5;241;43m.\u001b[39;49m\u001b[43mvalues\u001b[49m\u001b[43m(\u001b[49m\u001b[43m)\u001b[49m\u001b[43m)\u001b[49m:\n\u001b[1;32m      5\u001b[0m         neg_ppis\u001b[38;5;241m.\u001b[39mremove(fset)\n\u001b[1;32m      6\u001b[0m         overlap_count \u001b[38;5;241m+\u001b[39m\u001b[38;5;241m=\u001b[39m \u001b[38;5;241m1\u001b[39m\n",
      "Cell \u001b[0;32mIn [62], line 4\u001b[0m, in \u001b[0;36m<genexpr>\u001b[0;34m(.0)\u001b[0m\n\u001b[1;32m      2\u001b[0m overlap_count \u001b[38;5;241m=\u001b[39m \u001b[38;5;241m0\u001b[39m\n\u001b[1;32m      3\u001b[0m \u001b[38;5;28;01mfor\u001b[39;00m fset \u001b[38;5;129;01min\u001b[39;00m neg_ppis:\n\u001b[0;32m----> 4\u001b[0m     \u001b[38;5;28;01mif\u001b[39;00m \u001b[38;5;28many\u001b[39m(fset \u001b[38;5;129;01min\u001b[39;00m vals \u001b[38;5;28;01mfor\u001b[39;00m vals \u001b[38;5;129;01min\u001b[39;00m pos_ppi_dict\u001b[38;5;241m.\u001b[39mvalues()):\n\u001b[1;32m      5\u001b[0m         neg_ppis\u001b[38;5;241m.\u001b[39mremove(fset)\n\u001b[1;32m      6\u001b[0m         overlap_count \u001b[38;5;241m+\u001b[39m\u001b[38;5;241m=\u001b[39m \u001b[38;5;241m1\u001b[39m\n",
      "\u001b[0;31mKeyboardInterrupt\u001b[0m: "
     ]
    }
   ],
   "source": [
    "## TODO: check & make sure this is working correctly\n",
    "print('Removing overlap between random negative PPIs & positive PPIs ...')\n",
    "overlap_count = 0\n",
    "for fset in neg_ppis:\n",
    "    if any(fset in vals for vals in pos_ppi_dict.values()):\n",
    "        neg_ppis.remove(fset)\n",
    "        overlap_count += 1\n",
    "print('# overlapping negative PPIs found & removed =', overlap_count)"
   ]
  },
  {
   "cell_type": "code",
   "execution_count": 13,
   "id": "9dbcc2fa-8381-43ae-84cd-f8eaf5bf2e0e",
   "metadata": {},
   "outputs": [
    {
     "name": "stdout",
     "output_type": "stream",
     "text": [
      "Randomly splitting negative PPIs into 1498 groups ...\n"
     ]
    }
   ],
   "source": [
    "num_pos_groups = group_no\n",
    "print(f'Randomly splitting negative PPIs into {num_pos_groups} groups ...')\n",
    "neg_cmplx_sizes = [random.randint(2, 30) for x in range(num_pos_groups)]\n",
    "neg_ppi_grouped = [neg_ppis[x - y: x] for x, y in zip(\n",
    "        accumulate(neg_cmplx_sizes), neg_cmplx_sizes)]"
   ]
  },
  {
   "cell_type": "code",
   "execution_count": 14,
   "id": "1858c83a-cdde-4128-9183-6d0f3fdce3a3",
   "metadata": {
    "tags": []
   },
   "outputs": [
    {
     "name": "stdout",
     "output_type": "stream",
     "text": [
      "# of negative PPI groups = 1498\n"
     ]
    }
   ],
   "source": [
    "print('# of negative PPI groups =', len(neg_ppi_grouped))"
   ]
  },
  {
   "cell_type": "code",
   "execution_count": 15,
   "id": "d390141a-ef6d-447c-a9b9-6d81fc9956e5",
   "metadata": {},
   "outputs": [
    {
     "name": "stdout",
     "output_type": "stream",
     "text": [
      "Generating grouped negative PPI labels ...\n"
     ]
    }
   ],
   "source": [
    "print('Generating grouped negative PPI labels ...')\n",
    "neg_ppi_dict = dict()\n",
    "group_sizes = []\n",
    "group_no = 0\n",
    "for group in neg_ppi_grouped:\n",
    "    group_sizes.append(len(group))\n",
    "    for pair in group:\n",
    "        neg_ppi_dict.update({pair: group_no})\n",
    "    group_no += 1"
   ]
  },
  {
   "cell_type": "code",
   "execution_count": 16,
   "id": "31cf38f1-c092-45c4-978c-0db9fa8a876b",
   "metadata": {
    "tags": []
   },
   "outputs": [
    {
     "name": "stdout",
     "output_type": "stream",
     "text": [
      "Loading feature matrix ...\n"
     ]
    }
   ],
   "source": [
    "print('Loading feature matrix ...')\n",
    "with open(data_dir+lmat_file, 'rb') as handle:\n",
    "    lmat = pickle.load(handle)"
   ]
  },
  {
   "cell_type": "code",
   "execution_count": 17,
   "id": "ed9ad3e7-327a-4c66-968d-918cd2098118",
   "metadata": {},
   "outputs": [
    {
     "data": {
      "text/html": [
       "<div>\n",
       "<style scoped>\n",
       "    .dataframe tbody tr th:only-of-type {\n",
       "        vertical-align: middle;\n",
       "    }\n",
       "\n",
       "    .dataframe tbody tr th {\n",
       "        vertical-align: top;\n",
       "    }\n",
       "\n",
       "    .dataframe thead th {\n",
       "        text-align: right;\n",
       "    }\n",
       "</style>\n",
       "<table border=\"1\" class=\"dataframe\">\n",
       "  <thead>\n",
       "    <tr style=\"text-align: right;\">\n",
       "      <th></th>\n",
       "      <th>ID</th>\n",
       "      <th>arath.iex_1.150p.braycurtis.feat</th>\n",
       "      <th>arath.iex_1.150p.euclidean.feat</th>\n",
       "      <th>arath.iex_1.150p.pearsonR.feat</th>\n",
       "      <th>arath.iex_1.150p.spearmanR.feat</th>\n",
       "      <th>arath.iex_2.150p.braycurtis.feat</th>\n",
       "      <th>arath.iex_2.150p.euclidean.feat</th>\n",
       "      <th>arath.iex_2.150p.pearsonR.feat</th>\n",
       "      <th>arath.iex_2.150p.spearmanR.feat</th>\n",
       "      <th>arath.iex_3.150p.braycurtis.feat</th>\n",
       "      <th>...</th>\n",
       "      <th>xenla.sucrose_4.150p.braycurtis.feat</th>\n",
       "      <th>xenla.sucrose_4.150p.euclidean.feat</th>\n",
       "      <th>xenla.sucrose_4.150p.pearsonR.feat</th>\n",
       "      <th>xenla.sucrose_4.150p.spearmanR.feat</th>\n",
       "      <th>yeast.iex_1.150p.braycurtis.feat</th>\n",
       "      <th>yeast.iex_1.150p.euclidean.feat</th>\n",
       "      <th>yeast.iex_1.150p.pearsonR.feat</th>\n",
       "      <th>yeast.iex_1.150p.spearmanR.feat</th>\n",
       "      <th>ID1</th>\n",
       "      <th>ID2</th>\n",
       "    </tr>\n",
       "  </thead>\n",
       "  <tbody>\n",
       "    <tr>\n",
       "      <th>0</th>\n",
       "      <td>ENOG502QPIC ENOG502QR7H</td>\n",
       "      <td>0.980388</td>\n",
       "      <td>5.157008</td>\n",
       "      <td>-0.075497</td>\n",
       "      <td>-0.066312</td>\n",
       "      <td>0.971325</td>\n",
       "      <td>9.577124</td>\n",
       "      <td>-0.067190</td>\n",
       "      <td>-0.015749</td>\n",
       "      <td>0.997534</td>\n",
       "      <td>...</td>\n",
       "      <td>NaN</td>\n",
       "      <td>NaN</td>\n",
       "      <td>NaN</td>\n",
       "      <td>NaN</td>\n",
       "      <td>NaN</td>\n",
       "      <td>NaN</td>\n",
       "      <td>NaN</td>\n",
       "      <td>NaN</td>\n",
       "      <td>ENOG502QPIC</td>\n",
       "      <td>ENOG502QR7H</td>\n",
       "    </tr>\n",
       "    <tr>\n",
       "      <th>1</th>\n",
       "      <td>ENOG502QPIC KOG0253</td>\n",
       "      <td>0.997407</td>\n",
       "      <td>5.492013</td>\n",
       "      <td>-0.046335</td>\n",
       "      <td>-0.059675</td>\n",
       "      <td>NaN</td>\n",
       "      <td>NaN</td>\n",
       "      <td>NaN</td>\n",
       "      <td>NaN</td>\n",
       "      <td>0.855288</td>\n",
       "      <td>...</td>\n",
       "      <td>NaN</td>\n",
       "      <td>NaN</td>\n",
       "      <td>NaN</td>\n",
       "      <td>NaN</td>\n",
       "      <td>NaN</td>\n",
       "      <td>NaN</td>\n",
       "      <td>NaN</td>\n",
       "      <td>NaN</td>\n",
       "      <td>ENOG502QPIC</td>\n",
       "      <td>KOG0253</td>\n",
       "    </tr>\n",
       "    <tr>\n",
       "      <th>2</th>\n",
       "      <td>ENOG502QPIC KOG0734</td>\n",
       "      <td>0.865005</td>\n",
       "      <td>5.916432</td>\n",
       "      <td>0.103333</td>\n",
       "      <td>0.095018</td>\n",
       "      <td>0.998996</td>\n",
       "      <td>11.567026</td>\n",
       "      <td>-0.139190</td>\n",
       "      <td>-0.171415</td>\n",
       "      <td>0.636175</td>\n",
       "      <td>...</td>\n",
       "      <td>NaN</td>\n",
       "      <td>NaN</td>\n",
       "      <td>NaN</td>\n",
       "      <td>NaN</td>\n",
       "      <td>NaN</td>\n",
       "      <td>NaN</td>\n",
       "      <td>NaN</td>\n",
       "      <td>NaN</td>\n",
       "      <td>ENOG502QPIC</td>\n",
       "      <td>KOG0734</td>\n",
       "    </tr>\n",
       "    <tr>\n",
       "      <th>3</th>\n",
       "      <td>ENOG502QPIC KOG0739</td>\n",
       "      <td>0.930706</td>\n",
       "      <td>5.596031</td>\n",
       "      <td>0.075926</td>\n",
       "      <td>0.071345</td>\n",
       "      <td>0.899831</td>\n",
       "      <td>9.242962</td>\n",
       "      <td>0.084084</td>\n",
       "      <td>0.115910</td>\n",
       "      <td>0.879471</td>\n",
       "      <td>...</td>\n",
       "      <td>NaN</td>\n",
       "      <td>NaN</td>\n",
       "      <td>NaN</td>\n",
       "      <td>NaN</td>\n",
       "      <td>NaN</td>\n",
       "      <td>NaN</td>\n",
       "      <td>NaN</td>\n",
       "      <td>NaN</td>\n",
       "      <td>ENOG502QPIC</td>\n",
       "      <td>KOG0739</td>\n",
       "    </tr>\n",
       "    <tr>\n",
       "      <th>4</th>\n",
       "      <td>ENOG502QPIC KOG0935</td>\n",
       "      <td>0.996862</td>\n",
       "      <td>4.694391</td>\n",
       "      <td>-0.036563</td>\n",
       "      <td>-0.041946</td>\n",
       "      <td>NaN</td>\n",
       "      <td>NaN</td>\n",
       "      <td>NaN</td>\n",
       "      <td>NaN</td>\n",
       "      <td>0.997371</td>\n",
       "      <td>...</td>\n",
       "      <td>NaN</td>\n",
       "      <td>NaN</td>\n",
       "      <td>NaN</td>\n",
       "      <td>NaN</td>\n",
       "      <td>NaN</td>\n",
       "      <td>NaN</td>\n",
       "      <td>NaN</td>\n",
       "      <td>NaN</td>\n",
       "      <td>ENOG502QPIC</td>\n",
       "      <td>KOG0935</td>\n",
       "    </tr>\n",
       "  </tbody>\n",
       "</table>\n",
       "<p>5 rows × 599 columns</p>\n",
       "</div>"
      ],
      "text/plain": [
       "                        ID  arath.iex_1.150p.braycurtis.feat  \\\n",
       "0  ENOG502QPIC ENOG502QR7H                          0.980388   \n",
       "1      ENOG502QPIC KOG0253                          0.997407   \n",
       "2      ENOG502QPIC KOG0734                          0.865005   \n",
       "3      ENOG502QPIC KOG0739                          0.930706   \n",
       "4      ENOG502QPIC KOG0935                          0.996862   \n",
       "\n",
       "   arath.iex_1.150p.euclidean.feat  arath.iex_1.150p.pearsonR.feat  \\\n",
       "0                         5.157008                       -0.075497   \n",
       "1                         5.492013                       -0.046335   \n",
       "2                         5.916432                        0.103333   \n",
       "3                         5.596031                        0.075926   \n",
       "4                         4.694391                       -0.036563   \n",
       "\n",
       "   arath.iex_1.150p.spearmanR.feat  arath.iex_2.150p.braycurtis.feat  \\\n",
       "0                        -0.066312                          0.971325   \n",
       "1                        -0.059675                               NaN   \n",
       "2                         0.095018                          0.998996   \n",
       "3                         0.071345                          0.899831   \n",
       "4                        -0.041946                               NaN   \n",
       "\n",
       "   arath.iex_2.150p.euclidean.feat  arath.iex_2.150p.pearsonR.feat  \\\n",
       "0                         9.577124                       -0.067190   \n",
       "1                              NaN                             NaN   \n",
       "2                        11.567026                       -0.139190   \n",
       "3                         9.242962                        0.084084   \n",
       "4                              NaN                             NaN   \n",
       "\n",
       "   arath.iex_2.150p.spearmanR.feat  arath.iex_3.150p.braycurtis.feat  ...  \\\n",
       "0                        -0.015749                          0.997534  ...   \n",
       "1                              NaN                          0.855288  ...   \n",
       "2                        -0.171415                          0.636175  ...   \n",
       "3                         0.115910                          0.879471  ...   \n",
       "4                              NaN                          0.997371  ...   \n",
       "\n",
       "   xenla.sucrose_4.150p.braycurtis.feat  xenla.sucrose_4.150p.euclidean.feat  \\\n",
       "0                                   NaN                                  NaN   \n",
       "1                                   NaN                                  NaN   \n",
       "2                                   NaN                                  NaN   \n",
       "3                                   NaN                                  NaN   \n",
       "4                                   NaN                                  NaN   \n",
       "\n",
       "   xenla.sucrose_4.150p.pearsonR.feat  xenla.sucrose_4.150p.spearmanR.feat  \\\n",
       "0                                 NaN                                  NaN   \n",
       "1                                 NaN                                  NaN   \n",
       "2                                 NaN                                  NaN   \n",
       "3                                 NaN                                  NaN   \n",
       "4                                 NaN                                  NaN   \n",
       "\n",
       "   yeast.iex_1.150p.braycurtis.feat  yeast.iex_1.150p.euclidean.feat  \\\n",
       "0                               NaN                              NaN   \n",
       "1                               NaN                              NaN   \n",
       "2                               NaN                              NaN   \n",
       "3                               NaN                              NaN   \n",
       "4                               NaN                              NaN   \n",
       "\n",
       "   yeast.iex_1.150p.pearsonR.feat  yeast.iex_1.150p.spearmanR.feat  \\\n",
       "0                             NaN                              NaN   \n",
       "1                             NaN                              NaN   \n",
       "2                             NaN                              NaN   \n",
       "3                             NaN                              NaN   \n",
       "4                             NaN                              NaN   \n",
       "\n",
       "           ID1          ID2  \n",
       "0  ENOG502QPIC  ENOG502QR7H  \n",
       "1  ENOG502QPIC      KOG0253  \n",
       "2  ENOG502QPIC      KOG0734  \n",
       "3  ENOG502QPIC      KOG0739  \n",
       "4  ENOG502QPIC      KOG0935  \n",
       "\n",
       "[5 rows x 599 columns]"
      ]
     },
     "execution_count": 17,
     "metadata": {},
     "output_type": "execute_result"
    }
   ],
   "source": [
    "lmat[['ID1','ID2']] = lmat['ID'].str.split(' ',expand=True)\n",
    "lmat.head()"
   ]
  },
  {
   "cell_type": "code",
   "execution_count": 24,
   "id": "1954a3aa-0898-408f-9523-ced1aa26c81a",
   "metadata": {},
   "outputs": [
    {
     "name": "stdout",
     "output_type": "stream",
     "text": [
      "Labeling feature matrix ...\n",
      "Total time to label 4491718 rows: 2953.346905708313 seconds\n"
     ]
    }
   ],
   "source": [
    "t0 = time.time()\n",
    "print('Labeling feature matrix ...')\n",
    "lmat[['label','group']] = [match_label(frozenset({i, j}), pos_ppi_dict, neg_ppi_dict) for i, j in zip(lmat['ID1'], lmat['ID2'])]\n",
    "print(f\"Total time to label {len(lmat)} rows: {time.time() - t0} seconds\")"
   ]
  },
  {
   "cell_type": "code",
   "execution_count": 28,
   "id": "9cebff96-3d45-4e2d-9653-5d404ea2a1d2",
   "metadata": {
    "tags": []
   },
   "outputs": [],
   "source": [
    "pos_check = random.choice(list(pos_ppi_dict.values()))\n",
    "neg_check = random.choice(list(neg_ppi_dict.keys()))"
   ]
  },
  {
   "cell_type": "code",
   "execution_count": 29,
   "id": "cf359f7f-f187-4ce7-b20b-7f6481b4dce4",
   "metadata": {},
   "outputs": [
    {
     "data": {
      "text/plain": [
       "[frozenset({'KOG0274', 'KOG1724'}),\n",
       " frozenset({'ENOG502RDJD', 'KOG1724'}),\n",
       " frozenset({'ENOG502RDJD', 'KOG0274'})]"
      ]
     },
     "execution_count": 29,
     "metadata": {},
     "output_type": "execute_result"
    }
   ],
   "source": [
    "pos_check"
   ]
  },
  {
   "cell_type": "code",
   "execution_count": 30,
   "id": "c313a32b-e9d0-4639-b8f9-bc1677824545",
   "metadata": {},
   "outputs": [
    {
     "data": {
      "text/plain": [
       "frozenset({'ENOG502QU6B', 'KOG1222'})"
      ]
     },
     "execution_count": 30,
     "metadata": {},
     "output_type": "execute_result"
    }
   ],
   "source": [
    "neg_check"
   ]
  },
  {
   "cell_type": "code",
   "execution_count": 36,
   "id": "571c9332-454b-4787-9794-ee8619e14b67",
   "metadata": {},
   "outputs": [
    {
     "data": {
      "text/html": [
       "<div>\n",
       "<style scoped>\n",
       "    .dataframe tbody tr th:only-of-type {\n",
       "        vertical-align: middle;\n",
       "    }\n",
       "\n",
       "    .dataframe tbody tr th {\n",
       "        vertical-align: top;\n",
       "    }\n",
       "\n",
       "    .dataframe thead th {\n",
       "        text-align: right;\n",
       "    }\n",
       "</style>\n",
       "<table border=\"1\" class=\"dataframe\">\n",
       "  <thead>\n",
       "    <tr style=\"text-align: right;\">\n",
       "      <th></th>\n",
       "      <th>ID</th>\n",
       "      <th>arath.iex_1.150p.braycurtis.feat</th>\n",
       "      <th>arath.iex_1.150p.euclidean.feat</th>\n",
       "      <th>arath.iex_1.150p.pearsonR.feat</th>\n",
       "      <th>arath.iex_1.150p.spearmanR.feat</th>\n",
       "      <th>arath.iex_2.150p.braycurtis.feat</th>\n",
       "      <th>arath.iex_2.150p.euclidean.feat</th>\n",
       "      <th>arath.iex_2.150p.pearsonR.feat</th>\n",
       "      <th>arath.iex_2.150p.spearmanR.feat</th>\n",
       "      <th>arath.iex_3.150p.braycurtis.feat</th>\n",
       "      <th>...</th>\n",
       "      <th>xenla.sucrose_4.150p.euclidean.feat</th>\n",
       "      <th>xenla.sucrose_4.150p.pearsonR.feat</th>\n",
       "      <th>xenla.sucrose_4.150p.spearmanR.feat</th>\n",
       "      <th>yeast.iex_1.150p.braycurtis.feat</th>\n",
       "      <th>yeast.iex_1.150p.euclidean.feat</th>\n",
       "      <th>yeast.iex_1.150p.pearsonR.feat</th>\n",
       "      <th>yeast.iex_1.150p.spearmanR.feat</th>\n",
       "      <th>ID1</th>\n",
       "      <th>ID2</th>\n",
       "      <th>(label, group)</th>\n",
       "    </tr>\n",
       "  </thead>\n",
       "  <tbody>\n",
       "    <tr>\n",
       "      <th>0</th>\n",
       "      <td>ENOG502QPIC ENOG502QR7H</td>\n",
       "      <td>0.980388</td>\n",
       "      <td>5.157008</td>\n",
       "      <td>-0.075497</td>\n",
       "      <td>-0.066312</td>\n",
       "      <td>0.971325</td>\n",
       "      <td>9.577124</td>\n",
       "      <td>-0.067190</td>\n",
       "      <td>-0.015749</td>\n",
       "      <td>0.997534</td>\n",
       "      <td>...</td>\n",
       "      <td>NaN</td>\n",
       "      <td>NaN</td>\n",
       "      <td>NaN</td>\n",
       "      <td>NaN</td>\n",
       "      <td>NaN</td>\n",
       "      <td>NaN</td>\n",
       "      <td>NaN</td>\n",
       "      <td>ENOG502QPIC</td>\n",
       "      <td>ENOG502QR7H</td>\n",
       "      <td>(None, None)</td>\n",
       "    </tr>\n",
       "    <tr>\n",
       "      <th>1</th>\n",
       "      <td>ENOG502QPIC KOG0253</td>\n",
       "      <td>0.997407</td>\n",
       "      <td>5.492013</td>\n",
       "      <td>-0.046335</td>\n",
       "      <td>-0.059675</td>\n",
       "      <td>NaN</td>\n",
       "      <td>NaN</td>\n",
       "      <td>NaN</td>\n",
       "      <td>NaN</td>\n",
       "      <td>0.855288</td>\n",
       "      <td>...</td>\n",
       "      <td>NaN</td>\n",
       "      <td>NaN</td>\n",
       "      <td>NaN</td>\n",
       "      <td>NaN</td>\n",
       "      <td>NaN</td>\n",
       "      <td>NaN</td>\n",
       "      <td>NaN</td>\n",
       "      <td>ENOG502QPIC</td>\n",
       "      <td>KOG0253</td>\n",
       "      <td>(None, None)</td>\n",
       "    </tr>\n",
       "    <tr>\n",
       "      <th>2</th>\n",
       "      <td>ENOG502QPIC KOG0734</td>\n",
       "      <td>0.865005</td>\n",
       "      <td>5.916432</td>\n",
       "      <td>0.103333</td>\n",
       "      <td>0.095018</td>\n",
       "      <td>0.998996</td>\n",
       "      <td>11.567026</td>\n",
       "      <td>-0.139190</td>\n",
       "      <td>-0.171415</td>\n",
       "      <td>0.636175</td>\n",
       "      <td>...</td>\n",
       "      <td>NaN</td>\n",
       "      <td>NaN</td>\n",
       "      <td>NaN</td>\n",
       "      <td>NaN</td>\n",
       "      <td>NaN</td>\n",
       "      <td>NaN</td>\n",
       "      <td>NaN</td>\n",
       "      <td>ENOG502QPIC</td>\n",
       "      <td>KOG0734</td>\n",
       "      <td>(None, None)</td>\n",
       "    </tr>\n",
       "    <tr>\n",
       "      <th>3</th>\n",
       "      <td>ENOG502QPIC KOG0739</td>\n",
       "      <td>0.930706</td>\n",
       "      <td>5.596031</td>\n",
       "      <td>0.075926</td>\n",
       "      <td>0.071345</td>\n",
       "      <td>0.899831</td>\n",
       "      <td>9.242962</td>\n",
       "      <td>0.084084</td>\n",
       "      <td>0.115910</td>\n",
       "      <td>0.879471</td>\n",
       "      <td>...</td>\n",
       "      <td>NaN</td>\n",
       "      <td>NaN</td>\n",
       "      <td>NaN</td>\n",
       "      <td>NaN</td>\n",
       "      <td>NaN</td>\n",
       "      <td>NaN</td>\n",
       "      <td>NaN</td>\n",
       "      <td>ENOG502QPIC</td>\n",
       "      <td>KOG0739</td>\n",
       "      <td>(None, None)</td>\n",
       "    </tr>\n",
       "    <tr>\n",
       "      <th>4</th>\n",
       "      <td>ENOG502QPIC KOG0935</td>\n",
       "      <td>0.996862</td>\n",
       "      <td>4.694391</td>\n",
       "      <td>-0.036563</td>\n",
       "      <td>-0.041946</td>\n",
       "      <td>NaN</td>\n",
       "      <td>NaN</td>\n",
       "      <td>NaN</td>\n",
       "      <td>NaN</td>\n",
       "      <td>0.997371</td>\n",
       "      <td>...</td>\n",
       "      <td>NaN</td>\n",
       "      <td>NaN</td>\n",
       "      <td>NaN</td>\n",
       "      <td>NaN</td>\n",
       "      <td>NaN</td>\n",
       "      <td>NaN</td>\n",
       "      <td>NaN</td>\n",
       "      <td>ENOG502QPIC</td>\n",
       "      <td>KOG0935</td>\n",
       "      <td>(None, None)</td>\n",
       "    </tr>\n",
       "    <tr>\n",
       "      <th>...</th>\n",
       "      <td>...</td>\n",
       "      <td>...</td>\n",
       "      <td>...</td>\n",
       "      <td>...</td>\n",
       "      <td>...</td>\n",
       "      <td>...</td>\n",
       "      <td>...</td>\n",
       "      <td>...</td>\n",
       "      <td>...</td>\n",
       "      <td>...</td>\n",
       "      <td>...</td>\n",
       "      <td>...</td>\n",
       "      <td>...</td>\n",
       "      <td>...</td>\n",
       "      <td>...</td>\n",
       "      <td>...</td>\n",
       "      <td>...</td>\n",
       "      <td>...</td>\n",
       "      <td>...</td>\n",
       "      <td>...</td>\n",
       "      <td>...</td>\n",
       "    </tr>\n",
       "    <tr>\n",
       "      <th>4491713</th>\n",
       "      <td>ENOG502RYI9 KOG3271</td>\n",
       "      <td>NaN</td>\n",
       "      <td>NaN</td>\n",
       "      <td>NaN</td>\n",
       "      <td>NaN</td>\n",
       "      <td>NaN</td>\n",
       "      <td>NaN</td>\n",
       "      <td>NaN</td>\n",
       "      <td>NaN</td>\n",
       "      <td>NaN</td>\n",
       "      <td>...</td>\n",
       "      <td>NaN</td>\n",
       "      <td>NaN</td>\n",
       "      <td>NaN</td>\n",
       "      <td>0.591567</td>\n",
       "      <td>1.930056</td>\n",
       "      <td>0.797882</td>\n",
       "      <td>0.696994</td>\n",
       "      <td>ENOG502RYI9</td>\n",
       "      <td>KOG3271</td>\n",
       "      <td>(None, None)</td>\n",
       "    </tr>\n",
       "    <tr>\n",
       "      <th>4491714</th>\n",
       "      <td>ENOG502RYI9 KOG3274</td>\n",
       "      <td>NaN</td>\n",
       "      <td>NaN</td>\n",
       "      <td>NaN</td>\n",
       "      <td>NaN</td>\n",
       "      <td>NaN</td>\n",
       "      <td>NaN</td>\n",
       "      <td>NaN</td>\n",
       "      <td>NaN</td>\n",
       "      <td>NaN</td>\n",
       "      <td>...</td>\n",
       "      <td>NaN</td>\n",
       "      <td>NaN</td>\n",
       "      <td>NaN</td>\n",
       "      <td>0.647338</td>\n",
       "      <td>3.135001</td>\n",
       "      <td>0.531502</td>\n",
       "      <td>0.456474</td>\n",
       "      <td>ENOG502RYI9</td>\n",
       "      <td>KOG3274</td>\n",
       "      <td>(None, None)</td>\n",
       "    </tr>\n",
       "    <tr>\n",
       "      <th>4491715</th>\n",
       "      <td>ENOG502RYI9 KOG3394</td>\n",
       "      <td>NaN</td>\n",
       "      <td>NaN</td>\n",
       "      <td>NaN</td>\n",
       "      <td>NaN</td>\n",
       "      <td>NaN</td>\n",
       "      <td>NaN</td>\n",
       "      <td>NaN</td>\n",
       "      <td>NaN</td>\n",
       "      <td>NaN</td>\n",
       "      <td>...</td>\n",
       "      <td>NaN</td>\n",
       "      <td>NaN</td>\n",
       "      <td>NaN</td>\n",
       "      <td>0.715621</td>\n",
       "      <td>3.625529</td>\n",
       "      <td>0.439617</td>\n",
       "      <td>0.354524</td>\n",
       "      <td>ENOG502RYI9</td>\n",
       "      <td>KOG3394</td>\n",
       "      <td>(None, None)</td>\n",
       "    </tr>\n",
       "    <tr>\n",
       "      <th>4491716</th>\n",
       "      <td>ENOG502RYI9 KOG3855</td>\n",
       "      <td>NaN</td>\n",
       "      <td>NaN</td>\n",
       "      <td>NaN</td>\n",
       "      <td>NaN</td>\n",
       "      <td>NaN</td>\n",
       "      <td>NaN</td>\n",
       "      <td>NaN</td>\n",
       "      <td>NaN</td>\n",
       "      <td>NaN</td>\n",
       "      <td>...</td>\n",
       "      <td>NaN</td>\n",
       "      <td>NaN</td>\n",
       "      <td>NaN</td>\n",
       "      <td>0.612288</td>\n",
       "      <td>2.614478</td>\n",
       "      <td>0.523113</td>\n",
       "      <td>0.519076</td>\n",
       "      <td>ENOG502RYI9</td>\n",
       "      <td>KOG3855</td>\n",
       "      <td>(None, None)</td>\n",
       "    </tr>\n",
       "    <tr>\n",
       "      <th>4491717</th>\n",
       "      <td>KOG3873 KOG4679</td>\n",
       "      <td>NaN</td>\n",
       "      <td>NaN</td>\n",
       "      <td>NaN</td>\n",
       "      <td>NaN</td>\n",
       "      <td>NaN</td>\n",
       "      <td>NaN</td>\n",
       "      <td>NaN</td>\n",
       "      <td>NaN</td>\n",
       "      <td>NaN</td>\n",
       "      <td>...</td>\n",
       "      <td>NaN</td>\n",
       "      <td>NaN</td>\n",
       "      <td>NaN</td>\n",
       "      <td>0.767526</td>\n",
       "      <td>3.616648</td>\n",
       "      <td>0.492893</td>\n",
       "      <td>0.168075</td>\n",
       "      <td>KOG3873</td>\n",
       "      <td>KOG4679</td>\n",
       "      <td>(None, None)</td>\n",
       "    </tr>\n",
       "  </tbody>\n",
       "</table>\n",
       "<p>4491718 rows × 600 columns</p>\n",
       "</div>"
      ],
      "text/plain": [
       "                              ID  arath.iex_1.150p.braycurtis.feat  \\\n",
       "0        ENOG502QPIC ENOG502QR7H                          0.980388   \n",
       "1            ENOG502QPIC KOG0253                          0.997407   \n",
       "2            ENOG502QPIC KOG0734                          0.865005   \n",
       "3            ENOG502QPIC KOG0739                          0.930706   \n",
       "4            ENOG502QPIC KOG0935                          0.996862   \n",
       "...                          ...                               ...   \n",
       "4491713      ENOG502RYI9 KOG3271                               NaN   \n",
       "4491714      ENOG502RYI9 KOG3274                               NaN   \n",
       "4491715      ENOG502RYI9 KOG3394                               NaN   \n",
       "4491716      ENOG502RYI9 KOG3855                               NaN   \n",
       "4491717          KOG3873 KOG4679                               NaN   \n",
       "\n",
       "         arath.iex_1.150p.euclidean.feat  arath.iex_1.150p.pearsonR.feat  \\\n",
       "0                               5.157008                       -0.075497   \n",
       "1                               5.492013                       -0.046335   \n",
       "2                               5.916432                        0.103333   \n",
       "3                               5.596031                        0.075926   \n",
       "4                               4.694391                       -0.036563   \n",
       "...                                  ...                             ...   \n",
       "4491713                              NaN                             NaN   \n",
       "4491714                              NaN                             NaN   \n",
       "4491715                              NaN                             NaN   \n",
       "4491716                              NaN                             NaN   \n",
       "4491717                              NaN                             NaN   \n",
       "\n",
       "         arath.iex_1.150p.spearmanR.feat  arath.iex_2.150p.braycurtis.feat  \\\n",
       "0                              -0.066312                          0.971325   \n",
       "1                              -0.059675                               NaN   \n",
       "2                               0.095018                          0.998996   \n",
       "3                               0.071345                          0.899831   \n",
       "4                              -0.041946                               NaN   \n",
       "...                                  ...                               ...   \n",
       "4491713                              NaN                               NaN   \n",
       "4491714                              NaN                               NaN   \n",
       "4491715                              NaN                               NaN   \n",
       "4491716                              NaN                               NaN   \n",
       "4491717                              NaN                               NaN   \n",
       "\n",
       "         arath.iex_2.150p.euclidean.feat  arath.iex_2.150p.pearsonR.feat  \\\n",
       "0                               9.577124                       -0.067190   \n",
       "1                                    NaN                             NaN   \n",
       "2                              11.567026                       -0.139190   \n",
       "3                               9.242962                        0.084084   \n",
       "4                                    NaN                             NaN   \n",
       "...                                  ...                             ...   \n",
       "4491713                              NaN                             NaN   \n",
       "4491714                              NaN                             NaN   \n",
       "4491715                              NaN                             NaN   \n",
       "4491716                              NaN                             NaN   \n",
       "4491717                              NaN                             NaN   \n",
       "\n",
       "         arath.iex_2.150p.spearmanR.feat  arath.iex_3.150p.braycurtis.feat  \\\n",
       "0                              -0.015749                          0.997534   \n",
       "1                                    NaN                          0.855288   \n",
       "2                              -0.171415                          0.636175   \n",
       "3                               0.115910                          0.879471   \n",
       "4                                    NaN                          0.997371   \n",
       "...                                  ...                               ...   \n",
       "4491713                              NaN                               NaN   \n",
       "4491714                              NaN                               NaN   \n",
       "4491715                              NaN                               NaN   \n",
       "4491716                              NaN                               NaN   \n",
       "4491717                              NaN                               NaN   \n",
       "\n",
       "         ...  xenla.sucrose_4.150p.euclidean.feat  \\\n",
       "0        ...                                  NaN   \n",
       "1        ...                                  NaN   \n",
       "2        ...                                  NaN   \n",
       "3        ...                                  NaN   \n",
       "4        ...                                  NaN   \n",
       "...      ...                                  ...   \n",
       "4491713  ...                                  NaN   \n",
       "4491714  ...                                  NaN   \n",
       "4491715  ...                                  NaN   \n",
       "4491716  ...                                  NaN   \n",
       "4491717  ...                                  NaN   \n",
       "\n",
       "         xenla.sucrose_4.150p.pearsonR.feat  \\\n",
       "0                                       NaN   \n",
       "1                                       NaN   \n",
       "2                                       NaN   \n",
       "3                                       NaN   \n",
       "4                                       NaN   \n",
       "...                                     ...   \n",
       "4491713                                 NaN   \n",
       "4491714                                 NaN   \n",
       "4491715                                 NaN   \n",
       "4491716                                 NaN   \n",
       "4491717                                 NaN   \n",
       "\n",
       "         xenla.sucrose_4.150p.spearmanR.feat  \\\n",
       "0                                        NaN   \n",
       "1                                        NaN   \n",
       "2                                        NaN   \n",
       "3                                        NaN   \n",
       "4                                        NaN   \n",
       "...                                      ...   \n",
       "4491713                                  NaN   \n",
       "4491714                                  NaN   \n",
       "4491715                                  NaN   \n",
       "4491716                                  NaN   \n",
       "4491717                                  NaN   \n",
       "\n",
       "         yeast.iex_1.150p.braycurtis.feat  yeast.iex_1.150p.euclidean.feat  \\\n",
       "0                                     NaN                              NaN   \n",
       "1                                     NaN                              NaN   \n",
       "2                                     NaN                              NaN   \n",
       "3                                     NaN                              NaN   \n",
       "4                                     NaN                              NaN   \n",
       "...                                   ...                              ...   \n",
       "4491713                          0.591567                         1.930056   \n",
       "4491714                          0.647338                         3.135001   \n",
       "4491715                          0.715621                         3.625529   \n",
       "4491716                          0.612288                         2.614478   \n",
       "4491717                          0.767526                         3.616648   \n",
       "\n",
       "         yeast.iex_1.150p.pearsonR.feat  yeast.iex_1.150p.spearmanR.feat  \\\n",
       "0                                   NaN                              NaN   \n",
       "1                                   NaN                              NaN   \n",
       "2                                   NaN                              NaN   \n",
       "3                                   NaN                              NaN   \n",
       "4                                   NaN                              NaN   \n",
       "...                                 ...                              ...   \n",
       "4491713                        0.797882                         0.696994   \n",
       "4491714                        0.531502                         0.456474   \n",
       "4491715                        0.439617                         0.354524   \n",
       "4491716                        0.523113                         0.519076   \n",
       "4491717                        0.492893                         0.168075   \n",
       "\n",
       "                 ID1          ID2  (label, group)  \n",
       "0        ENOG502QPIC  ENOG502QR7H    (None, None)  \n",
       "1        ENOG502QPIC      KOG0253    (None, None)  \n",
       "2        ENOG502QPIC      KOG0734    (None, None)  \n",
       "3        ENOG502QPIC      KOG0739    (None, None)  \n",
       "4        ENOG502QPIC      KOG0935    (None, None)  \n",
       "...              ...          ...             ...  \n",
       "4491713  ENOG502RYI9      KOG3271    (None, None)  \n",
       "4491714  ENOG502RYI9      KOG3274    (None, None)  \n",
       "4491715  ENOG502RYI9      KOG3394    (None, None)  \n",
       "4491716  ENOG502RYI9      KOG3855    (None, None)  \n",
       "4491717      KOG3873      KOG4679    (None, None)  \n",
       "\n",
       "[4491718 rows x 600 columns]"
      ]
     },
     "execution_count": 36,
     "metadata": {},
     "output_type": "execute_result"
    }
   ],
   "source": [
    "lmat"
   ]
  },
  {
   "cell_type": "code",
   "execution_count": 51,
   "id": "a59c8154-98fd-4665-9a89-4a75024cdea7",
   "metadata": {},
   "outputs": [],
   "source": [
    "lmat[['label', 'group']] = pd.DataFrame(lmat.iloc[:,-1].tolist(), index=lmat.index)"
   ]
  },
  {
   "cell_type": "code",
   "execution_count": 59,
   "id": "191f1655-8d56-4150-8ed5-2a8599bee45a",
   "metadata": {},
   "outputs": [
    {
     "data": {
      "text/plain": [
       "6629"
      ]
     },
     "execution_count": 59,
     "metadata": {},
     "output_type": "execute_result"
    }
   ],
   "source": [
    "len(lmat[lmat['label'] == 1])"
   ]
  },
  {
   "cell_type": "code",
   "execution_count": 60,
   "id": "2cbc652e-ea00-45fd-b8ee-9f7df43c666a",
   "metadata": {},
   "outputs": [
    {
     "data": {
      "text/plain": [
       "5655"
      ]
     },
     "execution_count": 60,
     "metadata": {},
     "output_type": "execute_result"
    }
   ],
   "source": [
    "len(lmat[lmat['label'] == -1])"
   ]
  },
  {
   "cell_type": "code",
   "execution_count": 58,
   "id": "eb16246f-a7b8-440c-961a-29ffb655ff00",
   "metadata": {},
   "outputs": [
    {
     "name": "stdout",
     "output_type": "stream",
     "text": [
      "320 [frozenset({'KOG4452', 'KOG2291'}), frozenset({'KOG4452', 'KOG2292'}), frozenset({'KOG4452', 'KOG1746'}), frozenset({'KOG3593', 'KOG4452'}), frozenset({'KOG4452', 'KOG2754'}), frozenset({'KOG4452', 'KOG2603'}), frozenset({'ENOG502SDSY', 'KOG4452'}), frozenset({'KOG3356', 'KOG4452'}), frozenset({'KOG4452', 'KOG2447'}), frozenset({'KOG2291', 'KOG2292'}), frozenset({'KOG2291', 'KOG1746'}), frozenset({'KOG3593', 'KOG2291'}), frozenset({'KOG2291', 'KOG2754'}), frozenset({'KOG2291', 'KOG2603'}), frozenset({'ENOG502SDSY', 'KOG2291'}), frozenset({'KOG3356', 'KOG2291'}), frozenset({'KOG2291', 'KOG2447'}), frozenset({'KOG1746', 'KOG2292'}), frozenset({'KOG3593', 'KOG2292'}), frozenset({'KOG2754', 'KOG2292'}), frozenset({'KOG2292', 'KOG2603'}), frozenset({'ENOG502SDSY', 'KOG2292'}), frozenset({'KOG3356', 'KOG2292'}), frozenset({'KOG2292', 'KOG2447'}), frozenset({'KOG3593', 'KOG1746'}), frozenset({'KOG1746', 'KOG2754'}), frozenset({'KOG1746', 'KOG2603'}), frozenset({'ENOG502SDSY', 'KOG1746'}), frozenset({'KOG3356', 'KOG1746'}), frozenset({'KOG1746', 'KOG2447'}), frozenset({'KOG3593', 'KOG2754'}), frozenset({'KOG3593', 'KOG2603'}), frozenset({'KOG3593', 'ENOG502SDSY'}), frozenset({'KOG3356', 'KOG3593'}), frozenset({'KOG3593', 'KOG2447'}), frozenset({'KOG2754', 'KOG2603'}), frozenset({'ENOG502SDSY', 'KOG2754'}), frozenset({'KOG3356', 'KOG2754'}), frozenset({'KOG2754', 'KOG2447'}), frozenset({'ENOG502SDSY', 'KOG2603'}), frozenset({'KOG3356', 'KOG2603'}), frozenset({'KOG2447', 'KOG2603'}), frozenset({'KOG3356', 'ENOG502SDSY'}), frozenset({'ENOG502SDSY', 'KOG2447'}), frozenset({'KOG3356', 'KOG2447'})]\n"
     ]
    }
   ],
   "source": [
    "for k, v in pos_ppi_dict.items():\n",
    "    if k == 320:\n",
    "        print(k, v)\n",
    "        #if 'ENOG502QPKB' in v:\n",
    "            #print(k, v)"
   ]
  }
 ],
 "metadata": {
  "kernelspec": {
   "display_name": "Python 3 (ipykernel)",
   "language": "python",
   "name": "python3"
  },
  "language_info": {
   "codemirror_mode": {
    "name": "ipython",
    "version": 3
   },
   "file_extension": ".py",
   "mimetype": "text/x-python",
   "name": "python",
   "nbconvert_exporter": "python",
   "pygments_lexer": "ipython3",
   "version": "3.10.6"
  }
 },
 "nbformat": 4,
 "nbformat_minor": 5
}
