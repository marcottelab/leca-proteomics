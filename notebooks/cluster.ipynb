{
 "cells": [
  {
   "cell_type": "code",
   "execution_count": 1,
   "id": "391f5ae3-d627-4782-977e-a5874a813c72",
   "metadata": {},
   "outputs": [],
   "source": [
    "import pickle\n",
    "import time\n",
    "import numpy as np\n",
    "import pandas as pd\n",
    "from sklearn.cluster import AgglomerativeClustering\n",
    "from scipy.cluster.hierarchy import dendrogram, linkage, leaves_list"
   ]
  },
  {
   "cell_type": "code",
   "execution_count": 2,
   "id": "3bb3b746-8f11-4b57-ac4c-77dbf5a008f5",
   "metadata": {},
   "outputs": [],
   "source": [
    "ifile = '../ppi_ml/results/elutions/pkl/leca.unique.filtdollo.0p.norm.elut.ordered.pkl'\n",
    "metric = 'euclidean'\n",
    "method = 'average'\n",
    "ofile = f'../ppi_ml/results/elut_clustering/leca.unique.filtdollo.0p.norm.elut.ordered.hclust.{metric}.{method}'"
   ]
  },
  {
   "cell_type": "code",
   "execution_count": 3,
   "id": "55c25bad-fb34-43ec-b3f2-4c0d0f9688b4",
   "metadata": {
    "tags": []
   },
   "outputs": [
    {
     "data": {
      "text/html": [
       "<div>\n",
       "<style scoped>\n",
       "    .dataframe tbody tr th:only-of-type {\n",
       "        vertical-align: middle;\n",
       "    }\n",
       "\n",
       "    .dataframe tbody tr th {\n",
       "        vertical-align: top;\n",
       "    }\n",
       "\n",
       "    .dataframe thead th {\n",
       "        text-align: right;\n",
       "    }\n",
       "</style>\n",
       "<table border=\"1\" class=\"dataframe\">\n",
       "  <thead>\n",
       "    <tr style=\"text-align: right;\">\n",
       "      <th></th>\n",
       "      <th>Rotifer_SEC_09a_04162018</th>\n",
       "      <th>Rotifer_SEC_10a_04162018</th>\n",
       "      <th>Rotifer_SEC_11a_04162018</th>\n",
       "      <th>Rotifer_SEC_12a_04162018</th>\n",
       "      <th>Rotifer_SEC_13a_04142018</th>\n",
       "      <th>Rotifer_SEC_14a_04142018</th>\n",
       "      <th>Rotifer_SEC_15a_04142018</th>\n",
       "      <th>Rotifer_SEC_16a_04142018</th>\n",
       "      <th>Rotifer_SEC_17a_04152018</th>\n",
       "      <th>Rotifer_SEC_18a_04152018</th>\n",
       "      <th>...</th>\n",
       "      <th>Wheatgrass_SEC_40a_02022017</th>\n",
       "      <th>Wheatgrass_SEC_41a_02022017</th>\n",
       "      <th>Wheatgrass_SEC_42a_02022017</th>\n",
       "      <th>Wheatgrass_SEC_43a_02022017</th>\n",
       "      <th>Wheatgrass_SEC_44a_02032017</th>\n",
       "      <th>Wheatgrass_SEC_45a_02032017</th>\n",
       "      <th>Wheatgrass_SEC_47b_02032017_170207030854</th>\n",
       "      <th>Wheatgrass_SEC_48a_02032017</th>\n",
       "      <th>Wheatgrass_SEC_49a_02032017</th>\n",
       "      <th>Wheatgrass_SEC_50a_02032017</th>\n",
       "    </tr>\n",
       "    <tr>\n",
       "      <th>orthogroup</th>\n",
       "      <th></th>\n",
       "      <th></th>\n",
       "      <th></th>\n",
       "      <th></th>\n",
       "      <th></th>\n",
       "      <th></th>\n",
       "      <th></th>\n",
       "      <th></th>\n",
       "      <th></th>\n",
       "      <th></th>\n",
       "      <th></th>\n",
       "      <th></th>\n",
       "      <th></th>\n",
       "      <th></th>\n",
       "      <th></th>\n",
       "      <th></th>\n",
       "      <th></th>\n",
       "      <th></th>\n",
       "      <th></th>\n",
       "      <th></th>\n",
       "      <th></th>\n",
       "    </tr>\n",
       "  </thead>\n",
       "  <tbody>\n",
       "    <tr>\n",
       "      <th>ENOG502QPM4</th>\n",
       "      <td>0.00000</td>\n",
       "      <td>0.500000</td>\n",
       "      <td>0.0</td>\n",
       "      <td>0.000000</td>\n",
       "      <td>0.000000</td>\n",
       "      <td>0.000000</td>\n",
       "      <td>0.000000</td>\n",
       "      <td>0.000000</td>\n",
       "      <td>0.500000</td>\n",
       "      <td>0.000000</td>\n",
       "      <td>...</td>\n",
       "      <td>0.0</td>\n",
       "      <td>0.0</td>\n",
       "      <td>0.0</td>\n",
       "      <td>0.0</td>\n",
       "      <td>0.0</td>\n",
       "      <td>0.0</td>\n",
       "      <td>0.0</td>\n",
       "      <td>0.0</td>\n",
       "      <td>0.0</td>\n",
       "      <td>0.0</td>\n",
       "    </tr>\n",
       "    <tr>\n",
       "      <th>ENOG502QPNA</th>\n",
       "      <td>0.00000</td>\n",
       "      <td>0.000000</td>\n",
       "      <td>0.0</td>\n",
       "      <td>0.000000</td>\n",
       "      <td>0.000000</td>\n",
       "      <td>0.000000</td>\n",
       "      <td>0.500000</td>\n",
       "      <td>0.000000</td>\n",
       "      <td>0.000000</td>\n",
       "      <td>0.000000</td>\n",
       "      <td>...</td>\n",
       "      <td>0.0</td>\n",
       "      <td>0.0</td>\n",
       "      <td>0.0</td>\n",
       "      <td>0.0</td>\n",
       "      <td>0.0</td>\n",
       "      <td>0.0</td>\n",
       "      <td>0.0</td>\n",
       "      <td>0.0</td>\n",
       "      <td>0.0</td>\n",
       "      <td>0.0</td>\n",
       "    </tr>\n",
       "    <tr>\n",
       "      <th>ENOG502QPP0</th>\n",
       "      <td>0.56338</td>\n",
       "      <td>0.922535</td>\n",
       "      <td>1.0</td>\n",
       "      <td>0.542254</td>\n",
       "      <td>0.338028</td>\n",
       "      <td>0.232394</td>\n",
       "      <td>0.225352</td>\n",
       "      <td>0.232394</td>\n",
       "      <td>0.225352</td>\n",
       "      <td>0.211268</td>\n",
       "      <td>...</td>\n",
       "      <td>0.0</td>\n",
       "      <td>0.0</td>\n",
       "      <td>0.0</td>\n",
       "      <td>0.0</td>\n",
       "      <td>0.0</td>\n",
       "      <td>0.0</td>\n",
       "      <td>0.0</td>\n",
       "      <td>0.0</td>\n",
       "      <td>0.0</td>\n",
       "      <td>0.0</td>\n",
       "    </tr>\n",
       "    <tr>\n",
       "      <th>ENOG502QPPX</th>\n",
       "      <td>0.00000</td>\n",
       "      <td>0.000000</td>\n",
       "      <td>0.0</td>\n",
       "      <td>0.000000</td>\n",
       "      <td>0.000000</td>\n",
       "      <td>0.000000</td>\n",
       "      <td>0.000000</td>\n",
       "      <td>0.000000</td>\n",
       "      <td>0.000000</td>\n",
       "      <td>0.000000</td>\n",
       "      <td>...</td>\n",
       "      <td>0.0</td>\n",
       "      <td>0.0</td>\n",
       "      <td>0.0</td>\n",
       "      <td>0.0</td>\n",
       "      <td>0.0</td>\n",
       "      <td>0.0</td>\n",
       "      <td>0.0</td>\n",
       "      <td>0.0</td>\n",
       "      <td>0.0</td>\n",
       "      <td>0.0</td>\n",
       "    </tr>\n",
       "    <tr>\n",
       "      <th>ENOG502QPRY</th>\n",
       "      <td>0.00000</td>\n",
       "      <td>0.000000</td>\n",
       "      <td>0.0</td>\n",
       "      <td>0.000000</td>\n",
       "      <td>0.000000</td>\n",
       "      <td>0.000000</td>\n",
       "      <td>0.000000</td>\n",
       "      <td>0.000000</td>\n",
       "      <td>0.000000</td>\n",
       "      <td>0.000000</td>\n",
       "      <td>...</td>\n",
       "      <td>0.0</td>\n",
       "      <td>0.0</td>\n",
       "      <td>0.0</td>\n",
       "      <td>0.0</td>\n",
       "      <td>0.0</td>\n",
       "      <td>0.0</td>\n",
       "      <td>0.0</td>\n",
       "      <td>0.0</td>\n",
       "      <td>0.0</td>\n",
       "      <td>0.0</td>\n",
       "    </tr>\n",
       "  </tbody>\n",
       "</table>\n",
       "<p>5 rows × 10481 columns</p>\n",
       "</div>"
      ],
      "text/plain": [
       "             Rotifer_SEC_09a_04162018  Rotifer_SEC_10a_04162018  \\\n",
       "orthogroup                                                        \n",
       "ENOG502QPM4                   0.00000                  0.500000   \n",
       "ENOG502QPNA                   0.00000                  0.000000   \n",
       "ENOG502QPP0                   0.56338                  0.922535   \n",
       "ENOG502QPPX                   0.00000                  0.000000   \n",
       "ENOG502QPRY                   0.00000                  0.000000   \n",
       "\n",
       "             Rotifer_SEC_11a_04162018  Rotifer_SEC_12a_04162018  \\\n",
       "orthogroup                                                        \n",
       "ENOG502QPM4                       0.0                  0.000000   \n",
       "ENOG502QPNA                       0.0                  0.000000   \n",
       "ENOG502QPP0                       1.0                  0.542254   \n",
       "ENOG502QPPX                       0.0                  0.000000   \n",
       "ENOG502QPRY                       0.0                  0.000000   \n",
       "\n",
       "             Rotifer_SEC_13a_04142018  Rotifer_SEC_14a_04142018  \\\n",
       "orthogroup                                                        \n",
       "ENOG502QPM4                  0.000000                  0.000000   \n",
       "ENOG502QPNA                  0.000000                  0.000000   \n",
       "ENOG502QPP0                  0.338028                  0.232394   \n",
       "ENOG502QPPX                  0.000000                  0.000000   \n",
       "ENOG502QPRY                  0.000000                  0.000000   \n",
       "\n",
       "             Rotifer_SEC_15a_04142018  Rotifer_SEC_16a_04142018  \\\n",
       "orthogroup                                                        \n",
       "ENOG502QPM4                  0.000000                  0.000000   \n",
       "ENOG502QPNA                  0.500000                  0.000000   \n",
       "ENOG502QPP0                  0.225352                  0.232394   \n",
       "ENOG502QPPX                  0.000000                  0.000000   \n",
       "ENOG502QPRY                  0.000000                  0.000000   \n",
       "\n",
       "             Rotifer_SEC_17a_04152018  Rotifer_SEC_18a_04152018  ...  \\\n",
       "orthogroup                                                       ...   \n",
       "ENOG502QPM4                  0.500000                  0.000000  ...   \n",
       "ENOG502QPNA                  0.000000                  0.000000  ...   \n",
       "ENOG502QPP0                  0.225352                  0.211268  ...   \n",
       "ENOG502QPPX                  0.000000                  0.000000  ...   \n",
       "ENOG502QPRY                  0.000000                  0.000000  ...   \n",
       "\n",
       "             Wheatgrass_SEC_40a_02022017  Wheatgrass_SEC_41a_02022017  \\\n",
       "orthogroup                                                              \n",
       "ENOG502QPM4                          0.0                          0.0   \n",
       "ENOG502QPNA                          0.0                          0.0   \n",
       "ENOG502QPP0                          0.0                          0.0   \n",
       "ENOG502QPPX                          0.0                          0.0   \n",
       "ENOG502QPRY                          0.0                          0.0   \n",
       "\n",
       "             Wheatgrass_SEC_42a_02022017  Wheatgrass_SEC_43a_02022017  \\\n",
       "orthogroup                                                              \n",
       "ENOG502QPM4                          0.0                          0.0   \n",
       "ENOG502QPNA                          0.0                          0.0   \n",
       "ENOG502QPP0                          0.0                          0.0   \n",
       "ENOG502QPPX                          0.0                          0.0   \n",
       "ENOG502QPRY                          0.0                          0.0   \n",
       "\n",
       "             Wheatgrass_SEC_44a_02032017  Wheatgrass_SEC_45a_02032017  \\\n",
       "orthogroup                                                              \n",
       "ENOG502QPM4                          0.0                          0.0   \n",
       "ENOG502QPNA                          0.0                          0.0   \n",
       "ENOG502QPP0                          0.0                          0.0   \n",
       "ENOG502QPPX                          0.0                          0.0   \n",
       "ENOG502QPRY                          0.0                          0.0   \n",
       "\n",
       "             Wheatgrass_SEC_47b_02032017_170207030854  \\\n",
       "orthogroup                                              \n",
       "ENOG502QPM4                                       0.0   \n",
       "ENOG502QPNA                                       0.0   \n",
       "ENOG502QPP0                                       0.0   \n",
       "ENOG502QPPX                                       0.0   \n",
       "ENOG502QPRY                                       0.0   \n",
       "\n",
       "             Wheatgrass_SEC_48a_02032017  Wheatgrass_SEC_49a_02032017  \\\n",
       "orthogroup                                                              \n",
       "ENOG502QPM4                          0.0                          0.0   \n",
       "ENOG502QPNA                          0.0                          0.0   \n",
       "ENOG502QPP0                          0.0                          0.0   \n",
       "ENOG502QPPX                          0.0                          0.0   \n",
       "ENOG502QPRY                          0.0                          0.0   \n",
       "\n",
       "             Wheatgrass_SEC_50a_02032017  \n",
       "orthogroup                                \n",
       "ENOG502QPM4                          0.0  \n",
       "ENOG502QPNA                          0.0  \n",
       "ENOG502QPP0                          0.0  \n",
       "ENOG502QPPX                          0.0  \n",
       "ENOG502QPRY                          0.0  \n",
       "\n",
       "[5 rows x 10481 columns]"
      ]
     },
     "execution_count": 3,
     "metadata": {},
     "output_type": "execute_result"
    }
   ],
   "source": [
    "df = pd.read_pickle(ifile)\n",
    "df.set_index(df.iloc[:, 0].name, inplace=True)\n",
    "df.head()"
   ]
  },
  {
   "cell_type": "code",
   "execution_count": 4,
   "id": "77dbcd27-0423-4410-9dbc-9d38dc9b3817",
   "metadata": {},
   "outputs": [],
   "source": [
    "x = df.to_numpy()"
   ]
  },
  {
   "cell_type": "code",
   "execution_count": 5,
   "id": "37606f74-ac92-4d09-8164-9cefcd564251",
   "metadata": {},
   "outputs": [
    {
     "data": {
      "text/plain": [
       "array([[0.        , 0.5       , 0.        , ..., 0.        , 0.        ,\n",
       "        0.        ],\n",
       "       [0.        , 0.        , 0.        , ..., 0.        , 0.        ,\n",
       "        0.        ],\n",
       "       [0.56338028, 0.92253521, 1.        , ..., 0.        , 0.        ,\n",
       "        0.        ],\n",
       "       ...,\n",
       "       [0.        , 0.        , 0.        , ..., 0.        , 0.        ,\n",
       "        0.        ],\n",
       "       [0.        , 0.        , 0.        , ..., 0.        , 0.        ,\n",
       "        0.        ],\n",
       "       [0.        , 0.        , 0.        , ..., 0.        , 0.        ,\n",
       "        0.        ]])"
      ]
     },
     "execution_count": 5,
     "metadata": {},
     "output_type": "execute_result"
    }
   ],
   "source": [
    "x"
   ]
  },
  {
   "cell_type": "code",
   "execution_count": 6,
   "id": "0f953b08-0a6d-4477-849e-a1ab9b692217",
   "metadata": {},
   "outputs": [
    {
     "data": {
      "text/plain": [
       "array([0.00000000e+00, 3.46380326e-04, 3.48675035e-04, ...,\n",
       "       9.98360656e-01, 9.98671979e-01, 1.00000000e+00])"
      ]
     },
     "execution_count": 6,
     "metadata": {},
     "output_type": "execute_result"
    }
   ],
   "source": [
    "np.unique(x)"
   ]
  },
  {
   "cell_type": "markdown",
   "id": "291be922-86cb-44a7-859d-9cc10f881b10",
   "metadata": {},
   "source": [
    "Agglomerative clustering:"
   ]
  },
  {
   "cell_type": "code",
   "execution_count": 7,
   "id": "dc908094-27ea-4a92-b5ed-d119542c6d1c",
   "metadata": {},
   "outputs": [],
   "source": [
    "# clst = AgglomerativeClustering().fit(x)\n",
    "# labels = clst.labels_\n",
    "# np.unique(labels)"
   ]
  },
  {
   "cell_type": "code",
   "execution_count": 8,
   "id": "14f32a45-33bf-4821-8d4d-013be712304a",
   "metadata": {},
   "outputs": [
    {
     "data": {
      "text/plain": [
       "(7659, 10481)"
      ]
     },
     "execution_count": 8,
     "metadata": {},
     "output_type": "execute_result"
    }
   ],
   "source": [
    "x.shape"
   ]
  },
  {
   "cell_type": "markdown",
   "id": "5b2c7f8c-95ec-42e2-bda1-08167910d25a",
   "metadata": {},
   "source": [
    "Hierarchical linkage:"
   ]
  },
  {
   "cell_type": "code",
   "execution_count": null,
   "id": "a0b40e71-bbb6-4762-b289-3af51f48714a",
   "metadata": {},
   "outputs": [
    {
     "name": "stdout",
     "output_type": "stream",
     "text": [
      "Clustering matrix of shape (7659, 10481) using a \"euclidean\" distance metric and \"average\" clustering algorithm ...\n"
     ]
    },
    {
     "ename": "ValueError",
     "evalue": "Method 'ward' requires the distance metric to be Euclidean",
     "output_type": "error",
     "traceback": [
      "\u001b[0;31m---------------------------------------------------------------------------\u001b[0m",
      "\u001b[0;31mValueError\u001b[0m                                Traceback (most recent call last)",
      "Cell \u001b[0;32mIn [9], line 3\u001b[0m\n\u001b[1;32m      1\u001b[0m t0 \u001b[38;5;241m=\u001b[39m time\u001b[38;5;241m.\u001b[39mtime()\n\u001b[1;32m      2\u001b[0m \u001b[38;5;28mprint\u001b[39m(\u001b[38;5;124mf\u001b[39m\u001b[38;5;124m'\u001b[39m\u001b[38;5;124mClustering matrix of shape \u001b[39m\u001b[38;5;132;01m{\u001b[39;00mx\u001b[38;5;241m.\u001b[39mshape\u001b[38;5;132;01m}\u001b[39;00m\u001b[38;5;124m using a \u001b[39m\u001b[38;5;124m\"\u001b[39m\u001b[38;5;132;01m{\u001b[39;00mmetric\u001b[38;5;132;01m}\u001b[39;00m\u001b[38;5;124m\"\u001b[39m\u001b[38;5;124m distance metric and \u001b[39m\u001b[38;5;124m\"\u001b[39m\u001b[38;5;132;01m{\u001b[39;00mmethod\u001b[38;5;132;01m}\u001b[39;00m\u001b[38;5;124m\"\u001b[39m\u001b[38;5;124m clustering algorithm ...\u001b[39m\u001b[38;5;124m'\u001b[39m)\n\u001b[0;32m----> 3\u001b[0m clst \u001b[38;5;241m=\u001b[39m \u001b[43mlinkage\u001b[49m\u001b[43m(\u001b[49m\u001b[43mx\u001b[49m\u001b[43m,\u001b[49m\u001b[43m \u001b[49m\u001b[43mmetric\u001b[49m\u001b[43m \u001b[49m\u001b[38;5;241;43m=\u001b[39;49m\u001b[43m \u001b[49m\u001b[38;5;124;43m'\u001b[39;49m\u001b[38;5;124;43maverage\u001b[39;49m\u001b[38;5;124;43m'\u001b[39;49m\u001b[43m,\u001b[49m\u001b[43m \u001b[49m\u001b[43mmethod\u001b[49m\u001b[43m \u001b[49m\u001b[38;5;241;43m=\u001b[39;49m\u001b[43m \u001b[49m\u001b[38;5;124;43m'\u001b[39;49m\u001b[38;5;124;43mward\u001b[39;49m\u001b[38;5;124;43m'\u001b[39;49m\u001b[43m)\u001b[49m\n\u001b[1;32m      4\u001b[0m \u001b[38;5;28mprint\u001b[39m(\u001b[38;5;124mf\u001b[39m\u001b[38;5;124m'\u001b[39m\u001b[38;5;124mTime to cluster \u001b[39m\u001b[38;5;132;01m{\u001b[39;00mx\u001b[38;5;241m.\u001b[39mshape\u001b[38;5;132;01m}\u001b[39;00m\u001b[38;5;124m matrix = \u001b[39m\u001b[38;5;132;01m{\u001b[39;00mtime\u001b[38;5;241m.\u001b[39mtime() \u001b[38;5;241m-\u001b[39m t0\u001b[38;5;132;01m}\u001b[39;00m\u001b[38;5;124m seconds\u001b[39m\u001b[38;5;124m'\u001b[39m)\n",
      "File \u001b[0;32m~/miniconda3/envs/dev/lib/python3.10/site-packages/scipy/cluster/hierarchy.py:1053\u001b[0m, in \u001b[0;36mlinkage\u001b[0;34m(y, method, metric, optimal_ordering)\u001b[0m\n\u001b[1;32m   1051\u001b[0m \u001b[38;5;28;01melif\u001b[39;00m y\u001b[38;5;241m.\u001b[39mndim \u001b[38;5;241m==\u001b[39m \u001b[38;5;241m2\u001b[39m:\n\u001b[1;32m   1052\u001b[0m     \u001b[38;5;28;01mif\u001b[39;00m method \u001b[38;5;129;01min\u001b[39;00m _EUCLIDEAN_METHODS \u001b[38;5;129;01mand\u001b[39;00m metric \u001b[38;5;241m!=\u001b[39m \u001b[38;5;124m'\u001b[39m\u001b[38;5;124meuclidean\u001b[39m\u001b[38;5;124m'\u001b[39m:\n\u001b[0;32m-> 1053\u001b[0m         \u001b[38;5;28;01mraise\u001b[39;00m \u001b[38;5;167;01mValueError\u001b[39;00m(\u001b[38;5;124m\"\u001b[39m\u001b[38;5;124mMethod \u001b[39m\u001b[38;5;124m'\u001b[39m\u001b[38;5;132;01m{0}\u001b[39;00m\u001b[38;5;124m'\u001b[39m\u001b[38;5;124m requires the distance metric \u001b[39m\u001b[38;5;124m\"\u001b[39m\n\u001b[1;32m   1054\u001b[0m                          \u001b[38;5;124m\"\u001b[39m\u001b[38;5;124mto be Euclidean\u001b[39m\u001b[38;5;124m\"\u001b[39m\u001b[38;5;241m.\u001b[39mformat(method))\n\u001b[1;32m   1055\u001b[0m     \u001b[38;5;28;01mif\u001b[39;00m y\u001b[38;5;241m.\u001b[39mshape[\u001b[38;5;241m0\u001b[39m] \u001b[38;5;241m==\u001b[39m y\u001b[38;5;241m.\u001b[39mshape[\u001b[38;5;241m1\u001b[39m] \u001b[38;5;129;01mand\u001b[39;00m np\u001b[38;5;241m.\u001b[39mallclose(np\u001b[38;5;241m.\u001b[39mdiag(y), \u001b[38;5;241m0\u001b[39m):\n\u001b[1;32m   1056\u001b[0m         \u001b[38;5;28;01mif\u001b[39;00m np\u001b[38;5;241m.\u001b[39mall(y \u001b[38;5;241m>\u001b[39m\u001b[38;5;241m=\u001b[39m \u001b[38;5;241m0\u001b[39m) \u001b[38;5;129;01mand\u001b[39;00m np\u001b[38;5;241m.\u001b[39mallclose(y, y\u001b[38;5;241m.\u001b[39mT):\n",
      "\u001b[0;31mValueError\u001b[0m: Method 'ward' requires the distance metric to be Euclidean"
     ]
    }
   ],
   "source": [
    "t0 = time.time()\n",
    "print(f'Clustering matrix of shape {x.shape} using a \"{metric}\" distance metric and \"{method}\" clustering algorithm ...')\n",
    "clst = linkage(x, metric = metric, method = method)\n",
    "print(f'Time to cluster {x.shape} matrix = {time.time() - t0} seconds')"
   ]
  },
  {
   "cell_type": "code",
   "execution_count": null,
   "id": "d3090d04-c123-4d23-b7dc-b9280ddfb50e",
   "metadata": {},
   "outputs": [],
   "source": [
    "leaves_list(clst)"
   ]
  },
  {
   "cell_type": "code",
   "execution_count": null,
   "id": "b24f1362-d70c-40a9-a6d5-2541288a5e19",
   "metadata": {},
   "outputs": [],
   "source": [
    "hclust_order = list(leaves_list(clst))"
   ]
  },
  {
   "cell_type": "code",
   "execution_count": null,
   "id": "d9bff968-bb77-4006-9757-4dd2d1586fa8",
   "metadata": {},
   "outputs": [],
   "source": [
    "len(set(hclust_order))"
   ]
  },
  {
   "cell_type": "code",
   "execution_count": null,
   "id": "3de6c681-15e5-4381-bd7b-0fff1af880a4",
   "metadata": {},
   "outputs": [],
   "source": [
    "df.reset_index(inplace=True)\n",
    "df.head()"
   ]
  },
  {
   "cell_type": "code",
   "execution_count": null,
   "id": "ba940853-74cf-4103-af52-cd22d62101bf",
   "metadata": {
    "tags": []
   },
   "outputs": [],
   "source": [
    "clustered_df = df.reindex(hclust_order, copy=False)"
   ]
  },
  {
   "cell_type": "code",
   "execution_count": null,
   "id": "170ead1e-ff4d-488d-82ca-ca603f2b45fe",
   "metadata": {},
   "outputs": [],
   "source": [
    "print('Clustered elution matrix:')\n",
    "clustered_df.head(10)"
   ]
  },
  {
   "cell_type": "code",
   "execution_count": null,
   "id": "219fcd31-8f2c-4edc-b62d-fd823b0794c3",
   "metadata": {},
   "outputs": [],
   "source": [
    "clustered_df[clustered_df.isna().any(axis=1)]"
   ]
  },
  {
   "cell_type": "code",
   "execution_count": null,
   "id": "d5cf70bf-9cf3-4ab9-b88e-a3c8fe00efa1",
   "metadata": {},
   "outputs": [],
   "source": [
    "t0 = time.time()\n",
    "print(f'Writing clustered elution matrix to {ofile} ...')\n",
    "clustered_df.to_csv(ofile, index=False)\n",
    "print(f'Time to write file = {time.time() - t0}')"
   ]
  }
 ],
 "metadata": {
  "kernelspec": {
   "display_name": "Python 3 (ipykernel)",
   "language": "python",
   "name": "python3"
  },
  "language_info": {
   "codemirror_mode": {
    "name": "ipython",
    "version": 3
   },
   "file_extension": ".py",
   "mimetype": "text/x-python",
   "name": "python",
   "nbconvert_exporter": "python",
   "pygments_lexer": "ipython3",
   "version": "3.10.6"
  }
 },
 "nbformat": 4,
 "nbformat_minor": 5
}
