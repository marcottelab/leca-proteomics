{
 "cells": [
  {
   "cell_type": "code",
   "execution_count": 1,
   "id": "740cc9c8-7649-491e-bbd3-1e9abd5d7b92",
   "metadata": {},
   "outputs": [],
   "source": [
    "import pandas  as pd\n",
    "import numpy as np\n",
    "import pickle\n",
    "from sklearn.model_selection import GroupShuffleSplit\n",
    "from sklearn.model_selection import StratifiedKFold\n",
    "from sklearn.ensemble import ExtraTreesClassifier\n",
    "from sklearn.feature_selection import RFE\n",
    "from sklearn.feature_selection import RFECV\n",
    "from sklearn.inspection import permutation_importance"
   ]
  },
  {
   "cell_type": "code",
   "execution_count": 2,
   "id": "897c1153-98b1-43ad-a595-af9852010fd3",
   "metadata": {},
   "outputs": [],
   "source": [
    "fmatfile = '../ppi_ml/data/featmats/featmat_labeled_traintest.pkl'\n",
    "target = 'label'\n",
    "seed = 13\n",
    "train_size = 0.7\n",
    "n_features_to_select = 100\n",
    "#min_features_to_select = 1"
   ]
  },
  {
   "cell_type": "code",
   "execution_count": 3,
   "id": "0797ce61-3f80-4eca-8257-ad04c150544d",
   "metadata": {},
   "outputs": [],
   "source": [
    "# load data\n",
    "with open(fmatfile, 'rb') as handle:\n",
    "    fmat = pickle.load(handle)\n",
    "\n",
    "# define cols\n",
    "label_cols = ['ID', 'label', 'super_group']\n",
    "data_cols = [c for c in fmat.columns.values.tolist() if c not in label_cols]"
   ]
  },
  {
   "cell_type": "code",
   "execution_count": 4,
   "id": "f0d4f702-b9ca-4123-9f5a-560fa2baa34e",
   "metadata": {},
   "outputs": [],
   "source": [
    "# convert cols to arrays\n",
    "X = fmat[data_cols].to_numpy()\n",
    "y = fmat[label_cols[1]].to_numpy()\n",
    "groups = fmat[label_cols[2]].to_numpy()"
   ]
  },
  {
   "cell_type": "code",
   "execution_count": 5,
   "id": "23895441-e012-4aad-ab7c-4b41081d598b",
   "metadata": {},
   "outputs": [],
   "source": [
    "# group split strategy\n",
    "gss = GroupShuffleSplit(n_splits = 1, train_size=train_size, random_state=seed)\n",
    "\n",
    "# model to train on\n",
    "clf = ExtraTreesClassifier(n_estimators=100, random_state=seed)\n",
    "\n",
    "# feature selector (rfe w/ cross-validation)\n",
    "cv = StratifiedKFold(5)\n",
    "rfecv = RFECV(\n",
    "    estimator=clf,\n",
    "    step=5,\n",
    "    cv=cv,\n",
    "    scoring=\"accuracy\",\n",
    "    n_jobs=5,\n",
    ")"
   ]
  },
  {
   "cell_type": "code",
   "execution_count": 6,
   "id": "f8cdb8a9-5403-4c98-89a5-29a01ccb2cd3",
   "metadata": {},
   "outputs": [
    {
     "name": "stdout",
     "output_type": "stream",
     "text": [
      "# train PPIs = 18339\n",
      " --> +/- label balance: {-1: 13400, 1: 4939}\n",
      "# test PPIs = 6902\n",
      " --> +/- label balance: {-1: 5212, 1: 1690}\n"
     ]
    }
   ],
   "source": [
    "# get train & test splits\n",
    "for test_idx, train_idx in gss.split(X, y, groups):\n",
    "    X_train = X[train_idx]\n",
    "    y_train = y[train_idx]\n",
    "    X_test = X[test_idx]\n",
    "    y_test = y[test_idx]\n",
    "    \n",
    "    label, counts = np.unique(y_train, return_counts=True)\n",
    "    label_counts_train = dict(zip(label, counts))\n",
    "    label, counts = np.unique(y_test, return_counts=True)\n",
    "    label_counts_test = dict(zip(label, counts))\n",
    "    \n",
    "    print(f'# train PPIs = {len(X_train)}')\n",
    "    print(f' --> +/- label balance: {label_counts_train}')\n",
    "    print(f'# test PPIs = {len(X_test)}')\n",
    "    print(f' --> +/- label balance: {label_counts_test}')"
   ]
  },
  {
   "cell_type": "code",
   "execution_count": 7,
   "id": "674420ca-7935-483b-97ae-73bb7ffd1c5b",
   "metadata": {},
   "outputs": [
    {
     "name": "stdout",
     "output_type": "stream",
     "text": [
      "Optimal number of features: 148\n"
     ]
    }
   ],
   "source": [
    "# execute rfe with cross-validation\n",
    "rfecv.fit(X_train, y_train)\n",
    "print(f\"Optimal number of features: {rfecv.n_features_}\")"
   ]
  },
  {
   "cell_type": "code",
   "execution_count": 8,
   "id": "a74cbd3e-47e0-4667-a8bc-6d7cdf0b4b11",
   "metadata": {},
   "outputs": [
    {
     "data": {
      "text/plain": [
       "array([-1,  1])"
      ]
     },
     "execution_count": 8,
     "metadata": {},
     "output_type": "execute_result"
    }
   ],
   "source": [
    "rfecv.classes_"
   ]
  },
  {
   "cell_type": "code",
   "execution_count": 9,
   "id": "dc29b51a-cb1d-4ab5-b025-ca0ffb111519",
   "metadata": {},
   "outputs": [
    {
     "ename": "NameError",
     "evalue": "name 'min_features_to_select' is not defined",
     "output_type": "error",
     "traceback": [
      "\u001b[0;31m---------------------------------------------------------------------------\u001b[0m",
      "\u001b[0;31mNameError\u001b[0m                                 Traceback (most recent call last)",
      "Cell \u001b[0;32mIn [9], line 9\u001b[0m\n\u001b[1;32m      6\u001b[0m plt\u001b[38;5;241m.\u001b[39mxlabel(\u001b[38;5;124m\"\u001b[39m\u001b[38;5;124mNumber of features selected\u001b[39m\u001b[38;5;124m\"\u001b[39m)\n\u001b[1;32m      7\u001b[0m plt\u001b[38;5;241m.\u001b[39mylabel(\u001b[38;5;124m\"\u001b[39m\u001b[38;5;124mMean test accuracy\u001b[39m\u001b[38;5;124m\"\u001b[39m)\n\u001b[1;32m      8\u001b[0m plt\u001b[38;5;241m.\u001b[39merrorbar(\n\u001b[0;32m----> 9\u001b[0m     \u001b[38;5;28mrange\u001b[39m(\u001b[43mmin_features_to_select\u001b[49m, n_scores \u001b[38;5;241m+\u001b[39m min_features_to_select),\n\u001b[1;32m     10\u001b[0m     rfecv\u001b[38;5;241m.\u001b[39mcv_results_[\u001b[38;5;124m\"\u001b[39m\u001b[38;5;124mmean_test_score\u001b[39m\u001b[38;5;124m\"\u001b[39m],\n\u001b[1;32m     11\u001b[0m     yerr\u001b[38;5;241m=\u001b[39mrfecv\u001b[38;5;241m.\u001b[39mcv_results_[\u001b[38;5;124m\"\u001b[39m\u001b[38;5;124mstd_test_score\u001b[39m\u001b[38;5;124m\"\u001b[39m],\n\u001b[1;32m     12\u001b[0m )\n\u001b[1;32m     13\u001b[0m plt\u001b[38;5;241m.\u001b[39mtitle(\u001b[38;5;124m\"\u001b[39m\u001b[38;5;124mRecursive Feature Elimination \u001b[39m\u001b[38;5;130;01m\\n\u001b[39;00m\u001b[38;5;124mwith correlated features\u001b[39m\u001b[38;5;124m\"\u001b[39m)\n\u001b[1;32m     14\u001b[0m plt\u001b[38;5;241m.\u001b[39mshow()\n",
      "\u001b[0;31mNameError\u001b[0m: name 'min_features_to_select' is not defined"
     ]
    },
    {
     "data": {
      "image/png": "[encoded data removed]",
      "text/plain": [
       "<Figure size 640x480 with 1 Axes>"
      ]
     },
     "metadata": {},
     "output_type": "display_data"
    }
   ],
   "source": [
    "# results ...?\n",
    "import matplotlib.pyplot as plt\n",
    "\n",
    "n_scores = len(rfecv.cv_results_[\"mean_test_score\"])\n",
    "plt.figure().tight_layout()\n",
    "plt.xlabel(\"Number of features selected\")\n",
    "plt.ylabel(\"Mean test accuracy\")\n",
    "plt.errorbar(\n",
    "    range(min_features_to_select, n_scores + min_features_to_select),\n",
    "    rfecv.cv_results_[\"mean_test_score\"],\n",
    "    yerr=rfecv.cv_results_[\"std_test_score\"],\n",
    ")\n",
    "plt.title(\"Recursive Feature Elimination \\nwith correlated features\")\n",
    "plt.show()"
   ]
  },
  {
   "cell_type": "code",
   "execution_count": null,
   "id": "45d1bc04-76de-4b50-af18-4dd56babe94c",
   "metadata": {},
   "outputs": [],
   "source": [
    "result = permutation_importance(\n",
    "    rfecv, X_test, y_test, n_repeats=5, random_state=13, n_jobs=5\n",
    ")\n",
    "\n",
    "X_df = fmat[data_cols]\n",
    "\n",
    "sorted_importances_idx = result.importances_mean.argsort()\n",
    "importances = pd.DataFrame(\n",
    "    result.importances[sorted_importances_idx].T,\n",
    "    columns=X_df.columns[sorted_importances_idx],\n",
    ")\n",
    "ax = importances.plot.box(vert=False, whis=10)\n",
    "ax.set_title(\"Permutation Importances (test set)\")\n",
    "ax.axvline(x=0, color=\"k\", linestyle=\"--\")\n",
    "ax.rc('ytick', labelsize=6) \n",
    "ax.set_xlabel(\"Decrease in accuracy score\")\n",
    "ax.figure.tight_layout()"
   ]
  },
  {
   "cell_type": "code",
   "execution_count": null,
   "id": "769b8f3f-bfe5-4def-a3b3-1ffd01539169",
   "metadata": {},
   "outputs": [],
   "source": [
    "# results ...?\n",
    "predictions = rfecv.predict(X_test)"
   ]
  },
  {
   "cell_type": "code",
   "execution_count": null,
   "id": "3fbadf73-72a5-488d-b93a-873658f24a71",
   "metadata": {},
   "outputs": [],
   "source": [
    "from sklearn.metrics import PrecisionRecallDisplay\n",
    "PrecisionRecallDisplay.from_estimator(rfecv, X_test, y_test)\n",
    "plt.savefig(f'test.png', dpi=300, transparent=True)"
   ]
  },
  {
   "cell_type": "code",
   "execution_count": null,
   "id": "259c0f00-55d8-4c7b-b063-9e77bcb92adf",
   "metadata": {},
   "outputs": [],
   "source": [
    "import numpy as np\n",
    "from sklearn.metrics import precision_recall_curve\n",
    "precision, recall, thresholds = precision_recall_curve(y_test, predictions)"
   ]
  },
  {
   "cell_type": "code",
   "execution_count": null,
   "id": "cdc6bfa4-8896-491f-8290-c6504786a0f6",
   "metadata": {},
   "outputs": [],
   "source": [
    "len(y_train)"
   ]
  },
  {
   "cell_type": "code",
   "execution_count": null,
   "id": "8d8a78e7-7607-4c05-bbcb-674b7e896f41",
   "metadata": {},
   "outputs": [],
   "source": [
    "df = pd.DataFrame()\n",
    "df[['precision','recall']] = precision, recall"
   ]
  },
  {
   "cell_type": "code",
   "execution_count": null,
   "id": "2736e4a5-f3a2-46df-9665-28a8d77a8f14",
   "metadata": {
    "tags": []
   },
   "outputs": [],
   "source": [
    "results = pd.DataFrame({'feature':data_cols, 'rank':rfecv.ranking_, 'support':rfecv.support_})\n",
    "results"
   ]
  },
  {
   "cell_type": "code",
   "execution_count": null,
   "id": "e35efe33-6f65-42cd-9454-84a8cdad13ac",
   "metadata": {},
   "outputs": [],
   "source": [
    "sel_feats = results[results['support'] == True]\n",
    "sel_feats"
   ]
  },
  {
   "cell_type": "markdown",
   "id": "31fdc44b-18db-4ca8-a4d4-f496d6a55928",
   "metadata": {},
   "source": [
    "Feature importances are provided by the fitted attribute feature_importances_ and they are computed as the mean and standard deviation of accumulation of the impurity decrease (MDI) within each tree.\n",
    "\n",
    "From documentation: \"In scikit-learn, we implement the importance as described in [1] (often cited, but unfortunately rarely read…). It is sometimes called “gini importance” or “mean decrease impurity” and is defined as the total decrease in node impurity (weighted by the probability of reaching that node (which is approximated by the proportion of samples reaching that node)) averaged over all trees of the ensemble.\"\n",
    "\n",
    "**Warning:** Impurity-based feature importances can be misleading for high cardinality features (many unique values). See Permutation feature importance as an alternative: https://scikit-learn.org/stable/auto_examples/inspection/plot_permutation_importance.html"
   ]
  },
  {
   "cell_type": "code",
   "execution_count": null,
   "id": "c51fb904-8e1f-4d61-9780-c99aefa8d656",
   "metadata": {},
   "outputs": [],
   "source": [
    "rfecv.estimator_.feature_importances_"
   ]
  },
  {
   "cell_type": "code",
   "execution_count": null,
   "id": "5933880a-7bd8-4b77-9833-2db752d22a23",
   "metadata": {},
   "outputs": [],
   "source": [
    "sel_feats_scored = sel_feats.head(rfecv.n_features_)\n",
    "sel_feats_scored['mdi'] = rfecv.estimator_.feature_importances_\n",
    "sel_feats_scored = sel_feats_scored.sort_values('mdi')"
   ]
  },
  {
   "cell_type": "code",
   "execution_count": null,
   "id": "4e98a7bd-6bb3-488f-ac42-a277bf636a65",
   "metadata": {},
   "outputs": [],
   "source": [
    "sel_feats_scored"
   ]
  },
  {
   "cell_type": "code",
   "execution_count": null,
   "id": "e5d96eeb-682d-4d41-aab2-58bd6f3f3dba",
   "metadata": {},
   "outputs": [],
   "source": [
    "# write output\n",
    "sel_feats_scored.to_csv('../ppi_ml/results/feature_selection/selected_feats_extratrees.csv', index=False)"
   ]
  }
 ],
 "metadata": {
  "kernelspec": {
   "display_name": "Python 3 (ipykernel)",
   "language": "python",
   "name": "python3"
  },
  "language_info": {
   "codemirror_mode": {
    "name": "ipython",
    "version": 3
   },
   "file_extension": ".py",
   "mimetype": "text/x-python",
   "name": "python",
   "nbconvert_exporter": "python",
   "pygments_lexer": "ipython3",
   "version": "3.10.6"
  }
 },
 "nbformat": 4,
 "nbformat_minor": 5
}
