{
 "cells": [
  {
   "cell_type": "code",
   "execution_count": 1,
   "id": "b1ca3e56-2f94-4d8a-9f34-3e8246f28dcf",
   "metadata": {},
   "outputs": [],
   "source": [
    "import pandas as pd\n",
    "import time\n",
    "from tqdm import tqdm"
   ]
  },
  {
   "cell_type": "code",
   "execution_count": 2,
   "id": "b24741eb-6c5b-46cb-bee3-60a92f3c2c19",
   "metadata": {},
   "outputs": [],
   "source": [
    "def read_csv_pgbar(csv_path, chunksize, dtype=object):\n",
    " \n",
    "    rows = sum(1 for _ in open(csv_path, 'r')) - 1 # minus the header\n",
    "    chunk_list = []\n",
    " \n",
    "    with tqdm(total=rows, desc='Rows read: ') as bar:\n",
    "        for chunk in pd.read_csv(csv_path, chunksize=chunksize,\n",
    "                                 dtype=dtype):\n",
    "            chunk_list.append(chunk)\n",
    "            bar.update(len(chunk))\n",
    " \n",
    "    df = pd.concat((f for f in chunk_list), axis=0)\n",
    "    print('Done!')\n",
    " \n",
    "    return df"
   ]
  },
  {
   "cell_type": "code",
   "execution_count": 3,
   "id": "c2c448df-353b-4398-8990-5579791f56ee",
   "metadata": {},
   "outputs": [],
   "source": [
    "def calc_metrics(file, levels, assay):\n",
    "    \n",
    "    df = read_csv_pgbar(file, chunksize=10**6)\n",
    "    df['degree'] = df['degree'].astype(str).astype(int)\n",
    "    \n",
    "    final_df = pd.DataFrame()\n",
    "    for level in levels:\n",
    "\n",
    "        print(f\"Computing precision/recall for relationships of degree {level} ...\")\n",
    "        tp_count = 0\n",
    "        fp_count = 0\n",
    "        \n",
    "        p_list = []\n",
    "        r_list = []\n",
    "        f_list = []\n",
    "        \n",
    "        df_lev = df[df['degree'].isin([level, -1])]\n",
    "        df_lev = df_lev.sort_values(by=f'{assay}_rel',\n",
    "                        ascending=False).reset_index(drop=True)\n",
    "        all_pos = len(df_lev[df_lev['degree'] == level])\n",
    "        print(f\"Total relationships of degree {level} = {all_pos}\")\n",
    "        \n",
    "        # make sure the label exists\n",
    "        if all_pos < 1:\n",
    "            print(f\"No relationships of degree {level} detected.\")\n",
    "            continue\n",
    "\n",
    "        for i in range(len(df_lev)):\n",
    "\n",
    "            deg = df_lev['degree'][i]\n",
    "\n",
    "            if deg == level:\n",
    "                tp_count += 1\n",
    "            else:\n",
    "                fp_count += 1\n",
    "\n",
    "            tps = tp_count\n",
    "            fps = fp_count\n",
    "            fns = all_pos - tps\n",
    "\n",
    "            precision = tps/(tps+fps)\n",
    "            recall = tps/(tps+fns)\n",
    "            fdr = 1 - precision\n",
    "\n",
    "            p_list.append(float(precision))\n",
    "            r_list.append(float(recall))\n",
    "            f_list.append(float(fdr))\n",
    "\n",
    "        pr_df = pd.DataFrame()\n",
    "        pr_df['precision'] = p_list\n",
    "        pr_df['recall'] = r_list\n",
    "        pr_df['fdr'] = f_list\n",
    "        pr_df['degree'] = level\n",
    "        \n",
    "        final_df = final_df.append(pr_df)\n",
    "    \n",
    "    return final_df"
   ]
  },
  {
   "cell_type": "code",
   "execution_count": 4,
   "id": "f0932284-8136-478b-8b7f-6936b6130fd5",
   "metadata": {
    "tags": []
   },
   "outputs": [],
   "source": [
    "assay_list = ['ay49', 'ay52', 'ay72', 'all']\n",
    "level_list = [0, 1, 2, 3]"
   ]
  },
  {
   "cell_type": "code",
   "execution_count": null,
   "id": "21824136-882d-4ef7-86f3-80d0146f73e7",
   "metadata": {
    "tags": []
   },
   "outputs": [
    {
     "name": "stdout",
     "output_type": "stream",
     "text": [
      "Reading results from ../assays/ay49/results/plink_fmt/ay49_fmat_labeled_updated.csv ...\n"
     ]
    },
    {
     "name": "stderr",
     "output_type": "stream",
     "text": [
      "Rows read: 100%|███████████████████████████████| 212664376/212664376 [15:25<00:00, 229761.92it/s]\n"
     ]
    },
    {
     "name": "stdout",
     "output_type": "stream",
     "text": [
      "Done!\n",
      "Computing precision/recall for relationships of degree 0 ...\n",
      "Total relationships of degree 0 = 7\n"
     ]
    },
    {
     "name": "stderr",
     "output_type": "stream",
     "text": [
      "/tmp/ipykernel_50625/3889525091.py:55: FutureWarning: The frame.append method is deprecated and will be removed from pandas in a future version. Use pandas.concat instead.\n",
      "  final_df = final_df.append(pr_df)\n"
     ]
    },
    {
     "name": "stdout",
     "output_type": "stream",
     "text": [
      "Computing precision/recall for relationships of degree 1 ...\n",
      "Total relationships of degree 1 = 3136\n"
     ]
    },
    {
     "name": "stderr",
     "output_type": "stream",
     "text": [
      "/tmp/ipykernel_50625/3889525091.py:55: FutureWarning: The frame.append method is deprecated and will be removed from pandas in a future version. Use pandas.concat instead.\n",
      "  final_df = final_df.append(pr_df)\n"
     ]
    },
    {
     "name": "stdout",
     "output_type": "stream",
     "text": [
      "Computing precision/recall for relationships of degree 2 ...\n",
      "Total relationships of degree 2 = 528\n"
     ]
    },
    {
     "name": "stderr",
     "output_type": "stream",
     "text": [
      "/tmp/ipykernel_50625/3889525091.py:55: FutureWarning: The frame.append method is deprecated and will be removed from pandas in a future version. Use pandas.concat instead.\n",
      "  final_df = final_df.append(pr_df)\n"
     ]
    },
    {
     "name": "stdout",
     "output_type": "stream",
     "text": [
      "Computing precision/recall for relationships of degree 3 ...\n",
      "Total relationships of degree 3 = 179\n"
     ]
    },
    {
     "name": "stderr",
     "output_type": "stream",
     "text": [
      "/tmp/ipykernel_50625/3889525091.py:55: FutureWarning: The frame.append method is deprecated and will be removed from pandas in a future version. Use pandas.concat instead.\n",
      "  final_df = final_df.append(pr_df)\n"
     ]
    },
    {
     "name": "stdout",
     "output_type": "stream",
     "text": [
      "   precision  recall  fdr  degree\n",
      "0        0.0     0.0  1.0       0\n",
      "1        0.0     0.0  1.0       0\n",
      "2        0.0     0.0  1.0       0\n",
      "3        0.0     0.0  1.0       0\n",
      "4        0.0     0.0  1.0       0\n",
      "850645954\n",
      "Writing PR results to ../assays/ay49/results/ay49_pr.csv ...\n"
     ]
    }
   ],
   "source": [
    "for a in assay_list[0:2]:\n",
    "    t0 = time.time()\n",
    "    file = f'../assays/{a}/results/plink_fmt/{a}_fmat_labeled_updated.csv'\n",
    "    out = f'../assays/{a}/results/{a}_pr.csv'\n",
    "    print(f\"Reading results from {file} ...\")\n",
    "    df_pr = calc_metrics(file = file, \n",
    "                         levels = level_list, \n",
    "                         assay = a)\n",
    "    print(df_pr.head())\n",
    "    print(len(df_pr))\n",
    "    print(f\"Writing PR results to {out} ...\")\n",
    "    df_pr.to_csv(out, chunksize=10**6, index=False)\n",
    "    print(f\"Done! Total calculation time: {time.time() - t0}\")"
   ]
  },
  {
   "cell_type": "raw",
   "id": "71904a67-2e51-49d7-bfa8-b6333c95cfcf",
   "metadata": {},
   "source": [
    "Testing below here"
   ]
  },
  {
   "cell_type": "code",
   "execution_count": null,
   "id": "908a8df5-7819-4ce1-81ca-3f52dfae9f9b",
   "metadata": {},
   "outputs": [],
   "source": [
    "# t0 = time.time()\n",
    "# file = f'../assays/ay49/results/pilot/RQ2415302_fmat_updated.csv'\n",
    "# out = f'../assays/ay49/results/pilot/RQ2415302_pr.csv'\n",
    "# print(f\"Reading results from {file} ...\")\n",
    "# df_pr = calc_metrics(file = file, \n",
    "#                      levels = level_list, \n",
    "#                      assay = 'ay49')\n",
    "# print(df_pr.head())\n",
    "# print(len(df_pr))\n",
    "# print(f\"Writing PR results to {out} ...\")\n",
    "# df_pr.to_csv(out, chunksize=10**6, index=False)\n",
    "# print(f\"Done! Total calculation time: {time.time() - t0}\")"
   ]
  },
  {
   "cell_type": "code",
   "execution_count": null,
   "id": "81825e83-5b49-4be7-9ee4-a352437d528c",
   "metadata": {},
   "outputs": [],
   "source": []
  }
 ],
 "metadata": {
  "kernelspec": {
   "display_name": "Python 3 (ipykernel)",
   "language": "python",
   "name": "python3"
  },
  "language_info": {
   "codemirror_mode": {
    "name": "ipython",
    "version": 3
   },
   "file_extension": ".py",
   "mimetype": "text/x-python",
   "name": "python",
   "nbconvert_exporter": "python",
   "pygments_lexer": "ipython3",
   "version": "3.10.6"
  }
 },
 "nbformat": 4,
 "nbformat_minor": 5
}
