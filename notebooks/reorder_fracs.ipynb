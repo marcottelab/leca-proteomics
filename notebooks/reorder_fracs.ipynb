{
 "cells": [
  {
   "cell_type": "code",
   "execution_count": 1,
   "id": "8122104f-6457-4f38-aece-bfaeda927c0d",
   "metadata": {},
   "outputs": [],
   "source": [
    "import pandas as pd\n",
    "import random"
   ]
  },
  {
   "cell_type": "code",
   "execution_count": 2,
   "id": "837b0ddc-85ac-4295-a5e6-57a4a29119c6",
   "metadata": {},
   "outputs": [
    {
     "name": "stdout",
     "output_type": "stream",
     "text": [
      "all_euk_cfms.concat.norm.tidy\n",
      "all_euk_cfms.concat.raw.tidy\n",
      "leca_clustering_cmplx_annots.csv\n",
      "leca_clustering.csv\n",
      "leca_euk_elut.dollonogs.totalcounts.txt\n",
      "leca_euks_elut.filt150p.hclust.csv\n",
      "leca_euks_elut.filt150p.raw.txt\n",
      "leca_euks_elut.filt300p.hclust.csv\n",
      "leca_euks_elut.filt300p.hclust.nosums.csv\n",
      "leca_euks_elut.filt300p.raw.txt\n",
      "leca_euks_elut.filtdollo.filt150p.hclust.csv\n",
      "leca_euks_elut.filtdollo.filt150p.hclust.sorted.csv\n",
      "leca_euks_elut.filtdollo.filt150p.raw.csv\n",
      "leca_euks_elut.filtdollo.filt150p.raw.noheaders.csv\n",
      "leca_euks_elut.filtdollo.filt150p.raw.noheaders.txt\n",
      "leca_euks_elut.filtdollo.filt150p.raw.txt\n",
      "leca_euks_elut.filtdollo.hclust.csv\n",
      "leca_euks_elut.filtdollo.norm.csv\n",
      "leca_euks_elut.filtdollo.norm.noheaders.csv\n",
      "leca_euks_elut.filtdollo.norm.txt\n",
      "leca_euks_elut.filtdollo.raw.txt\n",
      "leca_euks_elut_norm.csv\n",
      "leca_euks_elut.norm.noheaders.csv\n",
      "leca_euks_elut.norm.noheaders.txt\n",
      "leca_euks_elut.norm.txt\n",
      "leca_euks_elut.raw.txt\n",
      "leca_vs_all_count_distribution.txt\n"
     ]
    }
   ],
   "source": [
    "!ls /stor/work/Marcotte/project/rmcox/leca/ppi_ml/results/elutions"
   ]
  },
  {
   "cell_type": "code",
   "execution_count": 3,
   "id": "3548574a-e17f-457c-826e-e4120f01d920",
   "metadata": {},
   "outputs": [],
   "source": [
    "workdir = '/stor/work/Marcotte/project/rmcox/leca/'\n",
    "elut_file = workdir+'ppi_ml/results/elutions/leca_euks_elut_norm.csv'\n",
    "meta_file = workdir+'ppi_ml/data/meta/leca_master_gsheet.csv'"
   ]
  },
  {
   "cell_type": "code",
   "execution_count": 4,
   "id": "7bb263cc-6a94-4e72-8635-0fea517b0a6c",
   "metadata": {},
   "outputs": [
    {
     "name": "stdout",
     "output_type": "stream",
     "text": [
      "['orthogroup', 'AT_indark_IEX_fraction_01a_20150422', 'AT_indark_IEX_fraction_02a_20150422', 'AT_indark_IEX_fraction_03a_20150422', 'AT_indark_IEX_fraction_04a_20150422']\n"
     ]
    }
   ],
   "source": [
    "cols = open(elut_file).readline().rstrip()\n",
    "cols = cols.split(',')\n",
    "print(cols[0:5])"
   ]
  },
  {
   "cell_type": "code",
   "execution_count": 23,
   "id": "cfb03da1-7717-4a03-83c7-bd78f126dbd2",
   "metadata": {},
   "outputs": [
    {
     "name": "stdout",
     "output_type": "stream",
     "text": [
      "# fraction names = 10481\n",
      "# unique fraction names = 10481\n"
     ]
    }
   ],
   "source": [
    "fracs = cols[1:]\n",
    "print(f'# fraction names = {len(fracs)}')\n",
    "print(f'# unique fraction names = {len(set(fracs))}')"
   ]
  },
  {
   "cell_type": "markdown",
   "id": "f83a0026-4b11-4fec-a497-e51422bfaef5",
   "metadata": {},
   "source": [
    "Need to extract these cols from meta:\n",
    "- Fractionation Prefix\n",
    "- Code\n",
    "- MSBlender Directory\n",
    "- \\# Fractions\n",
    "- Data Source\n",
    "- Map"
   ]
  },
  {
   "cell_type": "code",
   "execution_count": 6,
   "id": "a9f15df6-5175-4988-b0ef-d76a51c07ccc",
   "metadata": {},
   "outputs": [
    {
     "data": {
      "text/html": [
       "<div>\n",
       "<style scoped>\n",
       "    .dataframe tbody tr th:only-of-type {\n",
       "        vertical-align: middle;\n",
       "    }\n",
       "\n",
       "    .dataframe tbody tr th {\n",
       "        vertical-align: top;\n",
       "    }\n",
       "\n",
       "    .dataframe thead th {\n",
       "        text-align: right;\n",
       "    }\n",
       "</style>\n",
       "<table border=\"1\" class=\"dataframe\">\n",
       "  <thead>\n",
       "    <tr style=\"text-align: right;\">\n",
       "      <th></th>\n",
       "      <th>Fractionation Prefix</th>\n",
       "      <th>Code</th>\n",
       "      <th>MSBlender Directory</th>\n",
       "      <th># Fractions</th>\n",
       "      <th>Data Source</th>\n",
       "      <th>Map</th>\n",
       "    </tr>\n",
       "  </thead>\n",
       "  <tbody>\n",
       "    <tr>\n",
       "      <th>0</th>\n",
       "      <td>AT_indark_IEX_fraction</td>\n",
       "      <td>ARATH</td>\n",
       "      <td>iex_1</td>\n",
       "      <td>83.0</td>\n",
       "      <td>internal</td>\n",
       "      <td>plant</td>\n",
       "    </tr>\n",
       "    <tr>\n",
       "      <th>1</th>\n",
       "      <td>AT_indark_IEX_fraction</td>\n",
       "      <td>ARATH</td>\n",
       "      <td>iex_2</td>\n",
       "      <td>88.0</td>\n",
       "      <td>internal</td>\n",
       "      <td>plant</td>\n",
       "    </tr>\n",
       "    <tr>\n",
       "      <th>2</th>\n",
       "      <td>WAN141117_At_Col_0</td>\n",
       "      <td>ARATH</td>\n",
       "      <td>iex_3</td>\n",
       "      <td>77.0</td>\n",
       "      <td>internal</td>\n",
       "      <td>plant</td>\n",
       "    </tr>\n",
       "    <tr>\n",
       "      <th>3</th>\n",
       "      <td>AT_leaf_IEX_fraction</td>\n",
       "      <td>ARATH</td>\n",
       "      <td>iex_4</td>\n",
       "      <td>87.0</td>\n",
       "      <td>internal</td>\n",
       "      <td>plant</td>\n",
       "    </tr>\n",
       "    <tr>\n",
       "      <th>4</th>\n",
       "      <td>Athaliana_seed_IEX</td>\n",
       "      <td>ARATH</td>\n",
       "      <td>iex_5</td>\n",
       "      <td>60.0</td>\n",
       "      <td>internal</td>\n",
       "      <td>plant</td>\n",
       "    </tr>\n",
       "  </tbody>\n",
       "</table>\n",
       "</div>"
      ],
      "text/plain": [
       "     Fractionation Prefix   Code MSBlender Directory  # Fractions Data Source  \\\n",
       "0  AT_indark_IEX_fraction  ARATH               iex_1         83.0    internal   \n",
       "1  AT_indark_IEX_fraction  ARATH               iex_2         88.0    internal   \n",
       "2      WAN141117_At_Col_0  ARATH               iex_3         77.0    internal   \n",
       "3    AT_leaf_IEX_fraction  ARATH               iex_4         87.0    internal   \n",
       "4      Athaliana_seed_IEX  ARATH               iex_5         60.0    internal   \n",
       "\n",
       "     Map  \n",
       "0  plant  \n",
       "1  plant  \n",
       "2  plant  \n",
       "3  plant  \n",
       "4  plant  "
      ]
     },
     "execution_count": 6,
     "metadata": {},
     "output_type": "execute_result"
    }
   ],
   "source": [
    "subset = ['Fractionation Prefix', 'Code', 'MSBlender Directory', '# Fractions', 'Data Source', 'Map']\n",
    "meta = pd.read_csv(meta_file)\n",
    "df = meta[meta.columns.intersection(subset)]\n",
    "df.head()"
   ]
  },
  {
   "cell_type": "code",
   "execution_count": 7,
   "id": "fe8bb96b-9ec6-415a-8db9-7e9b406ef5d9",
   "metadata": {},
   "outputs": [
    {
     "data": {
      "text/plain": [
       "0      AT_indark_IEX_fraction\n",
       "1      AT_indark_IEX_fraction\n",
       "2          WAN141117_At_Col_0\n",
       "3        AT_leaf_IEX_fraction\n",
       "4          Athaliana_seed_IEX\n",
       "                ...          \n",
       "178                      Xcap\n",
       "179                  Frog_RNA\n",
       "180                      Frog\n",
       "181                     Frog2\n",
       "182           WAN140125_YEAST\n",
       "Name: Fractionation Prefix, Length: 183, dtype: object"
      ]
     },
     "execution_count": 7,
     "metadata": {},
     "output_type": "execute_result"
    }
   ],
   "source": [
    "df['Fractionation Prefix']"
   ]
  },
  {
   "cell_type": "code",
   "execution_count": 8,
   "id": "c3811f15-3744-4c3b-a6da-42ea170d74c1",
   "metadata": {},
   "outputs": [
    {
     "data": {
      "text/html": [
       "<div>\n",
       "<style scoped>\n",
       "    .dataframe tbody tr th:only-of-type {\n",
       "        vertical-align: middle;\n",
       "    }\n",
       "\n",
       "    .dataframe tbody tr th {\n",
       "        vertical-align: top;\n",
       "    }\n",
       "\n",
       "    .dataframe thead th {\n",
       "        text-align: right;\n",
       "    }\n",
       "</style>\n",
       "<table border=\"1\" class=\"dataframe\">\n",
       "  <thead>\n",
       "    <tr style=\"text-align: right;\">\n",
       "      <th></th>\n",
       "      <th>Fractionation Prefix</th>\n",
       "      <th>Code</th>\n",
       "      <th>MSBlender Directory</th>\n",
       "      <th># Fractions</th>\n",
       "      <th>Data Source</th>\n",
       "      <th>Map</th>\n",
       "    </tr>\n",
       "  </thead>\n",
       "  <tbody>\n",
       "    <tr>\n",
       "      <th>0</th>\n",
       "      <td>AT_indark_IEX_fraction</td>\n",
       "      <td>ARATH</td>\n",
       "      <td>iex_1</td>\n",
       "      <td>83.0</td>\n",
       "      <td>internal</td>\n",
       "      <td>plant</td>\n",
       "    </tr>\n",
       "    <tr>\n",
       "      <th>1</th>\n",
       "      <td>AT_indark_IEX_fraction</td>\n",
       "      <td>ARATH</td>\n",
       "      <td>iex_2</td>\n",
       "      <td>88.0</td>\n",
       "      <td>internal</td>\n",
       "      <td>plant</td>\n",
       "    </tr>\n",
       "    <tr>\n",
       "      <th>2</th>\n",
       "      <td>WAN141117_At_Col_0</td>\n",
       "      <td>ARATH</td>\n",
       "      <td>iex_3</td>\n",
       "      <td>77.0</td>\n",
       "      <td>internal</td>\n",
       "      <td>plant</td>\n",
       "    </tr>\n",
       "    <tr>\n",
       "      <th>3</th>\n",
       "      <td>AT_leaf_IEX_fraction</td>\n",
       "      <td>ARATH</td>\n",
       "      <td>iex_4</td>\n",
       "      <td>87.0</td>\n",
       "      <td>internal</td>\n",
       "      <td>plant</td>\n",
       "    </tr>\n",
       "    <tr>\n",
       "      <th>4</th>\n",
       "      <td>Athaliana_seed_IEX</td>\n",
       "      <td>ARATH</td>\n",
       "      <td>iex_5</td>\n",
       "      <td>60.0</td>\n",
       "      <td>internal</td>\n",
       "      <td>plant</td>\n",
       "    </tr>\n",
       "  </tbody>\n",
       "</table>\n",
       "</div>"
      ],
      "text/plain": [
       "     Fractionation Prefix   Code MSBlender Directory  # Fractions Data Source  \\\n",
       "0  AT_indark_IEX_fraction  ARATH               iex_1         83.0    internal   \n",
       "1  AT_indark_IEX_fraction  ARATH               iex_2         88.0    internal   \n",
       "2      WAN141117_At_Col_0  ARATH               iex_3         77.0    internal   \n",
       "3    AT_leaf_IEX_fraction  ARATH               iex_4         87.0    internal   \n",
       "4      Athaliana_seed_IEX  ARATH               iex_5         60.0    internal   \n",
       "\n",
       "     Map  \n",
       "0  plant  \n",
       "1  plant  \n",
       "2  plant  \n",
       "3  plant  \n",
       "4  plant  "
      ]
     },
     "execution_count": 8,
     "metadata": {},
     "output_type": "execute_result"
    }
   ],
   "source": [
    "df.head()"
   ]
  },
  {
   "cell_type": "code",
   "execution_count": 9,
   "id": "75f127ac-0ee5-45a2-b0ae-b4aeeae70a41",
   "metadata": {
    "tags": []
   },
   "outputs": [],
   "source": [
    "test_fracs = random.sample(fracs, 100)"
   ]
  },
  {
   "cell_type": "markdown",
   "id": "b0e20d76-8c87-448c-a66f-abeb66e8d578",
   "metadata": {},
   "source": [
    "Create a dictionary mapping common fraction nomenclature to species codes for future sorting into clades. Problematic naming schemes will be stored in `bad_prefix` and corrected manually.\n",
    "\n",
    "Actually, let's create our problem tuple so we can use the following statement to sort away problem fractions:\n",
    "`if any(my_str.startswith(item) for item in my_list):`"
   ]
  },
  {
   "cell_type": "code",
   "execution_count": 10,
   "id": "417ce02f-8dad-457f-8809-b26beeb1ed4b",
   "metadata": {
    "tags": []
   },
   "outputs": [],
   "source": [
    "prefix_dict = dict()\n",
    "problems = ['WAN']\n",
    "issues = []\n",
    "dupes = []\n",
    "for i in range(len(df)):\n",
    "    prefix = str(df[\"Fractionation Prefix\"].iloc[i])\n",
    "    code = df[\"Code\"].iloc[i].lower()\n",
    "    if prefix.startswith('WAN') and '*' in prefix:\n",
    "        bad_prefix.append(prefix)\n",
    "    if prefix.startswith('OT25cm'):\n",
    "        bad_prefix.append(prefix)\n",
    "    if prefix.startswith('PT'):\n",
    "        bad_prefix.append(prefix)\n",
    "    if prefix not in prefix_dict.keys():\n",
    "        prefix_dict.update({prefix: code})\n",
    "    else:\n",
    "        if code != prefix_dict[prefix]:\n",
    "            issues.append(prefix)\n",
    "            prefix_dict.pop(prefix)\n",
    "        if prefix not in dupes:\n",
    "            dupes.append(prefix)"
   ]
  },
  {
   "cell_type": "code",
   "execution_count": 11,
   "id": "acacd58a-88e1-4548-b01a-7f16a5650047",
   "metadata": {},
   "outputs": [
    {
     "name": "stdout",
     "output_type": "stream",
     "text": [
      "# experiments in meta file = 183; actual = 178; actual euks = 149\n",
      "# unique prefixes = 171\n",
      "# of prefixes that will map to multiple species = 34\n"
     ]
    }
   ],
   "source": [
    "print(f'# experiments in meta file = {len(df)}; actual = 178; actual euks = 149')\n",
    "print(f'# unique prefixes = {len(prefix_dict)}')\n",
    "print(f'# of prefixes that will map to multiple species = {len(set(bad_prefix))}')"
   ]
  },
  {
   "cell_type": "code",
   "execution_count": 12,
   "id": "a946f7f3-e2ae-4ab4-87c7-82008dd03779",
   "metadata": {
    "tags": []
   },
   "outputs": [
    {
     "data": {
      "text/plain": [
       "['nan']"
      ]
     },
     "execution_count": 12,
     "metadata": {},
     "output_type": "execute_result"
    }
   ],
   "source": [
    "issues"
   ]
  },
  {
   "cell_type": "markdown",
   "id": "287bd566-01a5-4e61-afd6-64a10620b787",
   "metadata": {},
   "source": [
    "**Problems:**\n",
    "- OC25cm --> maps to PLABA (berghei), PLAF7 (falciparum), PLAKH (knowlesi)\n",
    "- PT --> maps to TRYB2 (trypanosome, external), HUMAN (internal)\n",
    "- WAN10/WAN11/WAN12/WAN13 --> maps to HUMAN, STRPU (sea urchin), CAEEL (c. elegans), MOUSE, NEMVE (sea anemone)\n",
    "\n",
    "**Solutions:**\n",
    "- OC25/WAN <-- Take suffix from meta file \"Fractionation Prefix\" column; search for actual fraction suffix in the meta file suffix; does not fix \"PT\"\n",
    "- PT <-- Search meta file suffix in the actual fraction name (whole)\n",
    "- Update `prefix_dict` accordingly?"
   ]
  },
  {
   "cell_type": "code",
   "execution_count": 13,
   "id": "f0aba729-db52-4275-99be-22eaef9a6e4b",
   "metadata": {},
   "outputs": [
    {
     "data": {
      "text/plain": [
       "{'OT25cm_CH13_FalC_zero',\n",
       " 'OT25cm_CH14_Falc_Point',\n",
       " 'OT25cm_CH15_Falc_One',\n",
       " 'OT25cm_CH16_KNOW_Zero',\n",
       " 'OT25cm_CH17_KNOW_Point',\n",
       " 'OT25cm_CH18_Know_One',\n",
       " 'OT25cm_CH19_Know_Zero',\n",
       " 'OT25cm_CH20_berg_zero',\n",
       " 'OT25cm_CH21_berg_One',\n",
       " 'OT25cm_CH22_Know_Point',\n",
       " 'OT25cm_CH23_Know_One',\n",
       " 'OT25cm_CH24_Berg_Point',\n",
       " 'OT25cm_CH25_Falc_One',\n",
       " 'OT25cm_CH26_Falc_Zero',\n",
       " 'OT25cm_CH27_Falc_Point',\n",
       " 'PT1541S1',\n",
       " 'PT4651',\n",
       " 'PT5528',\n",
       " 'PTSS4538',\n",
       " 'WAN100*_HS3NE_HCW',\n",
       " 'WAN100*_OT2_HS3NE_HCW',\n",
       " 'WAN101*_OT2_Hela',\n",
       " 'WAN110*_HCW_HEK293NE',\n",
       " 'WAN110*_OT2_G166wce_HCW',\n",
       " 'WAN110*_OT2_mES_HCW',\n",
       " 'WAN1100*_OT2_CB660_HCW',\n",
       " 'WAN1100*_OT2_G166wce_HCW',\n",
       " 'WAN120*_HCW_mES_wce',\n",
       " 'WAN120*_OT1_HCW_hek293ne',\n",
       " 'WAN120*_OT2_HCW_SA',\n",
       " 'WAN121*_OT2_IEX_SA',\n",
       " 'WAN121*_sea_anemone_IEX',\n",
       " 'WAN130*_OT2_IEX_SA',\n",
       " 'WAN130*_sea_anemone_IEX'}"
      ]
     },
     "execution_count": 13,
     "metadata": {},
     "output_type": "execute_result"
    }
   ],
   "source": [
    "set(bad_prefix)"
   ]
  },
  {
   "cell_type": "markdown",
   "id": "9b56e064-acfe-4735-9c74-c8e959ad8a00",
   "metadata": {},
   "source": [
    "Fraction matching needs to be done in three steps:\n",
    "1. Find the experiment where the fraction prefix matches the meta file & update \n",
    "2. Search for the experiment in the entire fraction name (^PT)\n",
    "3. Search for the experiment suffix in the entire fraction name (^WAN*, ^OT25cm*)"
   ]
  },
  {
   "cell_type": "code",
   "execution_count": 14,
   "id": "1132af91-5909-4ba2-b2c7-f9e50b1809f7",
   "metadata": {
    "tags": []
   },
   "outputs": [],
   "source": [
    "fraction_dict = dict()\n",
    "issues = []\n",
    "dupes = []\n",
    "nomatch = []\n",
    "for f in test_fracs:\n",
    "    fmatch = f.split('_')[0]\n",
    "    fmatch = fmatch.split('.')[0]\n",
    "    flag = 0\n",
    "    for prefix in prefix_dict:\n",
    "        if prefix.find(fmatch) != -1:\n",
    "            flag = 1\n",
    "            if f not in fraction_dict.keys():\n",
    "                fraction_dict.update({f: prefix_dict[prefix]})\n",
    "            else:\n",
    "                if prefix_dict[prefix] != fraction_dict[f]:\n",
    "                    issues.append(f)\n",
    "                    fraction_dict.pop(f)\n",
    "                if f not in dupes:\n",
    "                    dupes.append(f)\n",
    "    if flag == 0:\n",
    "        nomatch.append(f)"
   ]
  },
  {
   "cell_type": "code",
   "execution_count": 15,
   "id": "e56ce9ea-c210-41e7-a96e-6e5ea62b94ec",
   "metadata": {},
   "outputs": [
    {
     "name": "stdout",
     "output_type": "stream",
     "text": [
      "41\n",
      "13\n",
      "46\n"
     ]
    }
   ],
   "source": [
    "print(len(nomatch))\n",
    "print(len(issues))\n",
    "\n",
    "problem_children = issues+nomatch\n",
    "print(len(set(problem_children)))"
   ]
  },
  {
   "cell_type": "code",
   "execution_count": 16,
   "id": "6252ad48-ea49-4502-b1d1-c2547ab1ffb0",
   "metadata": {},
   "outputs": [
    {
     "name": "stdout",
     "output_type": "stream",
     "text": [
      "['PTSS4538SN19030'] is a problem\n",
      "['cyto07.a'] is a problem\n",
      "['PTSS4538SN19050'] is a problem\n"
     ]
    }
   ],
   "source": [
    "problem_grandchildren = []\n",
    "for f in problem_children:\n",
    "    suffix = f.split('_')\n",
    "    try:\n",
    "        smatch = '_'+suffix[1]+'_'+suffix[2]\n",
    "    except:\n",
    "        print(f'{suffix} is a problem')\n",
    "    flag = 0\n",
    "    for prefix in prefix_dict:\n",
    "        if smatch in prefix:\n",
    "            flag = 1\n",
    "            if f not in fraction_dict.keys():\n",
    "                fraction_dict.update({f: prefix_dict[prefix]})\n",
    "            else:\n",
    "                if prefix_dict[prefix] != fraction_dict[f]:\n",
    "                    problem_grandchildren.append(f)\n",
    "                    fraction_dict.pop(f)\n",
    "                if f not in dupes:\n",
    "                    dupes.append(f)\n",
    "    if flag == 0:\n",
    "        problem_grandchildren.append(f)"
   ]
  },
  {
   "cell_type": "code",
   "execution_count": 17,
   "id": "3814cd9e-f352-4ffa-b36e-c9f462b20d0f",
   "metadata": {},
   "outputs": [
    {
     "data": {
      "text/plain": [
       "['P_tricornutum_IEX_18a_03292017',\n",
       " 'OT25cm_CH26_Falc_Zero.30',\n",
       " 'OT25cm_CH14_Falc_Point.25',\n",
       " 'WAN120118_OT1_HCW_hek293ne_P1A03',\n",
       " 'WAN120726_OT2_HCW_SA_P1C12',\n",
       " 'WAN120118_OT1_HCW_hek293ne_P1F06',\n",
       " 'WAN120726_OT2_HCW_SA_P1B06']"
      ]
     },
     "execution_count": 17,
     "metadata": {},
     "output_type": "execute_result"
    }
   ],
   "source": [
    "problem_grandchildren"
   ]
  },
  {
   "cell_type": "code",
   "execution_count": 19,
   "id": "c2ba82ea-cc34-4327-8053-37cb66e857d6",
   "metadata": {
    "tags": []
   },
   "outputs": [
    {
     "ename": "KeyError",
     "evalue": "'PTSS4538SN19034'",
     "output_type": "error",
     "traceback": [
      "\u001b[0;31m---------------------------------------------------------------------------\u001b[0m",
      "\u001b[0;31mKeyError\u001b[0m                                  Traceback (most recent call last)",
      "Cell \u001b[0;32mIn [19], line 1\u001b[0m\n\u001b[0;32m----> 1\u001b[0m \u001b[43mfraction_dict\u001b[49m\u001b[43m[\u001b[49m\u001b[38;5;124;43m'\u001b[39;49m\u001b[38;5;124;43mPTSS4538SN19034\u001b[39;49m\u001b[38;5;124;43m'\u001b[39;49m\u001b[43m]\u001b[49m\n",
      "\u001b[0;31mKeyError\u001b[0m: 'PTSS4538SN19034'"
     ]
    }
   ],
   "source": [
    "#fraction_dict['PTSS4538SN19034']"
   ]
  },
  {
   "cell_type": "code",
   "execution_count": 20,
   "id": "54cd1ecd-e912-4f61-94fd-c8cf01de2ce5",
   "metadata": {
    "tags": []
   },
   "outputs": [
    {
     "data": {
      "text/plain": [
       "['P_tricornutum_IEX_18a_03292017',\n",
       " 'Fern_Frond_WWC_50a_20160119',\n",
       " 'Tetrahymena_body_IEX_27a_06172017',\n",
       " 'Tetrahymena_cilia_SEC_14a_07072017',\n",
       " 'RiceL_IEX_29.1a_20150604',\n",
       " 'OT25cm_CH19_Know_Zero.16',\n",
       " 'MES_SEC_25_1a_20171201',\n",
       " 'AT_indark_IEX_fraction_73',\n",
       " 'RiceL_IEX_82.1a_20150615',\n",
       " 'AT_leaf_IEX_fraction_80a_20150120',\n",
       " 'OT25cm_CH26_Falc_Zero.30',\n",
       " 'OT25cm_CH14_Falc_Point.25',\n",
       " 'Chlamy_SEC_28a_09132016',\n",
       " 'OT25cm_CH23_Know_One.42',\n",
       " 'BroccNuc_IEF_3a_09162016',\n",
       " 'Rice_leaf_IEX_fraction_89a_20150523',\n",
       " 'Soy_SEC_DSSO_34a_07232018',\n",
       " 'Tetr_Diffrac_Control_48a_02242020',\n",
       " 'Rice_leaf_IEX_fraction_14a_20150507',\n",
       " 'WAN120118_OT1_HCW_hek293ne_P1A03',\n",
       " 'WAN120726_OT2_HCW_SA_P1C12',\n",
       " 'PH091119_HCW090828_293NE_P4B09',\n",
       " 'PTSS4538SN19030',\n",
       " 'PH091112_HCW090828_293NE_P3H05',\n",
       " 'PH090807_HS3NE_HCW_P1B11',\n",
       " 'PH090716_HS3NE_HCW_P2A04',\n",
       " 'PH090716_HS3NE_HCW_P2B10',\n",
       " 'PH090616_HS3CE_TCS_P3D09',\n",
       " 'WAN120118_OT1_HCW_hek293ne_P1F06',\n",
       " 'PH090616_HS3CE_TCS_P3D05',\n",
       " 'WAN120726_OT2_HCW_SA_P1B06',\n",
       " 'PH090616_HS3CE_TCS_P3D06',\n",
       " 'PH100521_HS3CE_TCS_P3D01',\n",
       " 'PH0900503_HS3CE_TCS_P2F05',\n",
       " 'cyto07.a',\n",
       " 'PH090819_HS3NE_HCW_P1E12',\n",
       " 'PTSS4538SN19050',\n",
       " 'WAN121213_sea_anemone_IEX_P1F08',\n",
       " 'WAN100329_HS3NE_HCW_P1C11']"
      ]
     },
     "execution_count": 20,
     "metadata": {},
     "output_type": "execute_result"
    }
   ],
   "source": [
    "dupes"
   ]
  },
  {
   "cell_type": "code",
   "execution_count": 21,
   "id": "1e30eb65-227b-4ba5-8f7e-b72e77ca84e1",
   "metadata": {
    "tags": []
   },
   "outputs": [
    {
     "data": {
      "text/plain": [
       "['P_tricornutum_IEX_18a_03292017',\n",
       " 'P_tricornutum_IEX_18a_03292017',\n",
       " 'P_tricornutum_IEX_18a_03292017',\n",
       " 'P_tricornutum_IEX_18a_03292017',\n",
       " 'P_tricornutum_IEX_18a_03292017',\n",
       " 'OT25cm_CH19_Know_Zero.16',\n",
       " 'OT25cm_CH19_Know_Zero.16',\n",
       " 'OT25cm_CH26_Falc_Zero.30',\n",
       " 'OT25cm_CH26_Falc_Zero.30',\n",
       " 'OT25cm_CH14_Falc_Point.25',\n",
       " 'OT25cm_CH14_Falc_Point.25',\n",
       " 'OT25cm_CH23_Know_One.42',\n",
       " 'OT25cm_CH23_Know_One.42']"
      ]
     },
     "execution_count": 21,
     "metadata": {},
     "output_type": "execute_result"
    }
   ],
   "source": [
    "issues"
   ]
  },
  {
   "cell_type": "code",
   "execution_count": 29,
   "id": "1dcce840-22d4-4971-9d11-b7a59f4f5031",
   "metadata": {},
   "outputs": [
    {
     "name": "stdout",
     "output_type": "stream",
     "text": [
      "Checking meta prefix dict ...\n",
      "P_tricornutum_IEX: phatc\n",
      "P_tricornutum_SEC: phatc\n",
      "Checking fraction dict ...\n",
      "P_tricornutum_IEX_18a_03292017: phatc\n"
     ]
    }
   ],
   "source": [
    "check_frac = 'P_tricornutum'\n",
    "print('Checking meta prefix dict ...')\n",
    "for key in prefix_dict:\n",
    "    if key.startswith(check_frac):\n",
    "        print(f'{key}: {prefix_dict[key]}')\n",
    "\n",
    "print('Checking fraction dict ...')\n",
    "for key in fraction_dict:\n",
    "    if key.startswith(check_frac):\n",
    "        print(f'{key}: {fraction_dict[key]}')\n",
    "    elif check_frac in key:\n",
    "        print(f'{key}: {fraction_dict[key]}')"
   ]
  }
 ],
 "metadata": {
  "kernelspec": {
   "display_name": "Python 3 (ipykernel)",
   "language": "python",
   "name": "python3"
  },
  "language_info": {
   "codemirror_mode": {
    "name": "ipython",
    "version": 3
   },
   "file_extension": ".py",
   "mimetype": "text/x-python",
   "name": "python",
   "nbconvert_exporter": "python",
   "pygments_lexer": "ipython3",
   "version": "3.10.6"
  }
 },
 "nbformat": 4,
 "nbformat_minor": 5
}
