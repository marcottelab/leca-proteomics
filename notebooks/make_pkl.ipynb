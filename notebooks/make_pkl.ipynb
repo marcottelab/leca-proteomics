{
 "cells": [
  {
   "cell_type": "code",
   "execution_count": 16,
   "id": "804e422e-5fba-4b46-9fd3-bc3449879ad0",
   "metadata": {
    "tags": []
   },
   "outputs": [],
   "source": [
    "import pandas as pd\n",
    "import pickle\n",
    "import time\n",
    "import os\n",
    "from functools import reduce"
   ]
  },
  {
   "cell_type": "markdown",
   "id": "e515cb52-5c93-45bc-a4e0-a57f48f36dd5",
   "metadata": {},
   "source": [
    "## One file"
   ]
  },
  {
   "cell_type": "code",
   "execution_count": 9,
   "id": "dc74ef1f-edcd-4ce2-ae30-d4674f4b1f03",
   "metadata": {},
   "outputs": [],
   "source": [
    "infile = '../ppi_ml/data/apms/humap/humap2_feature_matrix_20200820.featmat'\n",
    "outfile = '../ppi_ml/data/apms/humap/humap2_feature_matrix_20200820.pkl'"
   ]
  },
  {
   "cell_type": "code",
   "execution_count": 10,
   "id": "3d3cdb4d-d616-4e6a-b79e-61dbdb26afe9",
   "metadata": {},
   "outputs": [],
   "source": [
    "t0 = time.time()"
   ]
  },
  {
   "cell_type": "code",
   "execution_count": 11,
   "id": "f0a528c0-4f9f-4889-87c2-460f0dadc652",
   "metadata": {},
   "outputs": [
    {
     "name": "stderr",
     "output_type": "stream",
     "text": [
      "/tmp/ipykernel_30039/1045508129.py:1: DtypeWarning: Columns (0,1) have mixed types. Specify dtype option on import or set low_memory=False.\n",
      "  df = pd.read_csv(infile)\n"
     ]
    }
   ],
   "source": [
    "df = pd.read_csv(infile)"
   ]
  },
  {
   "cell_type": "code",
   "execution_count": 12,
   "id": "aea80dfb-b7d4-4676-9e2e-e0b51b6a4b1e",
   "metadata": {},
   "outputs": [],
   "source": [
    "df.to_pickle(outfile)"
   ]
  },
  {
   "cell_type": "code",
   "execution_count": 13,
   "id": "e132939f-14bf-4a15-b2d7-fa3f72dfeed3",
   "metadata": {},
   "outputs": [
    {
     "name": "stdout",
     "output_type": "stream",
     "text": [
      "Total time to pickle = 394.1060860157013 seconds.\n"
     ]
    }
   ],
   "source": [
    "print(f'Total time to pickle = {time.time() - t0} seconds.')"
   ]
  },
  {
   "cell_type": "code",
   "execution_count": 14,
   "id": "cc8ac909-e379-4040-9d52-0d10ef2992b7",
   "metadata": {},
   "outputs": [],
   "source": [
    "del df"
   ]
  },
  {
   "cell_type": "markdown",
   "id": "fa31eb4e-ec93-4e59-a0c7-17331458de70",
   "metadata": {},
   "source": [
    "## Many files"
   ]
  },
  {
   "cell_type": "code",
   "execution_count": 17,
   "id": "f4914cb1-4262-43ce-be5b-2da08a3ed88f",
   "metadata": {},
   "outputs": [
    {
     "data": {
      "text/plain": [
       "['featmat_plants',\n",
       " 'featmat_animals',\n",
       " 'featmat_allexps_p3c2',\n",
       " 'featmat_humap',\n",
       " 'featmat_tsar',\n",
       " 'featmat_excavate',\n",
       " 'featmat_allconcat']"
      ]
     },
     "execution_count": 17,
     "metadata": {},
     "output_type": "execute_result"
    }
   ],
   "source": [
    "data_dir = '../ppi_ml/data/feat_files/'\n",
    "fmat_files = [f for f in os.listdir(data_dir)]\n",
    "fmat_files"
   ]
  },
  {
   "cell_type": "code",
   "execution_count": 19,
   "id": "a29e0a34-f249-4b89-a57b-232e307fdc9f",
   "metadata": {},
   "outputs": [
    {
     "name": "stdout",
     "output_type": "stream",
     "text": [
      "Total time to pickle = 837.4622428417206 seconds.\n"
     ]
    }
   ],
   "source": [
    "t0 = time.time()\n",
    "for f in fmat_files:\n",
    "    infile = data_dir+f\n",
    "    outfile = data_dir+f+'.pkl'\n",
    "    df = pd.read_csv(infile)\n",
    "    df.to_pickle(outfile)\n",
    "print(f'Total time to pickle = {time.time() - t0} seconds.')"
   ]
  }
 ],
 "metadata": {
  "kernelspec": {
   "display_name": "Python 3 (ipykernel)",
   "language": "python",
   "name": "python3"
  },
  "language_info": {
   "codemirror_mode": {
    "name": "ipython",
    "version": 3
   },
   "file_extension": ".py",
   "mimetype": "text/x-python",
   "name": "python",
   "nbconvert_exporter": "python",
   "pygments_lexer": "ipython3",
   "version": "3.10.6"
  }
 },
 "nbformat": 4,
 "nbformat_minor": 5
}
