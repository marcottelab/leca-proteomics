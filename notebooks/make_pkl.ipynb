{
 "cells": [
  {
   "cell_type": "code",
   "execution_count": 1,
   "id": "804e422e-5fba-4b46-9fd3-bc3449879ad0",
   "metadata": {
    "tags": []
   },
   "outputs": [],
   "source": [
    "import pandas as pd\n",
    "import pickle\n",
    "import time\n",
    "import os\n",
    "import re\n",
    "from functools import reduce"
   ]
  },
  {
   "cell_type": "markdown",
   "id": "e515cb52-5c93-45bc-a4e0-a57f48f36dd5",
   "metadata": {},
   "source": [
    "## One file"
   ]
  },
  {
   "cell_type": "code",
   "execution_count": 12,
   "id": "dc74ef1f-edcd-4ce2-ae30-d4674f4b1f03",
   "metadata": {},
   "outputs": [],
   "source": [
    "infile = '../ppi_ml/data/featmats/featmap_allconcat_norm'\n",
    "outfile = infile+'.pkl'"
   ]
  },
  {
   "cell_type": "code",
   "execution_count": 13,
   "id": "3d3cdb4d-d616-4e6a-b79e-61dbdb26afe9",
   "metadata": {},
   "outputs": [],
   "source": [
    "t0 = time.time()"
   ]
  },
  {
   "cell_type": "code",
   "execution_count": 14,
   "id": "f0a528c0-4f9f-4889-87c2-460f0dadc652",
   "metadata": {},
   "outputs": [],
   "source": [
    "df = pd.read_csv(infile)"
   ]
  },
  {
   "cell_type": "code",
   "execution_count": 15,
   "id": "aea80dfb-b7d4-4676-9e2e-e0b51b6a4b1e",
   "metadata": {},
   "outputs": [],
   "source": [
    "df.to_pickle(outfile)"
   ]
  },
  {
   "cell_type": "code",
   "execution_count": 16,
   "id": "e132939f-14bf-4a15-b2d7-fa3f72dfeed3",
   "metadata": {},
   "outputs": [
    {
     "name": "stdout",
     "output_type": "stream",
     "text": [
      "Total time to pickle = 26.035651683807373 seconds.\n"
     ]
    }
   ],
   "source": [
    "print(f'Total time to pickle = {time.time() - t0} seconds.')"
   ]
  },
  {
   "cell_type": "code",
   "execution_count": 17,
   "id": "cc8ac909-e379-4040-9d52-0d10ef2992b7",
   "metadata": {},
   "outputs": [],
   "source": [
    "del df"
   ]
  },
  {
   "cell_type": "markdown",
   "id": "fa31eb4e-ec93-4e59-a0c7-17331458de70",
   "metadata": {},
   "source": [
    "## Many files"
   ]
  },
  {
   "cell_type": "code",
   "execution_count": 5,
   "id": "f4914cb1-4262-43ce-be5b-2da08a3ed88f",
   "metadata": {},
   "outputs": [],
   "source": [
    "data_dir = '../ppi_ml/data/calc_feats/'\n",
    "fmat_files = [f for f in os.listdir(data_dir) if re.match('.*feat$', f)]\n",
    "fmat_files.sort()"
   ]
  },
  {
   "cell_type": "code",
   "execution_count": 6,
   "id": "5ea20ea7-dc2f-437f-9b7c-45b3b5964325",
   "metadata": {},
   "outputs": [
    {
     "data": {
      "text/plain": [
       "['all.norm.150p.braycurtis.feat',\n",
       " 'all.norm.150p.covariance.feat',\n",
       " 'all.norm.150p.euclidean.feat',\n",
       " 'all.norm.150p.pearsonR.feat',\n",
       " 'all.norm.150p.spearmanR.feat',\n",
       " 'all.norm.150p.spearmanR_weighted.feat',\n",
       " 'amorphea.filtdollo.norm.150p.braycurtis.feat',\n",
       " 'amorphea.filtdollo.norm.150p.covariance.feat',\n",
       " 'amorphea.filtdollo.norm.150p.euclidean.feat',\n",
       " 'amorphea.filtdollo.norm.150p.pearsonR.feat',\n",
       " 'amorphea.filtdollo.norm.150p.spearmanR.feat',\n",
       " 'amorphea.filtdollo.norm.150p.spearmanR_weighted.feat',\n",
       " 'excavate.filtdollo.norm.150p.braycurtis.feat',\n",
       " 'excavate.filtdollo.norm.150p.covariance.feat',\n",
       " 'excavate.filtdollo.norm.150p.euclidean.feat',\n",
       " 'excavate.filtdollo.norm.150p.pearsonR.feat',\n",
       " 'excavate.filtdollo.norm.150p.spearmanR.feat',\n",
       " 'excavate.filtdollo.norm.150p.spearmanR_weighted.feat',\n",
       " 'tsar.filtdollo.norm.150p.braycurtis.feat',\n",
       " 'tsar.filtdollo.norm.150p.covariance.feat',\n",
       " 'tsar.filtdollo.norm.150p.euclidean.feat',\n",
       " 'tsar.filtdollo.norm.150p.pearsonR.feat',\n",
       " 'tsar.filtdollo.norm.150p.spearmanR.feat',\n",
       " 'tsar.filtdollo.norm.150p.spearmanR_weighted.feat',\n",
       " 'viridiplantae.filtdollo.norm.150p.braycurtis.feat',\n",
       " 'viridiplantae.filtdollo.norm.150p.covariance.feat',\n",
       " 'viridiplantae.filtdollo.norm.150p.euclidean.feat',\n",
       " 'viridiplantae.filtdollo.norm.150p.pearsonR.feat',\n",
       " 'viridiplantae.filtdollo.norm.150p.spearmanR.feat',\n",
       " 'viridiplantae.filtdollo.norm.150p.spearmanR_weighted.feat']"
      ]
     },
     "execution_count": 6,
     "metadata": {},
     "output_type": "execute_result"
    }
   ],
   "source": [
    "fmat_files"
   ]
  },
  {
   "cell_type": "code",
   "execution_count": 7,
   "id": "a29e0a34-f249-4b89-a57b-232e307fdc9f",
   "metadata": {},
   "outputs": [
    {
     "name": "stdout",
     "output_type": "stream",
     "text": [
      "Total time to pickle = 191.42652773857117 seconds.\n"
     ]
    }
   ],
   "source": [
    "t0 = time.time()\n",
    "for f in fmat_files:\n",
    "    infile = data_dir+f\n",
    "    outfile = data_dir+f+'.pkl'\n",
    "    df = pd.read_csv(infile)\n",
    "    df.to_pickle(outfile)\n",
    "print(f'Total time to pickle = {time.time() - t0} seconds.')"
   ]
  },
  {
   "cell_type": "code",
   "execution_count": null,
   "id": "6e41ab53-baf1-428c-91d0-353ddf8ffe60",
   "metadata": {},
   "outputs": [],
   "source": []
  }
 ],
 "metadata": {
  "kernelspec": {
   "display_name": "Python 3 (ipykernel)",
   "language": "python",
   "name": "python3"
  },
  "language_info": {
   "codemirror_mode": {
    "name": "ipython",
    "version": 3
   },
   "file_extension": ".py",
   "mimetype": "text/x-python",
   "name": "python",
   "nbconvert_exporter": "python",
   "pygments_lexer": "ipython3",
   "version": "3.10.6"
  }
 },
 "nbformat": 4,
 "nbformat_minor": 5
}
