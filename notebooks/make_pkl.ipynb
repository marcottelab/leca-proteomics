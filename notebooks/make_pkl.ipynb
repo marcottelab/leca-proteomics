{
 "cells": [
  {
   "cell_type": "code",
   "execution_count": 1,
   "id": "804e422e-5fba-4b46-9fd3-bc3449879ad0",
   "metadata": {
    "tags": []
   },
   "outputs": [],
   "source": [
    "import pandas as pd\n",
    "import pickle\n",
    "import time"
   ]
  },
  {
   "cell_type": "code",
   "execution_count": 2,
   "id": "dc74ef1f-edcd-4ce2-ae30-d4674f4b1f03",
   "metadata": {},
   "outputs": [],
   "source": [
    "infile = '../ppi_ml/results/elutions/leca.unique.150p.norm.elut.ordered.hclust'\n",
    "outfile = '../ppi_ml/results/elutions/leca.unique.150p.norm.elut.ordered.hclust.pkl'"
   ]
  },
  {
   "cell_type": "code",
   "execution_count": 3,
   "id": "3d3cdb4d-d616-4e6a-b79e-61dbdb26afe9",
   "metadata": {},
   "outputs": [],
   "source": [
    "t0 = time.time()"
   ]
  },
  {
   "cell_type": "code",
   "execution_count": 4,
   "id": "f0a528c0-4f9f-4889-87c2-460f0dadc652",
   "metadata": {},
   "outputs": [],
   "source": [
    "df = pd.read_csv(infile)"
   ]
  },
  {
   "cell_type": "code",
   "execution_count": 5,
   "id": "aea80dfb-b7d4-4676-9e2e-e0b51b6a4b1e",
   "metadata": {},
   "outputs": [],
   "source": [
    "df.to_pickle(outfile)"
   ]
  },
  {
   "cell_type": "code",
   "execution_count": 6,
   "id": "e132939f-14bf-4a15-b2d7-fa3f72dfeed3",
   "metadata": {},
   "outputs": [
    {
     "name": "stdout",
     "output_type": "stream",
     "text": [
      "Total time to pickle = 46.43267321586609 seconds.\n"
     ]
    }
   ],
   "source": [
    "print(f'Total time to pickle = {time.time() - t0} seconds.')"
   ]
  },
  {
   "cell_type": "code",
   "execution_count": 7,
   "id": "cc8ac909-e379-4040-9d52-0d10ef2992b7",
   "metadata": {},
   "outputs": [],
   "source": [
    "del df"
   ]
  }
 ],
 "metadata": {
  "kernelspec": {
   "display_name": "Python 3 (ipykernel)",
   "language": "python",
   "name": "python3"
  },
  "language_info": {
   "codemirror_mode": {
    "name": "ipython",
    "version": 3
   },
   "file_extension": ".py",
   "mimetype": "text/x-python",
   "name": "python",
   "nbconvert_exporter": "python",
   "pygments_lexer": "ipython3",
   "version": "3.10.6"
  }
 },
 "nbformat": 4,
 "nbformat_minor": 5
}
