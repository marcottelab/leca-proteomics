{
 "cells": [
  {
   "cell_type": "code",
   "execution_count": 1,
   "id": "5ee506de-9d46-417f-9278-de93f40f59b7",
   "metadata": {},
   "outputs": [],
   "source": [
    "import pandas as pd"
   ]
  },
  {
   "cell_type": "code",
   "execution_count": null,
   "id": "1af61e1b-0ba3-4bf5-9b79-2f84664ee32c",
   "metadata": {},
   "outputs": [],
   "source": [
    "cp_file = ''\n",
    "corum_file = ''\n",
    "go_file = ''"
   ]
  },
  {
   "cell_type": "code",
   "execution_count": null,
   "id": "ac41ea6b-8f7d-4e35-9ce5-11a403487a01",
   "metadata": {},
   "outputs": [],
   "source": [
    "data = pd.read_csv(\"../ppi_ml/results/test_walktrap/archive/ppi_walktrap_clustering_5steps.csv\")"
   ]
  }
 ],
 "metadata": {
  "kernelspec": {
   "display_name": "Python 3 (ipykernel)",
   "language": "python",
   "name": "python3"
  },
  "language_info": {
   "codemirror_mode": {
    "name": "ipython",
    "version": 3
   },
   "file_extension": ".py",
   "mimetype": "text/x-python",
   "name": "python",
   "nbconvert_exporter": "python",
   "pygments_lexer": "ipython3",
   "version": "3.10.6"
  }
 },
 "nbformat": 4,
 "nbformat_minor": 5
}
