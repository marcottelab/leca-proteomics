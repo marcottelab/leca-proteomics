{
 "cells": [
  {
   "cell_type": "code",
   "execution_count": 1,
   "id": "5ee506de-9d46-417f-9278-de93f40f59b7",
   "metadata": {},
   "outputs": [],
   "source": [
    "import pandas as pd\n",
    "from functools import reduce"
   ]
  },
  {
   "cell_type": "code",
   "execution_count": 2,
   "id": "1af61e1b-0ba3-4bf5-9b79-2f84664ee32c",
   "metadata": {},
   "outputs": [],
   "source": [
    "annot_dir = '/stor/work/Marcotte/project/rmcox/leca/ppi_ml/annotations'\n",
    "# complex annotations\n",
    "cmplx_file = f'{annot_dir}/cmplx/all_cmplx_annots.csv'\n",
    "# clade annotations\n",
    "clade_file = f'{annot_dir}/leca_nogs_cov_fraction.csv'\n",
    "# uniprot annotations\n",
    "up_file = f'{annot_dir}/leca_eunog_annots.030721.csv'\n",
    "# walktrap result file\n",
    "old_res_file = '../ppi_ml/results/archive/ppi_clustering/final_cmplx_annots_011823.csv'\n",
    "clst_file = '../ppi_ml/results/test_new_walktrap/walktrap_test_5steps.csv'"
   ]
  },
  {
   "cell_type": "code",
   "execution_count": 3,
   "id": "977dab58-c1f0-4a17-bd3e-c32219541b0f",
   "metadata": {},
   "outputs": [],
   "source": [
    "# load all annotations\n",
    "cmplx = pd.read_csv(cmplx_file)\n",
    "clade = pd.read_csv(clade_file)\n",
    "uniprot = pd.read_csv(up_file)"
   ]
  },
  {
   "cell_type": "code",
   "execution_count": 4,
   "id": "9c34633c-89c1-4c5d-a1a0-f4f41601647c",
   "metadata": {},
   "outputs": [],
   "source": [
    "clade = clade.rename(columns={'Amorphea':'amor_11', 'Archaeplastida':'viri_13', 'Excavate':'exca_2', 'TSAR':'tsar_5'})\n",
    "clade = clade[['ID', 'amor_11', 'exca_2', 'tsar_5', 'viri_13']]"
   ]
  },
  {
   "cell_type": "code",
   "execution_count": 5,
   "id": "ac2c4ff2-ec4c-4d2d-9c7a-8462bdfad9c4",
   "metadata": {},
   "outputs": [
    {
     "data": {
      "text/html": [
       "<div>\n",
       "<style scoped>\n",
       "    .dataframe tbody tr th:only-of-type {\n",
       "        vertical-align: middle;\n",
       "    }\n",
       "\n",
       "    .dataframe tbody tr th {\n",
       "        vertical-align: top;\n",
       "    }\n",
       "\n",
       "    .dataframe thead th {\n",
       "        text-align: right;\n",
       "    }\n",
       "</style>\n",
       "<table border=\"1\" class=\"dataframe\">\n",
       "  <thead>\n",
       "    <tr style=\"text-align: right;\">\n",
       "      <th></th>\n",
       "      <th>ID</th>\n",
       "      <th>old_status</th>\n",
       "      <th>old_cmplx_assignment</th>\n",
       "    </tr>\n",
       "  </thead>\n",
       "  <tbody>\n",
       "    <tr>\n",
       "      <th>0</th>\n",
       "      <td>ENOG502S254</td>\n",
       "      <td>Uncharacterized</td>\n",
       "      <td>Uncharacterized UBL complex</td>\n",
       "    </tr>\n",
       "    <tr>\n",
       "      <th>1</th>\n",
       "      <td>KOG4146</td>\n",
       "      <td>Uncharacterized</td>\n",
       "      <td>Uncharacterized UBL complex</td>\n",
       "    </tr>\n",
       "    <tr>\n",
       "      <th>2</th>\n",
       "      <td>KOG1701</td>\n",
       "      <td>Uncharacterized</td>\n",
       "      <td>Uncharacterized endosomal trafficking complex</td>\n",
       "    </tr>\n",
       "    <tr>\n",
       "      <th>3</th>\n",
       "      <td>KOG2221</td>\n",
       "      <td>Uncharacterized</td>\n",
       "      <td>Uncharacterized endosomal trafficking complex</td>\n",
       "    </tr>\n",
       "    <tr>\n",
       "      <th>4</th>\n",
       "      <td>KOG2422</td>\n",
       "      <td>Known</td>\n",
       "      <td>Ribosome quality control complex 2</td>\n",
       "    </tr>\n",
       "    <tr>\n",
       "      <th>...</th>\n",
       "      <td>...</td>\n",
       "      <td>...</td>\n",
       "      <td>...</td>\n",
       "    </tr>\n",
       "    <tr>\n",
       "      <th>2773</th>\n",
       "      <td>KOG1207</td>\n",
       "      <td>Uncharacterized</td>\n",
       "      <td>Uncharacterized complex 20</td>\n",
       "    </tr>\n",
       "    <tr>\n",
       "      <th>2774</th>\n",
       "      <td>ENOG502QQEE</td>\n",
       "      <td>Uncharacterized</td>\n",
       "      <td>Uncharacterized complex 21</td>\n",
       "    </tr>\n",
       "    <tr>\n",
       "      <th>2775</th>\n",
       "      <td>KOG2925</td>\n",
       "      <td>Uncharacterized</td>\n",
       "      <td>Uncharacterized complex 21</td>\n",
       "    </tr>\n",
       "    <tr>\n",
       "      <th>2776</th>\n",
       "      <td>KOG0702</td>\n",
       "      <td>Known</td>\n",
       "      <td>Nuclear pore complex 4</td>\n",
       "    </tr>\n",
       "    <tr>\n",
       "      <th>2777</th>\n",
       "      <td>KOG2761</td>\n",
       "      <td>Novel member</td>\n",
       "      <td>Nuclear pore complex 4</td>\n",
       "    </tr>\n",
       "  </tbody>\n",
       "</table>\n",
       "<p>2778 rows × 3 columns</p>\n",
       "</div>"
      ],
      "text/plain": [
       "               ID       old_status  \\\n",
       "0     ENOG502S254  Uncharacterized   \n",
       "1         KOG4146  Uncharacterized   \n",
       "2         KOG1701  Uncharacterized   \n",
       "3         KOG2221  Uncharacterized   \n",
       "4         KOG2422            Known   \n",
       "...           ...              ...   \n",
       "2773      KOG1207  Uncharacterized   \n",
       "2774  ENOG502QQEE  Uncharacterized   \n",
       "2775      KOG2925  Uncharacterized   \n",
       "2776      KOG0702            Known   \n",
       "2777      KOG2761     Novel member   \n",
       "\n",
       "                               old_cmplx_assignment  \n",
       "0                       Uncharacterized UBL complex  \n",
       "1                       Uncharacterized UBL complex  \n",
       "2     Uncharacterized endosomal trafficking complex  \n",
       "3     Uncharacterized endosomal trafficking complex  \n",
       "4                Ribosome quality control complex 2  \n",
       "...                                             ...  \n",
       "2773                     Uncharacterized complex 20  \n",
       "2774                     Uncharacterized complex 21  \n",
       "2775                     Uncharacterized complex 21  \n",
       "2776                         Nuclear pore complex 4  \n",
       "2777                         Nuclear pore complex 4  \n",
       "\n",
       "[2778 rows x 3 columns]"
      ]
     },
     "execution_count": 5,
     "metadata": {},
     "output_type": "execute_result"
    }
   ],
   "source": [
    "# include old annotations\n",
    "old_res = pd.read_csv(old_res_file)\n",
    "old_res_cmplx = old_res[['ID', 'characterization_status', 'granulated_cmplx_name']]\n",
    "old_res_cmplx = old_res_cmplx.rename(columns={'characterization_status':'old_status', 'granulated_cmplx_name': 'old_cmplx_assignment'})\n",
    "old_res_cmplx"
   ]
  },
  {
   "cell_type": "code",
   "execution_count": 6,
   "id": "d9b8c15a-eac1-4278-b405-db44865fb9c5",
   "metadata": {},
   "outputs": [],
   "source": [
    "# combine all into a single annotation file\n",
    "annots = pd.DataFrame()\n",
    "annots = pd.merge(clade, old_res_cmplx, how='left', on=['ID'])\n",
    "annots = pd.merge(annots, cmplx, how='left', on=['ID'])\n",
    "annots = pd.merge(annots, uniprot, how='left', on=['ID'])\n",
    "annots.to_csv('../ppi_ml/annotations/leca_eunog_annots_complete.030721.csv', index=False)\n",
    "    \n",
    "# annot_df = reduce(lambda x, y: x.join(y, how='outer', on='ID'), annot_list)\n",
    "# annot_df"
   ]
  },
  {
   "cell_type": "code",
   "execution_count": 7,
   "id": "8a846df2-aa25-4a79-b141-9b540ddcab8f",
   "metadata": {},
   "outputs": [
    {
     "data": {
      "text/plain": [
       "Index(['ID', 'cut_194', 'cut_388', 'cut_582', 'cut_776', 'cut_970', 'cut_1164',\n",
       "       'cut_1358', 'cut_1552', 'cut_1746', 'cut_1940'],\n",
       "      dtype='object')"
      ]
     },
     "execution_count": 7,
     "metadata": {},
     "output_type": "execute_result"
    }
   ],
   "source": [
    "# load data to annotate\n",
    "data = pd.read_csv(clst_file)\n",
    "data.columns"
   ]
  },
  {
   "cell_type": "code",
   "execution_count": 8,
   "id": "ac41ea6b-8f7d-4e35-9ce5-11a403487a01",
   "metadata": {},
   "outputs": [],
   "source": [
    "df = pd.merge(data, clade, how='left', on=['ID'])\n",
    "df = pd.merge(df, old_res_cmplx, how='left', on=['ID'])\n",
    "df = pd.merge(df, cmplx, how='left', on=['ID'])\n",
    "df = pd.merge(df, uniprot, how='left', on=['ID'])"
   ]
  },
  {
   "cell_type": "code",
   "execution_count": 9,
   "id": "c4bb3c25-9463-4d90-937c-cdc484b1c9d0",
   "metadata": {},
   "outputs": [],
   "source": [
    "basename = clst_file.split('.csv', 1)[0]\n",
    "outname = basename+'_cmplx_annots'\n",
    "df.to_csv(outname+'.csv', index=False)\n",
    "df.to_excel(outname+'.xlsx', index=False)"
   ]
  }
 ],
 "metadata": {
  "kernelspec": {
   "display_name": "Python 3 (ipykernel)",
   "language": "python",
   "name": "python3"
  },
  "language_info": {
   "codemirror_mode": {
    "name": "ipython",
    "version": 3
   },
   "file_extension": ".py",
   "mimetype": "text/x-python",
   "name": "python",
   "nbconvert_exporter": "python",
   "pygments_lexer": "ipython3",
   "version": "3.10.6"
  }
 },
 "nbformat": 4,
 "nbformat_minor": 5
}
