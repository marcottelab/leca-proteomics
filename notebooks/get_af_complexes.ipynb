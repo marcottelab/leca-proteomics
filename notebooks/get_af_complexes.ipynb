{
 "cells": [
  {
   "cell_type": "code",
   "execution_count": 58,
   "id": "c38d2e44-d721-4d94-b50d-9e18c9932ecd",
   "metadata": {
    "tags": []
   },
   "outputs": [],
   "source": [
    "import pandas as pd"
   ]
  },
  {
   "cell_type": "code",
   "execution_count": 52,
   "id": "eee95068-5402-4d49-92f2-e1f25efb2cec",
   "metadata": {},
   "outputs": [],
   "source": [
    "cluster_file = '../ppi_ml/results/walktrap/LinearSVC_100feats_fdr10_4steps_nochloro.csv'\n",
    "out_dir = '../alphafold/cluster_files/'"
   ]
  },
  {
   "cell_type": "code",
   "execution_count": 53,
   "id": "3abb0315-3d0f-47b4-a831-bcc3f342e5c7",
   "metadata": {},
   "outputs": [],
   "source": [
    "results = pd.read_csv(cluster_file)\n",
    "query_cols = [c for c in results.columns.values if 'cut' in c][-3:]"
   ]
  },
  {
   "cell_type": "code",
   "execution_count": 54,
   "id": "3554cad0-433f-40d7-b053-060c7a741efd",
   "metadata": {},
   "outputs": [],
   "source": [
    "def get_cmplx(df, cut_col, size):\n",
    "    dfg = df.groupby(cut_col).size().to_frame(name='n').reset_index()\n",
    "    ppis = dfg[dfg.n == size]\n",
    "    dfp = df[df[cut_col].isin(ppis[cut_col])]\n",
    "    dfp = dfp[['ID', cut_col]]\n",
    "    return(dfp)"
   ]
  },
  {
   "cell_type": "code",
   "execution_count": 55,
   "id": "4860f965-7b48-420e-97d3-7183cfa81f3a",
   "metadata": {},
   "outputs": [],
   "source": [
    "dimers = get_cmplx(df, 'cut_2014', 2)\n",
    "trimers = get_cmplx(df, 'cut_2014', 3)\n",
    "tetramers = get_cmplx(df, 'cut_2014', 4)"
   ]
  },
  {
   "cell_type": "code",
   "execution_count": 57,
   "id": "7bc2d9a1-7888-46fd-b55d-ddc9ea890af1",
   "metadata": {},
   "outputs": [
    {
     "name": "stdout",
     "output_type": "stream",
     "text": [
      "# 2mers for cut_1202: 108\n",
      "# 3mers for cut_1202: 30\n",
      "# 4mers for cut_1202: 12\n",
      "# 2mers for cut_1608: 103\n",
      "# 3mers for cut_1608: 37\n",
      "# 4mers for cut_1608: 25\n",
      "# 2mers for cut_2014: 116\n",
      "# 3mers for cut_2014: 34\n",
      "# 4mers for cut_2014: 24\n"
     ]
    }
   ],
   "source": [
    "for cut in query_cols:\n",
    "    for i in range(2, 5):\n",
    "        df = get_cmplx(results, cut, i)\n",
    "        df.to_csv(f'{out_dir}{cut}_{i}.csv', index=False)\n",
    "        n = len(df[cut].unique())\n",
    "        print(f'# {i}mers for {cut}: {n}')"
   ]
  }
 ],
 "metadata": {
  "kernelspec": {
   "display_name": "Python 3 (ipykernel)",
   "language": "python",
   "name": "python3"
  },
  "language_info": {
   "codemirror_mode": {
    "name": "ipython",
    "version": 3
   },
   "file_extension": ".py",
   "mimetype": "text/x-python",
   "name": "python",
   "nbconvert_exporter": "python",
   "pygments_lexer": "ipython3",
   "version": "3.10.6"
  }
 },
 "nbformat": 4,
 "nbformat_minor": 5
}
