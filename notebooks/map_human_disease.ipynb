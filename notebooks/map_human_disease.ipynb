{
 "cells": [
  {
   "cell_type": "code",
   "execution_count": 1,
   "id": "e868a7f7-223c-4718-be8b-d82aba6c78bf",
   "metadata": {},
   "outputs": [],
   "source": [
    "import pandas as pd\n",
    "import re"
   ]
  },
  {
   "cell_type": "code",
   "execution_count": 12,
   "id": "f1678e7e-8e39-4cad-b1ee-856adb4113dc",
   "metadata": {},
   "outputs": [],
   "source": [
    "og_file = '../ppi_ml/data/og_proteomes/nog_mapping/human.euNOG.diamond.mapping.2759'\n",
    "dis_file = '../human_disease/human_disease_groups_manuallyedited.csv'\n",
    "res_file = '../ppi_ml/results/final/interactome_051023.csv'\n",
    "cutoff = 'cut_796'\n",
    "outfile = '../ppi_ml/results/final/interactome_diseases_051023'"
   ]
  },
  {
   "cell_type": "code",
   "execution_count": 3,
   "id": "3c0f858e-e353-448c-9954-4c7983bf349f",
   "metadata": {},
   "outputs": [],
   "source": [
    "def fmt_ids(x):\n",
    "    prot_id = re.search(\"(?<=\\|).*(?=\\|)\", x)[0]\n",
    "    return(prot_id)"
   ]
  },
  {
   "cell_type": "code",
   "execution_count": 4,
   "id": "912a1046-cd3b-4c03-abe2-833ecfb38e71",
   "metadata": {
    "tags": []
   },
   "outputs": [
    {
     "data": {
      "text/html": [
       "<div>\n",
       "<style scoped>\n",
       "    .dataframe tbody tr th:only-of-type {\n",
       "        vertical-align: middle;\n",
       "    }\n",
       "\n",
       "    .dataframe tbody tr th {\n",
       "        vertical-align: top;\n",
       "    }\n",
       "\n",
       "    .dataframe thead th {\n",
       "        text-align: right;\n",
       "    }\n",
       "</style>\n",
       "<table border=\"1\" class=\"dataframe\">\n",
       "  <thead>\n",
       "    <tr style=\"text-align: right;\">\n",
       "      <th></th>\n",
       "      <th>entry</th>\n",
       "      <th>gene_names_primary</th>\n",
       "      <th>label</th>\n",
       "    </tr>\n",
       "  </thead>\n",
       "  <tbody>\n",
       "    <tr>\n",
       "      <th>0</th>\n",
       "      <td>P35555</td>\n",
       "      <td>FBN1</td>\n",
       "      <td>Marfanoid-progeroid-lipodystrophy syndrome</td>\n",
       "    </tr>\n",
       "    <tr>\n",
       "      <th>1</th>\n",
       "      <td>P07954</td>\n",
       "      <td>FH</td>\n",
       "      <td>Hereditary leiomyomatosis</td>\n",
       "    </tr>\n",
       "    <tr>\n",
       "      <th>2</th>\n",
       "      <td>Q16698</td>\n",
       "      <td>DECR1</td>\n",
       "      <td>2,4-dienoyl-CoA reductase deficiency</td>\n",
       "    </tr>\n",
       "    <tr>\n",
       "      <th>3</th>\n",
       "      <td>Q4G0N4</td>\n",
       "      <td>NADK2</td>\n",
       "      <td>2,4-dienoyl-CoA reductase deficiency</td>\n",
       "    </tr>\n",
       "    <tr>\n",
       "      <th>4</th>\n",
       "      <td>Q9UDR5</td>\n",
       "      <td>AASS</td>\n",
       "      <td>2,4-dienoyl-CoA reductase deficiency</td>\n",
       "    </tr>\n",
       "    <tr>\n",
       "      <th>...</th>\n",
       "      <td>...</td>\n",
       "      <td>...</td>\n",
       "      <td>...</td>\n",
       "    </tr>\n",
       "    <tr>\n",
       "      <th>5755</th>\n",
       "      <td>O95259</td>\n",
       "      <td>KCNH1</td>\n",
       "      <td>Zimmermann-Laband syndrome</td>\n",
       "    </tr>\n",
       "    <tr>\n",
       "      <th>5756</th>\n",
       "      <td>P21281</td>\n",
       "      <td>ATP6V1B2</td>\n",
       "      <td>Zimmermann-Laband syndrome</td>\n",
       "    </tr>\n",
       "    <tr>\n",
       "      <th>5757</th>\n",
       "      <td>Q9UGI6</td>\n",
       "      <td>KCNN3</td>\n",
       "      <td>Zimmermann-Laband syndrome</td>\n",
       "    </tr>\n",
       "    <tr>\n",
       "      <th>5758</th>\n",
       "      <td>Q9BRI3</td>\n",
       "      <td>SLC30A2</td>\n",
       "      <td>Zinc deficiency</td>\n",
       "    </tr>\n",
       "    <tr>\n",
       "      <th>5759</th>\n",
       "      <td>P18583</td>\n",
       "      <td>SON</td>\n",
       "      <td>ZTTK syndrome</td>\n",
       "    </tr>\n",
       "  </tbody>\n",
       "</table>\n",
       "<p>5760 rows × 3 columns</p>\n",
       "</div>"
      ],
      "text/plain": [
       "       entry gene_names_primary                                       label\n",
       "0     P35555               FBN1  Marfanoid-progeroid-lipodystrophy syndrome\n",
       "1     P07954                 FH                   Hereditary leiomyomatosis\n",
       "2     Q16698              DECR1        2,4-dienoyl-CoA reductase deficiency\n",
       "3     Q4G0N4              NADK2        2,4-dienoyl-CoA reductase deficiency\n",
       "4     Q9UDR5               AASS        2,4-dienoyl-CoA reductase deficiency\n",
       "...      ...                ...                                         ...\n",
       "5755  O95259              KCNH1                  Zimmermann-Laband syndrome\n",
       "5756  P21281           ATP6V1B2                  Zimmermann-Laband syndrome\n",
       "5757  Q9UGI6              KCNN3                  Zimmermann-Laband syndrome\n",
       "5758  Q9BRI3            SLC30A2                             Zinc deficiency\n",
       "5759  P18583                SON                               ZTTK syndrome\n",
       "\n",
       "[5760 rows x 3 columns]"
      ]
     },
     "execution_count": 4,
     "metadata": {},
     "output_type": "execute_result"
    }
   ],
   "source": [
    "dis = pd.read_csv(dis_file)\n",
    "dis = dis[['entry', 'gene_names_primary', 'label']]"
   ]
  },
  {
   "cell_type": "code",
   "execution_count": 5,
   "id": "af7346cc-900a-43d4-980d-e857b550432b",
   "metadata": {},
   "outputs": [],
   "source": [
    "ogs = pd.read_csv(og_file, sep='\\t')\n",
    "ogs['entry'] = [fmt_ids(i) for i in ogs['ProteinID']]\n",
    "ogs = ogs[['ID','entry']]"
   ]
  },
  {
   "cell_type": "code",
   "execution_count": 6,
   "id": "28e90769-54e1-4745-862c-3e1c105379f3",
   "metadata": {},
   "outputs": [],
   "source": [
    "mapped = ogs.merge(dis, how='inner')\n",
    "dis_grp = mapped.groupby('ID', as_index=False).agg(lambda x: ', '.join(set(x.dropna())))"
   ]
  },
  {
   "cell_type": "code",
   "execution_count": 7,
   "id": "e3191cfb-db76-47eb-82f4-1cade5d8f282",
   "metadata": {
    "tags": []
   },
   "outputs": [],
   "source": [
    "res = pd.read_csv(res_file)\n",
    "res_mapped = res.merge(dis_grp, how='left')"
   ]
  },
  {
   "cell_type": "code",
   "execution_count": 8,
   "id": "97fbcbcd-a07f-4592-84a5-d057dec0bee6",
   "metadata": {},
   "outputs": [],
   "source": [
    "dis_rows = res_mapped[~res_mapped.label.isnull()]\n",
    "clusters = dis_rows[cutoff].unique()"
   ]
  },
  {
   "cell_type": "code",
   "execution_count": 14,
   "id": "374219ec-4e87-4d30-8b62-7d77bd2b70da",
   "metadata": {},
   "outputs": [],
   "source": [
    "out_df = res_mapped[res_mapped[cutoff].isin(clusters)]\n",
    "out_df.to_csv(outfile+'.csv', index=False)\n",
    "out_df.to_excel(outfile+'.xlsx', index=False)"
   ]
  }
 ],
 "metadata": {
  "kernelspec": {
   "display_name": "Python 3 (ipykernel)",
   "language": "python",
   "name": "python3"
  },
  "language_info": {
   "codemirror_mode": {
    "name": "ipython",
    "version": 3
   },
   "file_extension": ".py",
   "mimetype": "text/x-python",
   "name": "python",
   "nbconvert_exporter": "python",
   "pygments_lexer": "ipython3",
   "version": "3.10.6"
  }
 },
 "nbformat": 4,
 "nbformat_minor": 5
}
