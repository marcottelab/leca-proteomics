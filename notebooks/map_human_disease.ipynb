{
 "cells": [
  {
   "cell_type": "code",
   "execution_count": 1,
   "id": "e868a7f7-223c-4718-be8b-d82aba6c78bf",
   "metadata": {},
   "outputs": [],
   "source": [
    "import pandas as pd\n",
    "import re"
   ]
  },
  {
   "cell_type": "code",
   "execution_count": 2,
   "id": "f1678e7e-8e39-4cad-b1ee-856adb4113dc",
   "metadata": {},
   "outputs": [],
   "source": [
    "og_file = '../ppi_ml/data/og_proteomes/nog_mapping/human.euNOG.diamond.mapping.2759'\n",
    "dis_file = '../human_disease/human_disease_groups_manuallyedited.csv'\n",
    "res_file = '../ppi_ml/results/final/interactome_051023.csv'\n",
    "cutoff = 'cut_796'\n",
    "outfile = '../ppi_ml/results/final/interactome_diseases_051023'"
   ]
  },
  {
   "cell_type": "code",
   "execution_count": 3,
   "id": "3c0f858e-e353-448c-9954-4c7983bf349f",
   "metadata": {},
   "outputs": [],
   "source": [
    "def fmt_ids(x):\n",
    "    prot_id = re.search(\"(?<=\\|).*(?=\\|)\", x)[0]\n",
    "    return(prot_id)"
   ]
  },
  {
   "cell_type": "code",
   "execution_count": 4,
   "id": "912a1046-cd3b-4c03-abe2-833ecfb38e71",
   "metadata": {
    "tags": []
   },
   "outputs": [],
   "source": [
    "dis = pd.read_csv(dis_file)\n",
    "dis = dis[['entry', 'gene_names_primary', 'label']]"
   ]
  },
  {
   "cell_type": "code",
   "execution_count": 5,
   "id": "ed0ba4af-667d-4ba2-936d-343bcecdd046",
   "metadata": {},
   "outputs": [
    {
     "data": {
      "text/html": [
       "<div>\n",
       "<style scoped>\n",
       "    .dataframe tbody tr th:only-of-type {\n",
       "        vertical-align: middle;\n",
       "    }\n",
       "\n",
       "    .dataframe tbody tr th {\n",
       "        vertical-align: top;\n",
       "    }\n",
       "\n",
       "    .dataframe thead th {\n",
       "        text-align: right;\n",
       "    }\n",
       "</style>\n",
       "<table border=\"1\" class=\"dataframe\">\n",
       "  <thead>\n",
       "    <tr style=\"text-align: right;\">\n",
       "      <th></th>\n",
       "      <th>entry</th>\n",
       "      <th>gene_names_primary</th>\n",
       "      <th>label</th>\n",
       "    </tr>\n",
       "  </thead>\n",
       "  <tbody>\n",
       "    <tr>\n",
       "      <th>0</th>\n",
       "      <td>P35555</td>\n",
       "      <td>FBN1</td>\n",
       "      <td>Marfanoid-progeroid-lipodystrophy syndrome</td>\n",
       "    </tr>\n",
       "    <tr>\n",
       "      <th>1</th>\n",
       "      <td>P07954</td>\n",
       "      <td>FH</td>\n",
       "      <td>Hereditary leiomyomatosis</td>\n",
       "    </tr>\n",
       "    <tr>\n",
       "      <th>2</th>\n",
       "      <td>Q16698</td>\n",
       "      <td>DECR1</td>\n",
       "      <td>2,4-dienoyl-CoA reductase deficiency</td>\n",
       "    </tr>\n",
       "    <tr>\n",
       "      <th>3</th>\n",
       "      <td>Q4G0N4</td>\n",
       "      <td>NADK2</td>\n",
       "      <td>2,4-dienoyl-CoA reductase deficiency</td>\n",
       "    </tr>\n",
       "    <tr>\n",
       "      <th>4</th>\n",
       "      <td>Q9UDR5</td>\n",
       "      <td>AASS</td>\n",
       "      <td>2,4-dienoyl-CoA reductase deficiency</td>\n",
       "    </tr>\n",
       "    <tr>\n",
       "      <th>...</th>\n",
       "      <td>...</td>\n",
       "      <td>...</td>\n",
       "      <td>...</td>\n",
       "    </tr>\n",
       "    <tr>\n",
       "      <th>5755</th>\n",
       "      <td>O95259</td>\n",
       "      <td>KCNH1</td>\n",
       "      <td>Zimmermann-Laband syndrome</td>\n",
       "    </tr>\n",
       "    <tr>\n",
       "      <th>5756</th>\n",
       "      <td>P21281</td>\n",
       "      <td>ATP6V1B2</td>\n",
       "      <td>Zimmermann-Laband syndrome</td>\n",
       "    </tr>\n",
       "    <tr>\n",
       "      <th>5757</th>\n",
       "      <td>Q9UGI6</td>\n",
       "      <td>KCNN3</td>\n",
       "      <td>Zimmermann-Laband syndrome</td>\n",
       "    </tr>\n",
       "    <tr>\n",
       "      <th>5758</th>\n",
       "      <td>Q9BRI3</td>\n",
       "      <td>SLC30A2</td>\n",
       "      <td>Zinc deficiency</td>\n",
       "    </tr>\n",
       "    <tr>\n",
       "      <th>5759</th>\n",
       "      <td>P18583</td>\n",
       "      <td>SON</td>\n",
       "      <td>ZTTK syndrome</td>\n",
       "    </tr>\n",
       "  </tbody>\n",
       "</table>\n",
       "<p>5760 rows × 3 columns</p>\n",
       "</div>"
      ],
      "text/plain": [
       "       entry gene_names_primary                                       label\n",
       "0     P35555               FBN1  Marfanoid-progeroid-lipodystrophy syndrome\n",
       "1     P07954                 FH                   Hereditary leiomyomatosis\n",
       "2     Q16698              DECR1        2,4-dienoyl-CoA reductase deficiency\n",
       "3     Q4G0N4              NADK2        2,4-dienoyl-CoA reductase deficiency\n",
       "4     Q9UDR5               AASS        2,4-dienoyl-CoA reductase deficiency\n",
       "...      ...                ...                                         ...\n",
       "5755  O95259              KCNH1                  Zimmermann-Laband syndrome\n",
       "5756  P21281           ATP6V1B2                  Zimmermann-Laband syndrome\n",
       "5757  Q9UGI6              KCNN3                  Zimmermann-Laband syndrome\n",
       "5758  Q9BRI3            SLC30A2                             Zinc deficiency\n",
       "5759  P18583                SON                               ZTTK syndrome\n",
       "\n",
       "[5760 rows x 3 columns]"
      ]
     },
     "execution_count": 5,
     "metadata": {},
     "output_type": "execute_result"
    }
   ],
   "source": [
    "dis"
   ]
  },
  {
   "cell_type": "code",
   "execution_count": 6,
   "id": "af7346cc-900a-43d4-980d-e857b550432b",
   "metadata": {},
   "outputs": [],
   "source": [
    "ogs = pd.read_csv(og_file, sep='\\t')\n",
    "ogs['entry'] = [fmt_ids(i) for i in ogs['ProteinID']]\n",
    "ogs = ogs[['ID','entry']]"
   ]
  },
  {
   "cell_type": "code",
   "execution_count": 14,
   "id": "28e90769-54e1-4745-862c-3e1c105379f3",
   "metadata": {},
   "outputs": [],
   "source": [
    "mapped = ogs.merge(dis, how='inner')\n",
    "dis_grp = mapped.groupby('label', as_index=False).agg(lambda x: ','.join(set(x.dropna())))"
   ]
  },
  {
   "cell_type": "code",
   "execution_count": 16,
   "id": "b248e513-3f6b-4404-9bad-fe0704642ffd",
   "metadata": {},
   "outputs": [
    {
     "data": {
      "text/html": [
       "<div>\n",
       "<style scoped>\n",
       "    .dataframe tbody tr th:only-of-type {\n",
       "        vertical-align: middle;\n",
       "    }\n",
       "\n",
       "    .dataframe tbody tr th {\n",
       "        vertical-align: top;\n",
       "    }\n",
       "\n",
       "    .dataframe thead th {\n",
       "        text-align: right;\n",
       "    }\n",
       "</style>\n",
       "<table border=\"1\" class=\"dataframe\">\n",
       "  <thead>\n",
       "    <tr style=\"text-align: right;\">\n",
       "      <th></th>\n",
       "      <th>ID</th>\n",
       "      <th>entry</th>\n",
       "      <th>gene_names_primary</th>\n",
       "      <th>label</th>\n",
       "    </tr>\n",
       "  </thead>\n",
       "  <tbody>\n",
       "    <tr>\n",
       "      <th>0</th>\n",
       "      <td>ENOG502S0FR</td>\n",
       "      <td>A0A1W2PR82</td>\n",
       "      <td>PERCC1</td>\n",
       "      <td>Diarrhea</td>\n",
       "    </tr>\n",
       "    <tr>\n",
       "      <th>1</th>\n",
       "      <td>KOG1721</td>\n",
       "      <td>A0PJY2</td>\n",
       "      <td>FEZF1</td>\n",
       "      <td>Hypogonadotropic hypogonadism</td>\n",
       "    </tr>\n",
       "    <tr>\n",
       "      <th>2</th>\n",
       "      <td>ENOG502QS9R</td>\n",
       "      <td>A1A4Y4</td>\n",
       "      <td>IRGM</td>\n",
       "      <td>Inflammatory bowel disease</td>\n",
       "    </tr>\n",
       "    <tr>\n",
       "      <th>3</th>\n",
       "      <td>KOG0905</td>\n",
       "      <td>A1X283</td>\n",
       "      <td>SH3PXD2B</td>\n",
       "      <td>Frank-Ter Haar syndrome</td>\n",
       "    </tr>\n",
       "    <tr>\n",
       "      <th>4</th>\n",
       "      <td>ENOG502QQ0N</td>\n",
       "      <td>A1XBS5</td>\n",
       "      <td>FAM92A</td>\n",
       "      <td>Polydactyly</td>\n",
       "    </tr>\n",
       "    <tr>\n",
       "      <th>...</th>\n",
       "      <td>...</td>\n",
       "      <td>...</td>\n",
       "      <td>...</td>\n",
       "      <td>...</td>\n",
       "    </tr>\n",
       "    <tr>\n",
       "      <th>5868</th>\n",
       "      <td>KOG1083</td>\n",
       "      <td>Q9Y6X0</td>\n",
       "      <td>SETBP1</td>\n",
       "      <td>Mental retardation</td>\n",
       "    </tr>\n",
       "    <tr>\n",
       "      <th>5869</th>\n",
       "      <td>KOG1083</td>\n",
       "      <td>Q9Y6X0</td>\n",
       "      <td>SETBP1</td>\n",
       "      <td>Schinzel-Giedion midface retraction syndrome</td>\n",
       "    </tr>\n",
       "    <tr>\n",
       "      <th>5870</th>\n",
       "      <td>KOG1845</td>\n",
       "      <td>Q9Y6X9</td>\n",
       "      <td>MORC2</td>\n",
       "      <td>Charcot-Marie-Tooth disease</td>\n",
       "    </tr>\n",
       "    <tr>\n",
       "      <th>5871</th>\n",
       "      <td>KOG0520</td>\n",
       "      <td>Q9Y6Y1</td>\n",
       "      <td>CAMTA1</td>\n",
       "      <td>Cerebellar ataxia</td>\n",
       "    </tr>\n",
       "    <tr>\n",
       "      <th>5872</th>\n",
       "      <td>KOG4297</td>\n",
       "      <td>Q9Y6Z7</td>\n",
       "      <td>COLEC10</td>\n",
       "      <td>3MC syndrome</td>\n",
       "    </tr>\n",
       "  </tbody>\n",
       "</table>\n",
       "<p>5873 rows × 4 columns</p>\n",
       "</div>"
      ],
      "text/plain": [
       "               ID       entry gene_names_primary  \\\n",
       "0     ENOG502S0FR  A0A1W2PR82             PERCC1   \n",
       "1         KOG1721      A0PJY2              FEZF1   \n",
       "2     ENOG502QS9R      A1A4Y4               IRGM   \n",
       "3         KOG0905      A1X283           SH3PXD2B   \n",
       "4     ENOG502QQ0N      A1XBS5             FAM92A   \n",
       "...           ...         ...                ...   \n",
       "5868      KOG1083      Q9Y6X0             SETBP1   \n",
       "5869      KOG1083      Q9Y6X0             SETBP1   \n",
       "5870      KOG1845      Q9Y6X9              MORC2   \n",
       "5871      KOG0520      Q9Y6Y1             CAMTA1   \n",
       "5872      KOG4297      Q9Y6Z7            COLEC10   \n",
       "\n",
       "                                             label  \n",
       "0                                         Diarrhea  \n",
       "1                    Hypogonadotropic hypogonadism  \n",
       "2                       Inflammatory bowel disease  \n",
       "3                          Frank-Ter Haar syndrome  \n",
       "4                                      Polydactyly  \n",
       "...                                            ...  \n",
       "5868                            Mental retardation  \n",
       "5869  Schinzel-Giedion midface retraction syndrome  \n",
       "5870                   Charcot-Marie-Tooth disease  \n",
       "5871                             Cerebellar ataxia  \n",
       "5872                                  3MC syndrome  \n",
       "\n",
       "[5873 rows x 4 columns]"
      ]
     },
     "execution_count": 16,
     "metadata": {},
     "output_type": "execute_result"
    }
   ],
   "source": [
    "mapped"
   ]
  },
  {
   "cell_type": "code",
   "execution_count": 15,
   "id": "db672e08-1224-43e7-89be-86591d8b2426",
   "metadata": {},
   "outputs": [],
   "source": [
    "nodes = dis_grp.reset_index()\n",
    "nodes = nodes[['index','label','ID']]\n",
    "nodes.to_csv('../human_disease/network_propagation/data/disease_network.tsv', sep='\\t', header=False, index=False)"
   ]
  },
  {
   "cell_type": "code",
   "execution_count": 19,
   "id": "a3a21bf2-9216-4f85-b8f6-7b2864a47577",
   "metadata": {},
   "outputs": [],
   "source": [
    "ids = mapped[['ID', 'entry', 'gene_names_primary']]\n",
    "id_map = ids.groupby('ID', as_index=False).agg(lambda x: ','.join(set(x.dropna())))\n",
    "id_map.to_csv('../human_disease/network_propagation/data/leca_id_map.tsv', sep='\\t', header=False, index=False)"
   ]
  },
  {
   "cell_type": "code",
   "execution_count": 7,
   "id": "e3191cfb-db76-47eb-82f4-1cade5d8f282",
   "metadata": {
    "tags": []
   },
   "outputs": [],
   "source": [
    "res = pd.read_csv(res_file)\n",
    "res_mapped = res.merge(dis_grp, how='left')"
   ]
  },
  {
   "cell_type": "code",
   "execution_count": 8,
   "id": "97fbcbcd-a07f-4592-84a5-d057dec0bee6",
   "metadata": {},
   "outputs": [],
   "source": [
    "dis_rows = res_mapped[~res_mapped.label.isnull()]\n",
    "clusters = dis_rows[cutoff].unique()"
   ]
  },
  {
   "cell_type": "code",
   "execution_count": 14,
   "id": "374219ec-4e87-4d30-8b62-7d77bd2b70da",
   "metadata": {},
   "outputs": [],
   "source": [
    "out_df = res_mapped[res_mapped[cutoff].isin(clusters)]\n",
    "out_df.to_csv(outfile+'.csv', index=False)\n",
    "out_df.to_excel(outfile+'.xlsx', index=False)"
   ]
  }
 ],
 "metadata": {
  "kernelspec": {
   "display_name": "Python 3 (ipykernel)",
   "language": "python",
   "name": "python3"
  },
  "language_info": {
   "codemirror_mode": {
    "name": "ipython",
    "version": 3
   },
   "file_extension": ".py",
   "mimetype": "text/x-python",
   "name": "python",
   "nbconvert_exporter": "python",
   "pygments_lexer": "ipython3",
   "version": "3.10.6"
  }
 },
 "nbformat": 4,
 "nbformat_minor": 5
}
