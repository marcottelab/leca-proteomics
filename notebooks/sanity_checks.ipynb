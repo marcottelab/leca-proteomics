{
 "cells": [
  {
   "cell_type": "code",
   "execution_count": 5,
   "id": "f45b4859-2497-46e2-a826-42571a2ce4e7",
   "metadata": {},
   "outputs": [],
   "source": [
    "import pandas as pd\n",
    "import datetime as dt\n",
    "import pickle\n",
    "import random\n",
    "from itertools import combinations"
   ]
  },
  {
   "cell_type": "code",
   "execution_count": 88,
   "id": "dac3de7f-5d3b-4732-a3c9-1954e247c593",
   "metadata": {},
   "outputs": [],
   "source": [
    "def flatten(lst):\n",
    "    return [item for sublist in lst for item in sublist]\n",
    "\n",
    "def make_fset(x, drop=True):\n",
    "    if len(set(x.split(' '))) < 2:\n",
    "        if drop == False:\n",
    "            print(f\"[{ct}] WARNING: Features for '{x}' (self-self PPI) detected ...\")\n",
    "            x1 = x.split(' ')[0]\n",
    "            fset = frozenset({x1})\n",
    "            return(fset)\n",
    "        else:\n",
    "            return()   \n",
    "    else:\n",
    "        x1 = x.split(' ')[0]\n",
    "        x2 = x.split(' ')[1]\n",
    "        fset = frozenset({x1,x2})\n",
    "        return(fset)"
   ]
  },
  {
   "cell_type": "code",
   "execution_count": 4,
   "id": "f85def32-6666-447b-a4fa-e56deed9271a",
   "metadata": {},
   "outputs": [],
   "source": [
    "gold_std_file = '/stor/work/Marcotte/project/rmcox/leca/ppi_ml/data/gold_stds/all.gold.cmplx.noRibos.merged.txt'\n",
    "pos_outfile = '/stor/work/Marcotte/project/rmcox/leca/ppi_ml/data/unit_testing/all_pos_ppis.txt'"
   ]
  },
  {
   "cell_type": "code",
   "execution_count": 5,
   "id": "4cf21c50-b31f-4bed-9416-2412376bfed0",
   "metadata": {},
   "outputs": [],
   "source": [
    "gs_dict = make_gs_dict(gold_std_file)"
   ]
  },
  {
   "cell_type": "code",
   "execution_count": 20,
   "id": "5f4bcf90-70a7-4de5-bb4d-36df976bbb72",
   "metadata": {},
   "outputs": [],
   "source": [
    "fset_lst = []\n",
    "for ppi in gs_dict.values():\n",
    "    fset_lst.append(ppi)\n",
    "flat_fsets = set(flatten(fset_lst))\n",
    "all_pos_ppis = [] \n",
    "for ppi in flat_fsets:\n",
    "    all_pos_ppis.append(list(ppi))"
   ]
  },
  {
   "cell_type": "code",
   "execution_count": 22,
   "id": "4ee141f1-88b3-4216-83a0-3ab04f338bb8",
   "metadata": {},
   "outputs": [
    {
     "data": {
      "text/plain": [
       "16064"
      ]
     },
     "execution_count": 22,
     "metadata": {},
     "output_type": "execute_result"
    }
   ],
   "source": [
    "len(all_pos_ppis)"
   ]
  },
  {
   "cell_type": "code",
   "execution_count": 8,
   "id": "d1e88bfb-e1e0-4851-a306-83d0e036cf6d",
   "metadata": {},
   "outputs": [],
   "source": [
    "with open(pos_outfile, 'w') as f:\n",
    "    for ppi in pos_ppis:\n",
    "        pair = list(ppi)\n",
    "        line = f'{pair[0]}\\t{pair[1]}\\n'\n",
    "        f.write(line)"
   ]
  },
  {
   "cell_type": "code",
   "execution_count": 9,
   "id": "1d0b1ca5-d998-4fc5-bf51-ae13654d8452",
   "metadata": {},
   "outputs": [
    {
     "name": "stdout",
     "output_type": "stream",
     "text": [
      "--> # total possible gold standard PPIs = 16064\n",
      "--> # unique gold standard prots = 2958\n",
      "--> # total possible negative PPIs = 4357339\n"
     ]
    }
   ],
   "source": [
    "neg_ppis = get_neg_ppis(gs_dict)"
   ]
  },
  {
   "cell_type": "code",
   "execution_count": 25,
   "id": "e4ab92d9-8d63-448f-a48b-db7b3140acbd",
   "metadata": {},
   "outputs": [
    {
     "data": {
      "text/plain": [
       "set()"
      ]
     },
     "execution_count": 25,
     "metadata": {},
     "output_type": "execute_result"
    }
   ],
   "source": [
    "neg_ppis & flat_fsets"
   ]
  },
  {
   "cell_type": "code",
   "execution_count": 24,
   "id": "01526ef6-2858-4acf-9b96-e8e556dc19b4",
   "metadata": {},
   "outputs": [],
   "source": [
    "fmat_file = '../ppi_ml/data/featmats/test_group_merge/featmat_labeled_all_groups_traintest.pkl'\n",
    "gold_std_file = '/stor/work/Marcotte/project/rmcox/leca/ppi_ml/data/gold_stds/all.gold.cmplx.noRibos.merged.txt'\n",
    "ml_results_file = '../ppi_ml/results/test_walktrap/archive/ppi_scores_all.csv'"
   ]
  },
  {
   "cell_type": "code",
   "execution_count": 25,
   "id": "dbc8bfbc-f214-49e3-986f-5c870697c2a8",
   "metadata": {},
   "outputs": [],
   "source": [
    "with open(fmat_file, 'rb') as handle:\n",
    "    fmat = pickle.load(handle)\n",
    "\n",
    "# assert no ppis are repeated in labeled feature matrix\n",
    "ppi_counts = fmat.groupby(['ID']).size().sort_values(ascending=False)\n",
    "assert any(x > 1 for x in ppi_counts) == False, \"Non-unique PPI labels detected.\""
   ]
  },
  {
   "cell_type": "code",
   "execution_count": 63,
   "id": "5d412d92-17f4-42df-a416-122f9fd0b837",
   "metadata": {},
   "outputs": [
    {
     "data": {
      "text/html": [
       "<div>\n",
       "<style scoped>\n",
       "    .dataframe tbody tr th:only-of-type {\n",
       "        vertical-align: middle;\n",
       "    }\n",
       "\n",
       "    .dataframe tbody tr th {\n",
       "        vertical-align: top;\n",
       "    }\n",
       "\n",
       "    .dataframe thead th {\n",
       "        text-align: right;\n",
       "    }\n",
       "</style>\n",
       "<table border=\"1\" class=\"dataframe\">\n",
       "  <thead>\n",
       "    <tr style=\"text-align: right;\">\n",
       "      <th></th>\n",
       "      <th>ID</th>\n",
       "      <th>grp_count</th>\n",
       "      <th>super_grp_count</th>\n",
       "    </tr>\n",
       "  </thead>\n",
       "  <tbody>\n",
       "    <tr>\n",
       "      <th>11592</th>\n",
       "      <td>KOG1649 KOG1279</td>\n",
       "      <td>18</td>\n",
       "      <td>1</td>\n",
       "    </tr>\n",
       "    <tr>\n",
       "      <th>5136</th>\n",
       "      <td>KOG1649 KOG0386</td>\n",
       "      <td>16</td>\n",
       "      <td>1</td>\n",
       "    </tr>\n",
       "    <tr>\n",
       "      <th>5128</th>\n",
       "      <td>KOG1279 KOG0386</td>\n",
       "      <td>15</td>\n",
       "      <td>1</td>\n",
       "    </tr>\n",
       "    <tr>\n",
       "      <th>18407</th>\n",
       "      <td>KOG3459 KOG3428</td>\n",
       "      <td>12</td>\n",
       "      <td>1</td>\n",
       "    </tr>\n",
       "    <tr>\n",
       "      <th>11611</th>\n",
       "      <td>KOG1279 KOG2570</td>\n",
       "      <td>11</td>\n",
       "      <td>1</td>\n",
       "    </tr>\n",
       "    <tr>\n",
       "      <th>...</th>\n",
       "      <td>...</td>\n",
       "      <td>...</td>\n",
       "      <td>...</td>\n",
       "    </tr>\n",
       "    <tr>\n",
       "      <th>9095</th>\n",
       "      <td>KOG4163 KOG0892</td>\n",
       "      <td>1</td>\n",
       "      <td>1</td>\n",
       "    </tr>\n",
       "    <tr>\n",
       "      <th>9094</th>\n",
       "      <td>KOG4020 KOG0892</td>\n",
       "      <td>1</td>\n",
       "      <td>1</td>\n",
       "    </tr>\n",
       "    <tr>\n",
       "      <th>9093</th>\n",
       "      <td>KOG3503 KOG0892</td>\n",
       "      <td>1</td>\n",
       "      <td>1</td>\n",
       "    </tr>\n",
       "    <tr>\n",
       "      <th>9092</th>\n",
       "      <td>KOG3230 KOG0892</td>\n",
       "      <td>1</td>\n",
       "      <td>1</td>\n",
       "    </tr>\n",
       "    <tr>\n",
       "      <th>26515</th>\n",
       "      <td>KOG1894 KOG3342</td>\n",
       "      <td>1</td>\n",
       "      <td>1</td>\n",
       "    </tr>\n",
       "  </tbody>\n",
       "</table>\n",
       "<p>26516 rows × 3 columns</p>\n",
       "</div>"
      ],
      "text/plain": [
       "                    ID  grp_count  super_grp_count\n",
       "11592  KOG1649 KOG1279         18                1\n",
       "5136   KOG1649 KOG0386         16                1\n",
       "5128   KOG1279 KOG0386         15                1\n",
       "18407  KOG3459 KOG3428         12                1\n",
       "11611  KOG1279 KOG2570         11                1\n",
       "...                ...        ...              ...\n",
       "9095   KOG4163 KOG0892          1                1\n",
       "9094   KOG4020 KOG0892          1                1\n",
       "9093   KOG3503 KOG0892          1                1\n",
       "9092   KOG3230 KOG0892          1                1\n",
       "26515  KOG1894 KOG3342          1                1\n",
       "\n",
       "[26516 rows x 3 columns]"
      ]
     },
     "execution_count": 63,
     "metadata": {},
     "output_type": "execute_result"
    }
   ],
   "source": [
    "def count_grps(x):\n",
    "    if type(x) == list:\n",
    "        return(len(x))\n",
    "    else:\n",
    "        return(1)\n",
    "    \n",
    "def count_multi(df, col_name):\n",
    "    n = 0\n",
    "    for i in range(len(df)):\n",
    "        if type(df[col_name][i]) == list:\n",
    "            n += 1\n",
    "    return(n)\n",
    "\n",
    "fmat['grp_count'] = [count_grps(i) for i in fmat['group']]\n",
    "fmat['super_grp_count'] = [count_grps(i) for i in fmat['super_group']]\n",
    "grp_df = fmat[['ID','grp_count','super_grp_count']]\n",
    "grp_df.sort_values('grp_count', ascending=False)"
   ]
  },
  {
   "cell_type": "code",
   "execution_count": 64,
   "id": "a949f448-fe8f-4385-84bf-420b9b0c8c9e",
   "metadata": {},
   "outputs": [
    {
     "data": {
      "text/plain": [
       "1641"
      ]
     },
     "execution_count": 64,
     "metadata": {},
     "output_type": "execute_result"
    }
   ],
   "source": [
    "n = count_multi(fmat, 'group')\n",
    "n"
   ]
  },
  {
   "cell_type": "code",
   "execution_count": 65,
   "id": "0dd2360d-1d6f-48c9-bdac-35be48a33c56",
   "metadata": {},
   "outputs": [
    {
     "data": {
      "text/plain": [
       "0"
      ]
     },
     "execution_count": 65,
     "metadata": {},
     "output_type": "execute_result"
    }
   ],
   "source": [
    "n = count_multi(fmat, 'super_group')\n",
    "n"
   ]
  },
  {
   "cell_type": "code",
   "execution_count": 66,
   "id": "39130e0b-f5a3-47b5-bf6c-4902ba0d1795",
   "metadata": {},
   "outputs": [
    {
     "name": "stdout",
     "output_type": "stream",
     "text": [
      "ID             26516\n",
      "group            848\n",
      "super_group      356\n",
      "dtype: int64\n"
     ]
    },
    {
     "data": {
      "image/png": "[encoded data removed]",
      "text/plain": [
       "<Figure size 640x480 with 1 Axes>"
      ]
     },
     "metadata": {},
     "output_type": "display_data"
    }
   ],
   "source": [
    "import matplotlib.pyplot as plt\n",
    "import seaborn as sns\n",
    "import numpy as np\n",
    "\n",
    "pdf = pd.melt(grp_df, id_vars=['ID'], value_vars=['grp_count', 'super_grp_count'])\n",
    "counts = (fmat.explode('group')).nunique()\n",
    "print(counts[0:3])\n",
    "\n",
    "sns.set_theme(style=\"whitegrid\")\n",
    "\n",
    "# set up the figure and axes\n",
    "fig, ax = plt.subplots()\n",
    "sns.countplot(data=pdf, x='value', hue='variable')\n",
    "\n",
    "# set the axis labels and title\n",
    "ax.set(yscale=\"log\")\n",
    "ax.set_xlabel('# protein complex groups assigned')\n",
    "ax.set_ylabel('# PPI pairs')\n",
    "\n",
    "# adjust legend text\n",
    "plt.legend(title='Complex groups', loc='upper right', labels=[f'Before merge\\nn={counts[1]}', f'After merge\\nn={counts[2]}'])\n",
    "\n",
    "# save plot\n",
    "plt.savefig(f'../ppi_ml/results/ml_eval/group_merge.png', dpi=300, transparent=True)\n",
    "\n",
    "# show the plot\n",
    "plt.show()"
   ]
  },
  {
   "cell_type": "code",
   "execution_count": 76,
   "id": "efa28abd-336c-4720-9bb5-dee8a16e1283",
   "metadata": {},
   "outputs": [],
   "source": [
    "# assert all combinations of a cmplx are generated\n",
    "cmplx_list = []\n",
    "\n",
    "with open(gold_std_file, 'r') as f:\n",
    "    ppis = f.read().splitlines()\n",
    "    num_test = 5\n",
    "    for p in ppis:\n",
    "        ogs = p.split(' ')\n",
    "        if 2 < len(ogs) < 5:\n",
    "            cmplx_list.append(ogs)\n",
    "            \n",
    "for cmplx in cmplx_list:\n",
    "    num_prots = len(cmplx)\n",
    "    expected_ppi_number = (num_prots*(num_prots-1))/2\n",
    "    ppis = [frozenset({i, j}) for i,j in list(combinations(cmplx, 2))]\n",
    "    assert expected_ppi_number == len(ppis), \"Problem with gold standard complexes; make sure each complex contains unique protein IDs (no repeated subunits).\""
   ]
  },
  {
   "cell_type": "code",
   "execution_count": 7,
   "id": "62302036-0d4d-4ed1-a65b-3d7b106cf4c0",
   "metadata": {},
   "outputs": [
    {
     "data": {
      "text/html": [
       "<div>\n",
       "<style scoped>\n",
       "    .dataframe tbody tr th:only-of-type {\n",
       "        vertical-align: middle;\n",
       "    }\n",
       "\n",
       "    .dataframe tbody tr th {\n",
       "        vertical-align: top;\n",
       "    }\n",
       "\n",
       "    .dataframe thead th {\n",
       "        text-align: right;\n",
       "    }\n",
       "</style>\n",
       "<table border=\"1\" class=\"dataframe\">\n",
       "  <thead>\n",
       "    <tr style=\"text-align: right;\">\n",
       "      <th></th>\n",
       "      <th>Unnamed: 0</th>\n",
       "      <th>ID</th>\n",
       "      <th>label</th>\n",
       "      <th>ppi_score</th>\n",
       "      <th>set</th>\n",
       "    </tr>\n",
       "  </thead>\n",
       "  <tbody>\n",
       "    <tr>\n",
       "      <th>0</th>\n",
       "      <td>0</td>\n",
       "      <td>KOG3409 KOG3013</td>\n",
       "      <td>1</td>\n",
       "      <td>1.0</td>\n",
       "      <td>test</td>\n",
       "    </tr>\n",
       "    <tr>\n",
       "      <th>1</th>\n",
       "      <td>1</td>\n",
       "      <td>KOG0358 KOG0362</td>\n",
       "      <td>1</td>\n",
       "      <td>1.0</td>\n",
       "      <td>train</td>\n",
       "    </tr>\n",
       "    <tr>\n",
       "      <th>2</th>\n",
       "      <td>2</td>\n",
       "      <td>KOG2072 KOG0643</td>\n",
       "      <td>1</td>\n",
       "      <td>1.0</td>\n",
       "      <td>train</td>\n",
       "    </tr>\n",
       "    <tr>\n",
       "      <th>3</th>\n",
       "      <td>3</td>\n",
       "      <td>KOG3677 KOG1560</td>\n",
       "      <td>1</td>\n",
       "      <td>1.0</td>\n",
       "      <td>train</td>\n",
       "    </tr>\n",
       "    <tr>\n",
       "      <th>4</th>\n",
       "      <td>4</td>\n",
       "      <td>KOG2314 KOG0643</td>\n",
       "      <td>1</td>\n",
       "      <td>1.0</td>\n",
       "      <td>train</td>\n",
       "    </tr>\n",
       "    <tr>\n",
       "      <th>...</th>\n",
       "      <td>...</td>\n",
       "      <td>...</td>\n",
       "      <td>...</td>\n",
       "      <td>...</td>\n",
       "      <td>...</td>\n",
       "    </tr>\n",
       "    <tr>\n",
       "      <th>4490157</th>\n",
       "      <td>4490157</td>\n",
       "      <td>KOG4845 KOG1666</td>\n",
       "      <td>-1</td>\n",
       "      <td>0.0</td>\n",
       "      <td>train</td>\n",
       "    </tr>\n",
       "    <tr>\n",
       "      <th>4490158</th>\n",
       "      <td>4490158</td>\n",
       "      <td>KOG3229 KOG4795</td>\n",
       "      <td>-1</td>\n",
       "      <td>0.0</td>\n",
       "      <td>train</td>\n",
       "    </tr>\n",
       "    <tr>\n",
       "      <th>4490159</th>\n",
       "      <td>4490159</td>\n",
       "      <td>KOG3432 KOG4168</td>\n",
       "      <td>-1</td>\n",
       "      <td>0.0</td>\n",
       "      <td>train</td>\n",
       "    </tr>\n",
       "    <tr>\n",
       "      <th>4490160</th>\n",
       "      <td>4490160</td>\n",
       "      <td>KOG2741 KOG4322</td>\n",
       "      <td>-1</td>\n",
       "      <td>0.0</td>\n",
       "      <td>train</td>\n",
       "    </tr>\n",
       "    <tr>\n",
       "      <th>4490161</th>\n",
       "      <td>4490161</td>\n",
       "      <td>KOG2909 KOG1949</td>\n",
       "      <td>-1</td>\n",
       "      <td>0.0</td>\n",
       "      <td>train</td>\n",
       "    </tr>\n",
       "  </tbody>\n",
       "</table>\n",
       "<p>25241 rows × 5 columns</p>\n",
       "</div>"
      ],
      "text/plain": [
       "         Unnamed: 0               ID  label  ppi_score    set\n",
       "0                 0  KOG3409 KOG3013      1        1.0   test\n",
       "1                 1  KOG0358 KOG0362      1        1.0  train\n",
       "2                 2  KOG2072 KOG0643      1        1.0  train\n",
       "3                 3  KOG3677 KOG1560      1        1.0  train\n",
       "4                 4  KOG2314 KOG0643      1        1.0  train\n",
       "...             ...              ...    ...        ...    ...\n",
       "4490157     4490157  KOG4845 KOG1666     -1        0.0  train\n",
       "4490158     4490158  KOG3229 KOG4795     -1        0.0  train\n",
       "4490159     4490159  KOG3432 KOG4168     -1        0.0  train\n",
       "4490160     4490160  KOG2741 KOG4322     -1        0.0  train\n",
       "4490161     4490161  KOG2909 KOG1949     -1        0.0  train\n",
       "\n",
       "[25241 rows x 5 columns]"
      ]
     },
     "execution_count": 7,
     "metadata": {},
     "output_type": "execute_result"
    }
   ],
   "source": [
    "# assert that there is no overlap between train and test ppis\n",
    "res = pd.read_csv(ml_results_file)\n",
    "tt_df = res[(res.set == 'test') | (res.set == 'train')]\n",
    "tt_df"
   ]
  },
  {
   "cell_type": "code",
   "execution_count": 87,
   "id": "21359418-4a08-4f26-abe8-2aa2bde4ad0e",
   "metadata": {},
   "outputs": [],
   "source": [
    "tt_ppi_counts = tt_df.groupby(['ID']).size().sort_values(ascending=False)\n",
    "assert any(x > 1 for x in tt_ppi_counts) == False, \"Non-unique PPI labels detected.\""
   ]
  },
  {
   "cell_type": "code",
   "execution_count": 102,
   "id": "5d2a511f-b35c-4a62-8836-75423ab4f9bb",
   "metadata": {},
   "outputs": [],
   "source": [
    "train_df = tt_df[(tt_df.set == 'train')]\n",
    "train_ppis = [make_fset(i, drop=True) for i in train_df['ID']]\n",
    "\n",
    "test_df = tt_df[(tt_df.set == 'test')]\n",
    "test_ppis = [make_fset(i, drop=True) for i in test_df['ID']]\n",
    "\n",
    "assert len(set(test_ppis) & set(train_ppis)) == 0, \"Overlap between train and test PPIs detected.\""
   ]
  },
  {
   "cell_type": "code",
   "execution_count": 8,
   "id": "b899d5e0-7fca-44fb-be6d-f85e03c868a9",
   "metadata": {},
   "outputs": [],
   "source": [
    "labeled = fmat[(fmat.super_group > 0)]"
   ]
  },
  {
   "cell_type": "code",
   "execution_count": 182,
   "id": "0f964054-aa5a-45e6-83b2-06b7a964612d",
   "metadata": {},
   "outputs": [
    {
     "data": {
      "text/plain": [
       "356"
      ]
     },
     "execution_count": 182,
     "metadata": {},
     "output_type": "execute_result"
    }
   ],
   "source": []
  },
  {
   "cell_type": "code",
   "execution_count": 9,
   "id": "cd0c83f5-bc31-4304-ac8d-14ec979737b8",
   "metadata": {},
   "outputs": [],
   "source": [
    "import networkx as nx\n",
    "import matplotlib.pyplot as plt\n",
    "import random\n",
    "import numpy as np\n",
    "\n",
    "options = {\n",
    "    'node_color': 'black',\n",
    "    'node_size': 10,\n",
    "    'width': 1,\n",
    "}"
   ]
  },
  {
   "cell_type": "code",
   "execution_count": 10,
   "id": "04b8b11f-5e99-4e56-b306-d67045887ca1",
   "metadata": {},
   "outputs": [
    {
     "data": {
      "text/plain": [
       "356"
      ]
     },
     "execution_count": 10,
     "metadata": {},
     "output_type": "execute_result"
    }
   ],
   "source": [
    "grp_sizes = pd.DataFrame()\n",
    "grp, n = np.unique(labeled.super_group, return_counts=True)\n",
    "grp_counts = dict(zip(grp, n))\n",
    "len(grp_counts)"
   ]
  },
  {
   "cell_type": "code",
   "execution_count": 11,
   "id": "abb8ee1e-9682-4bab-887a-fb8df0d85eb7",
   "metadata": {},
   "outputs": [
    {
     "data": {
      "text/plain": [
       "356"
      ]
     },
     "execution_count": 11,
     "metadata": {},
     "output_type": "execute_result"
    }
   ],
   "source": [
    "no_of_colors=len(grp_counts)\n",
    "color=[\"#\"+''.join([random.choice('0123456789ABCDEF') for i in range(6)])\n",
    "       for j in range(no_of_colors)]\n",
    "color_dict = dict(zip(grp, color))\n",
    "len(color_dict)"
   ]
  },
  {
   "cell_type": "code",
   "execution_count": null,
   "id": "4d244639-052f-422e-a83a-29a4e430bca2",
   "metadata": {},
   "outputs": [],
   "source": [
    "label_dict = dict()\n",
    "for i in range(len(labeled)):\n",
    "    edge = (df.ID1[i], df.ID2[i])\n",
    "    label = df.super_group[i]\n",
    "    if label not in label_dict.values():\n",
    "        label_dict.update({edge: str(label)})"
   ]
  },
  {
   "cell_type": "code",
   "execution_count": 22,
   "id": "d8155501-de30-4edd-bf88-d0ef30bfaf56",
   "metadata": {},
   "outputs": [],
   "source": [
    "def label2color(x):\n",
    "    if x == 1:\n",
    "        return('#0072B2')\n",
    "    elif x == -1:\n",
    "        return('#F39B7F')\n",
    "def split2color(x):\n",
    "    if x == 'test':\n",
    "        return('#F0E442')\n",
    "    elif x == 'train':\n",
    "        return('#00A087')\n",
    "def grp2color(x, my_dict):\n",
    "    return my_dict.get(x, -1)"
   ]
  },
  {
   "cell_type": "code",
   "execution_count": 13,
   "id": "00043d41-a0f3-4502-8386-2c70483afb76",
   "metadata": {},
   "outputs": [
    {
     "data": {
      "text/html": [
       "<div>\n",
       "<style scoped>\n",
       "    .dataframe tbody tr th:only-of-type {\n",
       "        vertical-align: middle;\n",
       "    }\n",
       "\n",
       "    .dataframe tbody tr th {\n",
       "        vertical-align: top;\n",
       "    }\n",
       "\n",
       "    .dataframe thead th {\n",
       "        text-align: right;\n",
       "    }\n",
       "</style>\n",
       "<table border=\"1\" class=\"dataframe\">\n",
       "  <thead>\n",
       "    <tr style=\"text-align: right;\">\n",
       "      <th></th>\n",
       "      <th>source</th>\n",
       "      <th>target</th>\n",
       "      <th>super_group</th>\n",
       "      <th>label</th>\n",
       "      <th>label_color</th>\n",
       "      <th>grp_color</th>\n",
       "    </tr>\n",
       "  </thead>\n",
       "  <tbody>\n",
       "    <tr>\n",
       "      <th>0</th>\n",
       "      <td>ENOG502QR6E</td>\n",
       "      <td>ENOG502QPKB</td>\n",
       "      <td>511</td>\n",
       "      <td>1</td>\n",
       "      <td>#0072b2</td>\n",
       "      <td>#0fa75a</td>\n",
       "    </tr>\n",
       "    <tr>\n",
       "      <th>1</th>\n",
       "      <td>KOG0217</td>\n",
       "      <td>ENOG502QPKB</td>\n",
       "      <td>1</td>\n",
       "      <td>-1</td>\n",
       "      <td>#f39b7f</td>\n",
       "      <td>#591b9f</td>\n",
       "    </tr>\n",
       "    <tr>\n",
       "      <th>2</th>\n",
       "      <td>ENOG502QPKB</td>\n",
       "      <td>KOG0263</td>\n",
       "      <td>1</td>\n",
       "      <td>-1</td>\n",
       "      <td>#f39b7f</td>\n",
       "      <td>#591b9f</td>\n",
       "    </tr>\n",
       "    <tr>\n",
       "      <th>3</th>\n",
       "      <td>KOG2440</td>\n",
       "      <td>ENOG502QPKB</td>\n",
       "      <td>47</td>\n",
       "      <td>-1</td>\n",
       "      <td>#f39b7f</td>\n",
       "      <td>#0e91de</td>\n",
       "    </tr>\n",
       "    <tr>\n",
       "      <th>4</th>\n",
       "      <td>KOG3005</td>\n",
       "      <td>ENOG502QPKB</td>\n",
       "      <td>1</td>\n",
       "      <td>-1</td>\n",
       "      <td>#f39b7f</td>\n",
       "      <td>#591b9f</td>\n",
       "    </tr>\n",
       "    <tr>\n",
       "      <th>...</th>\n",
       "      <td>...</td>\n",
       "      <td>...</td>\n",
       "      <td>...</td>\n",
       "      <td>...</td>\n",
       "      <td>...</td>\n",
       "      <td>...</td>\n",
       "    </tr>\n",
       "    <tr>\n",
       "      <th>26511</th>\n",
       "      <td>KOG1894</td>\n",
       "      <td>KOG1597</td>\n",
       "      <td>1</td>\n",
       "      <td>1</td>\n",
       "      <td>#0072b2</td>\n",
       "      <td>#591b9f</td>\n",
       "    </tr>\n",
       "    <tr>\n",
       "      <th>26512</th>\n",
       "      <td>KOG1894</td>\n",
       "      <td>KOG1969</td>\n",
       "      <td>1</td>\n",
       "      <td>-1</td>\n",
       "      <td>#f39b7f</td>\n",
       "      <td>#591b9f</td>\n",
       "    </tr>\n",
       "    <tr>\n",
       "      <th>26513</th>\n",
       "      <td>KOG1894</td>\n",
       "      <td>KOG2691</td>\n",
       "      <td>1</td>\n",
       "      <td>1</td>\n",
       "      <td>#0072b2</td>\n",
       "      <td>#591b9f</td>\n",
       "    </tr>\n",
       "    <tr>\n",
       "      <th>26514</th>\n",
       "      <td>KOG1894</td>\n",
       "      <td>KOG3400</td>\n",
       "      <td>1</td>\n",
       "      <td>1</td>\n",
       "      <td>#0072b2</td>\n",
       "      <td>#591b9f</td>\n",
       "    </tr>\n",
       "    <tr>\n",
       "      <th>26515</th>\n",
       "      <td>KOG1894</td>\n",
       "      <td>KOG3342</td>\n",
       "      <td>494</td>\n",
       "      <td>-1</td>\n",
       "      <td>#f39b7f</td>\n",
       "      <td>#57e7b9</td>\n",
       "    </tr>\n",
       "  </tbody>\n",
       "</table>\n",
       "<p>26516 rows × 6 columns</p>\n",
       "</div>"
      ],
      "text/plain": [
       "            source       target  super_group  label label_color grp_color\n",
       "0      ENOG502QR6E  ENOG502QPKB          511      1     #0072b2   #0fa75a\n",
       "1          KOG0217  ENOG502QPKB            1     -1     #f39b7f   #591b9f\n",
       "2      ENOG502QPKB      KOG0263            1     -1     #f39b7f   #591b9f\n",
       "3          KOG2440  ENOG502QPKB           47     -1     #f39b7f   #0e91de\n",
       "4          KOG3005  ENOG502QPKB            1     -1     #f39b7f   #591b9f\n",
       "...            ...          ...          ...    ...         ...       ...\n",
       "26511      KOG1894      KOG1597            1      1     #0072b2   #591b9f\n",
       "26512      KOG1894      KOG1969            1     -1     #f39b7f   #591b9f\n",
       "26513      KOG1894      KOG2691            1      1     #0072b2   #591b9f\n",
       "26514      KOG1894      KOG3400            1      1     #0072b2   #591b9f\n",
       "26515      KOG1894      KOG3342          494     -1     #f39b7f   #57e7b9\n",
       "\n",
       "[26516 rows x 6 columns]"
      ]
     },
     "execution_count": 13,
     "metadata": {},
     "output_type": "execute_result"
    }
   ],
   "source": [
    "edges = pd.DataFrame()\n",
    "edges[['ID1','ID2']] = labeled['ID'].str.split(' ', expand=True)\n",
    "attr = labeled[['super_group', 'label']]\n",
    "graph_df = edges.join(attr)\n",
    "graph_df = graph_df.reset_index(drop=True)\n",
    "graph_df = graph_df.rename(columns={'ID1':'source', 'ID2': 'target'})\n",
    "graph_df['label_color'] = [label2color(i).lower() for i in graph_df['label']]\n",
    "graph_df['grp_color'] = [grp2color(i, color_dict).lower() for i in graph_df['super_group']]\n",
    "graph_df"
   ]
  },
  {
   "cell_type": "code",
   "execution_count": 14,
   "id": "72cea591-f826-4cee-9d64-df996d353367",
   "metadata": {},
   "outputs": [
    {
     "data": {
      "image/png": "[encoded data removed]",
      "text/plain": [
       "<Figure size 640x480 with 1 Axes>"
      ]
     },
     "metadata": {},
     "output_type": "display_data"
    }
   ],
   "source": [
    "options = {\n",
    "    'node_color': 'tab:grey',\n",
    "    'node_size': 30,\n",
    "    \"edgecolors\": \"black\",\n",
    "    'width': 0.75,\n",
    "    \n",
    "}\n",
    "\n",
    "pos_ppis = graph_df[(graph_df.label==1)]\n",
    "G = nx.from_pandas_edgelist(pos_ppis, 'source', 'target', edge_attr=True)\n",
    "pos = nx.spring_layout(G)\n",
    "#nx.draw(G, pos=nx.spring_layout(G), edge_color=test.grp_color, node_size=10, width=0.5)\n",
    "nx.draw(G, pos=pos, **options)\n",
    "plt.show()"
   ]
  },
  {
   "cell_type": "code",
   "execution_count": 16,
   "id": "41475769-958a-442c-a0b7-e83ea6f070e4",
   "metadata": {},
   "outputs": [
    {
     "data": {
      "text/plain": [
       "240"
      ]
     },
     "execution_count": 16,
     "metadata": {},
     "output_type": "execute_result"
    }
   ],
   "source": [
    "len(list(nx.bridges(G)))"
   ]
  },
  {
   "cell_type": "code",
   "execution_count": 17,
   "id": "813bb8aa-ae06-4d75-8050-9e3099ae591d",
   "metadata": {},
   "outputs": [
    {
     "data": {
      "text/html": [
       "<div>\n",
       "<style scoped>\n",
       "    .dataframe tbody tr th:only-of-type {\n",
       "        vertical-align: middle;\n",
       "    }\n",
       "\n",
       "    .dataframe tbody tr th {\n",
       "        vertical-align: top;\n",
       "    }\n",
       "\n",
       "    .dataframe thead th {\n",
       "        text-align: right;\n",
       "    }\n",
       "</style>\n",
       "<table border=\"1\" class=\"dataframe\">\n",
       "  <thead>\n",
       "    <tr style=\"text-align: right;\">\n",
       "      <th></th>\n",
       "      <th>Unnamed: 0</th>\n",
       "      <th>ID</th>\n",
       "      <th>label</th>\n",
       "      <th>ppi_score</th>\n",
       "      <th>set</th>\n",
       "    </tr>\n",
       "  </thead>\n",
       "  <tbody>\n",
       "    <tr>\n",
       "      <th>0</th>\n",
       "      <td>0</td>\n",
       "      <td>KOG3409 KOG3013</td>\n",
       "      <td>1</td>\n",
       "      <td>1.0</td>\n",
       "      <td>test</td>\n",
       "    </tr>\n",
       "    <tr>\n",
       "      <th>1</th>\n",
       "      <td>1</td>\n",
       "      <td>KOG0358 KOG0362</td>\n",
       "      <td>1</td>\n",
       "      <td>1.0</td>\n",
       "      <td>train</td>\n",
       "    </tr>\n",
       "    <tr>\n",
       "      <th>2</th>\n",
       "      <td>2</td>\n",
       "      <td>KOG2072 KOG0643</td>\n",
       "      <td>1</td>\n",
       "      <td>1.0</td>\n",
       "      <td>train</td>\n",
       "    </tr>\n",
       "    <tr>\n",
       "      <th>3</th>\n",
       "      <td>3</td>\n",
       "      <td>KOG3677 KOG1560</td>\n",
       "      <td>1</td>\n",
       "      <td>1.0</td>\n",
       "      <td>train</td>\n",
       "    </tr>\n",
       "    <tr>\n",
       "      <th>4</th>\n",
       "      <td>4</td>\n",
       "      <td>KOG2314 KOG0643</td>\n",
       "      <td>1</td>\n",
       "      <td>1.0</td>\n",
       "      <td>train</td>\n",
       "    </tr>\n",
       "    <tr>\n",
       "      <th>...</th>\n",
       "      <td>...</td>\n",
       "      <td>...</td>\n",
       "      <td>...</td>\n",
       "      <td>...</td>\n",
       "      <td>...</td>\n",
       "    </tr>\n",
       "    <tr>\n",
       "      <th>4490157</th>\n",
       "      <td>4490157</td>\n",
       "      <td>KOG4845 KOG1666</td>\n",
       "      <td>-1</td>\n",
       "      <td>0.0</td>\n",
       "      <td>train</td>\n",
       "    </tr>\n",
       "    <tr>\n",
       "      <th>4490158</th>\n",
       "      <td>4490158</td>\n",
       "      <td>KOG3229 KOG4795</td>\n",
       "      <td>-1</td>\n",
       "      <td>0.0</td>\n",
       "      <td>train</td>\n",
       "    </tr>\n",
       "    <tr>\n",
       "      <th>4490159</th>\n",
       "      <td>4490159</td>\n",
       "      <td>KOG3432 KOG4168</td>\n",
       "      <td>-1</td>\n",
       "      <td>0.0</td>\n",
       "      <td>train</td>\n",
       "    </tr>\n",
       "    <tr>\n",
       "      <th>4490160</th>\n",
       "      <td>4490160</td>\n",
       "      <td>KOG2741 KOG4322</td>\n",
       "      <td>-1</td>\n",
       "      <td>0.0</td>\n",
       "      <td>train</td>\n",
       "    </tr>\n",
       "    <tr>\n",
       "      <th>4490161</th>\n",
       "      <td>4490161</td>\n",
       "      <td>KOG2909 KOG1949</td>\n",
       "      <td>-1</td>\n",
       "      <td>0.0</td>\n",
       "      <td>train</td>\n",
       "    </tr>\n",
       "  </tbody>\n",
       "</table>\n",
       "<p>25241 rows × 5 columns</p>\n",
       "</div>"
      ],
      "text/plain": [
       "         Unnamed: 0               ID  label  ppi_score    set\n",
       "0                 0  KOG3409 KOG3013      1        1.0   test\n",
       "1                 1  KOG0358 KOG0362      1        1.0  train\n",
       "2                 2  KOG2072 KOG0643      1        1.0  train\n",
       "3                 3  KOG3677 KOG1560      1        1.0  train\n",
       "4                 4  KOG2314 KOG0643      1        1.0  train\n",
       "...             ...              ...    ...        ...    ...\n",
       "4490157     4490157  KOG4845 KOG1666     -1        0.0  train\n",
       "4490158     4490158  KOG3229 KOG4795     -1        0.0  train\n",
       "4490159     4490159  KOG3432 KOG4168     -1        0.0  train\n",
       "4490160     4490160  KOG2741 KOG4322     -1        0.0  train\n",
       "4490161     4490161  KOG2909 KOG1949     -1        0.0  train\n",
       "\n",
       "[25241 rows x 5 columns]"
      ]
     },
     "execution_count": 17,
     "metadata": {},
     "output_type": "execute_result"
    }
   ],
   "source": [
    "# assert that there is no overlap between train and test ppis\n",
    "res = pd.read_csv(ml_results_file)\n",
    "tt_df = res[(res.set == 'test') | (res.set == 'train')]\n",
    "tt_df"
   ]
  },
  {
   "cell_type": "code",
   "execution_count": 23,
   "id": "11ec2743-2e53-4aee-b07e-3e9eada91d97",
   "metadata": {},
   "outputs": [
    {
     "data": {
      "image/png": "[encoded data removed]",
      "text/plain": [
       "<Figure size 640x480 with 1 Axes>"
      ]
     },
     "metadata": {},
     "output_type": "display_data"
    }
   ],
   "source": [
    "edges = pd.DataFrame()\n",
    "edges[['ID1','ID2']] = tt_df['ID'].str.split(' ', expand=True)\n",
    "attr = tt_df[['label', 'set']]\n",
    "graph_df = edges.join(attr)\n",
    "graph_df = graph_df.reset_index(drop=True)\n",
    "graph_df = graph_df.rename(columns={'ID1':'source', 'ID2': 'target'})\n",
    "graph_df['color'] = [split2color(i).lower() for i in graph_df['set']]\n",
    "\n",
    "options = {\n",
    "    'node_color': 'tab:grey',\n",
    "    'node_size': 30,\n",
    "    \"edgecolors\": \"black\",\n",
    "    'width': 10,\n",
    "    \n",
    "}\n",
    "\n",
    "pos_ppis = graph_df[(graph_df.label==1)]\n",
    "G = nx.from_pandas_edgelist(pos_ppis, 'source', 'target', edge_attr=True)\n",
    "pos = nx.spring_layout(G)\n",
    "#nx.draw(G, pos=nx.spring_layout(G), edge_color=test.grp_color, node_size=10, width=0.5)\n",
    "nx.draw(G, pos=pos, edge_color=pos_ppis.color, **options)\n",
    "plt.show()"
   ]
  }
 ],
 "metadata": {
  "kernelspec": {
   "display_name": "Python 3 (ipykernel)",
   "language": "python",
   "name": "python3"
  },
  "language_info": {
   "codemirror_mode": {
    "name": "ipython",
    "version": 3
   },
   "file_extension": ".py",
   "mimetype": "text/x-python",
   "name": "python",
   "nbconvert_exporter": "python",
   "pygments_lexer": "ipython3",
   "version": "3.10.6"
  }
 },
 "nbformat": 4,
 "nbformat_minor": 5
}
