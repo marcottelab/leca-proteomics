{
 "cells": [
  {
   "cell_type": "code",
   "execution_count": 1,
   "id": "b4a2619f-982c-425e-8158-faabe419b64d",
   "metadata": {},
   "outputs": [],
   "source": [
    "import pandas as pd"
   ]
  },
  {
   "cell_type": "code",
   "execution_count": 2,
   "id": "16c0cc52-5785-4f30-845a-77b18f377ca8",
   "metadata": {},
   "outputs": [
    {
     "name": "stdout",
     "output_type": "stream",
     "text": [
      "     code           clade\n",
      "0   arath  Archaeplastida\n",
      "1   braol  Archaeplastida\n",
      "2   brart        Amorphea\n",
      "3   caeel        Amorphea\n",
      "5   cansa  Archaeplastida\n",
      "6   cerri  Archaeplastida\n",
      "7   cheqi  Archaeplastida\n",
      "8   chlre  Archaeplastida\n",
      "9   cocnu  Archaeplastida\n",
      "11  dicdi        Amorphea\n",
      "12  drome        Amorphea\n",
      "14  euggr        Excavate\n",
      "16  human        Amorphea\n",
      "17  maize  Archaeplastida\n",
      "18  mouse        Amorphea\n",
      "19  nemve        Amorphea\n",
      "20  orysj  Archaeplastida\n",
      "21  phatc            TSAR\n",
      "22    pig        Amorphea\n",
      "23  plaba            TSAR\n",
      "24  plaf7            TSAR\n",
      "25  plakh            TSAR\n",
      "27  selml  Archaeplastida\n",
      "28  sollc  Archaeplastida\n",
      "29  soybn  Archaeplastida\n",
      "31  strpu        Amorphea\n",
      "32  tetts            TSAR\n",
      "33  tryb2        Excavate\n",
      "34  wheat  Archaeplastida\n",
      "35  xenla        Amorphea\n",
      "36  yeast        Amorphea\n"
     ]
    }
   ],
   "source": [
    "# coverage data\n",
    "cov = pd.read_csv('/stor/work/Marcotte/project/rmcox/leca/ppi_ml/results/coverage/og_coverage_by_species_phylo.150p.filtdollo.csv')\n",
    "\n",
    "# species names & clades\n",
    "species = pd.read_csv('/stor/work/Marcotte/project/rmcox/leca/ppi_ml/data/meta/speciesinfo_clades.csv')\n",
    "species = species[(species.tax_group == 'eukaryota')]\n",
    "species['code'] = [str.lower(i) for i in species['code']]\n",
    "species = species[['code', 'clade']]\n",
    "print(species)\n",
    "\n",
    "# ordered codes based on phylogeny\n",
    "species_ordered = [line.strip() for line in open('/stor/work/Marcotte/project/rmcox/leca/ppi_ml/data/meta/euk_codes_ordered_phylo.txt', 'r')]\n",
    "\n",
    "# clade order\n",
    "clade_order = ['Amorphea','Excavate','TSAR','Archaeplastida']"
   ]
  },
  {
   "cell_type": "code",
   "execution_count": 3,
   "id": "2ea616c8-0de6-431c-bd5d-8be70abb9281",
   "metadata": {},
   "outputs": [
    {
     "data": {
      "text/plain": [
       "{'Amorphea': 11, 'Archaeplastida': 13, 'Excavate': 2, 'TSAR': 5}"
      ]
     },
     "execution_count": 3,
     "metadata": {},
     "output_type": "execute_result"
    }
   ],
   "source": [
    "gb = species.groupby(['clade'])\n",
    "species_counts = gb.size().to_frame(name='counts')\n",
    "species_dict = dict()\n",
    "for clade in species_counts.index:\n",
    "    species_count = species_counts.loc[clade][0]\n",
    "    species_dict[clade] = species_count\n",
    "species_dict"
   ]
  },
  {
   "cell_type": "code",
   "execution_count": 4,
   "id": "380db50d-334f-4dac-8933-4b06e1f3553f",
   "metadata": {},
   "outputs": [],
   "source": [
    "def calc_frac(n, clade, d):\n",
    "    if n == 0:\n",
    "        return(0)\n",
    "    else:\n",
    "        total = d.get(clade, f'{clade} not found')\n",
    "        frac = n/total\n",
    "        return(round(frac, 3))"
   ]
  },
  {
   "cell_type": "code",
   "execution_count": 5,
   "id": "9cd2ee5d-e969-49a1-977c-0d44719712b7",
   "metadata": {},
   "outputs": [],
   "source": [
    "cov_long = pd.melt(cov, id_vars=['ID'], value_vars=cov.columns[1:])\n",
    "cov_long = cov_long.rename(columns={'variable':'species','value':'presence'})"
   ]
  },
  {
   "cell_type": "code",
   "execution_count": 6,
   "id": "415835e6-47b6-4518-9d2f-dd6f9a3ce569",
   "metadata": {},
   "outputs": [],
   "source": [
    "cov_clade = cov_long.merge(species, how='left', left_on='species', right_on='code')"
   ]
  },
  {
   "cell_type": "code",
   "execution_count": 7,
   "id": "a3c28e74-7367-46dd-a94f-d4ca43ad2304",
   "metadata": {},
   "outputs": [
    {
     "data": {
      "text/html": [
       "<div>\n",
       "<style scoped>\n",
       "    .dataframe tbody tr th:only-of-type {\n",
       "        vertical-align: middle;\n",
       "    }\n",
       "\n",
       "    .dataframe tbody tr th {\n",
       "        vertical-align: top;\n",
       "    }\n",
       "\n",
       "    .dataframe thead th {\n",
       "        text-align: right;\n",
       "    }\n",
       "</style>\n",
       "<table border=\"1\" class=\"dataframe\">\n",
       "  <thead>\n",
       "    <tr style=\"text-align: right;\">\n",
       "      <th></th>\n",
       "      <th>ID</th>\n",
       "      <th>clade</th>\n",
       "      <th>n_species_obs</th>\n",
       "      <th>frac</th>\n",
       "    </tr>\n",
       "  </thead>\n",
       "  <tbody>\n",
       "    <tr>\n",
       "      <th>2</th>\n",
       "      <td>ENOG502QPHT</td>\n",
       "      <td>Excavate</td>\n",
       "      <td>1</td>\n",
       "      <td>0.500</td>\n",
       "    </tr>\n",
       "    <tr>\n",
       "      <th>0</th>\n",
       "      <td>ENOG502QPHT</td>\n",
       "      <td>Amorphea</td>\n",
       "      <td>0</td>\n",
       "      <td>0.000</td>\n",
       "    </tr>\n",
       "    <tr>\n",
       "      <th>1</th>\n",
       "      <td>ENOG502QPHT</td>\n",
       "      <td>Archaeplastida</td>\n",
       "      <td>0</td>\n",
       "      <td>0.000</td>\n",
       "    </tr>\n",
       "    <tr>\n",
       "      <th>3</th>\n",
       "      <td>ENOG502QPHT</td>\n",
       "      <td>TSAR</td>\n",
       "      <td>0</td>\n",
       "      <td>0.000</td>\n",
       "    </tr>\n",
       "    <tr>\n",
       "      <th>5</th>\n",
       "      <td>ENOG502QPHW</td>\n",
       "      <td>Archaeplastida</td>\n",
       "      <td>12</td>\n",
       "      <td>0.923</td>\n",
       "    </tr>\n",
       "    <tr>\n",
       "      <th>...</th>\n",
       "      <td>...</td>\n",
       "      <td>...</td>\n",
       "      <td>...</td>\n",
       "      <td>...</td>\n",
       "    </tr>\n",
       "    <tr>\n",
       "      <th>23947</th>\n",
       "      <td>KOG4849</td>\n",
       "      <td>TSAR</td>\n",
       "      <td>0</td>\n",
       "      <td>0.000</td>\n",
       "    </tr>\n",
       "    <tr>\n",
       "      <th>23948</th>\n",
       "      <td>KOG4850</td>\n",
       "      <td>Amorphea</td>\n",
       "      <td>9</td>\n",
       "      <td>0.818</td>\n",
       "    </tr>\n",
       "    <tr>\n",
       "      <th>23949</th>\n",
       "      <td>KOG4850</td>\n",
       "      <td>Archaeplastida</td>\n",
       "      <td>0</td>\n",
       "      <td>0.000</td>\n",
       "    </tr>\n",
       "    <tr>\n",
       "      <th>23950</th>\n",
       "      <td>KOG4850</td>\n",
       "      <td>Excavate</td>\n",
       "      <td>0</td>\n",
       "      <td>0.000</td>\n",
       "    </tr>\n",
       "    <tr>\n",
       "      <th>23951</th>\n",
       "      <td>KOG4850</td>\n",
       "      <td>TSAR</td>\n",
       "      <td>0</td>\n",
       "      <td>0.000</td>\n",
       "    </tr>\n",
       "  </tbody>\n",
       "</table>\n",
       "<p>23952 rows × 4 columns</p>\n",
       "</div>"
      ],
      "text/plain": [
       "                ID           clade  n_species_obs   frac\n",
       "2      ENOG502QPHT        Excavate              1  0.500\n",
       "0      ENOG502QPHT        Amorphea              0  0.000\n",
       "1      ENOG502QPHT  Archaeplastida              0  0.000\n",
       "3      ENOG502QPHT            TSAR              0  0.000\n",
       "5      ENOG502QPHW  Archaeplastida             12  0.923\n",
       "...            ...             ...            ...    ...\n",
       "23947      KOG4849            TSAR              0  0.000\n",
       "23948      KOG4850        Amorphea              9  0.818\n",
       "23949      KOG4850  Archaeplastida              0  0.000\n",
       "23950      KOG4850        Excavate              0  0.000\n",
       "23951      KOG4850            TSAR              0  0.000\n",
       "\n",
       "[23952 rows x 4 columns]"
      ]
     },
     "execution_count": 7,
     "metadata": {},
     "output_type": "execute_result"
    }
   ],
   "source": [
    "counts = cov_clade.groupby(['ID','clade']).sum('presence')\n",
    "counts = counts.reset_index()\n",
    "counts['frac'] = [calc_frac(i, j, species_dict) for i, j in zip(counts['presence'], counts['clade'])]\n",
    "counts = counts.rename(columns={'presence':'n_species_obs'})\n",
    "counts.sort_values(['ID', 'frac'], ascending=[True,False])"
   ]
  },
  {
   "cell_type": "code",
   "execution_count": 8,
   "id": "73aeb351-7cd0-45af-8175-55b39115a679",
   "metadata": {},
   "outputs": [],
   "source": [
    "df = counts.pivot(index=\"ID\", columns=\"clade\", values=\"frac\")\n",
    "df = df.reset_index()\n",
    "df.to_csv('../ppi_ml/annotations/leca_nogs_cov_fraction.csv', index=False)"
   ]
  },
  {
   "cell_type": "code",
   "execution_count": null,
   "id": "2ede845e-710c-45b2-aa14-45946ca71bad",
   "metadata": {},
   "outputs": [],
   "source": []
  }
 ],
 "metadata": {
  "kernelspec": {
   "display_name": "Python 3 (ipykernel)",
   "language": "python",
   "name": "python3"
  },
  "language_info": {
   "codemirror_mode": {
    "name": "ipython",
    "version": 3
   },
   "file_extension": ".py",
   "mimetype": "text/x-python",
   "name": "python",
   "nbconvert_exporter": "python",
   "pygments_lexer": "ipython3",
   "version": "3.10.6"
  }
 },
 "nbformat": 4,
 "nbformat_minor": 5
}
