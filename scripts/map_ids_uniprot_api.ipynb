{
 "cells": [
  {
   "cell_type": "code",
   "execution_count": 2,
   "id": "c375bd27-2846-4912-bbd9-878696325549",
   "metadata": {},
   "outputs": [
    {
     "name": "stdout",
     "output_type": "stream",
     "text": [
      "UniProt ID: Q9HB40\n",
      "Gene Name: SCPEP1[syn:RISC/SCP1]\n",
      "UniProt ID: P54802\n",
      "Gene Name: NAGLU[syn:UFHSD1]\n",
      "UniProt ID: Q57V19\n",
      "Gene Name: Tb07.43M14.350\n"
     ]
    },
    {
     "ename": "KeyError",
     "evalue": "'geneName'",
     "output_type": "error",
     "traceback": [
      "\u001b[0;31m---------------------------------------------------------------------------\u001b[0m",
      "\u001b[0;31mKeyError\u001b[0m                                  Traceback (most recent call last)",
      "Cell \u001b[0;32mIn [2], line 33\u001b[0m\n\u001b[1;32m     31\u001b[0m test_ids \u001b[38;5;241m=\u001b[39m [\u001b[38;5;124m'\u001b[39m\u001b[38;5;124mQ9HB40\u001b[39m\u001b[38;5;124m'\u001b[39m,\u001b[38;5;124m'\u001b[39m\u001b[38;5;124mP54802\u001b[39m\u001b[38;5;124m'\u001b[39m,\u001b[38;5;124m'\u001b[39m\u001b[38;5;124mQ57V19\u001b[39m\u001b[38;5;124m'\u001b[39m, \u001b[38;5;124m'\u001b[39m\u001b[38;5;124mQ384A7\u001b[39m\u001b[38;5;124m'\u001b[39m]\n\u001b[1;32m     32\u001b[0m \u001b[38;5;28;01mfor\u001b[39;00m i \u001b[38;5;129;01min\u001b[39;00m test_ids:\n\u001b[0;32m---> 33\u001b[0m     gene_name \u001b[38;5;241m=\u001b[39m \u001b[43mget_gene_name_from_uniprot_id\u001b[49m\u001b[43m(\u001b[49m\u001b[43mi\u001b[49m\u001b[43m)\u001b[49m\n\u001b[1;32m     34\u001b[0m     \u001b[38;5;28;01mif\u001b[39;00m gene_name:\n\u001b[1;32m     35\u001b[0m         \u001b[38;5;28mprint\u001b[39m(\u001b[38;5;124mf\u001b[39m\u001b[38;5;124m\"\u001b[39m\u001b[38;5;124mUniProt ID: \u001b[39m\u001b[38;5;132;01m{\u001b[39;00mi\u001b[38;5;132;01m}\u001b[39;00m\u001b[38;5;124m\"\u001b[39m)\n",
      "Cell \u001b[0;32mIn [2], line 14\u001b[0m, in \u001b[0;36mget_gene_name_from_uniprot_id\u001b[0;34m(uniprot_id)\u001b[0m\n\u001b[1;32m     12\u001b[0m data \u001b[38;5;241m=\u001b[39m response\u001b[38;5;241m.\u001b[39mjson()\n\u001b[1;32m     13\u001b[0m \u001b[38;5;66;03m# extract the gene name from the JSON data\u001b[39;00m\n\u001b[0;32m---> 14\u001b[0m gene_name \u001b[38;5;241m=\u001b[39m \u001b[43mdata\u001b[49m\u001b[43m[\u001b[49m\u001b[38;5;124;43m'\u001b[39;49m\u001b[38;5;124;43mgenes\u001b[39;49m\u001b[38;5;124;43m'\u001b[39;49m\u001b[43m]\u001b[49m\u001b[43m[\u001b[49m\u001b[38;5;241;43m0\u001b[39;49m\u001b[43m]\u001b[49m\u001b[43m[\u001b[49m\u001b[38;5;124;43m'\u001b[39;49m\u001b[38;5;124;43mgeneName\u001b[39;49m\u001b[38;5;124;43m'\u001b[39;49m\u001b[43m]\u001b[49m[\u001b[38;5;124m'\u001b[39m\u001b[38;5;124mvalue\u001b[39m\u001b[38;5;124m'\u001b[39m]\n\u001b[1;32m     15\u001b[0m \u001b[38;5;28;01mtry\u001b[39;00m:\n\u001b[1;32m     16\u001b[0m     \u001b[38;5;66;03m#print(['/'.join(i.values()) for i in data['genes'][0]['synonyms']])\u001b[39;00m\n\u001b[1;32m     17\u001b[0m     syn \u001b[38;5;241m=\u001b[39m [\u001b[38;5;124m'\u001b[39m\u001b[38;5;124m/\u001b[39m\u001b[38;5;124m'\u001b[39m\u001b[38;5;241m.\u001b[39mjoin(i\u001b[38;5;241m.\u001b[39mvalues()) \u001b[38;5;28;01mfor\u001b[39;00m i \u001b[38;5;129;01min\u001b[39;00m data[\u001b[38;5;124m'\u001b[39m\u001b[38;5;124mgenes\u001b[39m\u001b[38;5;124m'\u001b[39m][\u001b[38;5;241m0\u001b[39m][\u001b[38;5;124m'\u001b[39m\u001b[38;5;124msynonyms\u001b[39m\u001b[38;5;124m'\u001b[39m]]\n",
      "\u001b[0;31mKeyError\u001b[0m: 'geneName'"
     ]
    }
   ],
   "source": [
    "import requests\n",
    "\n",
    "def get_gene_name_from_uniprot_id(uniprot_id):\n",
    "    # uniprot API endpoint URL\n",
    "    url = f\"https://www.uniprot.org/uniprot/{uniprot_id}.json\"\n",
    "    try:\n",
    "        # make the HTTP GET request to the uniprot API\n",
    "        response = requests.get(url)\n",
    "        # check if the response was successful (status code 200)\n",
    "        if response.status_code == 200:\n",
    "            # parse the JSON response\n",
    "            data = response.json()\n",
    "            # extract the gene name from the JSON data\n",
    "            gene_name = data['genes'][0]['geneName']['value']\n",
    "            try:\n",
    "                #print(['/'.join(i.values()) for i in data['genes'][0]['synonyms']])\n",
    "                syn = ['/'.join(i.values()) for i in data['genes'][0]['synonyms']]\n",
    "                syn = f\"[syn:{'/'.join(syn)}]\"\n",
    "                return f'{gene_name}{syn}'\n",
    "            except:\n",
    "                return gene_name\n",
    "        else:\n",
    "            # if the response was not successful, print an error message\n",
    "            print(f\"Error: Unable to retrieve data for UniProt ID '{uniprot_id}'\")\n",
    "            return None\n",
    "    except requests.exceptions.RequestException as e:\n",
    "        print(f\"Error: {e}\")\n",
    "        return None\n",
    "    \n",
    "# small test cases:\n",
    "test_ids = ['Q9HB40','P54802','Q57V19', 'Q384A7']\n",
    "for i in test_ids:\n",
    "    gene_name = get_gene_name_from_uniprot_id(i)\n",
    "    if gene_name:\n",
    "        print(f\"UniProt ID: {i}\")\n",
    "        print(f\"Gene Name: {gene_name}\")"
   ]
  },
  {
   "cell_type": "code",
   "execution_count": null,
   "id": "5d1a8792-8db1-4127-9216-961006c749fc",
   "metadata": {},
   "outputs": [],
   "source": []
  }
 ],
 "metadata": {
  "kernelspec": {
   "display_name": "Python 3 (ipykernel)",
   "language": "python",
   "name": "python3"
  },
  "language_info": {
   "codemirror_mode": {
    "name": "ipython",
    "version": 3
   },
   "file_extension": ".py",
   "mimetype": "text/x-python",
   "name": "python",
   "nbconvert_exporter": "python",
   "pygments_lexer": "ipython3",
   "version": "3.10.6"
  }
 },
 "nbformat": 4,
 "nbformat_minor": 5
}
